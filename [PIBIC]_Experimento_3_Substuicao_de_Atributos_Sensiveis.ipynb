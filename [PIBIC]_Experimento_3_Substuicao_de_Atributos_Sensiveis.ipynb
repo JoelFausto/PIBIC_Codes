{
  "cells": [
    {
      "cell_type": "markdown",
      "metadata": {
        "id": "CKMEWyLrDbqt"
      },
      "source": [
        "### Importando bibliotecas"
      ]
    },
    {
      "cell_type": "code",
      "execution_count": null,
      "metadata": {
        "id": "lPoL13i-3Qhp"
      },
      "outputs": [],
      "source": [
        "# Importanto o Drive para pegar os dados da nuvem\n",
        "from google.colab import drive\n",
        "drive.mount('/content/drive')"
      ]
    },
    {
      "cell_type": "code",
      "execution_count": null,
      "metadata": {
        "id": "s6QxpiIGDar8"
      },
      "outputs": [],
      "source": [
        "!pip install plotly --upgrade"
      ]
    },
    {
      "cell_type": "code",
      "execution_count": null,
      "metadata": {
        "id": "i7rwjldFm8Qa"
      },
      "outputs": [],
      "source": [
        "import pandas as pd\n",
        "from collections import Counter\n",
        "import time"
      ]
    },
    {
      "cell_type": "markdown",
      "metadata": {
        "id": "3IKXcBUqmIrk"
      },
      "source": [
        "### Dados"
      ]
    },
    {
      "cell_type": "code",
      "execution_count": null,
      "metadata": {
        "id": "-Ora7GEav3kW"
      },
      "outputs": [],
      "source": [
        "pd.set_option('display.max_columns', None)"
      ]
    },
    {
      "cell_type": "code",
      "execution_count": null,
      "metadata": {
        "id": "0aPQCLf5mKvk"
      },
      "outputs": [],
      "source": [
        "colunas_desejadas = ['ID_ALUNO', 'IN_RESERVA_VAGAS', 'IN_APOIO_BOLSA_PERMANENCIA', 'NU_DIA_NASCIMENTO', 'NU_MES_NASCIMENTO', 'NU_ANO_NASCIMENTO', 'TP_SEXO', 'TP_COR_RACA', 'CO_MUNICIPIO_NASCIMENTO', 'TP_NACIONALIDADE', 'CO_PAIS_ORIGEM', 'CO_IES', 'CO_CURSO']"
      ]
    },
    {
      "cell_type": "code",
      "execution_count": null,
      "metadata": {
        "id": "SLDg9xtcmL_c"
      },
      "outputs": [],
      "source": [
        "microdados = pd.read_parquet('/content/drive/MyDrive/PIBIC/Dados/dataCenso2018.parquet', columns= colunas_desejadas)"
      ]
    },
    {
      "cell_type": "code",
      "execution_count": null,
      "metadata": {
        "id": "hAnAwP-RmdJM"
      },
      "outputs": [],
      "source": [
        "# Removendo Duplicatas\n",
        "microdados = microdados.drop_duplicates(subset=['ID_ALUNO']).reset_index()"
      ]
    },
    {
      "cell_type": "code",
      "execution_count": null,
      "metadata": {
        "id": "WiaSaC6o_eCP"
      },
      "outputs": [],
      "source": [
        "# Preenchendo os valores nulos com o valor de -1, como realizado no TED\n",
        "microdados = microdados.fillna(-1)"
      ]
    },
    {
      "cell_type": "markdown",
      "metadata": {
        "id": "FQX0E1JHmvbJ"
      },
      "source": [
        "### Experimento 3 - Substituição de Atributos Sensíveis"
      ]
    },
    {
      "cell_type": "markdown",
      "metadata": {
        "id": "a-6UZYWGIwkW"
      },
      "source": [
        "#### Código baseado nos conceitos matemáticos (TED)"
      ]
    },
    {
      "cell_type": "code",
      "execution_count": null,
      "metadata": {
        "id": "yWHeOpL-25-Z"
      },
      "outputs": [],
      "source": [
        "def suc_prior_deterministic(data, sensitive_attr):\n",
        "    \"\"\"\n",
        "    Sucesso determinístico a priori do adversário em um ataque ACU.\n",
        "    \"\"\"\n",
        "    sensitive_values = data[sensitive_attr].unique()\n",
        "    return 1 if len(sensitive_values) == 1 else 0\n",
        "\n",
        "def suc_post_deterministic(data, qid_attrs, sensitive_attr):\n",
        "    \"\"\"\n",
        "    Sucesso determinístico a posteriori do adversário em um ataque ACU.\n",
        "    \"\"\"\n",
        "    groups = data.groupby(qid_attrs, dropna=False)  # Agrupa pelos QID e inclui NaN como grupo distinto\n",
        "    total_records = len(data)  # Número total de registros\n",
        "    success_count = 0  # Contador de sucessos\n",
        "\n",
        "    for _, group in groups:  # Percorre cada grupo\n",
        "        if len(group[sensitive_attr].unique()) == 1:  # Se o grupo tem apenas 1 valor sensível\n",
        "            success_count += len(group)  # Conta todos os registros do grupo como sucesso\n",
        "\n",
        "    return success_count / total_records  # Retorna a proporção de acertos\n",
        "\n",
        "def suc_prior_probabilistic(data, sensitive_attr):\n",
        "    \"\"\"\n",
        "    Sucesso probabilístico a priori do adversário em um ataque ACU.\n",
        "    \"\"\"\n",
        "    value_counts = data[sensitive_attr].value_counts()\n",
        "    total_records = len(data)\n",
        "    return value_counts.max() / total_records if total_records > 0 else 0\n",
        "\n",
        "def suc_post_probabilistic(data, qid_attrs, sensitive_attr):\n",
        "    \"\"\"\n",
        "    Sucesso probabilístico a posteriori do adversário em um ataque ACU.\n",
        "    \"\"\"\n",
        "    groups = data.groupby(qid_attrs, dropna=False)  # Inclui NaN como grupo distinto\n",
        "    total_records = len(data)\n",
        "    total_success = 0\n",
        "\n",
        "    for _, group in groups:\n",
        "        group_size = len(group)\n",
        "        if group_size > 0:\n",
        "            value_counts = group[sensitive_attr].value_counts(dropna=False)  # Inclui NaN ao contar\n",
        "            total_success += value_counts.max()\n",
        "\n",
        "    return total_success / total_records if total_records > 0 else 0\n",
        "\n",
        "def degradation_privacy_deterministic(data, qid_attrs, sensitive_attr):\n",
        "    \"\"\"\n",
        "    Degradação determinística de privacidade em um ataque ACU.\n",
        "    \"\"\"\n",
        "    prior = suc_prior_deterministic(data, sensitive_attr)\n",
        "    post = suc_post_deterministic(data, qid_attrs, sensitive_attr)\n",
        "    return post - prior\n",
        "\n",
        "def degradation_privacy_probabilistic(data, qid_attrs, sensitive_attr):\n",
        "    \"\"\"\n",
        "    Degradação probabilística de privacidade em um ataque ACU.\n",
        "    \"\"\"\n",
        "    prior = suc_prior_probabilistic(data, sensitive_attr)\n",
        "    post = suc_post_probabilistic(data, qid_attrs, sensitive_attr)\n",
        "    return post / prior if prior > 0 else 0"
      ]
    },
    {
      "cell_type": "markdown",
      "metadata": {
        "id": "zS_kU8QuVB0X"
      },
      "source": [
        "##### Atributo Sensível [IN_APOIO_BOLSA_PERMANENCIA]"
      ]
    },
    {
      "cell_type": "code",
      "execution_count": null,
      "metadata": {
        "id": "j4sDAbfoVB0Y"
      },
      "outputs": [],
      "source": [
        "qid_attrs = ['CO_CURSO']\n",
        "sensitive_attr = 'IN_APOIO_BOLSA_PERMANENCIA'\n",
        "data = microdados\n",
        "\n",
        "start_time = time.time()\n",
        "\n",
        "sucesso_priori_deterministic = suc_prior_deterministic(data, sensitive_attr)\n",
        "sucesso_priori_probabilistic = suc_prior_probabilistic(data, sensitive_attr)\n",
        "sucesso_post_deterministico = suc_post_deterministic(data, qid_attrs, sensitive_attr)\n",
        "sucesso_post_probabilistico = suc_post_probabilistic(data, qid_attrs, sensitive_attr)\n",
        "\n",
        "end_time = time.time()\n",
        "execution_time = end_time - start_time\n",
        "\n",
        "print(\"Sucesso determinístico a priori:\", sucesso_priori_deterministic)\n",
        "print(\"Sucesso determinístico a posteriori:\", sucesso_post_deterministico)\n",
        "print(\"Degradação determinística de privacidade:\", sucesso_post_deterministico - sucesso_priori_deterministic)\n",
        "\n",
        "print(\"Sucesso probabilístico a priori:\", sucesso_priori_probabilistic)\n",
        "print(\"Sucesso probabilístico a posteriori:\", sucesso_post_probabilistico)\n",
        "print(\"Degradação probabilística de privacidade:\", sucesso_post_probabilistico / sucesso_priori_probabilistic)\n",
        "\n",
        "print(\"Tempo de execução:\", execution_time, \"segundos\")"
      ]
    },
    {
      "cell_type": "code",
      "execution_count": null,
      "metadata": {
        "id": "3gOU1yCuVB0Z"
      },
      "outputs": [],
      "source": [
        "qid_attrs = ['CO_MUNICIPIO_NASCIMENTO', 'CO_CURSO']\n",
        "sensitive_attr = 'IN_APOIO_BOLSA_PERMANENCIA'\n",
        "data = microdados\n",
        "\n",
        "start_time = time.time()\n",
        "\n",
        "sucesso_priori_deterministic = suc_prior_deterministic(data, sensitive_attr)\n",
        "sucesso_priori_probabilistic = suc_prior_probabilistic(data, sensitive_attr)\n",
        "sucesso_post_deterministico = suc_post_deterministic(data, qid_attrs, sensitive_attr)\n",
        "sucesso_post_probabilistico = suc_post_probabilistic(data, qid_attrs, sensitive_attr)\n",
        "\n",
        "end_time = time.time()\n",
        "execution_time = end_time - start_time\n",
        "\n",
        "print(\"Sucesso determinístico a priori:\", sucesso_priori_deterministic)\n",
        "print(\"Sucesso determinístico a posteriori:\", sucesso_post_deterministico)\n",
        "print(\"Degradação determinística de privacidade:\", sucesso_post_deterministico - sucesso_priori_deterministic)\n",
        "\n",
        "print(\"Sucesso probabilístico a priori:\", sucesso_priori_probabilistic)\n",
        "print(\"Sucesso probabilístico a posteriori:\", sucesso_post_probabilistico)\n",
        "print(\"Degradação probabilística de privacidade:\", sucesso_post_probabilistico / sucesso_priori_probabilistic)\n",
        "\n",
        "print(\"Tempo de execução:\", execution_time, \"segundos\")"
      ]
    },
    {
      "cell_type": "code",
      "execution_count": null,
      "metadata": {
        "id": "AFHKyfiXVB0Z"
      },
      "outputs": [],
      "source": [
        "qid_attrs = ['NU_DIA_NASCIMENTO', 'CO_CURSO']\n",
        "sensitive_attr = 'IN_APOIO_BOLSA_PERMANENCIA'\n",
        "data = microdados\n",
        "\n",
        "start_time = time.time()\n",
        "\n",
        "sucesso_priori_deterministic = suc_prior_deterministic(data, sensitive_attr)\n",
        "sucesso_priori_probabilistic = suc_prior_probabilistic(data, sensitive_attr)\n",
        "sucesso_post_deterministico = suc_post_deterministic(data, qid_attrs, sensitive_attr)\n",
        "sucesso_post_probabilistico = suc_post_probabilistic(data, qid_attrs, sensitive_attr)\n",
        "\n",
        "end_time = time.time()\n",
        "execution_time = end_time - start_time\n",
        "\n",
        "print(\"Sucesso determinístico a priori:\", sucesso_priori_deterministic)\n",
        "print(\"Sucesso determinístico a posteriori:\", sucesso_post_deterministico)\n",
        "print(\"Degradação determinística de privacidade:\", sucesso_post_deterministico - sucesso_priori_deterministic)\n",
        "\n",
        "print(\"Sucesso probabilístico a priori:\", sucesso_priori_probabilistic)\n",
        "print(\"Sucesso probabilístico a posteriori:\", sucesso_post_probabilistico)\n",
        "print(\"Degradação probabilística de privacidade:\", sucesso_post_probabilistico / sucesso_priori_probabilistic)\n",
        "\n",
        "print(\"Tempo de execução:\", execution_time, \"segundos\")"
      ]
    },
    {
      "cell_type": "code",
      "execution_count": null,
      "metadata": {
        "id": "XphPmjRqVB0Z"
      },
      "outputs": [],
      "source": [
        "qid_attrs = ['NU_DIA_NASCIMENTO', 'NU_ANO_NASCIMENTO', 'CO_CURSO']\n",
        "sensitive_attr = 'IN_APOIO_BOLSA_PERMANENCIA'\n",
        "data = microdados\n",
        "\n",
        "start_time = time.time()\n",
        "\n",
        "sucesso_priori_deterministic = suc_prior_deterministic(data, sensitive_attr)\n",
        "sucesso_priori_probabilistic = suc_prior_probabilistic(data, sensitive_attr)\n",
        "sucesso_post_deterministico = suc_post_deterministic(data, qid_attrs, sensitive_attr)\n",
        "sucesso_post_probabilistico = suc_post_probabilistic(data, qid_attrs, sensitive_attr)\n",
        "\n",
        "end_time = time.time()\n",
        "execution_time = end_time - start_time\n",
        "\n",
        "print(\"Sucesso determinístico a priori:\", sucesso_priori_deterministic)\n",
        "print(\"Sucesso determinístico a posteriori:\", sucesso_post_deterministico)\n",
        "print(\"Degradação determinística de privacidade:\", sucesso_post_deterministico - sucesso_priori_deterministic)\n",
        "\n",
        "print(\"Sucesso probabilístico a priori:\", sucesso_priori_probabilistic)\n",
        "print(\"Sucesso probabilístico a posteriori:\", sucesso_post_probabilistico)\n",
        "print(\"Degradação probabilística de privacidade:\", sucesso_post_probabilistico / sucesso_priori_probabilistic)\n",
        "\n",
        "print(\"Tempo de execução:\", execution_time, \"segundos\")"
      ]
    },
    {
      "cell_type": "code",
      "execution_count": null,
      "metadata": {
        "id": "shGKTH5cVB0Z"
      },
      "outputs": [],
      "source": [
        "qid_attrs = ['NU_DIA_NASCIMENTO', 'NU_MES_NASCIMENTO', 'NU_ANO_NASCIMENTO', 'CO_CURSO']\n",
        "sensitive_attr = 'IN_APOIO_BOLSA_PERMANENCIA'\n",
        "data = microdados\n",
        "\n",
        "start_time = time.time()\n",
        "\n",
        "sucesso_priori_deterministic = suc_prior_deterministic(data, sensitive_attr)\n",
        "sucesso_priori_probabilistic = suc_prior_probabilistic(data, sensitive_attr)\n",
        "sucesso_post_deterministico = suc_post_deterministic(data, qid_attrs, sensitive_attr)\n",
        "sucesso_post_probabilistico = suc_post_probabilistic(data, qid_attrs, sensitive_attr)\n",
        "\n",
        "end_time = time.time()\n",
        "execution_time = end_time - start_time\n",
        "\n",
        "print(\"Sucesso determinístico a priori:\", sucesso_priori_deterministic)\n",
        "print(\"Sucesso determinístico a posteriori:\", sucesso_post_deterministico)\n",
        "print(\"Degradação determinística de privacidade:\", sucesso_post_deterministico - sucesso_priori_deterministic)\n",
        "\n",
        "print(\"Sucesso probabilístico a priori:\", sucesso_priori_probabilistic)\n",
        "print(\"Sucesso probabilístico a posteriori:\", sucesso_post_probabilistico)\n",
        "print(\"Degradação probabilística de privacidade:\", sucesso_post_probabilistico / sucesso_priori_probabilistic)\n",
        "\n",
        "print(\"Tempo de execução:\", execution_time, \"segundos\")"
      ]
    },
    {
      "cell_type": "code",
      "execution_count": null,
      "metadata": {
        "id": "me9loMafVB0a"
      },
      "outputs": [],
      "source": [
        "qid_attrs = ['NU_DIA_NASCIMENTO', 'NU_MES_NASCIMENTO', 'NU_ANO_NASCIMENTO', 'CO_MUNICIPIO_NASCIMENTO', 'CO_CURSO']\n",
        "sensitive_attr = 'IN_APOIO_BOLSA_PERMANENCIA'\n",
        "data = microdados\n",
        "\n",
        "start_time = time.time()\n",
        "\n",
        "sucesso_priori_deterministic = suc_prior_deterministic(data, sensitive_attr)\n",
        "sucesso_priori_probabilistic = suc_prior_probabilistic(data, sensitive_attr)\n",
        "sucesso_post_deterministico = suc_post_deterministic(data, qid_attrs, sensitive_attr)\n",
        "sucesso_post_probabilistico = suc_post_probabilistic(data, qid_attrs, sensitive_attr)\n",
        "\n",
        "end_time = time.time()\n",
        "execution_time = end_time - start_time\n",
        "\n",
        "print(\"Sucesso determinístico a priori:\", sucesso_priori_deterministic)\n",
        "print(\"Sucesso determinístico a posteriori:\", sucesso_post_deterministico)\n",
        "print(\"Degradação determinística de privacidade:\", sucesso_post_deterministico - sucesso_priori_deterministic)\n",
        "\n",
        "print(\"Sucesso probabilístico a priori:\", sucesso_priori_probabilistic)\n",
        "print(\"Sucesso probabilístico a posteriori:\", sucesso_post_probabilistico)\n",
        "print(\"Degradação probabilística de privacidade:\", sucesso_post_probabilistico / sucesso_priori_probabilistic)\n",
        "\n",
        "print(\"Tempo de execução:\", execution_time, \"segundos\")"
      ]
    },
    {
      "cell_type": "code",
      "execution_count": null,
      "metadata": {
        "id": "LJnCuQ5KVB0a"
      },
      "outputs": [],
      "source": [
        "qid_attrs = ['NU_DIA_NASCIMENTO', 'NU_MES_NASCIMENTO', 'NU_ANO_NASCIMENTO', 'TP_COR_RACA', 'CO_MUNICIPIO_NASCIMENTO', 'CO_CURSO']\n",
        "sensitive_attr = 'IN_APOIO_BOLSA_PERMANENCIA'\n",
        "data = microdados\n",
        "\n",
        "start_time = time.time()\n",
        "\n",
        "sucesso_priori_deterministic = suc_prior_deterministic(data, sensitive_attr)\n",
        "sucesso_priori_probabilistic = suc_prior_probabilistic(data, sensitive_attr)\n",
        "sucesso_post_deterministico = suc_post_deterministic(data, qid_attrs, sensitive_attr)\n",
        "sucesso_post_probabilistico = suc_post_probabilistic(data, qid_attrs, sensitive_attr)\n",
        "\n",
        "end_time = time.time()\n",
        "execution_time = end_time - start_time\n",
        "\n",
        "print(\"Sucesso determinístico a priori:\", sucesso_priori_deterministic)\n",
        "print(\"Sucesso determinístico a posteriori:\", sucesso_post_deterministico)\n",
        "print(\"Degradação determinística de privacidade:\", sucesso_post_deterministico - sucesso_priori_deterministic)\n",
        "\n",
        "print(\"Sucesso probabilístico a priori:\", sucesso_priori_probabilistic)\n",
        "print(\"Sucesso probabilístico a posteriori:\", sucesso_post_probabilistico)\n",
        "print(\"Degradação probabilística de privacidade:\", sucesso_post_probabilistico / sucesso_priori_probabilistic)\n",
        "\n",
        "print(\"Tempo de execução:\", execution_time, \"segundos\")"
      ]
    },
    {
      "cell_type": "code",
      "execution_count": null,
      "metadata": {
        "id": "eMd4MbFDVB0a"
      },
      "outputs": [],
      "source": [
        "qid_attrs = ['NU_DIA_NASCIMENTO', 'NU_MES_NASCIMENTO', 'NU_ANO_NASCIMENTO', 'TP_SEXO', 'TP_COR_RACA', 'CO_MUNICIPIO_NASCIMENTO', 'CO_CURSO']\n",
        "sensitive_attr = 'IN_APOIO_BOLSA_PERMANENCIA'\n",
        "data = microdados\n",
        "\n",
        "start_time = time.time()\n",
        "\n",
        "sucesso_priori_deterministic = suc_prior_deterministic(data, sensitive_attr)\n",
        "sucesso_priori_probabilistic = suc_prior_probabilistic(data, sensitive_attr)\n",
        "sucesso_post_deterministico = suc_post_deterministic(data, qid_attrs, sensitive_attr)\n",
        "sucesso_post_probabilistico = suc_post_probabilistic(data, qid_attrs, sensitive_attr)\n",
        "\n",
        "end_time = time.time()\n",
        "execution_time = end_time - start_time\n",
        "\n",
        "print(\"Sucesso determinístico a priori:\", sucesso_priori_deterministic)\n",
        "print(\"Sucesso determinístico a posteriori:\", sucesso_post_deterministico)\n",
        "print(\"Degradação determinística de privacidade:\", sucesso_post_deterministico - sucesso_priori_deterministic)\n",
        "\n",
        "print(\"Sucesso probabilístico a priori:\", sucesso_priori_probabilistic)\n",
        "print(\"Sucesso probabilístico a posteriori:\", sucesso_post_probabilistico)\n",
        "print(\"Degradação probabilística de privacidade:\", sucesso_post_probabilistico / sucesso_priori_probabilistic)\n",
        "\n",
        "print(\"Tempo de execução:\", execution_time, \"segundos\")"
      ]
    },
    {
      "cell_type": "code",
      "execution_count": null,
      "metadata": {
        "id": "xX7_lLVlVB0a"
      },
      "outputs": [],
      "source": [
        "qid_attrs = ['NU_DIA_NASCIMENTO', 'NU_MES_NASCIMENTO', 'NU_ANO_NASCIMENTO', 'TP_SEXO', 'TP_COR_RACA', 'CO_MUNICIPIO_NASCIMENTO', 'CO_CURSO', 'TP_ESCOLA_CONCLUSAO_ENS_MEDIO']\n",
        "sensitive_attr = 'IN_APOIO_BOLSA_PERMANENCIA'\n",
        "data = microdados\n",
        "\n",
        "start_time = time.time()\n",
        "\n",
        "sucesso_priori_deterministic = suc_prior_deterministic(data, sensitive_attr)\n",
        "sucesso_priori_probabilistic = suc_prior_probabilistic(data, sensitive_attr)\n",
        "sucesso_post_deterministico = suc_post_deterministic(data, qid_attrs, sensitive_attr)\n",
        "sucesso_post_probabilistico = suc_post_probabilistic(data, qid_attrs, sensitive_attr)\n",
        "\n",
        "end_time = time.time()\n",
        "execution_time = end_time - start_time\n",
        "\n",
        "print(\"Sucesso determinístico a priori:\", sucesso_priori_deterministic)\n",
        "print(\"Sucesso determinístico a posteriori:\", sucesso_post_deterministico)\n",
        "print(\"Degradação determinística de privacidade:\", sucesso_post_deterministico - sucesso_priori_deterministic)\n",
        "\n",
        "print(\"Sucesso probabilístico a priori:\", sucesso_priori_probabilistic)\n",
        "print(\"Sucesso probabilístico a posteriori:\", sucesso_post_probabilistico)\n",
        "print(\"Degradação probabilística de privacidade:\", sucesso_post_probabilistico / sucesso_priori_probabilistic)\n",
        "\n",
        "print(\"Tempo de execução:\", execution_time, \"segundos\")"
      ]
    },
    {
      "cell_type": "code",
      "execution_count": null,
      "metadata": {
        "id": "3hJfM5OUVB0a"
      },
      "outputs": [],
      "source": [
        "qid_attrs = ['NU_DIA_NASCIMENTO', 'NU_MES_NASCIMENTO', 'NU_ANO_NASCIMENTO', 'TP_SEXO', 'TP_COR_RACA', 'CO_MUNICIPIO_NASCIMENTO', 'TP_NACIONALIDADE', 'CO_CURSO', 'TP_ESCOLA_CONCLUSAO_ENS_MEDIO']\n",
        "sensitive_attr = 'IN_APOIO_BOLSA_PERMANENCIA'\n",
        "data = microdados\n",
        "\n",
        "start_time = time.time()\n",
        "\n",
        "sucesso_priori_deterministic = suc_prior_deterministic(data, sensitive_attr)\n",
        "sucesso_priori_probabilistic = suc_prior_probabilistic(data, sensitive_attr)\n",
        "sucesso_post_deterministico = suc_post_deterministic(data, qid_attrs, sensitive_attr)\n",
        "sucesso_post_probabilistico = suc_post_probabilistic(data, qid_attrs, sensitive_attr)\n",
        "\n",
        "end_time = time.time()\n",
        "execution_time = end_time - start_time\n",
        "\n",
        "print(\"Sucesso determinístico a priori:\", sucesso_priori_deterministic)\n",
        "print(\"Sucesso determinístico a posteriori:\", sucesso_post_deterministico)\n",
        "print(\"Degradação determinística de privacidade:\", sucesso_post_deterministico - sucesso_priori_deterministic)\n",
        "\n",
        "print(\"Sucesso probabilístico a priori:\", sucesso_priori_probabilistic)\n",
        "print(\"Sucesso probabilístico a posteriori:\", sucesso_post_probabilistico)\n",
        "print(\"Degradação probabilística de privacidade:\", sucesso_post_probabilistico / sucesso_priori_probabilistic)\n",
        "\n",
        "print(\"Tempo de execução:\", execution_time, \"segundos\")"
      ]
    },
    {
      "cell_type": "code",
      "execution_count": null,
      "metadata": {
        "id": "zqXSTZYtVB0a"
      },
      "outputs": [],
      "source": [
        "qid_attrs = ['NU_DIA_NASCIMENTO', 'NU_MES_NASCIMENTO', 'NU_ANO_NASCIMENTO', 'TP_SEXO', 'TP_COR_RACA', 'CO_MUNICIPIO_NASCIMENTO', 'TP_NACIONALIDADE', 'CO_PAIS_ORIGEM', 'CO_CURSO', 'TP_ESCOLA_CONCLUSAO_ENS_MEDIO']\n",
        "sensitive_attr = 'IN_APOIO_BOLSA_PERMANENCIA'\n",
        "data = microdados\n",
        "\n",
        "start_time = time.time()\n",
        "\n",
        "sucesso_priori_deterministic = suc_prior_deterministic(data, sensitive_attr)\n",
        "sucesso_priori_probabilistic = suc_prior_probabilistic(data, sensitive_attr)\n",
        "sucesso_post_deterministico = suc_post_deterministic(data, qid_attrs, sensitive_attr)\n",
        "sucesso_post_probabilistico = suc_post_probabilistic(data, qid_attrs, sensitive_attr)\n",
        "\n",
        "end_time = time.time()\n",
        "execution_time = end_time - start_time\n",
        "\n",
        "print(\"Sucesso determinístico a priori:\", sucesso_priori_deterministic)\n",
        "print(\"Sucesso determinístico a posteriori:\", sucesso_post_deterministico)\n",
        "print(\"Degradação determinística de privacidade:\", sucesso_post_deterministico - sucesso_priori_deterministic)\n",
        "\n",
        "print(\"Sucesso probabilístico a priori:\", sucesso_priori_probabilistic)\n",
        "print(\"Sucesso probabilístico a posteriori:\", sucesso_post_probabilistico)\n",
        "print(\"Degradação probabilística de privacidade:\", sucesso_post_probabilistico / sucesso_priori_probabilistic)\n",
        "\n",
        "print(\"Tempo de execução:\", execution_time, \"segundos\")"
      ]
    },
    {
      "cell_type": "code",
      "execution_count": null,
      "metadata": {
        "id": "kZticwg2VB0b"
      },
      "outputs": [],
      "source": [
        "qid_attrs = ['NU_DIA_NASCIMENTO', 'NU_MES_NASCIMENTO', 'NU_ANO_NASCIMENTO', 'TP_SEXO', 'TP_COR_RACA', 'CO_MUNICIPIO_NASCIMENTO', 'TP_NACIONALIDADE', 'CO_PAIS_ORIGEM', 'CO_IES', 'CO_CURSO', 'TP_ESCOLA_CONCLUSAO_ENS_MEDIO']\n",
        "sensitive_attr = 'IN_APOIO_BOLSA_PERMANENCIA'\n",
        "data = microdados\n",
        "\n",
        "start_time = time.time()\n",
        "\n",
        "sucesso_priori_deterministic = suc_prior_deterministic(data, sensitive_attr)\n",
        "sucesso_priori_probabilistic = suc_prior_probabilistic(data, sensitive_attr)\n",
        "sucesso_post_deterministico = suc_post_deterministic(data, qid_attrs, sensitive_attr)\n",
        "sucesso_post_probabilistico = suc_post_probabilistic(data, qid_attrs, sensitive_attr)\n",
        "\n",
        "end_time = time.time()\n",
        "execution_time = end_time - start_time\n",
        "\n",
        "print(\"Sucesso determinístico a priori:\", sucesso_priori_deterministic)\n",
        "print(\"Sucesso determinístico a posteriori:\", sucesso_post_deterministico)\n",
        "print(\"Degradação determinística de privacidade:\", sucesso_post_deterministico - sucesso_priori_deterministic)\n",
        "\n",
        "print(\"Sucesso probabilístico a priori:\", sucesso_priori_probabilistic)\n",
        "print(\"Sucesso probabilístico a posteriori:\", sucesso_post_probabilistico)\n",
        "print(\"Degradação probabilística de privacidade:\", sucesso_post_probabilistico / sucesso_priori_probabilistic)\n",
        "\n",
        "print(\"Tempo de execução:\", execution_time, \"segundos\")"
      ]
    },
    {
      "cell_type": "markdown",
      "metadata": {
        "id": "8q6agw0WJGLi"
      },
      "source": [
        "##### Atributo Sensível [IN_RESERVA_VAGAS]"
      ]
    },
    {
      "cell_type": "code",
      "execution_count": null,
      "metadata": {
        "id": "pIC4NGAQ8kdc"
      },
      "outputs": [],
      "source": [
        "qid_attrs = ['CO_CURSO']\n",
        "sensitive_attr = 'IN_RESERVA_VAGAS'\n",
        "data = microdados\n",
        "\n",
        "start_time = time.time()\n",
        "\n",
        "sucesso_priori_deterministic = suc_prior_deterministic(data, sensitive_attr)\n",
        "sucesso_priori_probabilistic = suc_prior_probabilistic(data, sensitive_attr)\n",
        "sucesso_post_deterministico = suc_post_deterministic(data, qid_attrs, sensitive_attr)\n",
        "sucesso_post_probabilistico = suc_post_probabilistic(data, qid_attrs, sensitive_attr)\n",
        "\n",
        "end_time = time.time()\n",
        "execution_time = end_time - start_time\n",
        "\n",
        "print(\"Sucesso determinístico a priori:\", sucesso_priori_deterministic)\n",
        "print(\"Sucesso determinístico a posteriori:\", sucesso_post_deterministico)\n",
        "print(\"Degradação determinística de privacidade:\", sucesso_post_deterministico - sucesso_priori_deterministic)\n",
        "\n",
        "print(\"Sucesso probabilístico a priori:\", sucesso_priori_probabilistic)\n",
        "print(\"Sucesso probabilístico a posteriori:\", sucesso_post_probabilistico)\n",
        "print(\"Degradação probabilística de privacidade:\", sucesso_post_probabilistico / sucesso_priori_probabilistic)\n",
        "\n",
        "print(\"Tempo de execução:\", execution_time, \"segundos\")"
      ]
    },
    {
      "cell_type": "code",
      "execution_count": null,
      "metadata": {
        "id": "ZseXlaDK8kdc"
      },
      "outputs": [],
      "source": [
        "qid_attrs = ['CO_MUNICIPIO_NASCIMENTO', 'CO_CURSO']\n",
        "sensitive_attr = 'IN_RESERVA_VAGAS'\n",
        "data = microdados\n",
        "\n",
        "start_time = time.time()\n",
        "\n",
        "sucesso_priori_deterministic = suc_prior_deterministic(data, sensitive_attr)\n",
        "sucesso_priori_probabilistic = suc_prior_probabilistic(data, sensitive_attr)\n",
        "sucesso_post_deterministico = suc_post_deterministic(data, qid_attrs, sensitive_attr)\n",
        "sucesso_post_probabilistico = suc_post_probabilistic(data, qid_attrs, sensitive_attr)\n",
        "\n",
        "end_time = time.time()\n",
        "execution_time = end_time - start_time\n",
        "\n",
        "print(\"Sucesso determinístico a priori:\", sucesso_priori_deterministic)\n",
        "print(\"Sucesso determinístico a posteriori:\", sucesso_post_deterministico)\n",
        "print(\"Degradação determinística de privacidade:\", sucesso_post_deterministico - sucesso_priori_deterministic)\n",
        "\n",
        "print(\"Sucesso probabilístico a priori:\", sucesso_priori_probabilistic)\n",
        "print(\"Sucesso probabilístico a posteriori:\", sucesso_post_probabilistico)\n",
        "print(\"Degradação probabilística de privacidade:\", sucesso_post_probabilistico / sucesso_priori_probabilistic)\n",
        "\n",
        "print(\"Tempo de execução:\", execution_time, \"segundos\")"
      ]
    },
    {
      "cell_type": "code",
      "execution_count": null,
      "metadata": {
        "id": "zZp6riMI8kdd"
      },
      "outputs": [],
      "source": [
        "qid_attrs = ['NU_DIA_NASCIMENTO', 'CO_CURSO']\n",
        "sensitive_attr = 'IN_RESERVA_VAGAS'\n",
        "data = microdados\n",
        "\n",
        "start_time = time.time()\n",
        "\n",
        "sucesso_priori_deterministic = suc_prior_deterministic(data, sensitive_attr)\n",
        "sucesso_priori_probabilistic = suc_prior_probabilistic(data, sensitive_attr)\n",
        "sucesso_post_deterministico = suc_post_deterministic(data, qid_attrs, sensitive_attr)\n",
        "sucesso_post_probabilistico = suc_post_probabilistic(data, qid_attrs, sensitive_attr)\n",
        "\n",
        "end_time = time.time()\n",
        "execution_time = end_time - start_time\n",
        "\n",
        "print(\"Sucesso determinístico a priori:\", sucesso_priori_deterministic)\n",
        "print(\"Sucesso determinístico a posteriori:\", sucesso_post_deterministico)\n",
        "print(\"Degradação determinística de privacidade:\", sucesso_post_deterministico - sucesso_priori_deterministic)\n",
        "\n",
        "print(\"Sucesso probabilístico a priori:\", sucesso_priori_probabilistic)\n",
        "print(\"Sucesso probabilístico a posteriori:\", sucesso_post_probabilistico)\n",
        "print(\"Degradação probabilística de privacidade:\", sucesso_post_probabilistico / sucesso_priori_probabilistic)\n",
        "\n",
        "print(\"Tempo de execução:\", execution_time, \"segundos\")"
      ]
    },
    {
      "cell_type": "code",
      "execution_count": null,
      "metadata": {
        "id": "sT5P3aC_8kdd"
      },
      "outputs": [],
      "source": [
        "qid_attrs = ['NU_DIA_NASCIMENTO', 'NU_ANO_NASCIMENTO', 'CO_CURSO']\n",
        "sensitive_attr = 'IN_RESERVA_VAGAS'\n",
        "data = microdados\n",
        "\n",
        "start_time = time.time()\n",
        "\n",
        "sucesso_priori_deterministic = suc_prior_deterministic(data, sensitive_attr)\n",
        "sucesso_priori_probabilistic = suc_prior_probabilistic(data, sensitive_attr)\n",
        "sucesso_post_deterministico = suc_post_deterministic(data, qid_attrs, sensitive_attr)\n",
        "sucesso_post_probabilistico = suc_post_probabilistic(data, qid_attrs, sensitive_attr)\n",
        "\n",
        "end_time = time.time()\n",
        "execution_time = end_time - start_time\n",
        "\n",
        "print(\"Sucesso determinístico a priori:\", sucesso_priori_deterministic)\n",
        "print(\"Sucesso determinístico a posteriori:\", sucesso_post_deterministico)\n",
        "print(\"Degradação determinística de privacidade:\", sucesso_post_deterministico - sucesso_priori_deterministic)\n",
        "\n",
        "print(\"Sucesso probabilístico a priori:\", sucesso_priori_probabilistic)\n",
        "print(\"Sucesso probabilístico a posteriori:\", sucesso_post_probabilistico)\n",
        "print(\"Degradação probabilística de privacidade:\", sucesso_post_probabilistico / sucesso_priori_probabilistic)\n",
        "\n",
        "print(\"Tempo de execução:\", execution_time, \"segundos\")"
      ]
    },
    {
      "cell_type": "code",
      "execution_count": null,
      "metadata": {
        "id": "loz-6pmSZtSq"
      },
      "outputs": [],
      "source": [
        "qid_attrs = ['NU_DIA_NASCIMENTO', 'NU_MES_NASCIMENTO', 'NU_ANO_NASCIMENTO', 'CO_CURSO']\n",
        "sensitive_attr = 'IN_RESERVA_VAGAS'\n",
        "data = microdados\n",
        "\n",
        "start_time = time.time()\n",
        "\n",
        "sucesso_priori_deterministic = suc_prior_deterministic(data, sensitive_attr)\n",
        "sucesso_priori_probabilistic = suc_prior_probabilistic(data, sensitive_attr)\n",
        "sucesso_post_deterministico = suc_post_deterministic(data, qid_attrs, sensitive_attr)\n",
        "sucesso_post_probabilistico = suc_post_probabilistic(data, qid_attrs, sensitive_attr)\n",
        "\n",
        "end_time = time.time()\n",
        "execution_time = end_time - start_time\n",
        "\n",
        "print(\"Sucesso determinístico a priori:\", sucesso_priori_deterministic)\n",
        "print(\"Sucesso determinístico a posteriori:\", sucesso_post_deterministico)\n",
        "print(\"Degradação determinística de privacidade:\", sucesso_post_deterministico - sucesso_priori_deterministic)\n",
        "\n",
        "print(\"Sucesso probabilístico a priori:\", sucesso_priori_probabilistic)\n",
        "print(\"Sucesso probabilístico a posteriori:\", sucesso_post_probabilistico)\n",
        "print(\"Degradação probabilística de privacidade:\", sucesso_post_probabilistico / sucesso_priori_probabilistic)\n",
        "\n",
        "print(\"Tempo de execução:\", execution_time, \"segundos\")"
      ]
    },
    {
      "cell_type": "code",
      "execution_count": null,
      "metadata": {
        "id": "65A7DUK48kdd"
      },
      "outputs": [],
      "source": [
        "qid_attrs = ['NU_DIA_NASCIMENTO', 'NU_MES_NASCIMENTO', 'NU_ANO_NASCIMENTO', 'CO_MUNICIPIO_NASCIMENTO', 'CO_CURSO']\n",
        "sensitive_attr = 'IN_RESERVA_VAGAS'\n",
        "data = microdados\n",
        "\n",
        "start_time = time.time()\n",
        "\n",
        "sucesso_priori_deterministic = suc_prior_deterministic(data, sensitive_attr)\n",
        "sucesso_priori_probabilistic = suc_prior_probabilistic(data, sensitive_attr)\n",
        "sucesso_post_deterministico = suc_post_deterministic(data, qid_attrs, sensitive_attr)\n",
        "sucesso_post_probabilistico = suc_post_probabilistic(data, qid_attrs, sensitive_attr)\n",
        "\n",
        "end_time = time.time()\n",
        "execution_time = end_time - start_time\n",
        "\n",
        "print(\"Sucesso determinístico a priori:\", sucesso_priori_deterministic)\n",
        "print(\"Sucesso determinístico a posteriori:\", sucesso_post_deterministico)\n",
        "print(\"Degradação determinística de privacidade:\", sucesso_post_deterministico - sucesso_priori_deterministic)\n",
        "\n",
        "print(\"Sucesso probabilístico a priori:\", sucesso_priori_probabilistic)\n",
        "print(\"Sucesso probabilístico a posteriori:\", sucesso_post_probabilistico)\n",
        "print(\"Degradação probabilística de privacidade:\", sucesso_post_probabilistico / sucesso_priori_probabilistic)\n",
        "\n",
        "print(\"Tempo de execução:\", execution_time, \"segundos\")"
      ]
    },
    {
      "cell_type": "code",
      "execution_count": null,
      "metadata": {
        "id": "BvI6xyZ18kde"
      },
      "outputs": [],
      "source": [
        "qid_attrs = ['NU_DIA_NASCIMENTO', 'NU_MES_NASCIMENTO', 'NU_ANO_NASCIMENTO', 'TP_COR_RACA', 'CO_MUNICIPIO_NASCIMENTO', 'CO_CURSO']\n",
        "sensitive_attr = 'IN_RESERVA_VAGAS'\n",
        "data = microdados\n",
        "\n",
        "start_time = time.time()\n",
        "\n",
        "sucesso_priori_deterministic = suc_prior_deterministic(data, sensitive_attr)\n",
        "sucesso_priori_probabilistic = suc_prior_probabilistic(data, sensitive_attr)\n",
        "sucesso_post_deterministico = suc_post_deterministic(data, qid_attrs, sensitive_attr)\n",
        "sucesso_post_probabilistico = suc_post_probabilistic(data, qid_attrs, sensitive_attr)\n",
        "\n",
        "end_time = time.time()\n",
        "execution_time = end_time - start_time\n",
        "\n",
        "print(\"Sucesso determinístico a priori:\", sucesso_priori_deterministic)\n",
        "print(\"Sucesso determinístico a posteriori:\", sucesso_post_deterministico)\n",
        "print(\"Degradação determinística de privacidade:\", sucesso_post_deterministico - sucesso_priori_deterministic)\n",
        "\n",
        "print(\"Sucesso probabilístico a priori:\", sucesso_priori_probabilistic)\n",
        "print(\"Sucesso probabilístico a posteriori:\", sucesso_post_probabilistico)\n",
        "print(\"Degradação probabilística de privacidade:\", sucesso_post_probabilistico / sucesso_priori_probabilistic)\n",
        "\n",
        "print(\"Tempo de execução:\", execution_time, \"segundos\")"
      ]
    },
    {
      "cell_type": "code",
      "execution_count": null,
      "metadata": {
        "id": "nTh00Xx38kde"
      },
      "outputs": [],
      "source": [
        "qid_attrs = ['NU_DIA_NASCIMENTO', 'NU_MES_NASCIMENTO', 'NU_ANO_NASCIMENTO', 'TP_SEXO', 'TP_COR_RACA', 'CO_MUNICIPIO_NASCIMENTO', 'CO_CURSO']\n",
        "sensitive_attr = 'IN_RESERVA_VAGAS'\n",
        "data = microdados\n",
        "\n",
        "start_time = time.time()\n",
        "\n",
        "sucesso_priori_deterministic = suc_prior_deterministic(data, sensitive_attr)\n",
        "sucesso_priori_probabilistic = suc_prior_probabilistic(data, sensitive_attr)\n",
        "sucesso_post_deterministico = suc_post_deterministic(data, qid_attrs, sensitive_attr)\n",
        "sucesso_post_probabilistico = suc_post_probabilistic(data, qid_attrs, sensitive_attr)\n",
        "\n",
        "end_time = time.time()\n",
        "execution_time = end_time - start_time\n",
        "\n",
        "print(\"Sucesso determinístico a priori:\", sucesso_priori_deterministic)\n",
        "print(\"Sucesso determinístico a posteriori:\", sucesso_post_deterministico)\n",
        "print(\"Degradação determinística de privacidade:\", sucesso_post_deterministico - sucesso_priori_deterministic)\n",
        "\n",
        "print(\"Sucesso probabilístico a priori:\", sucesso_priori_probabilistic)\n",
        "print(\"Sucesso probabilístico a posteriori:\", sucesso_post_probabilistico)\n",
        "print(\"Degradação probabilística de privacidade:\", sucesso_post_probabilistico / sucesso_priori_probabilistic)\n",
        "\n",
        "print(\"Tempo de execução:\", execution_time, \"segundos\")"
      ]
    },
    {
      "cell_type": "code",
      "execution_count": null,
      "metadata": {
        "id": "JzsxqMGa8kde"
      },
      "outputs": [],
      "source": [
        "qid_attrs = ['NU_DIA_NASCIMENTO', 'NU_MES_NASCIMENTO', 'NU_ANO_NASCIMENTO', 'TP_SEXO', 'TP_COR_RACA', 'CO_MUNICIPIO_NASCIMENTO', 'CO_CURSO', 'TP_ESCOLA_CONCLUSAO_ENS_MEDIO']\n",
        "sensitive_attr = 'IN_RESERVA_VAGAS'\n",
        "data = microdados\n",
        "\n",
        "start_time = time.time()\n",
        "\n",
        "sucesso_priori_deterministic = suc_prior_deterministic(data, sensitive_attr)\n",
        "sucesso_priori_probabilistic = suc_prior_probabilistic(data, sensitive_attr)\n",
        "sucesso_post_deterministico = suc_post_deterministic(data, qid_attrs, sensitive_attr)\n",
        "sucesso_post_probabilistico = suc_post_probabilistic(data, qid_attrs, sensitive_attr)\n",
        "\n",
        "end_time = time.time()\n",
        "execution_time = end_time - start_time\n",
        "\n",
        "print(\"Sucesso determinístico a priori:\", sucesso_priori_deterministic)\n",
        "print(\"Sucesso determinístico a posteriori:\", sucesso_post_deterministico)\n",
        "print(\"Degradação determinística de privacidade:\", sucesso_post_deterministico - sucesso_priori_deterministic)\n",
        "\n",
        "print(\"Sucesso probabilístico a priori:\", sucesso_priori_probabilistic)\n",
        "print(\"Sucesso probabilístico a posteriori:\", sucesso_post_probabilistico)\n",
        "print(\"Degradação probabilística de privacidade:\", sucesso_post_probabilistico / sucesso_priori_probabilistic)\n",
        "\n",
        "print(\"Tempo de execução:\", execution_time, \"segundos\")"
      ]
    },
    {
      "cell_type": "code",
      "execution_count": null,
      "metadata": {
        "id": "F1XUjNJh8kde"
      },
      "outputs": [],
      "source": [
        "qid_attrs = ['NU_DIA_NASCIMENTO', 'NU_MES_NASCIMENTO', 'NU_ANO_NASCIMENTO', 'TP_SEXO', 'TP_COR_RACA', 'CO_MUNICIPIO_NASCIMENTO', 'TP_NACIONALIDADE', 'CO_CURSO', 'TP_ESCOLA_CONCLUSAO_ENS_MEDIO']\n",
        "sensitive_attr = 'IN_RESERVA_VAGAS'\n",
        "data = microdados\n",
        "\n",
        "start_time = time.time()\n",
        "\n",
        "sucesso_priori_deterministic = suc_prior_deterministic(data, sensitive_attr)\n",
        "sucesso_priori_probabilistic = suc_prior_probabilistic(data, sensitive_attr)\n",
        "sucesso_post_deterministico = suc_post_deterministic(data, qid_attrs, sensitive_attr)\n",
        "sucesso_post_probabilistico = suc_post_probabilistic(data, qid_attrs, sensitive_attr)\n",
        "\n",
        "end_time = time.time()\n",
        "execution_time = end_time - start_time\n",
        "\n",
        "print(\"Sucesso determinístico a priori:\", sucesso_priori_deterministic)\n",
        "print(\"Sucesso determinístico a posteriori:\", sucesso_post_deterministico)\n",
        "print(\"Degradação determinística de privacidade:\", sucesso_post_deterministico - sucesso_priori_deterministic)\n",
        "\n",
        "print(\"Sucesso probabilístico a priori:\", sucesso_priori_probabilistic)\n",
        "print(\"Sucesso probabilístico a posteriori:\", sucesso_post_probabilistico)\n",
        "print(\"Degradação probabilística de privacidade:\", sucesso_post_probabilistico / sucesso_priori_probabilistic)\n",
        "\n",
        "print(\"Tempo de execução:\", execution_time, \"segundos\")"
      ]
    },
    {
      "cell_type": "code",
      "execution_count": null,
      "metadata": {
        "id": "pZAYECMt8kde"
      },
      "outputs": [],
      "source": [
        "qid_attrs = ['NU_DIA_NASCIMENTO', 'NU_MES_NASCIMENTO', 'NU_ANO_NASCIMENTO', 'TP_SEXO', 'TP_COR_RACA', 'CO_MUNICIPIO_NASCIMENTO', 'TP_NACIONALIDADE', 'CO_PAIS_ORIGEM', 'CO_CURSO', 'TP_ESCOLA_CONCLUSAO_ENS_MEDIO']\n",
        "sensitive_attr = 'IN_RESERVA_VAGAS'\n",
        "data = microdados\n",
        "\n",
        "start_time = time.time()\n",
        "\n",
        "sucesso_priori_deterministic = suc_prior_deterministic(data, sensitive_attr)\n",
        "sucesso_priori_probabilistic = suc_prior_probabilistic(data, sensitive_attr)\n",
        "sucesso_post_deterministico = suc_post_deterministic(data, qid_attrs, sensitive_attr)\n",
        "sucesso_post_probabilistico = suc_post_probabilistic(data, qid_attrs, sensitive_attr)\n",
        "\n",
        "end_time = time.time()\n",
        "execution_time = end_time - start_time\n",
        "\n",
        "print(\"Sucesso determinístico a priori:\", sucesso_priori_deterministic)\n",
        "print(\"Sucesso determinístico a posteriori:\", sucesso_post_deterministico)\n",
        "print(\"Degradação determinística de privacidade:\", sucesso_post_deterministico - sucesso_priori_deterministic)\n",
        "\n",
        "print(\"Sucesso probabilístico a priori:\", sucesso_priori_probabilistic)\n",
        "print(\"Sucesso probabilístico a posteriori:\", sucesso_post_probabilistico)\n",
        "print(\"Degradação probabilística de privacidade:\", sucesso_post_probabilistico / sucesso_priori_probabilistic)\n",
        "\n",
        "print(\"Tempo de execução:\", execution_time, \"segundos\")"
      ]
    },
    {
      "cell_type": "code",
      "execution_count": null,
      "metadata": {
        "id": "xtJWI_JZ8kde"
      },
      "outputs": [],
      "source": [
        "qid_attrs = ['NU_DIA_NASCIMENTO', 'NU_MES_NASCIMENTO', 'NU_ANO_NASCIMENTO', 'TP_SEXO', 'TP_COR_RACA', 'CO_MUNICIPIO_NASCIMENTO', 'TP_NACIONALIDADE', 'CO_PAIS_ORIGEM', 'CO_IES', 'CO_CURSO', 'TP_ESCOLA_CONCLUSAO_ENS_MEDIO']\n",
        "sensitive_attr = 'IN_RESERVA_VAGAS'\n",
        "data = microdados\n",
        "\n",
        "start_time = time.time()\n",
        "\n",
        "sucesso_priori_deterministic = suc_prior_deterministic(data, sensitive_attr)\n",
        "sucesso_priori_probabilistic = suc_prior_probabilistic(data, sensitive_attr)\n",
        "sucesso_post_deterministico = suc_post_deterministic(data, qid_attrs, sensitive_attr)\n",
        "sucesso_post_probabilistico = suc_post_probabilistic(data, qid_attrs, sensitive_attr)\n",
        "\n",
        "end_time = time.time()\n",
        "execution_time = end_time - start_time\n",
        "\n",
        "print(\"Sucesso determinístico a priori:\", sucesso_priori_deterministic)\n",
        "print(\"Sucesso determinístico a posteriori:\", sucesso_post_deterministico)\n",
        "print(\"Degradação determinística de privacidade:\", sucesso_post_deterministico - sucesso_priori_deterministic)\n",
        "\n",
        "print(\"Sucesso probabilístico a priori:\", sucesso_priori_probabilistic)\n",
        "print(\"Sucesso probabilístico a posteriori:\", sucesso_post_probabilistico)\n",
        "print(\"Degradação probabilística de privacidade:\", sucesso_post_probabilistico / sucesso_priori_probabilistic)\n",
        "\n",
        "print(\"Tempo de execução:\", execution_time, \"segundos\")"
      ]
    }
  ],
  "metadata": {
    "colab": {
      "provenance": [],
      "toc_visible": true
    },
    "kernelspec": {
      "display_name": "Python 3",
      "name": "python3"
    },
    "language_info": {
      "name": "python"
    }
  },
  "nbformat": 4,
  "nbformat_minor": 0
}