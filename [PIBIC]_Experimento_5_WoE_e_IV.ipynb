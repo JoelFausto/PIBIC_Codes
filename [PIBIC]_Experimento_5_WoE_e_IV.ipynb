{
  "nbformat": 4,
  "nbformat_minor": 0,
  "metadata": {
    "colab": {
      "provenance": [],
      "collapsed_sections": [
        "D11IUZKj_7VR",
        "jYIiydwsuB5J",
        "0ocD_ZYN_7Q4",
        "5SaHpdg1hx5k",
        "HVnGdkoKlU6c",
        "uuSdVBsTmNci",
        "a-op7XA9m9fw",
        "kXbCRAOZnwCj",
        "cXVpTegLAc4A",
        "Huca6ysije76",
        "purVcbmflzIZ",
        "NahwBywPmmm1",
        "39dZ_08inY7C",
        "sys-PwhHoMbQ"
      ],
      "toc_visible": true,
      "authorship_tag": "ABX9TyP7Svg2L55ALfFYxZmB25AX"
    },
    "kernelspec": {
      "name": "python3",
      "display_name": "Python 3"
    },
    "language_info": {
      "name": "python"
    }
  },
  "cells": [
    {
      "cell_type": "markdown",
      "source": [
        "### Importação das bibliotecas"
      ],
      "metadata": {
        "id": "D11IUZKj_7VR"
      }
    },
    {
      "cell_type": "code",
      "execution_count": null,
      "metadata": {
        "id": "8gAaVCYZ6JHF"
      },
      "outputs": [],
      "source": [
        "from google.colab import drive\n",
        "drive.mount('/content/drive')"
      ]
    },
    {
      "cell_type": "code",
      "source": [
        "!pip install plotly --upgrade"
      ],
      "metadata": {
        "id": "9G1FcTCMBNkx"
      },
      "execution_count": null,
      "outputs": []
    },
    {
      "cell_type": "code",
      "source": [
        "!pip install optbinning"
      ],
      "metadata": {
        "id": "YKy0VOL88bdh"
      },
      "execution_count": null,
      "outputs": []
    },
    {
      "cell_type": "code",
      "source": [
        "import pandas as pd\n",
        "import gc\n",
        "import numpy as np\n",
        "import warnings\n",
        "from sklearn.model_selection import train_test_split\n",
        "from optbinning import BinningProcess\n",
        "from optbinning import OptimalBinning"
      ],
      "metadata": {
        "id": "VPr2r9X38qDI"
      },
      "execution_count": null,
      "outputs": []
    },
    {
      "cell_type": "code",
      "source": [
        "warnings.filterwarnings(\"ignore\", category=FutureWarning)"
      ],
      "metadata": {
        "id": "Tm7013wIAsyw"
      },
      "execution_count": null,
      "outputs": []
    },
    {
      "cell_type": "markdown",
      "metadata": {
        "id": "3IKXcBUqmIrk"
      },
      "source": [
        "### Dados"
      ]
    },
    {
      "cell_type": "code",
      "execution_count": null,
      "metadata": {
        "id": "-Ora7GEav3kW"
      },
      "outputs": [],
      "source": [
        "pd.set_option('display.max_columns', None)"
      ]
    },
    {
      "cell_type": "code",
      "execution_count": null,
      "metadata": {
        "id": "SLDg9xtcmL_c"
      },
      "outputs": [],
      "source": [
        "# Dados\n",
        "microdados = pd.read_parquet('/content/drive/MyDrive/PIBIC/dadosCenso2018_ComNovasColunas_WoE.parquet')"
      ]
    },
    {
      "cell_type": "code",
      "source": [
        "microdados.head()"
      ],
      "metadata": {
        "id": "AAL_PtEP2TA2"
      },
      "execution_count": null,
      "outputs": []
    },
    {
      "cell_type": "markdown",
      "source": [
        "#### Modelagem e Transformando em Binário"
      ],
      "metadata": {
        "id": "XG_BWjQY9gNR"
      }
    },
    {
      "cell_type": "code",
      "source": [
        "# Concatenando as datas de nascimento, para formar uma coluna para data\n",
        "microdados['DATA_NASCIMENTO'] = (\n",
        "    microdados['NU_DIA_NASCIMENTO'].astype(str).str.zfill(2) + '/' +\n",
        "    microdados['NU_MES_NASCIMENTO'].astype(str).str.zfill(2) + '/' +\n",
        "    microdados['NU_ANO_NASCIMENTO'].astype(str)\n",
        ")\n",
        "\n",
        "# Exibir os primeiros registros\n",
        "microdados[[\"NU_DIA_NASCIMENTO\", \"NU_MES_NASCIMENTO\", \"NU_ANO_NASCIMENTO\", \"DATA_NASCIMENTO\"]].head()"
      ],
      "metadata": {
        "id": "NfoyPX6BS1Cj"
      },
      "execution_count": null,
      "outputs": []
    },
    {
      "cell_type": "code",
      "source": [
        "# Os valores Nan são valores vazios, e senão estão preenchidos então podemos atribuir a pessoas que não tem financiamento \"0\"\n",
        "# Afim, de transformar o atributo sensível para binário\n",
        "microdados['IN_FINANCIAMENTO_ESTUDANTIL_BINARIO'] = microdados['IN_FINANCIAMENTO_ESTUDANTIL'].fillna(0)"
      ],
      "metadata": {
        "id": "p8pX2uhKAf5I"
      },
      "execution_count": null,
      "outputs": []
    },
    {
      "cell_type": "code",
      "source": [
        "microdados['IN_FINANCIAMENTO_ESTUDANTIL_BINARIO'].unique()"
      ],
      "metadata": {
        "id": "rWGf-FJIAnn4"
      },
      "execution_count": null,
      "outputs": []
    },
    {
      "cell_type": "code",
      "source": [
        "microdados['IN_DEFICIENCIA'].unique()"
      ],
      "metadata": {
        "id": "6S6YwNNBAcDR"
      },
      "execution_count": null,
      "outputs": []
    },
    {
      "cell_type": "code",
      "source": [
        "# 0 -> Não tem deficiência\n",
        "# 1 -> Tem deficiência\n",
        "# 9 -> Não possui a informação"
      ],
      "metadata": {
        "id": "iPhEJsJ8BhFw"
      },
      "execution_count": null,
      "outputs": []
    },
    {
      "cell_type": "code",
      "source": [
        "microdados['IN_DEFICIENCIA_BINARIO'] = microdados['IN_DEFICIENCIA'].replace(9, 0)"
      ],
      "metadata": {
        "id": "o2DjcZrvF3sw"
      },
      "execution_count": null,
      "outputs": []
    },
    {
      "cell_type": "code",
      "source": [
        "microdados.drop(['IN_FINANCIAMENTO_ESTUDANTIL', 'IN_DEFICIENCIA'], axis=1, inplace=True)"
      ],
      "metadata": {
        "id": "6JuQNZO3qnrk"
      },
      "execution_count": null,
      "outputs": []
    },
    {
      "cell_type": "code",
      "source": [
        "# Salvando os microdados no Drive\n",
        "microdados.to_parquet('/content/drive/MyDrive/PIBIC/dadosCenso2018_ComNovasColunas_WoE.parquet')"
      ],
      "metadata": {
        "id": "ZvE26ThTpwpc"
      },
      "execution_count": null,
      "outputs": []
    },
    {
      "cell_type": "markdown",
      "source": [
        "#### Concatenações"
      ],
      "metadata": {
        "id": "ffD-kxxTgond"
      }
    },
    {
      "cell_type": "markdown",
      "source": [
        "Devido à alta demanda computacional, realizar as concatenações diretamente no código não era eficiente e sobrecarregava a memória RAM do Google Colab. Uma estratégia para reduzir essa sobrecarga foi executar algumas das concatenações antecipadamente, em vez de realizá-las todas em conjunto durante a execução do código."
      ],
      "metadata": {
        "id": "46u5DwN3-gzA"
      }
    },
    {
      "cell_type": "markdown",
      "source": [
        "##### CO_CINE_AREA GERAL"
      ],
      "metadata": {
        "id": "g13hf9_YgtVs"
      }
    },
    {
      "cell_type": "code",
      "source": [
        "microdados['CINE_MUNICIPIO'] = (\n",
        "    microdados['CO_CINE_AREA_GERAL'].astype(str) + \"_\" + microdados['CO_MUNICIPIO_NASCIMENTO'].astype(str)\n",
        ")"
      ],
      "metadata": {
        "id": "aBDxQ5XurEAc"
      },
      "execution_count": null,
      "outputs": []
    },
    {
      "cell_type": "code",
      "source": [
        "microdados['CINE_ANO'] = (\n",
        "    microdados['CO_CINE_AREA_GERAL'].astype(str) + \"_\" + microdados['NU_ANO_NASCIMENTO'].astype(str)\n",
        ")"
      ],
      "metadata": {
        "id": "bTvUJ7GnrErf"
      },
      "execution_count": null,
      "outputs": []
    },
    {
      "cell_type": "code",
      "source": [
        "microdados['CINE_DIA'] = (\n",
        "    microdados['CO_CINE_AREA_GERAL'].astype(str) + \"_\" + microdados['NU_ANO_NASCIMENTO'].astype(str)\n",
        ")"
      ],
      "metadata": {
        "id": "eGPiq2KM4Dfr"
      },
      "execution_count": null,
      "outputs": []
    },
    {
      "cell_type": "code",
      "source": [
        "microdados['CINE_ANO_DIA'] = (\n",
        "    microdados['CINE_ANO'].astype(str) + \"_\" + microdados['NU_DIA_NASCIMENTO'].astype(str)\n",
        ")"
      ],
      "metadata": {
        "id": "-PboBdadHrbw"
      },
      "execution_count": null,
      "outputs": []
    },
    {
      "cell_type": "code",
      "source": [
        "microdados['CINE_DATA'] = (\n",
        "    microdados['CO_CINE_AREA_GERAL'].astype(str) + \"_\" + microdados['DATA_NASCIMENTO'].astype(str)\n",
        ")"
      ],
      "metadata": {
        "id": "FzPF-En4rFuv"
      },
      "execution_count": null,
      "outputs": []
    },
    {
      "cell_type": "code",
      "source": [
        "microdados['CINE_DATA_MUNICIPIO'] = (\n",
        "    microdados['CINE_DATA'].astype(str) + \"_\" + microdados['CO_MUNICIPIO_NASCIMENTO'].astype(str)\n",
        ")"
      ],
      "metadata": {
        "id": "TlhIEw2ZrGOb"
      },
      "execution_count": null,
      "outputs": []
    },
    {
      "cell_type": "code",
      "source": [
        "microdados['CINE_DATA_MUNICIPIO_RACA'] = (\n",
        "    microdados['CINE_DATA_MUNICIPIO'].astype(str) + \"_\" + microdados['TP_COR_RACA'].astype(str)\n",
        ")"
      ],
      "metadata": {
        "id": "JqrWtQlvrGuu"
      },
      "execution_count": null,
      "outputs": []
    },
    {
      "cell_type": "markdown",
      "source": [
        "##### CO_MUNICIPIO"
      ],
      "metadata": {
        "id": "mRXbFEMMg3tl"
      }
    },
    {
      "cell_type": "code",
      "source": [
        "microdados['CO_MUNICIPIO_MUNICIPIO'] = (\n",
        "    microdados['CO_MUNICIPIO'].astype(str) + \"_\" + microdados['CO_MUNICIPIO_NASCIMENTO'].astype(str)\n",
        ")"
      ],
      "metadata": {
        "id": "mhYJLMAcg3tl"
      },
      "execution_count": null,
      "outputs": []
    },
    {
      "cell_type": "code",
      "source": [
        "microdados['CO_MUNICIPIO_ANO'] = (\n",
        "    microdados['CO_MUNICIPIO'].astype(str) + \"_\" + microdados['NU_ANO_NASCIMENTO'].astype(str)\n",
        ")"
      ],
      "metadata": {
        "id": "pqucnePvg3tm"
      },
      "execution_count": null,
      "outputs": []
    },
    {
      "cell_type": "code",
      "source": [
        "microdados['CO_MUNICIPIO_DIA'] = (\n",
        "    microdados['CO_MUNICIPIO'].astype(str) + \"_\" + microdados['NU_DIA_NASCIMENTO'].astype(str)\n",
        ")"
      ],
      "metadata": {
        "id": "daezJORK4HRu"
      },
      "execution_count": null,
      "outputs": []
    },
    {
      "cell_type": "code",
      "source": [
        "microdados['CO_MUNICIPIO_ANO_DIA'] = (\n",
        "    microdados['CO_MUNICIPIO_ANO'].astype(str) + \"_\" + microdados['NU_DIA_NASCIMENTO'].astype(str)\n",
        ")"
      ],
      "metadata": {
        "id": "WvSunp8dg3tm"
      },
      "execution_count": null,
      "outputs": []
    },
    {
      "cell_type": "code",
      "source": [
        "microdados['CO_MUNICIPIO_DATA'] = (\n",
        "    microdados['CO_MUNICIPIO'].astype(str) + \"_\" + microdados['DATA_NASCIMENTO'].astype(str)\n",
        ")"
      ],
      "metadata": {
        "id": "TOAkhAGHg3tm"
      },
      "execution_count": null,
      "outputs": []
    },
    {
      "cell_type": "code",
      "source": [
        "microdados['CO_MUNICIPIO_DATA_MUNICIPIO'] = (\n",
        "    microdados['CO_MUNICIPIO_DATA'].astype(str) + \"_\" + microdados['CO_MUNICIPIO_NASCIMENTO'].astype(str)\n",
        ")"
      ],
      "metadata": {
        "id": "-gfiLckLg3tm"
      },
      "execution_count": null,
      "outputs": []
    },
    {
      "cell_type": "code",
      "source": [
        "microdados['CO_MUNICIPIO_DATA_MUNICIPIO_RACA'] = (\n",
        "    microdados['CO_MUNICIPIO_DATA_MUNICIPIO'].astype(str) + \"_\" + microdados['TP_COR_RACA'].astype(str)\n",
        ")"
      ],
      "metadata": {
        "id": "myWpog7og3tn"
      },
      "execution_count": null,
      "outputs": []
    },
    {
      "cell_type": "markdown",
      "source": [
        "##### CO_UF"
      ],
      "metadata": {
        "id": "uWM7EbBJkJRL"
      }
    },
    {
      "cell_type": "code",
      "source": [
        "microdados['UF_MUNICIPIO'] = (\n",
        "    microdados['CO_UF'].astype(str) + \"_\" + microdados['CO_MUNICIPIO_NASCIMENTO'].astype(str)\n",
        ")"
      ],
      "metadata": {
        "id": "xcKafaPAkJRM"
      },
      "execution_count": null,
      "outputs": []
    },
    {
      "cell_type": "code",
      "source": [
        "microdados['UF_ANO'] = (\n",
        "    microdados['CO_UF'].astype(str) + \"_\" + microdados['NU_ANO_NASCIMENTO'].astype(str)\n",
        ")"
      ],
      "metadata": {
        "id": "6midAPEHkJRM"
      },
      "execution_count": null,
      "outputs": []
    },
    {
      "cell_type": "code",
      "source": [
        "microdados['UF_DIA'] = (\n",
        "    microdados['CO_UF'].astype(str) + \"_\" + microdados['NU_DIA_NASCIMENTO'].astype(str)\n",
        ")"
      ],
      "metadata": {
        "id": "a2sfvEhc4NQH"
      },
      "execution_count": null,
      "outputs": []
    },
    {
      "cell_type": "code",
      "source": [
        "microdados['UF_ANO_DIA'] = (\n",
        "    microdados['UF_ANO'].astype(str) + \"_\" + microdados['NU_DIA_NASCIMENTO'].astype(str)\n",
        ")"
      ],
      "metadata": {
        "id": "XZWxCnWWkJRM"
      },
      "execution_count": null,
      "outputs": []
    },
    {
      "cell_type": "code",
      "source": [
        "microdados['UF_DATA'] = (\n",
        "    microdados['CO_UF'].astype(str) + \"_\" + microdados['DATA_NASCIMENTO'].astype(str)\n",
        ")"
      ],
      "metadata": {
        "id": "JjMlW_HXkJRM"
      },
      "execution_count": null,
      "outputs": []
    },
    {
      "cell_type": "code",
      "source": [
        "microdados['UF_DATA_MUNICIPIO'] = (\n",
        "    microdados['UF_DATA'].astype(str) + \"_\" + microdados['CO_MUNICIPIO_NASCIMENTO'].astype(str)\n",
        ")"
      ],
      "metadata": {
        "id": "MHMUprMWkJRN"
      },
      "execution_count": null,
      "outputs": []
    },
    {
      "cell_type": "code",
      "source": [
        "microdados['UF_DATA_MUNICIPIO_RACA'] = (\n",
        "    microdados['UF_DATA_MUNICIPIO'].astype(str) + \"_\" + microdados['TP_COR_RACA'].astype(str)\n",
        ")"
      ],
      "metadata": {
        "id": "noVCGkFXkJRN"
      },
      "execution_count": null,
      "outputs": []
    },
    {
      "cell_type": "markdown",
      "source": [
        "##### CO_IES"
      ],
      "metadata": {
        "id": "EGbgixazkd5P"
      }
    },
    {
      "cell_type": "code",
      "source": [
        "microdados['IES_MUNICIPIO'] = (\n",
        "    microdados['CO_IES'].astype(str) + \"_\" + microdados['CO_MUNICIPIO_NASCIMENTO'].astype(str)\n",
        ")"
      ],
      "metadata": {
        "id": "sBsOLbCtkd5Q"
      },
      "execution_count": null,
      "outputs": []
    },
    {
      "cell_type": "code",
      "source": [
        "microdados['IES_ANO'] = (\n",
        "    microdados['CO_IES'].astype(str) + \"_\" + microdados['NU_ANO_NASCIMENTO'].astype(str)\n",
        ")"
      ],
      "metadata": {
        "id": "R-trZ3wBkd5Q"
      },
      "execution_count": null,
      "outputs": []
    },
    {
      "cell_type": "code",
      "source": [
        "microdados['IES_DIA'] = (\n",
        "    microdados['CO_IES'].astype(str) + \"_\" + microdados['NU_DIA_NASCIMENTO'].astype(str)\n",
        ")"
      ],
      "metadata": {
        "id": "aEL9b4dY4Tya"
      },
      "execution_count": null,
      "outputs": []
    },
    {
      "cell_type": "code",
      "source": [
        "microdados['IES_ANO_DIA'] = (\n",
        "    microdados['IES_ANO'].astype(str) + \"_\" + microdados['NU_DIA_NASCIMENTO'].astype(str)\n",
        ")"
      ],
      "metadata": {
        "id": "u0ckuGggkd5Q"
      },
      "execution_count": null,
      "outputs": []
    },
    {
      "cell_type": "code",
      "source": [
        "microdados['IES_DATA'] = (\n",
        "    microdados['CO_IES'].astype(str) + \"_\" + microdados['DATA_NASCIMENTO'].astype(str)\n",
        ")"
      ],
      "metadata": {
        "id": "G1lJ_tzrkd5Q"
      },
      "execution_count": null,
      "outputs": []
    },
    {
      "cell_type": "code",
      "source": [
        "microdados['IES_DATA_MUNICIPIO'] = (\n",
        "    microdados['IES_DATA'].astype(str) + \"_\" + microdados['CO_MUNICIPIO_NASCIMENTO'].astype(str)\n",
        ")"
      ],
      "metadata": {
        "id": "dBy5qelzkd5R"
      },
      "execution_count": null,
      "outputs": []
    },
    {
      "cell_type": "code",
      "source": [
        "microdados['IES_DATA_MUNICIPIO_RACA'] = (\n",
        "    microdados['IES_DATA_MUNICIPIO'].astype(str) + \"_\" + microdados['TP_COR_RACA'].astype(str)\n",
        ")"
      ],
      "metadata": {
        "id": "lL87I5Epkd5R"
      },
      "execution_count": null,
      "outputs": []
    },
    {
      "cell_type": "markdown",
      "source": [
        "##### TP_CATEGORIA_ADMINISTRATIVA"
      ],
      "metadata": {
        "id": "En2bQ9QDkzOf"
      }
    },
    {
      "cell_type": "code",
      "source": [
        "microdados['CATEGORIA_MUNICIPIO'] = (\n",
        "    microdados['TP_CATEGORIA_ADMINISTRATIVA'].astype(str) + \"_\" + microdados['CO_MUNICIPIO_NASCIMENTO'].astype(str)\n",
        ")"
      ],
      "metadata": {
        "id": "bZSgPKrMkzOg"
      },
      "execution_count": null,
      "outputs": []
    },
    {
      "cell_type": "code",
      "source": [
        "microdados['CATEGORIA_ANO'] = (\n",
        "    microdados['TP_CATEGORIA_ADMINISTRATIVA'].astype(str) + \"_\" + microdados['NU_ANO_NASCIMENTO'].astype(str)\n",
        ")"
      ],
      "metadata": {
        "id": "IdPiJww5kzOh"
      },
      "execution_count": null,
      "outputs": []
    },
    {
      "cell_type": "code",
      "source": [
        "microdados['CATEGORIA_DIA'] = (\n",
        "    microdados['TP_CATEGORIA_ADMINISTRATIVA'].astype(str) + \"_\" + microdados['NU_DIA_NASCIMENTO'].astype(str)\n",
        ")"
      ],
      "metadata": {
        "id": "_umu3-LU4Xwr"
      },
      "execution_count": null,
      "outputs": []
    },
    {
      "cell_type": "code",
      "source": [
        "microdados['CATEGORIA_ANO_DIA'] = (\n",
        "    microdados['CATEGORIA_ANO'].astype(str) + \"_\" + microdados['NU_DIA_NASCIMENTO'].astype(str)\n",
        ")"
      ],
      "metadata": {
        "id": "3EV627GQkzOi"
      },
      "execution_count": null,
      "outputs": []
    },
    {
      "cell_type": "code",
      "source": [
        "microdados['CATEGORIA_DATA'] = (\n",
        "    microdados['TP_CATEGORIA_ADMINISTRATIVA'].astype(str) + \"_\" + microdados['DATA_NASCIMENTO'].astype(str)\n",
        ")"
      ],
      "metadata": {
        "id": "P9_xbgOUkzOi"
      },
      "execution_count": null,
      "outputs": []
    },
    {
      "cell_type": "code",
      "source": [
        "microdados['CATEGORIA_DATA_MUNICIPIO'] = (\n",
        "    microdados['CATEGORIA_DATA'].astype(str) + \"_\" + microdados['CO_MUNICIPIO_NASCIMENTO'].astype(str)\n",
        ")"
      ],
      "metadata": {
        "id": "j2T-EXpqkzOi"
      },
      "execution_count": null,
      "outputs": []
    },
    {
      "cell_type": "code",
      "source": [
        "microdados['CATEGORIA_DATA_MUNICIPIO_RACA'] = (\n",
        "    microdados['CATEGORIA_DATA_MUNICIPIO'].astype(str) + \"_\" + microdados['TP_COR_RACA'].astype(str)\n",
        ")"
      ],
      "metadata": {
        "id": "0YhhLlczkzOi"
      },
      "execution_count": null,
      "outputs": []
    },
    {
      "cell_type": "markdown",
      "source": [
        "### Experimento 5 - WoE e IV"
      ],
      "metadata": {
        "id": "5OYPWbY_85ZS"
      }
    },
    {
      "cell_type": "code",
      "source": [
        "def woe_iv_simples(dados, var_categorica, target_binario):\n",
        "    \"\"\"\n",
        "    Calcula WoE e IV para uma variável categórica usando OptimalBinning.\n",
        "\n",
        "    Parâmetros:\n",
        "        dados (DataFrame): Base de dados contendo as variáveis.\n",
        "        var_categorica (str): Nome da variável categórica a ser analisada.\n",
        "        target_binario (str): Nome da variável alvo binária (0/1).\n",
        "\n",
        "    Retorna:\n",
        "        df_table (DataFrame): Tabela com bins, WoE, IV, event rate, etc.\n",
        "        total_iv (float): Valor total do IV da variável.\n",
        "    \"\"\"\n",
        "\n",
        "    X = dados[[var_categorica]].astype(str)\n",
        "    y = dados[target_binario]\n",
        "\n",
        "    optb = OptimalBinning(name=var_categorica, dtype=\"categorical\")\n",
        "    optb.fit(X[var_categorica].values, y.values)\n",
        "\n",
        "    table = optb.binning_table.build()\n",
        "\n",
        "    df_table = pd.DataFrame({\n",
        "        \"Bin\": table[\"Bin\"],\n",
        "        \"Count\": table[\"Count\"],\n",
        "        \"Event Rate\": table[\"Event rate\"],\n",
        "        \"WoE\": table[\"WoE\"],\n",
        "        \"IV\": table[\"IV\"],\n",
        "        \"Count (%)\": table[\"Count (%)\"]\n",
        "    }).round({\"Event Rate\": 3, \"WoE\": 3, \"IV\": 4, \"Count (%)\": 2})\n",
        "\n",
        "    # Filtrar bins válidos (exclui Missing, Special e Total)\n",
        "    df_bins = df_table[\n",
        "        ~df_table[\"Bin\"].isin([\"Missing\", \"Special\"]) &\n",
        "        (df_table[\"Count (%)\"] < 1.0)  # Evita a linha de total (100%)\n",
        "    ]\n",
        "\n",
        "    # Calcular IV apenas dos bins válidos\n",
        "    total_iv = round(df_bins[\"IV\"].sum(), 4)\n",
        "\n",
        "    print(f\"📊 Variable: {var_categorica}\\n\")\n",
        "    print(df_table.to_string(index=False), \"\\n\")\n",
        "    print(f\"🔎 Total IV: {total_iv}\")\n",
        "\n",
        "    return"
      ],
      "metadata": {
        "id": "9DqyGYjjsfOw"
      },
      "execution_count": null,
      "outputs": []
    },
    {
      "cell_type": "code",
      "source": [
        "def woe_iv_combinacoes_grandes(dados, variaveis, target_binario, max_unique=300, show_rows=10, sample_frac=0.5):\n",
        "\n",
        "    # Reduz volume com amostragem estratificada\n",
        "    dados_sample, _ = train_test_split(dados, train_size=sample_frac, stratify=dados[target_binario], random_state=42)\n",
        "\n",
        "    X = dados_sample[variaveis].astype(str)\n",
        "    y = dados_sample[target_binario]\n",
        "\n",
        "    nome_nova_var = \"_\".join(variaveis)\n",
        "    X[nome_nova_var] = X[variaveis[0]]\n",
        "\n",
        "    for var in variaveis[1:]:\n",
        "      X[nome_nova_var] = np.char.add(np.char.add(X[nome_nova_var].values, \"_\"), X[var].values)\n",
        "\n",
        "    binning_process = BinningProcess(variable_names=[nome_nova_var])\n",
        "    binning_process.fit(X[[nome_nova_var]], y)\n",
        "\n",
        "    binned_var = binning_process.get_binned_variable(nome_nova_var)\n",
        "    table = binned_var.binning_table.build()\n",
        "\n",
        "    df_table = pd.DataFrame({\n",
        "        \"Bin\": table[\"Bin\"],\n",
        "        \"Count\": table[\"Count\"],\n",
        "        \"Event Rate\": table[\"Event rate\"],\n",
        "        \"WoE\": table[\"WoE\"],\n",
        "        \"IV\": table[\"IV\"],\n",
        "        \"Count (%)\": table[\"Count (%)\"]\n",
        "    }).round({\"Event Rate\": 3, \"WoE\": 3, \"IV\": 4, \"Count (%)\": 2})\n",
        "\n",
        "    # Filtrar bins válidos (exclui Missing, Special e Total)\n",
        "    df_bins = df_table[\n",
        "        ~df_table[\"Bin\"].isin([\"Missing\", \"Special\"]) &\n",
        "        (df_table[\"Count (%)\"] < 1.0)  # Evita a linha de total (100%)\n",
        "    ]\n",
        "\n",
        "    # Calcular IV apenas dos bins válidos\n",
        "    total_iv = round(df_bins[\"IV\"].sum(), 4)\n",
        "\n",
        "    print(f\"📊 Variable: {' + '.join(variaveis)}\")\n",
        "    print(df_table.head(show_rows).to_string(index=False), \"\\n\")\n",
        "    print(f\"🔎 Total IV: {total_iv}\\n\")\n",
        "\n",
        "    return"
      ],
      "metadata": {
        "id": "DqsJweDtqTQB"
      },
      "execution_count": null,
      "outputs": []
    },
    {
      "cell_type": "markdown",
      "source": [
        "#### Atributo Sensível [IN_FINANCIAMENTO_ESTUDANTIL_BINARIO]"
      ],
      "metadata": {
        "id": "jYIiydwsuB5J"
      }
    },
    {
      "cell_type": "markdown",
      "source": [
        "##### 1º Abordagem"
      ],
      "metadata": {
        "id": "0ocD_ZYN_7Q4"
      }
    },
    {
      "cell_type": "markdown",
      "source": [
        "###### CO_CURSO"
      ],
      "metadata": {
        "id": "OgHMQ0sG97-k"
      }
    },
    {
      "cell_type": "code",
      "source": [
        "woe_iv_simples(microdados, 'CO_CURSO', 'IN_FINANCIAMENTO_ESTUDANTIL_BINARIO')"
      ],
      "metadata": {
        "id": "bmJxQYji97-l"
      },
      "execution_count": null,
      "outputs": []
    },
    {
      "cell_type": "code",
      "source": [
        "woe_iv_simples(microdados, 'CURSO_MUNICIPIO', 'IN_FINANCIAMENTO_ESTUDANTIL_BINARIO')"
      ],
      "metadata": {
        "id": "yfU7-U5w97-n"
      },
      "execution_count": null,
      "outputs": []
    },
    {
      "cell_type": "code",
      "source": [
        "woe_iv_simples(microdados, 'CURSO_ANO', 'IN_FINANCIAMENTO_ESTUDANTIL_BINARIO')"
      ],
      "metadata": {
        "id": "5J0V2wj-uB5K"
      },
      "execution_count": null,
      "outputs": []
    },
    {
      "cell_type": "code",
      "source": [
        "woe_iv_simples(microdados, 'CURSO_ANO_DIA', 'IN_FINANCIAMENTO_ESTUDANTIL_BINARIO')"
      ],
      "metadata": {
        "id": "hrHWq8sN97-o"
      },
      "execution_count": null,
      "outputs": []
    },
    {
      "cell_type": "code",
      "source": [
        "woe_iv_simples(microdados, 'CURSO_DATA', 'IN_FINANCIAMENTO_ESTUDANTIL_BINARIO')"
      ],
      "metadata": {
        "id": "D4wpaPhZ97-o"
      },
      "execution_count": null,
      "outputs": []
    },
    {
      "cell_type": "code",
      "source": [
        "woe_iv_simples(microdados, 'CURSO_DATA_MUNICIPIO', 'IN_FINANCIAMENTO_ESTUDANTIL_BINARIO')"
      ],
      "metadata": {
        "id": "6zB66o6797-o"
      },
      "execution_count": null,
      "outputs": []
    },
    {
      "cell_type": "code",
      "source": [
        "woe_iv_simples(microdados, 'CURSO_DATA_MUNICIPIO_RACA', 'IN_FINANCIAMENTO_ESTUDANTIL_BINARIO')"
      ],
      "metadata": {
        "id": "w3qepEEq97-o"
      },
      "execution_count": null,
      "outputs": []
    },
    {
      "cell_type": "code",
      "source": [
        "# amostragem 50% dos dados\n",
        "woe_iv_combinacoes_grandes(microdados, ['NU_DIA_NASCIMENTO', 'NU_MES_NASCIMENTO', 'NU_ANO_NASCIMENTO', 'TP_SEXO', 'TP_COR_RACA', 'CO_MUNICIPIO_NASCIMENTO', 'CO_CURSO'], 'IN_FINANCIAMENTO_ESTUDANTIL_BINARIO')"
      ],
      "metadata": {
        "id": "RmF3w9dd97-p"
      },
      "execution_count": null,
      "outputs": []
    },
    {
      "cell_type": "code",
      "source": [
        "# amostragem - 50% dos dados\n",
        "woe_iv_combinacoes_grandes(microdados, ['NU_DIA_NASCIMENTO', 'NU_MES_NASCIMENTO', 'NU_ANO_NASCIMENTO', 'TP_SEXO', 'TP_COR_RACA', 'CO_MUNICIPIO_NASCIMENTO', 'CO_CURSO', 'TP_ESCOLA_CONCLUSAO_ENS_MEDIO'], 'IN_FINANCIAMENTO_ESTUDANTIL_BINARIO')"
      ],
      "metadata": {
        "id": "7qwbUFeK97-p"
      },
      "execution_count": null,
      "outputs": []
    },
    {
      "cell_type": "code",
      "source": [
        "# amostragem - 50% dos dados\n",
        "woe_iv_combinacoes_grandes(microdados, ['NU_DIA_NASCIMENTO', 'NU_MES_NASCIMENTO', 'NU_ANO_NASCIMENTO', 'TP_SEXO', 'TP_COR_RACA', 'CO_MUNICIPIO_NASCIMENTO', 'TP_NACIONALIDADE', 'CO_CURSO', 'TP_ESCOLA_CONCLUSAO_ENS_MEDIO'], 'IN_FINANCIAMENTO_ESTUDANTIL_BINARIO')"
      ],
      "metadata": {
        "id": "q-NBs9sK97-p"
      },
      "execution_count": null,
      "outputs": []
    },
    {
      "cell_type": "code",
      "source": [
        "# amostragem - 50% dos dados\n",
        "woe_iv_combinacoes_grandes(microdados, ['NU_DIA_NASCIMENTO', 'NU_MES_NASCIMENTO', 'NU_ANO_NASCIMENTO', 'TP_SEXO', 'TP_COR_RACA', 'CO_MUNICIPIO_NASCIMENTO', 'TP_NACIONALIDADE', 'CO_PAIS_ORIGEM', 'CO_CURSO', 'TP_ESCOLA_CONCLUSAO_ENS_MEDIO'], 'IN_FINANCIAMENTO_ESTUDANTIL_BINARIO')"
      ],
      "metadata": {
        "id": "UUBrXpyE97-p"
      },
      "execution_count": null,
      "outputs": []
    },
    {
      "cell_type": "code",
      "source": [
        "# amostragem - 50% dos dados\n",
        "woe_iv_combinacoes_grandes(microdados, ['NU_DIA_NASCIMENTO', 'NU_MES_NASCIMENTO', 'NU_ANO_NASCIMENTO', 'TP_SEXO', 'TP_COR_RACA', 'CO_MUNICIPIO_NASCIMENTO', 'TP_NACIONALIDADE', 'CO_IES', 'CO_CURSO', 'TP_ESCOLA_CONCLUSAO_ENS_MEDIO'], 'IN_FINANCIAMENTO_ESTUDANTIL_BINARIO')"
      ],
      "metadata": {
        "id": "GnA3IVOP97-q"
      },
      "execution_count": null,
      "outputs": []
    },
    {
      "cell_type": "code",
      "source": [
        "# amostragem - 50% dos dados\n",
        "woe_iv_combinacoes_grandes(microdados, ['NU_DIA_NASCIMENTO', 'NU_MES_NASCIMENTO', 'NU_ANO_NASCIMENTO', 'TP_SEXO', 'TP_COR_RACA', 'CO_MUNICIPIO_NASCIMENTO', 'TP_NACIONALIDADE', 'CO_PAIS_ORIGEM', 'CO_IES', 'CO_CURSO', 'TP_ESCOLA_CONCLUSAO_ENS_MEDIO'], 'IN_FINANCIAMENTO_ESTUDANTIL_BINARIO')"
      ],
      "metadata": {
        "id": "CydrMglw97-q"
      },
      "execution_count": null,
      "outputs": []
    },
    {
      "cell_type": "markdown",
      "source": [
        "##### 2º Abordagem"
      ],
      "metadata": {
        "id": "tBY-NuDJAFCg"
      }
    },
    {
      "cell_type": "markdown",
      "source": [
        "###### CO_CINE_AREA_GERAL"
      ],
      "metadata": {
        "id": "5SaHpdg1hx5k"
      }
    },
    {
      "cell_type": "code",
      "source": [
        "woe_iv_simples(microdados, 'CO_CINE_AREA_GERAL', 'IN_FINANCIAMENTO_ESTUDANTIL_BINARIO')"
      ],
      "metadata": {
        "id": "gO8VkXxduB5J"
      },
      "execution_count": null,
      "outputs": []
    },
    {
      "cell_type": "code",
      "source": [
        "woe_iv_simples(microdados, 'CINE_MUNICIPIO', 'IN_FINANCIAMENTO_ESTUDANTIL_BINARIO')"
      ],
      "metadata": {
        "id": "DJZs7sDfuB5J"
      },
      "execution_count": null,
      "outputs": []
    },
    {
      "cell_type": "code",
      "source": [
        "woe_iv_simples(microdados, 'CINE_ANO_DIA', 'IN_FINANCIAMENTO_ESTUDANTIL_BINARIO')"
      ],
      "metadata": {
        "id": "r3H7TIiEH6mO"
      },
      "execution_count": null,
      "outputs": []
    },
    {
      "cell_type": "code",
      "source": [
        "woe_iv_simples(microdados, 'CINE_DATA', 'IN_FINANCIAMENTO_ESTUDANTIL_BINARIO')"
      ],
      "metadata": {
        "id": "k0QJdjSZuB5K"
      },
      "execution_count": null,
      "outputs": []
    },
    {
      "cell_type": "code",
      "source": [
        "woe_iv_simples(microdados, 'CINE_DATA_MUNICIPIO', 'IN_FINANCIAMENTO_ESTUDANTIL_BINARIO')"
      ],
      "metadata": {
        "id": "RiGIJjICuB5K"
      },
      "execution_count": null,
      "outputs": []
    },
    {
      "cell_type": "code",
      "source": [
        "woe_iv_simples(microdados, 'CINE_DATA_MUNICIPIO_RACA', 'IN_FINANCIAMENTO_ESTUDANTIL_BINARIO')"
      ],
      "metadata": {
        "id": "_395H70UuB5K"
      },
      "execution_count": null,
      "outputs": []
    },
    {
      "cell_type": "code",
      "source": [
        "# amostragem 50% dos dados\n",
        "woe_iv_combinacoes_grandes(microdados, ['NU_DIA_NASCIMENTO', 'NU_MES_NASCIMENTO', 'NU_ANO_NASCIMENTO', 'TP_SEXO', 'TP_COR_RACA', 'CO_MUNICIPIO_NASCIMENTO', 'CO_CINE_AREA_GERAL'], 'IN_FINANCIAMENTO_ESTUDANTIL_BINARIO')"
      ],
      "metadata": {
        "id": "5ypCdnh_uB5K"
      },
      "execution_count": null,
      "outputs": []
    },
    {
      "cell_type": "code",
      "source": [
        "# amostragem - 50% dos dados\n",
        "woe_iv_combinacoes_grandes(microdados, ['NU_DIA_NASCIMENTO', 'NU_MES_NASCIMENTO', 'NU_ANO_NASCIMENTO', 'TP_SEXO', 'TP_COR_RACA', 'CO_MUNICIPIO_NASCIMENTO', 'CO_CINE_AREA_GERAL', 'TP_ESCOLA_CONCLUSAO_ENS_MEDIO'], 'IN_FINANCIAMENTO_ESTUDANTIL_BINARIO')"
      ],
      "metadata": {
        "id": "-5iy_13euB5K"
      },
      "execution_count": null,
      "outputs": []
    },
    {
      "cell_type": "code",
      "source": [
        "# amostragem - 50% dos dados\n",
        "woe_iv_combinacoes_grandes(microdados, ['NU_DIA_NASCIMENTO', 'NU_MES_NASCIMENTO', 'NU_ANO_NASCIMENTO', 'TP_SEXO', 'TP_COR_RACA', 'CO_MUNICIPIO_NASCIMENTO', 'TP_NACIONALIDADE', 'CO_CINE_AREA_GERAL', 'TP_ESCOLA_CONCLUSAO_ENS_MEDIO'], 'IN_FINANCIAMENTO_ESTUDANTIL_BINARIO')"
      ],
      "metadata": {
        "id": "JlhzCEOHuB5K"
      },
      "execution_count": null,
      "outputs": []
    },
    {
      "cell_type": "code",
      "source": [
        "# amostragem - 50% dos dados\n",
        "woe_iv_combinacoes_grandes(microdados, ['NU_DIA_NASCIMENTO', 'NU_MES_NASCIMENTO', 'NU_ANO_NASCIMENTO', 'TP_SEXO', 'TP_COR_RACA', 'CO_MUNICIPIO_NASCIMENTO', 'TP_NACIONALIDADE', 'CO_PAIS_ORIGEM', 'CO_CINE_AREA_GERAL', 'TP_ESCOLA_CONCLUSAO_ENS_MEDIO'], 'IN_FINANCIAMENTO_ESTUDANTIL_BINARIO')"
      ],
      "metadata": {
        "id": "SqypFjCVuB5K"
      },
      "execution_count": null,
      "outputs": []
    },
    {
      "cell_type": "code",
      "source": [
        "# amostragem - 50% dos dados\n",
        "woe_iv_combinacoes_grandes(microdados, ['NU_DIA_NASCIMENTO', 'NU_MES_NASCIMENTO', 'NU_ANO_NASCIMENTO', 'TP_SEXO', 'TP_COR_RACA', 'CO_MUNICIPIO_NASCIMENTO', 'TP_NACIONALIDADE', 'CO_IES', 'CO_CINE_AREA_GERAL', 'TP_ESCOLA_CONCLUSAO_ENS_MEDIO'], 'IN_FINANCIAMENTO_ESTUDANTIL_BINARIO')"
      ],
      "metadata": {
        "id": "fHon27omuB5K"
      },
      "execution_count": null,
      "outputs": []
    },
    {
      "cell_type": "code",
      "source": [
        "# amostragem - 50% dos dados\n",
        "woe_iv_combinacoes_grandes(microdados, ['NU_DIA_NASCIMENTO', 'NU_MES_NASCIMENTO', 'NU_ANO_NASCIMENTO', 'TP_SEXO', 'TP_COR_RACA', 'CO_MUNICIPIO_NASCIMENTO', 'TP_NACIONALIDADE', 'CO_PAIS_ORIGEM', 'CO_IES', 'CO_CINE_AREA_GERAL', 'TP_ESCOLA_CONCLUSAO_ENS_MEDIO'], 'IN_FINANCIAMENTO_ESTUDANTIL_BINARIO')"
      ],
      "metadata": {
        "id": "C4O12mJ2uB5K"
      },
      "execution_count": null,
      "outputs": []
    },
    {
      "cell_type": "markdown",
      "source": [
        "###### CO_MUNICIPIO"
      ],
      "metadata": {
        "id": "HVnGdkoKlU6c"
      }
    },
    {
      "cell_type": "code",
      "source": [
        "woe_iv_simples(microdados, 'CO_MUNICIPIO', 'IN_FINANCIAMENTO_ESTUDANTIL_BINARIO')"
      ],
      "metadata": {
        "id": "HlZfy5MAlU6d"
      },
      "execution_count": null,
      "outputs": []
    },
    {
      "cell_type": "code",
      "source": [
        "woe_iv_simples(microdados, 'CO_MUNICIPIO_MUNICIPIO', 'IN_FINANCIAMENTO_ESTUDANTIL_BINARIO')"
      ],
      "metadata": {
        "id": "Or7ecBXelU6d"
      },
      "execution_count": null,
      "outputs": []
    },
    {
      "cell_type": "code",
      "source": [
        "woe_iv_simples(microdados, 'CO_MUNICIPIO_ANO_DIA', 'IN_FINANCIAMENTO_ESTUDANTIL_BINARIO')"
      ],
      "metadata": {
        "id": "iWJ3tE5llU6d"
      },
      "execution_count": null,
      "outputs": []
    },
    {
      "cell_type": "code",
      "source": [
        "woe_iv_simples(microdados, 'CO_MUNICIPIO_DATA', 'IN_FINANCIAMENTO_ESTUDANTIL_BINARIO')"
      ],
      "metadata": {
        "id": "RuLo3VP1lU6d"
      },
      "execution_count": null,
      "outputs": []
    },
    {
      "cell_type": "code",
      "source": [
        "woe_iv_simples(microdados, 'CO_MUNICIPIO_DATA_MUNICIPIO', 'IN_FINANCIAMENTO_ESTUDANTIL_BINARIO')"
      ],
      "metadata": {
        "id": "1iH3Fw21lU6d"
      },
      "execution_count": null,
      "outputs": []
    },
    {
      "cell_type": "code",
      "source": [
        "woe_iv_simples(microdados, 'CO_MUNICIPIO_DATA_MUNICIPIO_RACA', 'IN_FINANCIAMENTO_ESTUDANTIL_BINARIO')"
      ],
      "metadata": {
        "id": "vX2HVv6WlU6d"
      },
      "execution_count": null,
      "outputs": []
    },
    {
      "cell_type": "code",
      "source": [
        "# amostragem 50% dos dados\n",
        "woe_iv_combinacoes_grandes(microdados, ['NU_DIA_NASCIMENTO', 'NU_MES_NASCIMENTO', 'NU_ANO_NASCIMENTO', 'TP_SEXO', 'TP_COR_RACA', 'CO_MUNICIPIO_NASCIMENTO', 'CO_MUNICIPIO'], 'IN_FINANCIAMENTO_ESTUDANTIL_BINARIO')"
      ],
      "metadata": {
        "id": "_aeaHuYqlU6d"
      },
      "execution_count": null,
      "outputs": []
    },
    {
      "cell_type": "code",
      "source": [
        "# amostragem - 50% dos dados\n",
        "woe_iv_combinacoes_grandes(microdados, ['NU_DIA_NASCIMENTO', 'NU_MES_NASCIMENTO', 'NU_ANO_NASCIMENTO', 'TP_SEXO', 'TP_COR_RACA', 'CO_MUNICIPIO_NASCIMENTO', 'CO_MUNICIPIO', 'TP_ESCOLA_CONCLUSAO_ENS_MEDIO'], 'IN_FINANCIAMENTO_ESTUDANTIL_BINARIO')"
      ],
      "metadata": {
        "id": "SZp6dVbdlU6e"
      },
      "execution_count": null,
      "outputs": []
    },
    {
      "cell_type": "code",
      "source": [
        "# amostragem - 50% dos dados\n",
        "woe_iv_combinacoes_grandes(microdados, ['NU_DIA_NASCIMENTO', 'NU_MES_NASCIMENTO', 'NU_ANO_NASCIMENTO', 'TP_SEXO', 'TP_COR_RACA', 'CO_MUNICIPIO_NASCIMENTO', 'TP_NACIONALIDADE', 'CO_MUNICIPIO', 'TP_ESCOLA_CONCLUSAO_ENS_MEDIO'], 'IN_FINANCIAMENTO_ESTUDANTIL_BINARIO')"
      ],
      "metadata": {
        "id": "VMOaNtBllU6e"
      },
      "execution_count": null,
      "outputs": []
    },
    {
      "cell_type": "code",
      "source": [
        "# amostragem - 50% dos dados\n",
        "woe_iv_combinacoes_grandes(microdados, ['NU_DIA_NASCIMENTO', 'NU_MES_NASCIMENTO', 'NU_ANO_NASCIMENTO', 'TP_SEXO', 'TP_COR_RACA', 'CO_MUNICIPIO_NASCIMENTO', 'TP_NACIONALIDADE', 'CO_PAIS_ORIGEM', 'CO_MUNICIPIO', 'TP_ESCOLA_CONCLUSAO_ENS_MEDIO'], 'IN_FINANCIAMENTO_ESTUDANTIL_BINARIO')"
      ],
      "metadata": {
        "id": "n5clAe0VlU6e"
      },
      "execution_count": null,
      "outputs": []
    },
    {
      "cell_type": "code",
      "source": [
        "# amostragem - 50% dos dados\n",
        "woe_iv_combinacoes_grandes(microdados, ['NU_DIA_NASCIMENTO', 'NU_MES_NASCIMENTO', 'NU_ANO_NASCIMENTO', 'TP_SEXO', 'TP_COR_RACA', 'CO_MUNICIPIO_NASCIMENTO', 'TP_NACIONALIDADE', 'CO_IES', 'CO_MUNICIPIO', 'TP_ESCOLA_CONCLUSAO_ENS_MEDIO'], 'IN_FINANCIAMENTO_ESTUDANTIL_BINARIO')"
      ],
      "metadata": {
        "id": "IiaOEk57lU6e"
      },
      "execution_count": null,
      "outputs": []
    },
    {
      "cell_type": "code",
      "source": [
        "# amostragem - 50% dos dados\n",
        "woe_iv_combinacoes_grandes(microdados, ['NU_DIA_NASCIMENTO', 'NU_MES_NASCIMENTO', 'NU_ANO_NASCIMENTO', 'TP_SEXO', 'TP_COR_RACA', 'CO_MUNICIPIO_NASCIMENTO', 'TP_NACIONALIDADE', 'CO_PAIS_ORIGEM', 'CO_IES', 'CO_MUNICIPIO', 'TP_ESCOLA_CONCLUSAO_ENS_MEDIO'], 'IN_FINANCIAMENTO_ESTUDANTIL_BINARIO')"
      ],
      "metadata": {
        "id": "g57BwkuglU6e"
      },
      "execution_count": null,
      "outputs": []
    },
    {
      "cell_type": "markdown",
      "source": [
        "###### CO_UF"
      ],
      "metadata": {
        "id": "uuSdVBsTmNci"
      }
    },
    {
      "cell_type": "code",
      "source": [
        "woe_iv_simples(microdados, 'CO_UF', 'IN_FINANCIAMENTO_ESTUDANTIL_BINARIO')"
      ],
      "metadata": {
        "id": "QCJeOHdfmNci"
      },
      "execution_count": null,
      "outputs": []
    },
    {
      "cell_type": "code",
      "source": [
        "woe_iv_simples(microdados, 'UF_MUNICIPIO', 'IN_FINANCIAMENTO_ESTUDANTIL_BINARIO')"
      ],
      "metadata": {
        "id": "2GD-9-R1mNci"
      },
      "execution_count": null,
      "outputs": []
    },
    {
      "cell_type": "code",
      "source": [
        "woe_iv_simples(microdados, 'UF_ANO_DIA', 'IN_FINANCIAMENTO_ESTUDANTIL_BINARIO')"
      ],
      "metadata": {
        "id": "cTvlHb8XmNci"
      },
      "execution_count": null,
      "outputs": []
    },
    {
      "cell_type": "code",
      "source": [
        "woe_iv_simples(microdados, 'UF_DATA', 'IN_FINANCIAMENTO_ESTUDANTIL_BINARIO')"
      ],
      "metadata": {
        "id": "FXm9HKS8mNcj"
      },
      "execution_count": null,
      "outputs": []
    },
    {
      "cell_type": "code",
      "source": [
        "woe_iv_simples(microdados, 'UF_DATA_MUNICIPIO', 'IN_FINANCIAMENTO_ESTUDANTIL_BINARIO')"
      ],
      "metadata": {
        "id": "6ZnKpF-_mNcj"
      },
      "execution_count": null,
      "outputs": []
    },
    {
      "cell_type": "code",
      "source": [
        "woe_iv_simples(microdados, 'UF_DATA_MUNICIPIO_RACA', 'IN_FINANCIAMENTO_ESTUDANTIL_BINARIO')"
      ],
      "metadata": {
        "id": "aVCp-UyimNcj"
      },
      "execution_count": null,
      "outputs": []
    },
    {
      "cell_type": "code",
      "source": [
        "# amostragem 50% dos dados\n",
        "woe_iv_combinacoes_grandes(microdados, ['NU_DIA_NASCIMENTO', 'NU_MES_NASCIMENTO', 'NU_ANO_NASCIMENTO', 'TP_SEXO', 'TP_COR_RACA', 'CO_MUNICIPIO_NASCIMENTO', 'CO_UF'], 'IN_FINANCIAMENTO_ESTUDANTIL_BINARIO')"
      ],
      "metadata": {
        "id": "CpZKTJ-smNcj"
      },
      "execution_count": null,
      "outputs": []
    },
    {
      "cell_type": "code",
      "source": [
        "# amostragem - 50% dos dados\n",
        "woe_iv_combinacoes_grandes(microdados, ['NU_DIA_NASCIMENTO', 'NU_MES_NASCIMENTO', 'NU_ANO_NASCIMENTO', 'TP_SEXO', 'TP_COR_RACA', 'CO_MUNICIPIO_NASCIMENTO', 'CO_UF', 'TP_ESCOLA_CONCLUSAO_ENS_MEDIO'], 'IN_FINANCIAMENTO_ESTUDANTIL_BINARIO')"
      ],
      "metadata": {
        "id": "x4YYKfN6mNcj"
      },
      "execution_count": null,
      "outputs": []
    },
    {
      "cell_type": "code",
      "source": [
        "# amostragem - 50% dos dados\n",
        "woe_iv_combinacoes_grandes(microdados, ['NU_DIA_NASCIMENTO', 'NU_MES_NASCIMENTO', 'NU_ANO_NASCIMENTO', 'TP_SEXO', 'TP_COR_RACA', 'CO_MUNICIPIO_NASCIMENTO', 'TP_NACIONALIDADE', 'CO_UF', 'TP_ESCOLA_CONCLUSAO_ENS_MEDIO'], 'IN_FINANCIAMENTO_ESTUDANTIL_BINARIO')"
      ],
      "metadata": {
        "id": "UJWqyv1dmNcj"
      },
      "execution_count": null,
      "outputs": []
    },
    {
      "cell_type": "code",
      "source": [
        "# amostragem - 50% dos dados\n",
        "woe_iv_combinacoes_grandes(microdados, ['NU_DIA_NASCIMENTO', 'NU_MES_NASCIMENTO', 'NU_ANO_NASCIMENTO', 'TP_SEXO', 'TP_COR_RACA', 'CO_MUNICIPIO_NASCIMENTO', 'TP_NACIONALIDADE', 'CO_PAIS_ORIGEM', 'CO_UF', 'TP_ESCOLA_CONCLUSAO_ENS_MEDIO'], 'IN_FINANCIAMENTO_ESTUDANTIL_BINARIO')"
      ],
      "metadata": {
        "id": "cnryjrNrmNcj"
      },
      "execution_count": null,
      "outputs": []
    },
    {
      "cell_type": "code",
      "source": [
        "# amostragem - 50% dos dados\n",
        "woe_iv_combinacoes_grandes(microdados, ['NU_DIA_NASCIMENTO', 'NU_MES_NASCIMENTO', 'NU_ANO_NASCIMENTO', 'TP_SEXO', 'TP_COR_RACA', 'CO_MUNICIPIO_NASCIMENTO', 'TP_NACIONALIDADE', 'CO_IES', 'CO_UF', 'TP_ESCOLA_CONCLUSAO_ENS_MEDIO'], 'IN_FINANCIAMENTO_ESTUDANTIL_BINARIO')"
      ],
      "metadata": {
        "id": "L3neApZEmNcj"
      },
      "execution_count": null,
      "outputs": []
    },
    {
      "cell_type": "code",
      "source": [
        "# amostragem - 50% dos dados\n",
        "woe_iv_combinacoes_grandes(microdados, ['NU_DIA_NASCIMENTO', 'NU_MES_NASCIMENTO', 'NU_ANO_NASCIMENTO', 'TP_SEXO', 'TP_COR_RACA', 'CO_MUNICIPIO_NASCIMENTO', 'TP_NACIONALIDADE', 'CO_PAIS_ORIGEM', 'CO_IES', 'CO_UF', 'TP_ESCOLA_CONCLUSAO_ENS_MEDIO'], 'IN_FINANCIAMENTO_ESTUDANTIL_BINARIO')"
      ],
      "metadata": {
        "id": "HgUkMndTmNcj"
      },
      "execution_count": null,
      "outputs": []
    },
    {
      "cell_type": "markdown",
      "source": [
        "###### CO_IES"
      ],
      "metadata": {
        "id": "a-op7XA9m9fw"
      }
    },
    {
      "cell_type": "code",
      "source": [
        "woe_iv_simples(microdados, 'CO_IES', 'IN_FINANCIAMENTO_ESTUDANTIL_BINARIO')"
      ],
      "metadata": {
        "id": "Z5X5HJ4Zm9fx"
      },
      "execution_count": null,
      "outputs": []
    },
    {
      "cell_type": "code",
      "source": [
        "woe_iv_simples(microdados, 'IES_MUNICIPIO', 'IN_FINANCIAMENTO_ESTUDANTIL_BINARIO')"
      ],
      "metadata": {
        "id": "kW9anK5Tm9fx"
      },
      "execution_count": null,
      "outputs": []
    },
    {
      "cell_type": "code",
      "source": [
        "woe_iv_simples(microdados, 'IES_ANO_DIA', 'IN_FINANCIAMENTO_ESTUDANTIL_BINARIO')"
      ],
      "metadata": {
        "id": "TufU2qrJm9fx"
      },
      "execution_count": null,
      "outputs": []
    },
    {
      "cell_type": "code",
      "source": [
        "woe_iv_simples(microdados, 'IES_DATA', 'IN_FINANCIAMENTO_ESTUDANTIL_BINARIO')"
      ],
      "metadata": {
        "id": "K1p8IRw1m9fy"
      },
      "execution_count": null,
      "outputs": []
    },
    {
      "cell_type": "code",
      "source": [
        "woe_iv_simples(microdados, 'IES_DATA_MUNICIPIO', 'IN_FINANCIAMENTO_ESTUDANTIL_BINARIO')"
      ],
      "metadata": {
        "id": "Yfq7S98im9fy"
      },
      "execution_count": null,
      "outputs": []
    },
    {
      "cell_type": "code",
      "source": [
        "woe_iv_simples(microdados, 'IES_DATA_MUNICIPIO_RACA', 'IN_FINANCIAMENTO_ESTUDANTIL_BINARIO')"
      ],
      "metadata": {
        "id": "vSPzEeX9m9fy"
      },
      "execution_count": null,
      "outputs": []
    },
    {
      "cell_type": "code",
      "source": [
        "# amostragem 50% dos dados\n",
        "woe_iv_combinacoes_grandes(microdados, ['NU_DIA_NASCIMENTO', 'NU_MES_NASCIMENTO', 'NU_ANO_NASCIMENTO', 'TP_SEXO', 'TP_COR_RACA', 'CO_MUNICIPIO_NASCIMENTO', 'CO_IES'], 'IN_FINANCIAMENTO_ESTUDANTIL_BINARIO')"
      ],
      "metadata": {
        "id": "79IbP_Ftm9fy"
      },
      "execution_count": null,
      "outputs": []
    },
    {
      "cell_type": "code",
      "source": [
        "# amostragem - 50% dos dados\n",
        "woe_iv_combinacoes_grandes(microdados, ['NU_DIA_NASCIMENTO', 'NU_MES_NASCIMENTO', 'NU_ANO_NASCIMENTO', 'TP_SEXO', 'TP_COR_RACA', 'CO_MUNICIPIO_NASCIMENTO', 'CO_IES', 'TP_ESCOLA_CONCLUSAO_ENS_MEDIO'], 'IN_FINANCIAMENTO_ESTUDANTIL_BINARIO')"
      ],
      "metadata": {
        "id": "MYLXJ848m9fy"
      },
      "execution_count": null,
      "outputs": []
    },
    {
      "cell_type": "code",
      "source": [
        "# amostragem - 50% dos dados\n",
        "woe_iv_combinacoes_grandes(microdados, ['NU_DIA_NASCIMENTO', 'NU_MES_NASCIMENTO', 'NU_ANO_NASCIMENTO', 'TP_SEXO', 'TP_COR_RACA', 'CO_MUNICIPIO_NASCIMENTO', 'TP_NACIONALIDADE', 'CO_IES', 'TP_ESCOLA_CONCLUSAO_ENS_MEDIO'], 'IN_FINANCIAMENTO_ESTUDANTIL_BINARIO')"
      ],
      "metadata": {
        "id": "A38sQ4qGm9fy"
      },
      "execution_count": null,
      "outputs": []
    },
    {
      "cell_type": "code",
      "source": [
        "# amostragem - 50% dos dados\n",
        "woe_iv_combinacoes_grandes(microdados, ['NU_DIA_NASCIMENTO', 'NU_MES_NASCIMENTO', 'NU_ANO_NASCIMENTO', 'TP_SEXO', 'TP_COR_RACA', 'CO_MUNICIPIO_NASCIMENTO', 'TP_NACIONALIDADE', 'CO_PAIS_ORIGEM', 'CO_IES', 'TP_ESCOLA_CONCLUSAO_ENS_MEDIO'], 'IN_FINANCIAMENTO_ESTUDANTIL_BINARIO')"
      ],
      "metadata": {
        "id": "i2zvoHkRm9fz"
      },
      "execution_count": null,
      "outputs": []
    },
    {
      "cell_type": "code",
      "source": [
        "# amostragem - 50% dos dados\n",
        "woe_iv_combinacoes_grandes(microdados, ['NU_DIA_NASCIMENTO', 'NU_MES_NASCIMENTO', 'NU_ANO_NASCIMENTO', 'TP_SEXO', 'TP_COR_RACA', 'CO_MUNICIPIO_NASCIMENTO', 'TP_NACIONALIDADE', 'CO_IES', 'TP_ESCOLA_CONCLUSAO_ENS_MEDIO'], 'IN_FINANCIAMENTO_ESTUDANTIL_BINARIO')"
      ],
      "metadata": {
        "id": "XoJ0lR-Em9fz"
      },
      "execution_count": null,
      "outputs": []
    },
    {
      "cell_type": "code",
      "source": [
        "# amostragem - 50% dos dados\n",
        "woe_iv_combinacoes_grandes(microdados, ['NU_DIA_NASCIMENTO', 'NU_MES_NASCIMENTO', 'NU_ANO_NASCIMENTO', 'TP_SEXO', 'TP_COR_RACA', 'CO_MUNICIPIO_NASCIMENTO', 'TP_NACIONALIDADE', 'CO_PAIS_ORIGEM', 'CO_IES', 'TP_ESCOLA_CONCLUSAO_ENS_MEDIO'], 'IN_FINANCIAMENTO_ESTUDANTIL_BINARIO')"
      ],
      "metadata": {
        "id": "0SlIfkdfm9fz"
      },
      "execution_count": null,
      "outputs": []
    },
    {
      "cell_type": "markdown",
      "source": [
        "###### TP_CATEGORIA_ADMINISTRATIVA"
      ],
      "metadata": {
        "id": "kXbCRAOZnwCj"
      }
    },
    {
      "cell_type": "code",
      "source": [
        "woe_iv_simples(microdados, 'TP_CATEGORIA_ADMINISTRATIVA', 'IN_FINANCIAMENTO_ESTUDANTIL_BINARIO')"
      ],
      "metadata": {
        "id": "0ZT5qj_xnwCk"
      },
      "execution_count": null,
      "outputs": []
    },
    {
      "cell_type": "code",
      "source": [
        "woe_iv_simples(microdados, 'CATEGORIA_MUNICIPIO', 'IN_FINANCIAMENTO_ESTUDANTIL_BINARIO')"
      ],
      "metadata": {
        "id": "G0HM9ehDnwCk"
      },
      "execution_count": null,
      "outputs": []
    },
    {
      "cell_type": "code",
      "source": [
        "woe_iv_simples(microdados, 'CATEGORIA_ANO_DIA', 'IN_FINANCIAMENTO_ESTUDANTIL_BINARIO')"
      ],
      "metadata": {
        "id": "h6EjwaILnwCk"
      },
      "execution_count": null,
      "outputs": []
    },
    {
      "cell_type": "code",
      "source": [
        "woe_iv_simples(microdados, 'CATEGORIA_DATA', 'IN_FINANCIAMENTO_ESTUDANTIL_BINARIO')"
      ],
      "metadata": {
        "id": "vgE-GJG8nwCl"
      },
      "execution_count": null,
      "outputs": []
    },
    {
      "cell_type": "code",
      "source": [
        "woe_iv_simples(microdados, 'CATEGORIA_DATA_MUNICIPIO', 'IN_FINANCIAMENTO_ESTUDANTIL_BINARIO')"
      ],
      "metadata": {
        "id": "vMb7CUAZnwCl"
      },
      "execution_count": null,
      "outputs": []
    },
    {
      "cell_type": "code",
      "source": [
        "woe_iv_simples(microdados, 'CATEGORIA_DATA_MUNICIPIO_RACA', 'IN_FINANCIAMENTO_ESTUDANTIL_BINARIO')"
      ],
      "metadata": {
        "id": "63sAzgq_nwCl"
      },
      "execution_count": null,
      "outputs": []
    },
    {
      "cell_type": "code",
      "source": [
        "# amostragem 50% dos dados\n",
        "woe_iv_combinacoes_grandes(microdados, ['NU_DIA_NASCIMENTO', 'NU_MES_NASCIMENTO', 'NU_ANO_NASCIMENTO', 'TP_SEXO', 'TP_COR_RACA', 'CO_MUNICIPIO_NASCIMENTO', 'TP_CATEGORIA_ADMINISTRATIVA'], 'IN_FINANCIAMENTO_ESTUDANTIL_BINARIO')"
      ],
      "metadata": {
        "id": "_imHPSp9nwCl"
      },
      "execution_count": null,
      "outputs": []
    },
    {
      "cell_type": "code",
      "source": [
        "# amostragem - 50% dos dados\n",
        "woe_iv_combinacoes_grandes(microdados, ['NU_DIA_NASCIMENTO', 'NU_MES_NASCIMENTO', 'NU_ANO_NASCIMENTO', 'TP_SEXO', 'TP_COR_RACA', 'CO_MUNICIPIO_NASCIMENTO', 'TP_CATEGORIA_ADMINISTRATIVA', 'TP_ESCOLA_CONCLUSAO_ENS_MEDIO'], 'IN_FINANCIAMENTO_ESTUDANTIL_BINARIO')"
      ],
      "metadata": {
        "id": "ANpFkCvknwCl"
      },
      "execution_count": null,
      "outputs": []
    },
    {
      "cell_type": "code",
      "source": [
        "# amostragem - 50% dos dados\n",
        "woe_iv_combinacoes_grandes(microdados, ['NU_DIA_NASCIMENTO', 'NU_MES_NASCIMENTO', 'NU_ANO_NASCIMENTO', 'TP_SEXO', 'TP_COR_RACA', 'CO_MUNICIPIO_NASCIMENTO', 'TP_NACIONALIDADE', 'TP_CATEGORIA_ADMINISTRATIVA', 'TP_ESCOLA_CONCLUSAO_ENS_MEDIO'], 'IN_FINANCIAMENTO_ESTUDANTIL_BINARIO')"
      ],
      "metadata": {
        "id": "LOvmZ6eInwCl"
      },
      "execution_count": null,
      "outputs": []
    },
    {
      "cell_type": "code",
      "source": [
        "# amostragem - 50% dos dados\n",
        "woe_iv_combinacoes_grandes(microdados, ['NU_DIA_NASCIMENTO', 'NU_MES_NASCIMENTO', 'NU_ANO_NASCIMENTO', 'TP_SEXO', 'TP_COR_RACA', 'CO_MUNICIPIO_NASCIMENTO', 'TP_NACIONALIDADE', 'CO_PAIS_ORIGEM', 'TP_CATEGORIA_ADMINISTRATIVA', 'TP_ESCOLA_CONCLUSAO_ENS_MEDIO'], 'IN_FINANCIAMENTO_ESTUDANTIL_BINARIO')"
      ],
      "metadata": {
        "id": "DDKox9IunwCl"
      },
      "execution_count": null,
      "outputs": []
    },
    {
      "cell_type": "code",
      "source": [
        "# amostragem - 50% dos dados\n",
        "woe_iv_combinacoes_grandes(microdados, ['NU_DIA_NASCIMENTO', 'NU_MES_NASCIMENTO', 'NU_ANO_NASCIMENTO', 'TP_SEXO', 'TP_COR_RACA', 'CO_MUNICIPIO_NASCIMENTO', 'TP_NACIONALIDADE', 'CO_IES', 'TP_CATEGORIA_ADMINISTRATIVA', 'TP_ESCOLA_CONCLUSAO_ENS_MEDIO'], 'IN_FINANCIAMENTO_ESTUDANTIL_BINARIO')"
      ],
      "metadata": {
        "id": "_iGJRvNPnwCl"
      },
      "execution_count": null,
      "outputs": []
    },
    {
      "cell_type": "code",
      "source": [
        "# amostragem - 50% dos dados\n",
        "woe_iv_combinacoes_grandes(microdados, ['NU_DIA_NASCIMENTO', 'NU_MES_NASCIMENTO', 'NU_ANO_NASCIMENTO', 'TP_SEXO', 'TP_COR_RACA', 'CO_MUNICIPIO_NASCIMENTO', 'TP_NACIONALIDADE', 'CO_PAIS_ORIGEM', 'CO_IES', 'TP_CATEGORIA_ADMINISTRATIVA', 'TP_ESCOLA_CONCLUSAO_ENS_MEDIO'], 'IN_FINANCIAMENTO_ESTUDANTIL_BINARIO')"
      ],
      "metadata": {
        "id": "KFAohWa2nwCm"
      },
      "execution_count": null,
      "outputs": []
    },
    {
      "cell_type": "markdown",
      "source": [
        "#### Atributo Sensível [IN_DEFICIENCIA_BINARIO]"
      ],
      "metadata": {
        "id": "GeTCG1h0k_dl"
      }
    },
    {
      "cell_type": "markdown",
      "source": [
        "##### 1º Abordagem"
      ],
      "metadata": {
        "id": "cXVpTegLAc4A"
      }
    },
    {
      "cell_type": "markdown",
      "source": [
        "###### CO_CURSO"
      ],
      "metadata": {
        "id": "OTcY8rjP97-q"
      }
    },
    {
      "cell_type": "code",
      "source": [
        "woe_iv_simples(microdados, 'CO_CURSO', 'IN_DEFICIENCIA_BINARIO')"
      ],
      "metadata": {
        "id": "JqPq12RUmkHe"
      },
      "execution_count": null,
      "outputs": []
    },
    {
      "cell_type": "code",
      "source": [
        "woe_iv_simples(microdados, 'CURSO_ANO', 'IN_DEFICIENCIA_BINARIO')"
      ],
      "metadata": {
        "id": "SZwuHpbltKEG"
      },
      "execution_count": null,
      "outputs": []
    },
    {
      "cell_type": "code",
      "source": [
        "woe_iv_simples(microdados, 'CURSO_ANO_DIA', 'IN_DEFICIENCIA_BINARIO')"
      ],
      "metadata": {
        "id": "ipSkYdN4I6cm"
      },
      "execution_count": null,
      "outputs": []
    },
    {
      "cell_type": "code",
      "source": [
        "woe_iv_simples(microdados, 'CURSO_DATA', 'IN_DEFICIENCIA_BINARIO')"
      ],
      "metadata": {
        "id": "1tU24kMKtMML"
      },
      "execution_count": null,
      "outputs": []
    },
    {
      "cell_type": "code",
      "source": [
        "woe_iv_simples(microdados, 'CURSO_DATA_MUNICIPIO', 'IN_DEFICIENCIA_BINARIO')"
      ],
      "metadata": {
        "id": "iI_Gi6FdtM-N"
      },
      "execution_count": null,
      "outputs": []
    },
    {
      "cell_type": "code",
      "source": [
        "woe_iv_simples(microdados, 'CURSO_DATA_MUNICIPIO_RACA', 'IN_DEFICIENCIA_BINARIO')"
      ],
      "metadata": {
        "id": "CXhrMJJ1tMvI"
      },
      "execution_count": null,
      "outputs": []
    },
    {
      "cell_type": "code",
      "source": [
        "# amostragem 50% dos dados\n",
        "woe_iv_combinacoes_grandes(microdados, ['NU_DIA_NASCIMENTO', 'NU_MES_NASCIMENTO', 'NU_ANO_NASCIMENTO', 'TP_SEXO', 'TP_COR_RACA', 'CO_MUNICIPIO_NASCIMENTO', 'CO_CURSO'], 'IN_DEFICIENCIA_BINARIO')"
      ],
      "metadata": {
        "id": "26BGyjkQsCtX"
      },
      "execution_count": null,
      "outputs": []
    },
    {
      "cell_type": "code",
      "source": [
        "# amostragem - 50% dos dados\n",
        "woe_iv_combinacoes_grandes(microdados, ['NU_DIA_NASCIMENTO', 'NU_MES_NASCIMENTO', 'NU_ANO_NASCIMENTO', 'TP_SEXO', 'TP_COR_RACA', 'CO_MUNICIPIO_NASCIMENTO', 'CO_CURSO', 'TP_ESCOLA_CONCLUSAO_ENS_MEDIO'], 'IN_DEFICIENCIA_BINARIO')"
      ],
      "metadata": {
        "id": "XIklyd2nsCtX"
      },
      "execution_count": null,
      "outputs": []
    },
    {
      "cell_type": "code",
      "source": [
        "# amostragem - 50% dos dados\n",
        "woe_iv_combinacoes_grandes(microdados, ['NU_DIA_NASCIMENTO', 'NU_MES_NASCIMENTO', 'NU_ANO_NASCIMENTO', 'TP_SEXO', 'TP_COR_RACA', 'CO_MUNICIPIO_NASCIMENTO', 'TP_NACIONALIDADE', 'CO_CURSO', 'TP_ESCOLA_CONCLUSAO_ENS_MEDIO'], 'IN_DEFICIENCIA_BINARIO')"
      ],
      "metadata": {
        "id": "-6c6WNzMsCtX"
      },
      "execution_count": null,
      "outputs": []
    },
    {
      "cell_type": "code",
      "source": [
        "# amostragem - 50% dos dados\n",
        "woe_iv_combinacoes_grandes(microdados, ['NU_DIA_NASCIMENTO', 'NU_MES_NASCIMENTO', 'NU_ANO_NASCIMENTO', 'TP_SEXO', 'TP_COR_RACA', 'CO_MUNICIPIO_NASCIMENTO', 'TP_NACIONALIDADE', 'CO_PAIS_ORIGEM', 'CO_CURSO', 'TP_ESCOLA_CONCLUSAO_ENS_MEDIO'], 'IN_DEFICIENCIA_BINARIO')"
      ],
      "metadata": {
        "id": "U6SZsePJsCtX"
      },
      "execution_count": null,
      "outputs": []
    },
    {
      "cell_type": "code",
      "source": [
        "# amostragem - 50% dos dados\n",
        "woe_iv_combinacoes_grandes(microdados, ['NU_DIA_NASCIMENTO', 'NU_MES_NASCIMENTO', 'NU_ANO_NASCIMENTO', 'TP_SEXO', 'TP_COR_RACA', 'CO_MUNICIPIO_NASCIMENTO', 'TP_NACIONALIDADE', 'CO_IES', 'CO_CURSO', 'TP_ESCOLA_CONCLUSAO_ENS_MEDIO'], 'IN_DEFICIENCIA_BINARIO')"
      ],
      "metadata": {
        "id": "qOxMdTCVsCtX"
      },
      "execution_count": null,
      "outputs": []
    },
    {
      "cell_type": "code",
      "source": [
        "# amostragem - 50% dos dados\n",
        "woe_iv_combinacoes_grandes(microdados, ['NU_DIA_NASCIMENTO', 'NU_MES_NASCIMENTO', 'NU_ANO_NASCIMENTO', 'TP_SEXO', 'TP_COR_RACA', 'CO_MUNICIPIO_NASCIMENTO', 'TP_NACIONALIDADE', 'CO_PAIS_ORIGEM', 'CO_IES', 'CO_CURSO', 'TP_ESCOLA_CONCLUSAO_ENS_MEDIO'], 'IN_DEFICIENCIA_BINARIO')"
      ],
      "metadata": {
        "id": "JngooVOYsCtX"
      },
      "execution_count": null,
      "outputs": []
    },
    {
      "cell_type": "markdown",
      "source": [
        "##### 2º Abordagem"
      ],
      "metadata": {
        "id": "TqVrN12VAf5Y"
      }
    },
    {
      "cell_type": "markdown",
      "source": [
        "###### CO_CINE_AREA_GERAL"
      ],
      "metadata": {
        "id": "Huca6ysije76"
      }
    },
    {
      "cell_type": "code",
      "source": [
        "woe_iv_simples(microdados, 'CO_CINE_AREA_GERAL', 'IN_DEFICIENCIA_BINARIO')"
      ],
      "metadata": {
        "id": "1jvdSw9Ije77"
      },
      "execution_count": null,
      "outputs": []
    },
    {
      "cell_type": "code",
      "source": [
        "woe_iv_simples(microdados, 'CINE_MUNICIPIO', 'IN_DEFICIENCIA_BINARIO')"
      ],
      "metadata": {
        "id": "lWJhrLiZje77"
      },
      "execution_count": null,
      "outputs": []
    },
    {
      "cell_type": "code",
      "source": [
        "woe_iv_simples(microdados, 'CINE_DIA', 'IN_DEFICIENCIA_BINARIO')"
      ],
      "metadata": {
        "id": "d1jk-YEF4clX"
      },
      "execution_count": null,
      "outputs": []
    },
    {
      "cell_type": "code",
      "source": [
        "woe_iv_simples(microdados, 'CINE_ANO_DIA', 'IN_DEFICIENCIA_BINARIO')"
      ],
      "metadata": {
        "id": "tdGS3t5-je77"
      },
      "execution_count": null,
      "outputs": []
    },
    {
      "cell_type": "code",
      "source": [
        "woe_iv_simples(microdados, 'CINE_DATA', 'IN_DEFICIENCIA_BINARIO')"
      ],
      "metadata": {
        "id": "g5ASUIPHje77"
      },
      "execution_count": null,
      "outputs": []
    },
    {
      "cell_type": "code",
      "source": [
        "woe_iv_simples(microdados, 'CINE_DATA_MUNICIPIO', 'IN_DEFICIENCIA_BINARIO')"
      ],
      "metadata": {
        "id": "EqxgpfY5je78"
      },
      "execution_count": null,
      "outputs": []
    },
    {
      "cell_type": "code",
      "source": [
        "woe_iv_simples(microdados, 'CINE_DATA_MUNICIPIO_RACA', 'IN_DEFICIENCIA_BINARIO')"
      ],
      "metadata": {
        "id": "4IJ9avT2je78"
      },
      "execution_count": null,
      "outputs": []
    },
    {
      "cell_type": "code",
      "source": [
        "# amostragem 50% dos dados\n",
        "woe_iv_combinacoes_grandes(microdados, ['NU_DIA_NASCIMENTO', 'NU_MES_NASCIMENTO', 'NU_ANO_NASCIMENTO', 'TP_SEXO', 'TP_COR_RACA', 'CO_MUNICIPIO_NASCIMENTO', 'CO_CINE_AREA_GERAL'], 'IN_DEFICIENCIA_BINARIO')"
      ],
      "metadata": {
        "id": "R0sqBFacje78"
      },
      "execution_count": null,
      "outputs": []
    },
    {
      "cell_type": "code",
      "source": [
        "# amostragem - 50% dos dados\n",
        "woe_iv_combinacoes_grandes(microdados, ['NU_DIA_NASCIMENTO', 'NU_MES_NASCIMENTO', 'NU_ANO_NASCIMENTO', 'TP_SEXO', 'TP_COR_RACA', 'CO_MUNICIPIO_NASCIMENTO', 'CO_CINE_AREA_GERAL', 'TP_ESCOLA_CONCLUSAO_ENS_MEDIO'], 'IN_DEFICIENCIA_BINARIO')"
      ],
      "metadata": {
        "id": "S3-m7mHdje78"
      },
      "execution_count": null,
      "outputs": []
    },
    {
      "cell_type": "code",
      "source": [
        "# amostragem - 50% dos dados\n",
        "woe_iv_combinacoes_grandes(microdados, ['NU_DIA_NASCIMENTO', 'NU_MES_NASCIMENTO', 'NU_ANO_NASCIMENTO', 'TP_SEXO', 'TP_COR_RACA', 'CO_MUNICIPIO_NASCIMENTO', 'TP_NACIONALIDADE', 'CO_CINE_AREA_GERAL', 'TP_ESCOLA_CONCLUSAO_ENS_MEDIO'], 'IN_DEFICIENCIA_BINARIO')"
      ],
      "metadata": {
        "id": "LlJ0lA3zje79"
      },
      "execution_count": null,
      "outputs": []
    },
    {
      "cell_type": "code",
      "source": [
        "# amostragem - 50% dos dados\n",
        "woe_iv_combinacoes_grandes(microdados, ['NU_DIA_NASCIMENTO', 'NU_MES_NASCIMENTO', 'NU_ANO_NASCIMENTO', 'TP_SEXO', 'TP_COR_RACA', 'CO_MUNICIPIO_NASCIMENTO', 'TP_NACIONALIDADE', 'CO_PAIS_ORIGEM', 'CO_CINE_AREA_GERAL', 'TP_ESCOLA_CONCLUSAO_ENS_MEDIO'], 'IN_DEFICIENCIA_BINARIO')"
      ],
      "metadata": {
        "id": "WGnkElCmje79"
      },
      "execution_count": null,
      "outputs": []
    },
    {
      "cell_type": "code",
      "source": [
        "# amostragem - 50% dos dados\n",
        "woe_iv_combinacoes_grandes(microdados, ['NU_DIA_NASCIMENTO', 'NU_MES_NASCIMENTO', 'NU_ANO_NASCIMENTO', 'TP_SEXO', 'TP_COR_RACA', 'CO_MUNICIPIO_NASCIMENTO', 'TP_NACIONALIDADE', 'CO_IES', 'CO_CINE_AREA_GERAL', 'TP_ESCOLA_CONCLUSAO_ENS_MEDIO'], 'IN_DEFICIENCIA_BINARIO')"
      ],
      "metadata": {
        "id": "i6SpQ-TRje7-"
      },
      "execution_count": null,
      "outputs": []
    },
    {
      "cell_type": "code",
      "source": [
        "# amostragem - 50% dos dados\n",
        "woe_iv_combinacoes_grandes(microdados, ['NU_DIA_NASCIMENTO', 'NU_MES_NASCIMENTO', 'NU_ANO_NASCIMENTO', 'TP_SEXO', 'TP_COR_RACA', 'CO_MUNICIPIO_NASCIMENTO', 'TP_NACIONALIDADE', 'CO_PAIS_ORIGEM', 'CO_IES', 'CO_CINE_AREA_GERAL', 'TP_ESCOLA_CONCLUSAO_ENS_MEDIO'], 'IN_DEFICIENCIA_BINARIO')"
      ],
      "metadata": {
        "id": "OGr0wfgije7-"
      },
      "execution_count": null,
      "outputs": []
    },
    {
      "cell_type": "markdown",
      "source": [
        "###### CO_MUNICIPIO"
      ],
      "metadata": {
        "id": "purVcbmflzIZ"
      }
    },
    {
      "cell_type": "code",
      "source": [
        "woe_iv_simples(microdados, 'CO_MUNICIPIO', 'IN_DEFICIENCIA_BINARIO')"
      ],
      "metadata": {
        "id": "LZr8NQyklzIa"
      },
      "execution_count": null,
      "outputs": []
    },
    {
      "cell_type": "code",
      "source": [
        "woe_iv_simples(microdados, 'CO_MUNICIPIO_MUNICIPIO', 'IN_DEFICIENCIA_BINARIO')"
      ],
      "metadata": {
        "id": "-69RKrHzlzIb"
      },
      "execution_count": null,
      "outputs": []
    },
    {
      "cell_type": "code",
      "source": [
        "woe_iv_simples(microdados, 'CO_MUNICIPIO_DIA', 'IN_DEFICIENCIA_BINARIO')"
      ],
      "metadata": {
        "id": "7c8a-OI24v0B"
      },
      "execution_count": null,
      "outputs": []
    },
    {
      "cell_type": "code",
      "source": [
        "woe_iv_simples(microdados, 'CO_MUNICIPIO_ANO_DIA', 'IN_DEFICIENCIA_BINARIO')"
      ],
      "metadata": {
        "id": "AwrI7Ed9lzIb"
      },
      "execution_count": null,
      "outputs": []
    },
    {
      "cell_type": "code",
      "source": [
        "woe_iv_simples(microdados, 'CO_MUNICIPIO_DATA', 'IN_DEFICIENCIA_BINARIO')"
      ],
      "metadata": {
        "id": "yXp-yMY3lzIb"
      },
      "execution_count": null,
      "outputs": []
    },
    {
      "cell_type": "code",
      "source": [
        "woe_iv_simples(microdados, 'CO_MUNICIPIO_DATA_MUNICIPIO', 'IN_DEFICIENCIA_BINARIO')"
      ],
      "metadata": {
        "id": "BHjeMqlBlzIb"
      },
      "execution_count": null,
      "outputs": []
    },
    {
      "cell_type": "code",
      "source": [
        "woe_iv_simples(microdados, 'CO_MUNICIPIO_DATA_MUNICIPIO_RACA', 'IN_DEFICIENCIA_BINARIO')"
      ],
      "metadata": {
        "id": "ETXTIHySlzIb"
      },
      "execution_count": null,
      "outputs": []
    },
    {
      "cell_type": "code",
      "source": [
        "# amostragem 50% dos dados\n",
        "woe_iv_combinacoes_grandes(microdados, ['NU_DIA_NASCIMENTO', 'NU_MES_NASCIMENTO', 'NU_ANO_NASCIMENTO', 'TP_SEXO', 'TP_COR_RACA', 'CO_MUNICIPIO_NASCIMENTO', 'CO_MUNICIPIO'], 'IN_DEFICIENCIA_BINARIO')"
      ],
      "metadata": {
        "id": "VWr3941NlzIb"
      },
      "execution_count": null,
      "outputs": []
    },
    {
      "cell_type": "code",
      "source": [
        "# amostragem - 50% dos dados\n",
        "woe_iv_combinacoes_grandes(microdados, ['NU_DIA_NASCIMENTO', 'NU_MES_NASCIMENTO', 'NU_ANO_NASCIMENTO', 'TP_SEXO', 'TP_COR_RACA', 'CO_MUNICIPIO_NASCIMENTO', 'CO_MUNICIPIO', 'TP_ESCOLA_CONCLUSAO_ENS_MEDIO'], 'IN_DEFICIENCIA_BINARIO')"
      ],
      "metadata": {
        "id": "PjQa6Zm4lzIc"
      },
      "execution_count": null,
      "outputs": []
    },
    {
      "cell_type": "code",
      "source": [
        "# amostragem - 50% dos dados\n",
        "woe_iv_combinacoes_grandes(microdados, ['NU_DIA_NASCIMENTO', 'NU_MES_NASCIMENTO', 'NU_ANO_NASCIMENTO', 'TP_SEXO', 'TP_COR_RACA', 'CO_MUNICIPIO_NASCIMENTO', 'TP_NACIONALIDADE', 'CO_MUNICIPIO', 'TP_ESCOLA_CONCLUSAO_ENS_MEDIO'], 'IN_DEFICIENCIA_BINARIO')"
      ],
      "metadata": {
        "id": "4qJD42LzlzIc"
      },
      "execution_count": null,
      "outputs": []
    },
    {
      "cell_type": "code",
      "source": [
        "# amostragem - 50% dos dados\n",
        "woe_iv_combinacoes_grandes(microdados, ['NU_DIA_NASCIMENTO', 'NU_MES_NASCIMENTO', 'NU_ANO_NASCIMENTO', 'TP_SEXO', 'TP_COR_RACA', 'CO_MUNICIPIO_NASCIMENTO', 'TP_NACIONALIDADE', 'CO_PAIS_ORIGEM', 'CO_MUNICIPIO', 'TP_ESCOLA_CONCLUSAO_ENS_MEDIO'], 'IN_DEFICIENCIA_BINARIO')"
      ],
      "metadata": {
        "id": "tv3SP3uplzIc"
      },
      "execution_count": null,
      "outputs": []
    },
    {
      "cell_type": "code",
      "source": [
        "# amostragem - 50% dos dados\n",
        "woe_iv_combinacoes_grandes(microdados, ['NU_DIA_NASCIMENTO', 'NU_MES_NASCIMENTO', 'NU_ANO_NASCIMENTO', 'TP_SEXO', 'TP_COR_RACA', 'CO_MUNICIPIO_NASCIMENTO', 'TP_NACIONALIDADE', 'CO_IES', 'CO_MUNICIPIO', 'TP_ESCOLA_CONCLUSAO_ENS_MEDIO'], 'IN_DEFICIENCIA_BINARIO')"
      ],
      "metadata": {
        "id": "kQ4aFwJnlzIc"
      },
      "execution_count": null,
      "outputs": []
    },
    {
      "cell_type": "code",
      "source": [
        "# amostragem - 50% dos dados\n",
        "woe_iv_combinacoes_grandes(microdados, ['NU_DIA_NASCIMENTO', 'NU_MES_NASCIMENTO', 'NU_ANO_NASCIMENTO', 'TP_SEXO', 'TP_COR_RACA', 'CO_MUNICIPIO_NASCIMENTO', 'TP_NACIONALIDADE', 'CO_PAIS_ORIGEM', 'CO_IES', 'CO_MUNICIPIO', 'TP_ESCOLA_CONCLUSAO_ENS_MEDIO'], 'IN_DEFICIENCIA_BINARIO')"
      ],
      "metadata": {
        "id": "Nh3MEYTmlzIc"
      },
      "execution_count": null,
      "outputs": []
    },
    {
      "cell_type": "markdown",
      "source": [
        "###### CO_UF"
      ],
      "metadata": {
        "id": "NahwBywPmmm1"
      }
    },
    {
      "cell_type": "code",
      "source": [
        "woe_iv_simples(microdados, 'CO_UF', 'IN_DEFICIENCIA_BINARIO')"
      ],
      "metadata": {
        "id": "OokYcNSjmmm2"
      },
      "execution_count": null,
      "outputs": []
    },
    {
      "cell_type": "code",
      "source": [
        "woe_iv_simples(microdados, 'UF_MUNICIPIO', 'IN_DEFICIENCIA_BINARIO')"
      ],
      "metadata": {
        "id": "JY4T5RcLmmm3"
      },
      "execution_count": null,
      "outputs": []
    },
    {
      "cell_type": "code",
      "source": [
        "woe_iv_simples(microdados, 'UF_DIA', 'IN_DEFICIENCIA_BINARIO')"
      ],
      "metadata": {
        "id": "_5ZbXj5V4zJP"
      },
      "execution_count": null,
      "outputs": []
    },
    {
      "cell_type": "code",
      "source": [
        "woe_iv_simples(microdados, 'UF_ANO_DIA', 'IN_DEFICIENCIA_BINARIO')"
      ],
      "metadata": {
        "id": "Vl4r6MQemmm4"
      },
      "execution_count": null,
      "outputs": []
    },
    {
      "cell_type": "code",
      "source": [
        "woe_iv_simples(microdados, 'UF_DATA', 'IN_DEFICIENCIA_BINARIO')"
      ],
      "metadata": {
        "id": "k_CkbL6Immm4"
      },
      "execution_count": null,
      "outputs": []
    },
    {
      "cell_type": "code",
      "source": [
        "woe_iv_simples(microdados, 'UF_DATA_MUNICIPIO', 'IN_DEFICIENCIA_BINARIO')"
      ],
      "metadata": {
        "id": "XVE1GMowmmm5"
      },
      "execution_count": null,
      "outputs": []
    },
    {
      "cell_type": "code",
      "source": [
        "woe_iv_simples(microdados, 'UF_DATA_MUNICIPIO_RACA', 'IN_DEFICIENCIA_BINARIO')"
      ],
      "metadata": {
        "id": "rAIrsB1fmmm5"
      },
      "execution_count": null,
      "outputs": []
    },
    {
      "cell_type": "code",
      "source": [
        "# amostragem 50% dos dados\n",
        "woe_iv_combinacoes_grandes(microdados, ['NU_DIA_NASCIMENTO', 'NU_MES_NASCIMENTO', 'NU_ANO_NASCIMENTO', 'TP_SEXO', 'TP_COR_RACA', 'CO_MUNICIPIO_NASCIMENTO', 'CO_UF'], 'IN_DEFICIENCIA_BINARIO')"
      ],
      "metadata": {
        "id": "j269sWgjmmm5"
      },
      "execution_count": null,
      "outputs": []
    },
    {
      "cell_type": "code",
      "source": [
        "# amostragem - 50% dos dados\n",
        "woe_iv_combinacoes_grandes(microdados, ['NU_DIA_NASCIMENTO', 'NU_MES_NASCIMENTO', 'NU_ANO_NASCIMENTO', 'TP_SEXO', 'TP_COR_RACA', 'CO_MUNICIPIO_NASCIMENTO', 'CO_UF', 'TP_ESCOLA_CONCLUSAO_ENS_MEDIO'], 'IN_DEFICIENCIA_BINARIO')"
      ],
      "metadata": {
        "id": "D_5DTqf1mmm6"
      },
      "execution_count": null,
      "outputs": []
    },
    {
      "cell_type": "code",
      "source": [
        "# amostragem - 50% dos dados\n",
        "woe_iv_combinacoes_grandes(microdados, ['NU_DIA_NASCIMENTO', 'NU_MES_NASCIMENTO', 'NU_ANO_NASCIMENTO', 'TP_SEXO', 'TP_COR_RACA', 'CO_MUNICIPIO_NASCIMENTO', 'TP_NACIONALIDADE', 'CO_UF', 'TP_ESCOLA_CONCLUSAO_ENS_MEDIO'], 'IN_DEFICIENCIA_BINARIO')"
      ],
      "metadata": {
        "id": "9Y-qOlXrmmm6"
      },
      "execution_count": null,
      "outputs": []
    },
    {
      "cell_type": "code",
      "source": [
        "# amostragem - 50% dos dados\n",
        "woe_iv_combinacoes_grandes(microdados, ['NU_DIA_NASCIMENTO', 'NU_MES_NASCIMENTO', 'NU_ANO_NASCIMENTO', 'TP_SEXO', 'TP_COR_RACA', 'CO_MUNICIPIO_NASCIMENTO', 'TP_NACIONALIDADE', 'CO_PAIS_ORIGEM', 'CO_UF', 'TP_ESCOLA_CONCLUSAO_ENS_MEDIO'], 'IN_DEFICIENCIA_BINARIO')"
      ],
      "metadata": {
        "id": "sBCeqbalmmm6"
      },
      "execution_count": null,
      "outputs": []
    },
    {
      "cell_type": "code",
      "source": [
        "# amostragem - 50% dos dados\n",
        "woe_iv_combinacoes_grandes(microdados, ['NU_DIA_NASCIMENTO', 'NU_MES_NASCIMENTO', 'NU_ANO_NASCIMENTO', 'TP_SEXO', 'TP_COR_RACA', 'CO_MUNICIPIO_NASCIMENTO', 'TP_NACIONALIDADE', 'CO_IES', 'CO_UF', 'TP_ESCOLA_CONCLUSAO_ENS_MEDIO'], 'IN_DEFICIENCIA_BINARIO')"
      ],
      "metadata": {
        "id": "uL1ogfRUmmm7"
      },
      "execution_count": null,
      "outputs": []
    },
    {
      "cell_type": "code",
      "source": [
        "# amostragem - 50% dos dados\n",
        "woe_iv_combinacoes_grandes(microdados, ['NU_DIA_NASCIMENTO', 'NU_MES_NASCIMENTO', 'NU_ANO_NASCIMENTO', 'TP_SEXO', 'TP_COR_RACA', 'CO_MUNICIPIO_NASCIMENTO', 'TP_NACIONALIDADE', 'CO_PAIS_ORIGEM', 'CO_IES', 'CO_UF', 'TP_ESCOLA_CONCLUSAO_ENS_MEDIO'], 'IN_DEFICIENCIA_BINARIO')"
      ],
      "metadata": {
        "id": "CtwN3uHRmmm7"
      },
      "execution_count": null,
      "outputs": []
    },
    {
      "cell_type": "markdown",
      "source": [
        "###### CO_IES"
      ],
      "metadata": {
        "id": "39dZ_08inY7C"
      }
    },
    {
      "cell_type": "code",
      "source": [
        "woe_iv_simples(microdados, 'CO_IES', 'IN_DEFICIENCIA_BINARIO')"
      ],
      "metadata": {
        "id": "qm1UV_VGnY7D"
      },
      "execution_count": null,
      "outputs": []
    },
    {
      "cell_type": "code",
      "source": [
        "woe_iv_simples(microdados, 'IES_MUNICIPIO', 'IN_DEFICIENCIA_BINARIO')"
      ],
      "metadata": {
        "id": "QHQtNBEmnY7D"
      },
      "execution_count": null,
      "outputs": []
    },
    {
      "cell_type": "code",
      "source": [
        "woe_iv_simples(microdados, 'IES_DIA', 'IN_DEFICIENCIA_BINARIO')"
      ],
      "metadata": {
        "id": "Gd5IsRav441K"
      },
      "execution_count": null,
      "outputs": []
    },
    {
      "cell_type": "code",
      "source": [
        "woe_iv_simples(microdados, 'IES_ANO_DIA', 'IN_DEFICIENCIA_BINARIO')"
      ],
      "metadata": {
        "id": "6iSjy_1inY7E"
      },
      "execution_count": null,
      "outputs": []
    },
    {
      "cell_type": "code",
      "source": [
        "woe_iv_simples(microdados, 'IES_DATA', 'IN_DEFICIENCIA_BINARIO')"
      ],
      "metadata": {
        "id": "WTTbnSJ2nY7E"
      },
      "execution_count": null,
      "outputs": []
    },
    {
      "cell_type": "code",
      "source": [
        "woe_iv_simples(microdados, 'IES_DATA_MUNICIPIO', 'IN_DEFICIENCIA_BINARIO')"
      ],
      "metadata": {
        "id": "UEN22hsdnY7E"
      },
      "execution_count": null,
      "outputs": []
    },
    {
      "cell_type": "code",
      "source": [
        "woe_iv_simples(microdados, 'IES_DATA_MUNICIPIO_RACA', 'IN_DEFICIENCIA_BINARIO')"
      ],
      "metadata": {
        "id": "Ph4R3if5nY7E"
      },
      "execution_count": null,
      "outputs": []
    },
    {
      "cell_type": "code",
      "source": [
        "# amostragem 50% dos dados\n",
        "woe_iv_combinacoes_grandes(microdados, ['NU_DIA_NASCIMENTO', 'NU_MES_NASCIMENTO', 'NU_ANO_NASCIMENTO', 'TP_SEXO', 'TP_COR_RACA', 'CO_MUNICIPIO_NASCIMENTO', 'CO_IES'], 'IN_DEFICIENCIA_BINARIO')"
      ],
      "metadata": {
        "id": "QMW1lib-nY7E"
      },
      "execution_count": null,
      "outputs": []
    },
    {
      "cell_type": "code",
      "source": [
        "# amostragem - 50% dos dados\n",
        "woe_iv_combinacoes_grandes(microdados, ['NU_DIA_NASCIMENTO', 'NU_MES_NASCIMENTO', 'NU_ANO_NASCIMENTO', 'TP_SEXO', 'TP_COR_RACA', 'CO_MUNICIPIO_NASCIMENTO', 'CO_IES', 'TP_ESCOLA_CONCLUSAO_ENS_MEDIO'], 'IN_DEFICIENCIA_BINARIO')"
      ],
      "metadata": {
        "id": "S_mBJ1ygnY7E"
      },
      "execution_count": null,
      "outputs": []
    },
    {
      "cell_type": "code",
      "source": [
        "# amostragem - 50% dos dados\n",
        "woe_iv_combinacoes_grandes(microdados, ['NU_DIA_NASCIMENTO', 'NU_MES_NASCIMENTO', 'NU_ANO_NASCIMENTO', 'TP_SEXO', 'TP_COR_RACA', 'CO_MUNICIPIO_NASCIMENTO', 'TP_NACIONALIDADE', 'CO_IES', 'TP_ESCOLA_CONCLUSAO_ENS_MEDIO'], 'IN_DEFICIENCIA_BINARIO')"
      ],
      "metadata": {
        "id": "be0DR8_GnY7E"
      },
      "execution_count": null,
      "outputs": []
    },
    {
      "cell_type": "code",
      "source": [
        "# amostragem - 50% dos dados\n",
        "woe_iv_combinacoes_grandes(microdados, ['NU_DIA_NASCIMENTO', 'NU_MES_NASCIMENTO', 'NU_ANO_NASCIMENTO', 'TP_SEXO', 'TP_COR_RACA', 'CO_MUNICIPIO_NASCIMENTO', 'TP_NACIONALIDADE', 'CO_PAIS_ORIGEM', 'CO_IES', 'TP_ESCOLA_CONCLUSAO_ENS_MEDIO'], 'IN_DEFICIENCIA_BINARIO')"
      ],
      "metadata": {
        "id": "PjkE65VVnY7F"
      },
      "execution_count": null,
      "outputs": []
    },
    {
      "cell_type": "code",
      "source": [
        "# amostragem - 50% dos dados\n",
        "woe_iv_combinacoes_grandes(microdados, ['NU_DIA_NASCIMENTO', 'NU_MES_NASCIMENTO', 'NU_ANO_NASCIMENTO', 'TP_SEXO', 'TP_COR_RACA', 'CO_MUNICIPIO_NASCIMENTO', 'TP_NACIONALIDADE', 'CO_IES', 'TP_ESCOLA_CONCLUSAO_ENS_MEDIO'], 'IN_DEFICIENCIA_BINARIO')"
      ],
      "metadata": {
        "id": "fpeIcP_GnY7F"
      },
      "execution_count": null,
      "outputs": []
    },
    {
      "cell_type": "code",
      "source": [
        "# amostragem - 50% dos dados\n",
        "woe_iv_combinacoes_grandes(microdados, ['NU_DIA_NASCIMENTO', 'NU_MES_NASCIMENTO', 'NU_ANO_NASCIMENTO', 'TP_SEXO', 'TP_COR_RACA', 'CO_MUNICIPIO_NASCIMENTO', 'TP_NACIONALIDADE', 'CO_PAIS_ORIGEM', 'CO_IES', 'TP_ESCOLA_CONCLUSAO_ENS_MEDIO'], 'IN_DEFICIENCIA_BINARIO')"
      ],
      "metadata": {
        "id": "iv3jBdxjnY7F"
      },
      "execution_count": null,
      "outputs": []
    },
    {
      "cell_type": "markdown",
      "source": [
        "###### TP_CATEGORIA_ADMINISTRATIVA"
      ],
      "metadata": {
        "id": "sys-PwhHoMbQ"
      }
    },
    {
      "cell_type": "code",
      "source": [
        "woe_iv_simples(microdados, 'TP_CATEGORIA_ADMINISTRATIVA', 'IN_DEFICIENCIA_BINARIO')"
      ],
      "metadata": {
        "id": "j8adLVdDoMbR"
      },
      "execution_count": null,
      "outputs": []
    },
    {
      "cell_type": "code",
      "source": [
        "woe_iv_simples(microdados, 'CATEGORIA_MUNICIPIO', 'IN_DEFICIENCIA_BINARIO')"
      ],
      "metadata": {
        "id": "A9F3tG_9oMbR"
      },
      "execution_count": null,
      "outputs": []
    },
    {
      "cell_type": "code",
      "source": [
        "woe_iv_simples(microdados, 'CATEGORIA_DIA', 'IN_DEFICIENCIA_BINARIO')"
      ],
      "metadata": {
        "id": "EKIM7lj148hl"
      },
      "execution_count": null,
      "outputs": []
    },
    {
      "cell_type": "code",
      "source": [
        "woe_iv_simples(microdados, 'CATEGORIA_ANO_DIA', 'IN_DEFICIENCIA_BINARIO')"
      ],
      "metadata": {
        "id": "5syZk9UsoMbS"
      },
      "execution_count": null,
      "outputs": []
    },
    {
      "cell_type": "code",
      "source": [
        "woe_iv_simples(microdados, 'CATEGORIA_DATA', 'IN_DEFICIENCIA_BINARIO')"
      ],
      "metadata": {
        "id": "Cu22HS_QoMbS"
      },
      "execution_count": null,
      "outputs": []
    },
    {
      "cell_type": "code",
      "source": [
        "woe_iv_simples(microdados, 'CATEGORIA_DATA_MUNICIPIO', 'IN_DEFICIENCIA_BINARIO')"
      ],
      "metadata": {
        "id": "CwhtYGWooMbS"
      },
      "execution_count": null,
      "outputs": []
    },
    {
      "cell_type": "code",
      "source": [
        "woe_iv_simples(microdados, 'CATEGORIA_DATA_MUNICIPIO_RACA', 'IN_DEFICIENCIA_BINARIO')"
      ],
      "metadata": {
        "id": "BQhyqHB1oMbS"
      },
      "execution_count": null,
      "outputs": []
    },
    {
      "cell_type": "code",
      "source": [
        "# amostragem 50% dos dados\n",
        "woe_iv_combinacoes_grandes(microdados, ['NU_DIA_NASCIMENTO', 'NU_MES_NASCIMENTO', 'NU_ANO_NASCIMENTO', 'TP_SEXO', 'TP_COR_RACA', 'CO_MUNICIPIO_NASCIMENTO', 'TP_CATEGORIA_ADMINISTRATIVA'], 'IN_DEFICIENCIA_BINARIO')"
      ],
      "metadata": {
        "id": "mTGRjRPXoMbS"
      },
      "execution_count": null,
      "outputs": []
    },
    {
      "cell_type": "code",
      "source": [
        "# amostragem - 50% dos dados\n",
        "woe_iv_combinacoes_grandes(microdados, ['NU_DIA_NASCIMENTO', 'NU_MES_NASCIMENTO', 'NU_ANO_NASCIMENTO', 'TP_SEXO', 'TP_COR_RACA', 'CO_MUNICIPIO_NASCIMENTO', 'TP_CATEGORIA_ADMINISTRATIVA', 'TP_ESCOLA_CONCLUSAO_ENS_MEDIO'], 'IN_DEFICIENCIA_BINARIO')"
      ],
      "metadata": {
        "id": "ysRTFMkDoMbT"
      },
      "execution_count": null,
      "outputs": []
    },
    {
      "cell_type": "code",
      "source": [
        "# amostragem - 50% dos dados\n",
        "woe_iv_combinacoes_grandes(microdados, ['NU_DIA_NASCIMENTO', 'NU_MES_NASCIMENTO', 'NU_ANO_NASCIMENTO', 'TP_SEXO', 'TP_COR_RACA', 'CO_MUNICIPIO_NASCIMENTO', 'TP_NACIONALIDADE', 'TP_CATEGORIA_ADMINISTRATIVA', 'TP_ESCOLA_CONCLUSAO_ENS_MEDIO'], 'IN_DEFICIENCIA_BINARIO')"
      ],
      "metadata": {
        "id": "fXEf4B_toMbT"
      },
      "execution_count": null,
      "outputs": []
    },
    {
      "cell_type": "code",
      "source": [
        "# amostragem - 50% dos dados\n",
        "woe_iv_combinacoes_grandes(microdados, ['NU_DIA_NASCIMENTO', 'NU_MES_NASCIMENTO', 'NU_ANO_NASCIMENTO', 'TP_SEXO', 'TP_COR_RACA', 'CO_MUNICIPIO_NASCIMENTO', 'TP_NACIONALIDADE', 'CO_PAIS_ORIGEM', 'TP_CATEGORIA_ADMINISTRATIVA', 'TP_ESCOLA_CONCLUSAO_ENS_MEDIO'], 'IN_DEFICIENCIA_BINARIO')"
      ],
      "metadata": {
        "id": "vifE2kEwoMbT"
      },
      "execution_count": null,
      "outputs": []
    },
    {
      "cell_type": "code",
      "source": [
        "# amostragem - 50% dos dados\n",
        "woe_iv_combinacoes_grandes(microdados, ['NU_DIA_NASCIMENTO', 'NU_MES_NASCIMENTO', 'NU_ANO_NASCIMENTO', 'TP_SEXO', 'TP_COR_RACA', 'CO_MUNICIPIO_NASCIMENTO', 'TP_NACIONALIDADE', 'CO_IES', 'TP_CATEGORIA_ADMINISTRATIVA', 'TP_ESCOLA_CONCLUSAO_ENS_MEDIO'], 'IN_DEFICIENCIA_BINARIO')"
      ],
      "metadata": {
        "id": "4iQ7UzY1oMbU"
      },
      "execution_count": null,
      "outputs": []
    },
    {
      "cell_type": "code",
      "source": [
        "# amostragem - 50% dos dados\n",
        "woe_iv_combinacoes_grandes(microdados, ['NU_DIA_NASCIMENTO', 'NU_MES_NASCIMENTO', 'NU_ANO_NASCIMENTO', 'TP_SEXO', 'TP_COR_RACA', 'CO_MUNICIPIO_NASCIMENTO', 'TP_NACIONALIDADE', 'CO_PAIS_ORIGEM', 'CO_IES', 'TP_CATEGORIA_ADMINISTRATIVA', 'TP_ESCOLA_CONCLUSAO_ENS_MEDIO'], 'IN_DEFICIENCIA_BINARIO')"
      ],
      "metadata": {
        "id": "o9Z42q60oMbU"
      },
      "execution_count": null,
      "outputs": []
    }
  ]
}