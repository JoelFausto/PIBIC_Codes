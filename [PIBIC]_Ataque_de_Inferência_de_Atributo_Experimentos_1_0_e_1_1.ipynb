{
  "cells": [
    {
      "cell_type": "markdown",
      "metadata": {
        "id": "CKMEWyLrDbqt"
      },
      "source": [
        "### Importando bibliotecas"
      ]
    },
    {
      "cell_type": "code",
      "execution_count": null,
      "metadata": {
        "colab": {
          "base_uri": "https://localhost:8080/"
        },
        "id": "lPoL13i-3Qhp",
        "outputId": "c6897e73-af92-4cc8-ba27-24caf64eba56"
      },
      "outputs": [
        {
          "output_type": "stream",
          "name": "stdout",
          "text": [
            "Mounted at /content/drive\n"
          ]
        }
      ],
      "source": [
        "from google.colab import drive\n",
        "drive.mount('/content/drive')"
      ]
    },
    {
      "cell_type": "code",
      "execution_count": null,
      "metadata": {
        "id": "s6QxpiIGDar8"
      },
      "outputs": [],
      "source": [
        "!pip install plotly --upgrade"
      ]
    },
    {
      "cell_type": "code",
      "execution_count": null,
      "metadata": {
        "id": "i7rwjldFm8Qa"
      },
      "outputs": [],
      "source": [
        "import pandas as pd\n",
        "from collections import Counter\n",
        "import time"
      ]
    },
    {
      "cell_type": "markdown",
      "metadata": {
        "id": "3IKXcBUqmIrk"
      },
      "source": [
        "### Dados"
      ]
    },
    {
      "cell_type": "code",
      "execution_count": null,
      "metadata": {
        "id": "-Ora7GEav3kW"
      },
      "outputs": [],
      "source": [
        "pd.set_option('display.max_columns', None)"
      ]
    },
    {
      "cell_type": "code",
      "execution_count": null,
      "metadata": {
        "id": "0aPQCLf5mKvk"
      },
      "outputs": [],
      "source": [
        "colunas_desejadas = ['ID_ALUNO', 'IN_FINANCIAMENTO_ESTUDANTIL','IN_DEFICIENCIA', 'NU_DIA_NASCIMENTO', 'NU_MES_NASCIMENTO', 'NU_ANO_NASCIMENTO', 'TP_SEXO', 'TP_COR_RACA', 'CO_MUNICIPIO_NASCIMENTO', 'TP_NACIONALIDADE', 'CO_PAIS_ORIGEM', 'CO_IES', 'CO_CURSO']"
      ]
    },
    {
      "cell_type": "code",
      "execution_count": null,
      "metadata": {
        "id": "SLDg9xtcmL_c"
      },
      "outputs": [],
      "source": [
        "# Carregando dataset do Drive (O Colab não suporta upload de datasets muito grandes, por isso deve vir direto do Drive)\n",
        "microdados = pd.read_parquet('/content/drive/MyDrive/PIBIC/dataCenso2018_colunasEspecificas3.parquet')"
      ]
    },
    {
      "cell_type": "code",
      "execution_count": null,
      "metadata": {
        "id": "hAnAwP-RmdJM"
      },
      "outputs": [],
      "source": [
        "# Removendo Duplicatas\n",
        "microdados = microdados.drop_duplicates(subset=['ID_ALUNO'])"
      ]
    },
    {
      "cell_type": "code",
      "execution_count": null,
      "metadata": {
        "id": "KPlAZt5LpD6N"
      },
      "outputs": [],
      "source": [
        "# Criando a nova coluna com a idade\n",
        "microdados['NU_IDADE'] = abs(2018 - microdados['NU_ANO_NASCIMENTO'])"
      ]
    },
    {
      "cell_type": "code",
      "source": [
        "# Criando a nova coluna com faixa etária\n",
        "bins = [0, 17, 24, 29, 34, 39, 49, 59, float('inf')]\n",
        "labels = [\"Até 17\", \"De 18 a 24\", \"De 25 a 29\", \"De 30 a 34\", \"De 35 a 39\", \"De 40 a 49\", \"De 50 a 59\", \"De 60 ou mais\"]\n",
        "\n",
        "microdados[\"FAIXA_ETARIA\"] = pd.cut(microdados[\"NU_IDADE\"], bins=bins, labels=labels, right=True)"
      ],
      "metadata": {
        "id": "RffXnweAIudz"
      },
      "execution_count": null,
      "outputs": []
    },
    {
      "cell_type": "markdown",
      "metadata": {
        "id": "FQX0E1JHmvbJ"
      },
      "source": [
        "### Ataque de Inferência de Atributo - Experimentos 1.0 e 1.1"
      ]
    },
    {
      "cell_type": "markdown",
      "metadata": {
        "id": "a-6UZYWGIwkW"
      },
      "source": [
        "#### Código baseado nos conceitos matemáticos (TED)"
      ]
    },
    {
      "cell_type": "code",
      "execution_count": null,
      "metadata": {
        "id": "yWHeOpL-25-Z"
      },
      "outputs": [],
      "source": [
        "def suc_prior_deterministic(data, sensitive_attr):\n",
        "    \"\"\"\n",
        "    Sucesso determinístico a priori do adversário em um ataque ACU.\n",
        "    \"\"\"\n",
        "    sensitive_values = data[sensitive_attr].unique()\n",
        "    return 1 if len(sensitive_values) == 1 else 0\n",
        "\n",
        "def suc_post_deterministic(data, qid_attrs, sensitive_attr):\n",
        "    \"\"\"\n",
        "    Sucesso determinístico a posteriori do adversário em um ataque ACU.\n",
        "    \"\"\"\n",
        "    groups = data.groupby(qid_attrs, dropna=False)  # Agrupa pelos QID e inclui NaN como grupo distinto\n",
        "    total_records = len(data)  # Número total de registros\n",
        "    success_count = 0  # Contador de sucessos\n",
        "\n",
        "    for _, group in groups:  # Percorre cada grupo\n",
        "        if len(group[sensitive_attr].unique()) == 1:  # Se o grupo tem apenas 1 valor sensível\n",
        "            success_count += len(group)  # Conta todos os registros do grupo como sucesso\n",
        "\n",
        "    return success_count / total_records  # Retorna a proporção de acertos\n",
        "\n",
        "def suc_prior_probabilistic(data, sensitive_attr):\n",
        "    \"\"\"\n",
        "    Sucesso probabilístico a priori do adversário em um ataque ACU.\n",
        "    \"\"\"\n",
        "    value_counts = data[sensitive_attr].value_counts()\n",
        "    total_records = len(data)\n",
        "    return value_counts.max() / total_records if total_records > 0 else 0\n",
        "\n",
        "def suc_post_probabilistic(data, qid_attrs, sensitive_attr):\n",
        "    \"\"\"\n",
        "    Sucesso probabilístico a posteriori do adversário em um ataque ACU.\n",
        "    \"\"\"\n",
        "    groups = data.groupby(qid_attrs, dropna=False)  # Inclui NaN como grupo distinto\n",
        "    total_records = len(data)\n",
        "    total_success = 0\n",
        "\n",
        "    for _, group in groups:\n",
        "        group_size = len(group)\n",
        "        if group_size > 0:\n",
        "            value_counts = group[sensitive_attr].value_counts(dropna=False)  # Inclui NaN ao contar\n",
        "            total_success += value_counts.max()\n",
        "\n",
        "    return total_success / total_records if total_records > 0 else 0\n",
        "\n",
        "def degradation_privacy_deterministic(data, qid_attrs, sensitive_attr):\n",
        "    \"\"\"\n",
        "    Degradação determinística de privacidade em um ataque ACU.\n",
        "    \"\"\"\n",
        "    prior = suc_prior_deterministic(data, sensitive_attr)\n",
        "    post = suc_post_deterministic(data, qid_attrs, sensitive_attr)\n",
        "    return post - prior\n",
        "\n",
        "def degradation_privacy_probabilistic(data, qid_attrs, sensitive_attr):\n",
        "    \"\"\"\n",
        "    Degradação probabilística de privacidade em um ataque ACU.\n",
        "    \"\"\"\n",
        "    prior = suc_prior_probabilistic(data, sensitive_attr)\n",
        "    post = suc_post_probabilistic(data, qid_attrs, sensitive_attr)\n",
        "    return post / prior if prior > 0 else 0"
      ]
    },
    {
      "cell_type": "markdown",
      "source": [
        "##### Atributo Sensível [IN_FINANCIAMENTO_ESTUDANTIL]"
      ],
      "metadata": {
        "id": "CZgi7luqJFcD"
      }
    },
    {
      "cell_type": "markdown",
      "source": [
        "###### Experimento 1.0 - Idade"
      ],
      "metadata": {
        "id": "3r9b0EpaZzZq"
      }
    },
    {
      "cell_type": "code",
      "source": [
        "qid_attrs = ['NU_IDADE', 'CO_CURSO']\n",
        "sensitive_attr = 'IN_FINANCIAMENTO_ESTUDANTIL'\n",
        "data = microdados\n",
        "\n",
        "start_time = time.time()\n",
        "\n",
        "sucesso_priori_deterministic = suc_prior_deterministic(data, sensitive_attr)\n",
        "sucesso_priori_probabilistic = suc_prior_probabilistic(data, sensitive_attr)\n",
        "sucesso_post_deterministico = suc_post_deterministic(data, qid_attrs, sensitive_attr)\n",
        "sucesso_post_probabilistico = suc_post_probabilistic(data, qid_attrs, sensitive_attr)\n",
        "\n",
        "end_time = time.time()\n",
        "execution_time = end_time - start_time\n",
        "\n",
        "print(\"Sucesso determinístico a priori:\", sucesso_priori_deterministic)\n",
        "print(\"Sucesso determinístico a posteriori:\", sucesso_post_deterministico)\n",
        "print(\"Degradação determinística de privacidade:\", sucesso_post_deterministico - sucesso_priori_deterministic)\n",
        "\n",
        "print(\"Sucesso probabilístico a priori:\", sucesso_priori_probabilistic)\n",
        "print(\"Sucesso probabilístico a posteriori:\", sucesso_post_probabilistico)\n",
        "print(\"Degradação probabilística de privacidade:\", sucesso_post_probabilistico / sucesso_priori_probabilistic)\n",
        "\n",
        "print(\"Tempo de execução:\", execution_time, \"segundos\")"
      ],
      "metadata": {
        "id": "7-r70oUyZ8Er"
      },
      "execution_count": null,
      "outputs": []
    },
    {
      "cell_type": "code",
      "source": [
        "qid_attrs = ['NU_IDADE', 'CO_MUNICIPIO_NASCIMENTO', 'CO_CURSO']\n",
        "sensitive_attr = 'IN_FINANCIAMENTO_ESTUDANTIL'\n",
        "data = microdados\n",
        "\n",
        "start_time = time.time()\n",
        "\n",
        "sucesso_priori_deterministic = suc_prior_deterministic(data, sensitive_attr)\n",
        "sucesso_priori_probabilistic = suc_prior_probabilistic(data, sensitive_attr)\n",
        "sucesso_post_deterministico = suc_post_deterministic(data, qid_attrs, sensitive_attr)\n",
        "sucesso_post_probabilistico = suc_post_probabilistic(data, qid_attrs, sensitive_attr)\n",
        "\n",
        "end_time = time.time()\n",
        "execution_time = end_time - start_time\n",
        "\n",
        "print(\"Sucesso determinístico a priori:\", sucesso_priori_deterministic)\n",
        "print(\"Sucesso determinístico a posteriori:\", sucesso_post_deterministico)\n",
        "print(\"Degradação determinística de privacidade:\", sucesso_post_deterministico - sucesso_priori_deterministic)\n",
        "\n",
        "print(\"Sucesso probabilístico a priori:\", sucesso_priori_probabilistic)\n",
        "print(\"Sucesso probabilístico a posteriori:\", sucesso_post_probabilistico)\n",
        "print(\"Degradação probabilística de privacidade:\", sucesso_post_probabilistico / sucesso_priori_probabilistic)\n",
        "\n",
        "print(\"Tempo de execução:\", execution_time, \"segundos\")"
      ],
      "metadata": {
        "id": "qlkeGu9YZ8Es"
      },
      "execution_count": null,
      "outputs": []
    },
    {
      "cell_type": "code",
      "source": [
        "qid_attrs = ['NU_IDADE', 'TP_COR_RACA', 'CO_MUNICIPIO_NASCIMENTO', 'CO_CURSO']\n",
        "sensitive_attr = 'IN_FINANCIAMENTO_ESTUDANTIL'\n",
        "data = microdados\n",
        "\n",
        "start_time = time.time()\n",
        "\n",
        "sucesso_priori_deterministic = suc_prior_deterministic(data, sensitive_attr)\n",
        "sucesso_priori_probabilistic = suc_prior_probabilistic(data, sensitive_attr)\n",
        "sucesso_post_deterministico = suc_post_deterministic(data, qid_attrs, sensitive_attr)\n",
        "sucesso_post_probabilistico = suc_post_probabilistic(data, qid_attrs, sensitive_attr)\n",
        "\n",
        "end_time = time.time()\n",
        "execution_time = end_time - start_time\n",
        "\n",
        "print(\"Sucesso determinístico a priori:\", sucesso_priori_deterministic)\n",
        "print(\"Sucesso determinístico a posteriori:\", sucesso_post_deterministico)\n",
        "print(\"Degradação determinística de privacidade:\", sucesso_post_deterministico - sucesso_priori_deterministic)\n",
        "\n",
        "print(\"Sucesso probabilístico a priori:\", sucesso_priori_probabilistic)\n",
        "print(\"Sucesso probabilístico a posteriori:\", sucesso_post_probabilistico)\n",
        "print(\"Degradação probabilística de privacidade:\", sucesso_post_probabilistico / sucesso_priori_probabilistic)\n",
        "\n",
        "print(\"Tempo de execução:\", execution_time, \"segundos\")"
      ],
      "metadata": {
        "id": "9bSvLtbeZ8Es"
      },
      "execution_count": null,
      "outputs": []
    },
    {
      "cell_type": "code",
      "source": [
        "qid_attrs = ['NU_IDADE', 'TP_SEXO', 'TP_COR_RACA', 'CO_MUNICIPIO_NASCIMENTO', 'CO_CURSO']\n",
        "sensitive_attr = 'IN_FINANCIAMENTO_ESTUDANTIL'\n",
        "data = microdados\n",
        "\n",
        "start_time = time.time()\n",
        "\n",
        "sucesso_priori_deterministic = suc_prior_deterministic(data, sensitive_attr)\n",
        "sucesso_priori_probabilistic = suc_prior_probabilistic(data, sensitive_attr)\n",
        "sucesso_post_deterministico = suc_post_deterministic(data, qid_attrs, sensitive_attr)\n",
        "sucesso_post_probabilistico = suc_post_probabilistic(data, qid_attrs, sensitive_attr)\n",
        "\n",
        "end_time = time.time()\n",
        "execution_time = end_time - start_time\n",
        "\n",
        "print(\"Sucesso determinístico a priori:\", sucesso_priori_deterministic)\n",
        "print(\"Sucesso determinístico a posteriori:\", sucesso_post_deterministico)\n",
        "print(\"Degradação determinística de privacidade:\", sucesso_post_deterministico - sucesso_priori_deterministic)\n",
        "\n",
        "print(\"Sucesso probabilístico a priori:\", sucesso_priori_probabilistic)\n",
        "print(\"Sucesso probabilístico a posteriori:\", sucesso_post_probabilistico)\n",
        "print(\"Degradação probabilística de privacidade:\", sucesso_post_probabilistico / sucesso_priori_probabilistic)\n",
        "\n",
        "print(\"Tempo de execução:\", execution_time, \"segundos\")"
      ],
      "metadata": {
        "id": "p9c8z8jXZ8Es"
      },
      "execution_count": null,
      "outputs": []
    },
    {
      "cell_type": "code",
      "source": [
        "qid_attrs = ['NU_IDADE', 'TP_SEXO', 'TP_COR_RACA', 'CO_MUNICIPIO_NASCIMENTO', 'CO_CURSO', 'TP_ESCOLA_CONCLUSAO_ENS_MEDIO']\n",
        "sensitive_attr = 'IN_FINANCIAMENTO_ESTUDANTIL'\n",
        "data = microdados\n",
        "\n",
        "start_time = time.time()\n",
        "\n",
        "sucesso_priori_deterministic = suc_prior_deterministic(data, sensitive_attr)\n",
        "sucesso_priori_probabilistic = suc_prior_probabilistic(data, sensitive_attr)\n",
        "sucesso_post_deterministico = suc_post_deterministic(data, qid_attrs, sensitive_attr)\n",
        "sucesso_post_probabilistico = suc_post_probabilistic(data, qid_attrs, sensitive_attr)\n",
        "\n",
        "end_time = time.time()\n",
        "execution_time = end_time - start_time\n",
        "\n",
        "print(\"Sucesso determinístico a priori:\", sucesso_priori_deterministic)\n",
        "print(\"Sucesso determinístico a posteriori:\", sucesso_post_deterministico)\n",
        "print(\"Degradação determinística de privacidade:\", sucesso_post_deterministico - sucesso_priori_deterministic)\n",
        "\n",
        "print(\"Sucesso probabilístico a priori:\", sucesso_priori_probabilistic)\n",
        "print(\"Sucesso probabilístico a posteriori:\", sucesso_post_probabilistico)\n",
        "print(\"Degradação probabilística de privacidade:\", sucesso_post_probabilistico / sucesso_priori_probabilistic)\n",
        "\n",
        "print(\"Tempo de execução:\", execution_time, \"segundos\")"
      ],
      "metadata": {
        "id": "ji7o0tkjZ8Et"
      },
      "execution_count": null,
      "outputs": []
    },
    {
      "cell_type": "code",
      "source": [
        "qid_attrs = ['NU_IDADE', 'TP_SEXO', 'TP_COR_RACA', 'CO_MUNICIPIO_NASCIMENTO', 'TP_NACIONALIDADE', 'CO_CURSO', 'TP_ESCOLA_CONCLUSAO_ENS_MEDIO']\n",
        "sensitive_attr = 'IN_FINANCIAMENTO_ESTUDANTIL'\n",
        "data = microdados\n",
        "\n",
        "start_time = time.time()\n",
        "\n",
        "sucesso_priori_deterministic = suc_prior_deterministic(data, sensitive_attr)\n",
        "sucesso_priori_probabilistic = suc_prior_probabilistic(data, sensitive_attr)\n",
        "sucesso_post_deterministico = suc_post_deterministic(data, qid_attrs, sensitive_attr)\n",
        "sucesso_post_probabilistico = suc_post_probabilistic(data, qid_attrs, sensitive_attr)\n",
        "\n",
        "end_time = time.time()\n",
        "execution_time = end_time - start_time\n",
        "\n",
        "print(\"Sucesso determinístico a priori:\", sucesso_priori_deterministic)\n",
        "print(\"Sucesso determinístico a posteriori:\", sucesso_post_deterministico)\n",
        "print(\"Degradação determinística de privacidade:\", sucesso_post_deterministico - sucesso_priori_deterministic)\n",
        "\n",
        "print(\"Sucesso probabilístico a priori:\", sucesso_priori_probabilistic)\n",
        "print(\"Sucesso probabilístico a posteriori:\", sucesso_post_probabilistico)\n",
        "print(\"Degradação probabilística de privacidade:\", sucesso_post_probabilistico / sucesso_priori_probabilistic)\n",
        "\n",
        "print(\"Tempo de execução:\", execution_time, \"segundos\")"
      ],
      "metadata": {
        "id": "grjIiEtGZ8Et"
      },
      "execution_count": null,
      "outputs": []
    },
    {
      "cell_type": "code",
      "source": [
        "qid_attrs = ['NU_IDADE', 'TP_SEXO', 'TP_COR_RACA', 'CO_MUNICIPIO_NASCIMENTO', 'TP_NACIONALIDADE', 'CO_PAIS_ORIGEM', 'CO_CURSO', 'TP_ESCOLA_CONCLUSAO_ENS_MEDIO']\n",
        "sensitive_attr = 'IN_FINANCIAMENTO_ESTUDANTIL'\n",
        "data = microdados\n",
        "\n",
        "start_time = time.time()\n",
        "\n",
        "sucesso_priori_deterministic = suc_prior_deterministic(data, sensitive_attr)\n",
        "sucesso_priori_probabilistic = suc_prior_probabilistic(data, sensitive_attr)\n",
        "sucesso_post_deterministico = suc_post_deterministic(data, qid_attrs, sensitive_attr)\n",
        "sucesso_post_probabilistico = suc_post_probabilistic(data, qid_attrs, sensitive_attr)\n",
        "\n",
        "end_time = time.time()\n",
        "execution_time = end_time - start_time\n",
        "\n",
        "print(\"Sucesso determinístico a priori:\", sucesso_priori_deterministic)\n",
        "print(\"Sucesso determinístico a posteriori:\", sucesso_post_deterministico)\n",
        "print(\"Degradação determinística de privacidade:\", sucesso_post_deterministico - sucesso_priori_deterministic)\n",
        "\n",
        "print(\"Sucesso probabilístico a priori:\", sucesso_priori_probabilistic)\n",
        "print(\"Sucesso probabilístico a posteriori:\", sucesso_post_probabilistico)\n",
        "print(\"Degradação probabilística de privacidade:\", sucesso_post_probabilistico / sucesso_priori_probabilistic)\n",
        "\n",
        "print(\"Tempo de execução:\", execution_time, \"segundos\")"
      ],
      "metadata": {
        "id": "VVX3mgsqZ8Et"
      },
      "execution_count": null,
      "outputs": []
    },
    {
      "cell_type": "code",
      "source": [
        "qid_attrs = ['NU_IDADE', 'TP_SEXO', 'TP_COR_RACA', 'CO_MUNICIPIO_NASCIMENTO', 'TP_NACIONALIDADE', 'CO_IES', 'CO_CURSO', 'TP_ESCOLA_CONCLUSAO_ENS_MEDIO']\n",
        "sensitive_attr = 'IN_FINANCIAMENTO_ESTUDANTIL'\n",
        "data = microdados\n",
        "\n",
        "start_time = time.time()\n",
        "\n",
        "sucesso_priori_deterministic = suc_prior_deterministic(data, sensitive_attr)\n",
        "sucesso_priori_probabilistic = suc_prior_probabilistic(data, sensitive_attr)\n",
        "sucesso_post_deterministico = suc_post_deterministic(data, qid_attrs, sensitive_attr)\n",
        "sucesso_post_probabilistico = suc_post_probabilistic(data, qid_attrs, sensitive_attr)\n",
        "\n",
        "end_time = time.time()\n",
        "execution_time = end_time - start_time\n",
        "\n",
        "print(\"Sucesso determinístico a priori:\", sucesso_priori_deterministic)\n",
        "print(\"Sucesso determinístico a posteriori:\", sucesso_post_deterministico)\n",
        "print(\"Degradação determinística de privacidade:\", sucesso_post_deterministico - sucesso_priori_deterministic)\n",
        "\n",
        "print(\"Sucesso probabilístico a priori:\", sucesso_priori_probabilistic)\n",
        "print(\"Sucesso probabilístico a posteriori:\", sucesso_post_probabilistico)\n",
        "print(\"Degradação probabilística de privacidade:\", sucesso_post_probabilistico / sucesso_priori_probabilistic)\n",
        "\n",
        "print(\"Tempo de execução:\", execution_time, \"segundos\")"
      ],
      "metadata": {
        "id": "lYGXct30dCts"
      },
      "execution_count": null,
      "outputs": []
    },
    {
      "cell_type": "code",
      "source": [
        "qid_attrs = ['NU_IDADE', 'TP_SEXO', 'TP_COR_RACA', 'CO_MUNICIPIO_NASCIMENTO', 'TP_NACIONALIDADE', 'CO_PAIS_ORIGEM', 'CO_IES', 'CO_CURSO', 'TP_ESCOLA_CONCLUSAO_ENS_MEDIO']\n",
        "sensitive_attr = 'IN_FINANCIAMENTO_ESTUDANTIL'\n",
        "data = microdados\n",
        "\n",
        "start_time = time.time()\n",
        "\n",
        "sucesso_priori_deterministic = suc_prior_deterministic(data, sensitive_attr)\n",
        "sucesso_priori_probabilistic = suc_prior_probabilistic(data, sensitive_attr)\n",
        "sucesso_post_deterministico = suc_post_deterministic(data, qid_attrs, sensitive_attr)\n",
        "sucesso_post_probabilistico = suc_post_probabilistic(data, qid_attrs, sensitive_attr)\n",
        "\n",
        "end_time = time.time()\n",
        "execution_time = end_time - start_time\n",
        "\n",
        "print(\"Sucesso determinístico a priori:\", sucesso_priori_deterministic)\n",
        "print(\"Sucesso determinístico a posteriori:\", sucesso_post_deterministico)\n",
        "print(\"Degradação determinística de privacidade:\", sucesso_post_deterministico - sucesso_priori_deterministic)\n",
        "\n",
        "print(\"Sucesso probabilístico a priori:\", sucesso_priori_probabilistic)\n",
        "print(\"Sucesso probabilístico a posteriori:\", sucesso_post_probabilistico)\n",
        "print(\"Degradação probabilística de privacidade:\", sucesso_post_probabilistico / sucesso_priori_probabilistic)\n",
        "\n",
        "print(\"Tempo de execução:\", execution_time, \"segundos\")"
      ],
      "metadata": {
        "id": "r6qKIPV3Z8Et"
      },
      "execution_count": null,
      "outputs": []
    },
    {
      "cell_type": "markdown",
      "source": [
        "###### Experimentos 1.1 - Faixa Etária"
      ],
      "metadata": {
        "id": "CdwJPG9YFRrK"
      }
    },
    {
      "cell_type": "code",
      "source": [
        "qid_attrs = ['FAIXA_ETARIA', 'CO_CURSO']\n",
        "sensitive_attr = 'IN_FINANCIAMENTO_ESTUDANTIL'\n",
        "data = microdados\n",
        "\n",
        "start_time = time.time()\n",
        "\n",
        "sucesso_priori_deterministic = suc_prior_deterministic(data, sensitive_attr)\n",
        "sucesso_priori_probabilistic = suc_prior_probabilistic(data, sensitive_attr)\n",
        "sucesso_post_deterministico = suc_post_deterministic(data, qid_attrs, sensitive_attr)\n",
        "sucesso_post_probabilistico = suc_post_probabilistic(data, qid_attrs, sensitive_attr)\n",
        "\n",
        "end_time = time.time()\n",
        "execution_time = end_time - start_time\n",
        "\n",
        "print(\"Sucesso determinístico a priori:\", sucesso_priori_deterministic)\n",
        "print(\"Sucesso determinístico a posteriori:\", sucesso_post_deterministico)\n",
        "print(\"Degradação determinística de privacidade:\", sucesso_post_deterministico - sucesso_priori_deterministic)\n",
        "\n",
        "print(\"Sucesso probabilístico a priori:\", sucesso_priori_probabilistic)\n",
        "print(\"Sucesso probabilístico a posteriori:\", sucesso_post_probabilistico)\n",
        "print(\"Degradação probabilística de privacidade:\", sucesso_post_probabilistico / sucesso_priori_probabilistic)\n",
        "\n",
        "print(\"Tempo de execução:\", execution_time, \"segundos\")"
      ],
      "metadata": {
        "id": "Yza9XUJZFRrK"
      },
      "execution_count": null,
      "outputs": []
    },
    {
      "cell_type": "code",
      "source": [
        "qid_attrs = ['FAIXA_ETARIA', 'CO_MUNICIPIO_NASCIMENTO', 'CO_CURSO']\n",
        "sensitive_attr = 'IN_FINANCIAMENTO_ESTUDANTIL'\n",
        "data = microdados\n",
        "\n",
        "start_time = time.time()\n",
        "\n",
        "sucesso_priori_deterministic = suc_prior_deterministic(data, sensitive_attr)\n",
        "sucesso_priori_probabilistic = suc_prior_probabilistic(data, sensitive_attr)\n",
        "sucesso_post_deterministico = suc_post_deterministic(data, qid_attrs, sensitive_attr)\n",
        "sucesso_post_probabilistico = suc_post_probabilistic(data, qid_attrs, sensitive_attr)\n",
        "\n",
        "end_time = time.time()\n",
        "execution_time = end_time - start_time\n",
        "\n",
        "print(\"Sucesso determinístico a priori:\", sucesso_priori_deterministic)\n",
        "print(\"Sucesso determinístico a posteriori:\", sucesso_post_deterministico)\n",
        "print(\"Degradação determinística de privacidade:\", sucesso_post_deterministico - sucesso_priori_deterministic)\n",
        "\n",
        "print(\"Sucesso probabilístico a priori:\", sucesso_priori_probabilistic)\n",
        "print(\"Sucesso probabilístico a posteriori:\", sucesso_post_probabilistico)\n",
        "print(\"Degradação probabilística de privacidade:\", sucesso_post_probabilistico / sucesso_priori_probabilistic)\n",
        "\n",
        "print(\"Tempo de execução:\", execution_time, \"segundos\")"
      ],
      "metadata": {
        "id": "yOPRbcXdFRrL"
      },
      "execution_count": null,
      "outputs": []
    },
    {
      "cell_type": "code",
      "source": [
        "qid_attrs = ['FAIXA_ETARIA', 'TP_COR_RACA', 'CO_MUNICIPIO_NASCIMENTO', 'CO_CURSO']\n",
        "sensitive_attr = 'IN_FINANCIAMENTO_ESTUDANTIL'\n",
        "data = microdados\n",
        "\n",
        "start_time = time.time()\n",
        "\n",
        "sucesso_priori_deterministic = suc_prior_deterministic(data, sensitive_attr)\n",
        "sucesso_priori_probabilistic = suc_prior_probabilistic(data, sensitive_attr)\n",
        "sucesso_post_deterministico = suc_post_deterministic(data, qid_attrs, sensitive_attr)\n",
        "sucesso_post_probabilistico = suc_post_probabilistic(data, qid_attrs, sensitive_attr)\n",
        "\n",
        "end_time = time.time()\n",
        "execution_time = end_time - start_time\n",
        "\n",
        "print(\"Sucesso determinístico a priori:\", sucesso_priori_deterministic)\n",
        "print(\"Sucesso determinístico a posteriori:\", sucesso_post_deterministico)\n",
        "print(\"Degradação determinística de privacidade:\", sucesso_post_deterministico - sucesso_priori_deterministic)\n",
        "\n",
        "print(\"Sucesso probabilístico a priori:\", sucesso_priori_probabilistic)\n",
        "print(\"Sucesso probabilístico a posteriori:\", sucesso_post_probabilistico)\n",
        "print(\"Degradação probabilística de privacidade:\", sucesso_post_probabilistico / sucesso_priori_probabilistic)\n",
        "\n",
        "print(\"Tempo de execução:\", execution_time, \"segundos\")"
      ],
      "metadata": {
        "id": "uNEZUYPzFRrL"
      },
      "execution_count": null,
      "outputs": []
    },
    {
      "cell_type": "code",
      "source": [
        "qid_attrs = ['FAIXA_ETARIA', 'TP_SEXO', 'TP_COR_RACA', 'CO_MUNICIPIO_NASCIMENTO', 'CO_CURSO']\n",
        "sensitive_attr = 'IN_FINANCIAMENTO_ESTUDANTIL'\n",
        "data = microdados\n",
        "\n",
        "start_time = time.time()\n",
        "\n",
        "sucesso_priori_deterministic = suc_prior_deterministic(data, sensitive_attr)\n",
        "sucesso_priori_probabilistic = suc_prior_probabilistic(data, sensitive_attr)\n",
        "sucesso_post_deterministico = suc_post_deterministic(data, qid_attrs, sensitive_attr)\n",
        "sucesso_post_probabilistico = suc_post_probabilistic(data, qid_attrs, sensitive_attr)\n",
        "\n",
        "end_time = time.time()\n",
        "execution_time = end_time - start_time\n",
        "\n",
        "print(\"Sucesso determinístico a priori:\", sucesso_priori_deterministic)\n",
        "print(\"Sucesso determinístico a posteriori:\", sucesso_post_deterministico)\n",
        "print(\"Degradação determinística de privacidade:\", sucesso_post_deterministico - sucesso_priori_deterministic)\n",
        "\n",
        "print(\"Sucesso probabilístico a priori:\", sucesso_priori_probabilistic)\n",
        "print(\"Sucesso probabilístico a posteriori:\", sucesso_post_probabilistico)\n",
        "print(\"Degradação probabilística de privacidade:\", sucesso_post_probabilistico / sucesso_priori_probabilistic)\n",
        "\n",
        "print(\"Tempo de execução:\", execution_time, \"segundos\")"
      ],
      "metadata": {
        "id": "tGXjnsWZFRrM"
      },
      "execution_count": null,
      "outputs": []
    },
    {
      "cell_type": "code",
      "source": [
        "qid_attrs = ['FAIXA_ETARIA', 'TP_SEXO', 'TP_COR_RACA', 'CO_MUNICIPIO_NASCIMENTO', 'CO_CURSO', 'TP_ESCOLA_CONCLUSAO_ENS_MEDIO']\n",
        "sensitive_attr = 'IN_FINANCIAMENTO_ESTUDANTIL'\n",
        "data = microdados\n",
        "\n",
        "start_time = time.time()\n",
        "\n",
        "sucesso_priori_deterministic = suc_prior_deterministic(data, sensitive_attr)\n",
        "sucesso_priori_probabilistic = suc_prior_probabilistic(data, sensitive_attr)\n",
        "sucesso_post_deterministico = suc_post_deterministic(data, qid_attrs, sensitive_attr)\n",
        "sucesso_post_probabilistico = suc_post_probabilistic(data, qid_attrs, sensitive_attr)\n",
        "\n",
        "end_time = time.time()\n",
        "execution_time = end_time - start_time\n",
        "\n",
        "print(\"Sucesso determinístico a priori:\", sucesso_priori_deterministic)\n",
        "print(\"Sucesso determinístico a posteriori:\", sucesso_post_deterministico)\n",
        "print(\"Degradação determinística de privacidade:\", sucesso_post_deterministico - sucesso_priori_deterministic)\n",
        "\n",
        "print(\"Sucesso probabilístico a priori:\", sucesso_priori_probabilistic)\n",
        "print(\"Sucesso probabilístico a posteriori:\", sucesso_post_probabilistico)\n",
        "print(\"Degradação probabilística de privacidade:\", sucesso_post_probabilistico / sucesso_priori_probabilistic)\n",
        "\n",
        "print(\"Tempo de execução:\", execution_time, \"segundos\")"
      ],
      "metadata": {
        "id": "-7375RdxFRrM"
      },
      "execution_count": null,
      "outputs": []
    },
    {
      "cell_type": "code",
      "source": [
        "qid_attrs = ['FAIXA_ETARIA', 'TP_SEXO', 'TP_COR_RACA', 'CO_MUNICIPIO_NASCIMENTO', 'TP_NACIONALIDADE', 'CO_CURSO', 'TP_ESCOLA_CONCLUSAO_ENS_MEDIO']\n",
        "sensitive_attr = 'IN_FINANCIAMENTO_ESTUDANTIL'\n",
        "data = microdados\n",
        "\n",
        "start_time = time.time()\n",
        "\n",
        "sucesso_priori_deterministic = suc_prior_deterministic(data, sensitive_attr)\n",
        "sucesso_priori_probabilistic = suc_prior_probabilistic(data, sensitive_attr)\n",
        "sucesso_post_deterministico = suc_post_deterministic(data, qid_attrs, sensitive_attr)\n",
        "sucesso_post_probabilistico = suc_post_probabilistic(data, qid_attrs, sensitive_attr)\n",
        "\n",
        "end_time = time.time()\n",
        "execution_time = end_time - start_time\n",
        "\n",
        "print(\"Sucesso determinístico a priori:\", sucesso_priori_deterministic)\n",
        "print(\"Sucesso determinístico a posteriori:\", sucesso_post_deterministico)\n",
        "print(\"Degradação determinística de privacidade:\", sucesso_post_deterministico - sucesso_priori_deterministic)\n",
        "\n",
        "print(\"Sucesso probabilístico a priori:\", sucesso_priori_probabilistic)\n",
        "print(\"Sucesso probabilístico a posteriori:\", sucesso_post_probabilistico)\n",
        "print(\"Degradação probabilística de privacidade:\", sucesso_post_probabilistico / sucesso_priori_probabilistic)\n",
        "\n",
        "print(\"Tempo de execução:\", execution_time, \"segundos\")"
      ],
      "metadata": {
        "id": "gtggXn3FFRrN"
      },
      "execution_count": null,
      "outputs": []
    },
    {
      "cell_type": "code",
      "source": [
        "qid_attrs = ['FAIXA_ETARIA', 'TP_SEXO', 'TP_COR_RACA', 'CO_MUNICIPIO_NASCIMENTO', 'TP_NACIONALIDADE', 'CO_PAIS_ORIGEM', 'CO_CURSO', 'TP_ESCOLA_CONCLUSAO_ENS_MEDIO']\n",
        "sensitive_attr = 'IN_FINANCIAMENTO_ESTUDANTIL'\n",
        "data = microdados\n",
        "\n",
        "start_time = time.time()\n",
        "\n",
        "sucesso_priori_deterministic = suc_prior_deterministic(data, sensitive_attr)\n",
        "sucesso_priori_probabilistic = suc_prior_probabilistic(data, sensitive_attr)\n",
        "sucesso_post_deterministico = suc_post_deterministic(data, qid_attrs, sensitive_attr)\n",
        "sucesso_post_probabilistico = suc_post_probabilistic(data, qid_attrs, sensitive_attr)\n",
        "\n",
        "end_time = time.time()\n",
        "execution_time = end_time - start_time\n",
        "\n",
        "print(\"Sucesso determinístico a priori:\", sucesso_priori_deterministic)\n",
        "print(\"Sucesso determinístico a posteriori:\", sucesso_post_deterministico)\n",
        "print(\"Degradação determinística de privacidade:\", sucesso_post_deterministico - sucesso_priori_deterministic)\n",
        "\n",
        "print(\"Sucesso probabilístico a priori:\", sucesso_priori_probabilistic)\n",
        "print(\"Sucesso probabilístico a posteriori:\", sucesso_post_probabilistico)\n",
        "print(\"Degradação probabilística de privacidade:\", sucesso_post_probabilistico / sucesso_priori_probabilistic)\n",
        "\n",
        "print(\"Tempo de execução:\", execution_time, \"segundos\")"
      ],
      "metadata": {
        "id": "GTP4sWInFRrN"
      },
      "execution_count": null,
      "outputs": []
    },
    {
      "cell_type": "code",
      "source": [
        "qid_attrs = ['FAIXA_ETARIA', 'TP_SEXO', 'TP_COR_RACA', 'CO_MUNICIPIO_NASCIMENTO', 'TP_NACIONALIDADE', 'CO_IES', 'CO_CURSO', 'TP_ESCOLA_CONCLUSAO_ENS_MEDIO']\n",
        "sensitive_attr = 'IN_FINANCIAMENTO_ESTUDANTIL'\n",
        "data = microdados\n",
        "\n",
        "start_time = time.time()\n",
        "\n",
        "sucesso_priori_deterministic = suc_prior_deterministic(data, sensitive_attr)\n",
        "sucesso_priori_probabilistic = suc_prior_probabilistic(data, sensitive_attr)\n",
        "sucesso_post_deterministico = suc_post_deterministic(data, qid_attrs, sensitive_attr)\n",
        "sucesso_post_probabilistico = suc_post_probabilistic(data, qid_attrs, sensitive_attr)\n",
        "\n",
        "end_time = time.time()\n",
        "execution_time = end_time - start_time\n",
        "\n",
        "print(\"Sucesso determinístico a priori:\", sucesso_priori_deterministic)\n",
        "print(\"Sucesso determinístico a posteriori:\", sucesso_post_deterministico)\n",
        "print(\"Degradação determinística de privacidade:\", sucesso_post_deterministico - sucesso_priori_deterministic)\n",
        "\n",
        "print(\"Sucesso probabilístico a priori:\", sucesso_priori_probabilistic)\n",
        "print(\"Sucesso probabilístico a posteriori:\", sucesso_post_probabilistico)\n",
        "print(\"Degradação probabilística de privacidade:\", sucesso_post_probabilistico / sucesso_priori_probabilistic)\n",
        "\n",
        "print(\"Tempo de execução:\", execution_time, \"segundos\")"
      ],
      "metadata": {
        "id": "msu4mThKdK8j"
      },
      "execution_count": null,
      "outputs": []
    },
    {
      "cell_type": "code",
      "source": [
        "qid_attrs = ['FAIXA_ETARIA', 'TP_SEXO', 'TP_COR_RACA', 'CO_MUNICIPIO_NASCIMENTO', 'TP_NACIONALIDADE', 'CO_PAIS_ORIGEM', 'CO_IES', 'CO_CURSO', 'TP_ESCOLA_CONCLUSAO_ENS_MEDIO']\n",
        "sensitive_attr = 'IN_FINANCIAMENTO_ESTUDANTIL'\n",
        "data = microdados\n",
        "\n",
        "start_time = time.time()\n",
        "\n",
        "sucesso_priori_deterministic = suc_prior_deterministic(data, sensitive_attr)\n",
        "sucesso_priori_probabilistic = suc_prior_probabilistic(data, sensitive_attr)\n",
        "sucesso_post_deterministico = suc_post_deterministic(data, qid_attrs, sensitive_attr)\n",
        "sucesso_post_probabilistico = suc_post_probabilistic(data, qid_attrs, sensitive_attr)\n",
        "\n",
        "end_time = time.time()\n",
        "execution_time = end_time - start_time\n",
        "\n",
        "print(\"Sucesso determinístico a priori:\", sucesso_priori_deterministic)\n",
        "print(\"Sucesso determinístico a posteriori:\", sucesso_post_deterministico)\n",
        "print(\"Degradação determinística de privacidade:\", sucesso_post_deterministico - sucesso_priori_deterministic)\n",
        "\n",
        "print(\"Sucesso probabilístico a priori:\", sucesso_priori_probabilistic)\n",
        "print(\"Sucesso probabilístico a posteriori:\", sucesso_post_probabilistico)\n",
        "print(\"Degradação probabilística de privacidade:\", sucesso_post_probabilistico / sucesso_priori_probabilistic)\n",
        "\n",
        "print(\"Tempo de execução:\", execution_time, \"segundos\")"
      ],
      "metadata": {
        "id": "YICzG3_DFRrN"
      },
      "execution_count": null,
      "outputs": []
    },
    {
      "cell_type": "markdown",
      "source": [
        "##### Atributo Sensível [IN_DEFICIENCIA]"
      ],
      "metadata": {
        "id": "8q6agw0WJGLi"
      }
    },
    {
      "cell_type": "markdown",
      "source": [
        "###### Experimento 1.0 - Idade"
      ],
      "metadata": {
        "id": "fGpqVEk8bUXJ"
      }
    },
    {
      "cell_type": "code",
      "source": [
        "qid_attrs = ['NU_IDADE', 'CO_CURSO']\n",
        "sensitive_attr = 'IN_DEFICIENCIA'\n",
        "data = microdados\n",
        "\n",
        "start_time = time.time()\n",
        "\n",
        "sucesso_priori_deterministic = suc_prior_deterministic(data, sensitive_attr)\n",
        "sucesso_priori_probabilistic = suc_prior_probabilistic(data, sensitive_attr)\n",
        "sucesso_post_deterministico = suc_post_deterministic(data, qid_attrs, sensitive_attr)\n",
        "sucesso_post_probabilistico = suc_post_probabilistic(data, qid_attrs, sensitive_attr)\n",
        "\n",
        "end_time = time.time()\n",
        "execution_time = end_time - start_time\n",
        "\n",
        "print(\"Sucesso determinístico a priori:\", sucesso_priori_deterministic)\n",
        "print(\"Sucesso determinístico a posteriori:\", sucesso_post_deterministico)\n",
        "print(\"Degradação determinística de privacidade:\", sucesso_post_deterministico - sucesso_priori_deterministic)\n",
        "\n",
        "print(\"Sucesso probabilístico a priori:\", sucesso_priori_probabilistic)\n",
        "print(\"Sucesso probabilístico a posteriori:\", sucesso_post_probabilistico)\n",
        "print(\"Degradação probabilística de privacidade:\", sucesso_post_probabilistico / sucesso_priori_probabilistic)\n",
        "\n",
        "print(\"Tempo de execução:\", execution_time, \"segundos\")"
      ],
      "metadata": {
        "id": "3ZwiZ6rdbUXK"
      },
      "execution_count": null,
      "outputs": []
    },
    {
      "cell_type": "code",
      "source": [
        "qid_attrs = ['NU_IDADE', 'CO_MUNICIPIO_NASCIMENTO', 'CO_CURSO']\n",
        "sensitive_attr = 'IN_DEFICIENCIA'\n",
        "data = microdados\n",
        "\n",
        "start_time = time.time()\n",
        "\n",
        "sucesso_priori_deterministic = suc_prior_deterministic(data, sensitive_attr)\n",
        "sucesso_priori_probabilistic = suc_prior_probabilistic(data, sensitive_attr)\n",
        "sucesso_post_deterministico = suc_post_deterministic(data, qid_attrs, sensitive_attr)\n",
        "sucesso_post_probabilistico = suc_post_probabilistic(data, qid_attrs, sensitive_attr)\n",
        "\n",
        "end_time = time.time()\n",
        "execution_time = end_time - start_time\n",
        "\n",
        "print(\"Sucesso determinístico a priori:\", sucesso_priori_deterministic)\n",
        "print(\"Sucesso determinístico a posteriori:\", sucesso_post_deterministico)\n",
        "print(\"Degradação determinística de privacidade:\", sucesso_post_deterministico - sucesso_priori_deterministic)\n",
        "\n",
        "print(\"Sucesso probabilístico a priori:\", sucesso_priori_probabilistic)\n",
        "print(\"Sucesso probabilístico a posteriori:\", sucesso_post_probabilistico)\n",
        "print(\"Degradação probabilística de privacidade:\", sucesso_post_probabilistico / sucesso_priori_probabilistic)\n",
        "\n",
        "print(\"Tempo de execução:\", execution_time, \"segundos\")"
      ],
      "metadata": {
        "id": "RJ_YL4iybUXL"
      },
      "execution_count": null,
      "outputs": []
    },
    {
      "cell_type": "code",
      "source": [
        "qid_attrs = ['NU_IDADE', 'TP_COR_RACA', 'CO_MUNICIPIO_NASCIMENTO', 'CO_CURSO']\n",
        "sensitive_attr = 'IN_DEFICIENCIA'\n",
        "data = microdados\n",
        "\n",
        "start_time = time.time()\n",
        "\n",
        "sucesso_priori_deterministic = suc_prior_deterministic(data, sensitive_attr)\n",
        "sucesso_priori_probabilistic = suc_prior_probabilistic(data, sensitive_attr)\n",
        "sucesso_post_deterministico = suc_post_deterministic(data, qid_attrs, sensitive_attr)\n",
        "sucesso_post_probabilistico = suc_post_probabilistic(data, qid_attrs, sensitive_attr)\n",
        "\n",
        "end_time = time.time()\n",
        "execution_time = end_time - start_time\n",
        "\n",
        "print(\"Sucesso determinístico a priori:\", sucesso_priori_deterministic)\n",
        "print(\"Sucesso determinístico a posteriori:\", sucesso_post_deterministico)\n",
        "print(\"Degradação determinística de privacidade:\", sucesso_post_deterministico - sucesso_priori_deterministic)\n",
        "\n",
        "print(\"Sucesso probabilístico a priori:\", sucesso_priori_probabilistic)\n",
        "print(\"Sucesso probabilístico a posteriori:\", sucesso_post_probabilistico)\n",
        "print(\"Degradação probabilística de privacidade:\", sucesso_post_probabilistico / sucesso_priori_probabilistic)\n",
        "\n",
        "print(\"Tempo de execução:\", execution_time, \"segundos\")"
      ],
      "metadata": {
        "id": "niSwI_vPbUXL"
      },
      "execution_count": null,
      "outputs": []
    },
    {
      "cell_type": "code",
      "source": [
        "qid_attrs = ['NU_IDADE', 'TP_SEXO', 'TP_COR_RACA', 'CO_MUNICIPIO_NASCIMENTO', 'CO_CURSO']\n",
        "sensitive_attr = 'IN_DEFICIENCIA'\n",
        "data = microdados\n",
        "\n",
        "start_time = time.time()\n",
        "\n",
        "sucesso_priori_deterministic = suc_prior_deterministic(data, sensitive_attr)\n",
        "sucesso_priori_probabilistic = suc_prior_probabilistic(data, sensitive_attr)\n",
        "sucesso_post_deterministico = suc_post_deterministic(data, qid_attrs, sensitive_attr)\n",
        "sucesso_post_probabilistico = suc_post_probabilistic(data, qid_attrs, sensitive_attr)\n",
        "\n",
        "end_time = time.time()\n",
        "execution_time = end_time - start_time\n",
        "\n",
        "print(\"Sucesso determinístico a priori:\", sucesso_priori_deterministic)\n",
        "print(\"Sucesso determinístico a posteriori:\", sucesso_post_deterministico)\n",
        "print(\"Degradação determinística de privacidade:\", sucesso_post_deterministico - sucesso_priori_deterministic)\n",
        "\n",
        "print(\"Sucesso probabilístico a priori:\", sucesso_priori_probabilistic)\n",
        "print(\"Sucesso probabilístico a posteriori:\", sucesso_post_probabilistico)\n",
        "print(\"Degradação probabilística de privacidade:\", sucesso_post_probabilistico / sucesso_priori_probabilistic)\n",
        "\n",
        "print(\"Tempo de execução:\", execution_time, \"segundos\")"
      ],
      "metadata": {
        "id": "ZhuLHyNHbUXM"
      },
      "execution_count": null,
      "outputs": []
    },
    {
      "cell_type": "code",
      "source": [
        "qid_attrs = ['NU_IDADE', 'TP_SEXO', 'TP_COR_RACA', 'CO_MUNICIPIO_NASCIMENTO', 'CO_CURSO', 'TP_ESCOLA_CONCLUSAO_ENS_MEDIO']\n",
        "sensitive_attr = 'IN_DEFICIENCIA'\n",
        "data = microdados\n",
        "\n",
        "start_time = time.time()\n",
        "\n",
        "sucesso_priori_deterministic = suc_prior_deterministic(data, sensitive_attr)\n",
        "sucesso_priori_probabilistic = suc_prior_probabilistic(data, sensitive_attr)\n",
        "sucesso_post_deterministico = suc_post_deterministic(data, qid_attrs, sensitive_attr)\n",
        "sucesso_post_probabilistico = suc_post_probabilistic(data, qid_attrs, sensitive_attr)\n",
        "\n",
        "end_time = time.time()\n",
        "execution_time = end_time - start_time\n",
        "\n",
        "print(\"Sucesso determinístico a priori:\", sucesso_priori_deterministic)\n",
        "print(\"Sucesso determinístico a posteriori:\", sucesso_post_deterministico)\n",
        "print(\"Degradação determinística de privacidade:\", sucesso_post_deterministico - sucesso_priori_deterministic)\n",
        "\n",
        "print(\"Sucesso probabilístico a priori:\", sucesso_priori_probabilistic)\n",
        "print(\"Sucesso probabilístico a posteriori:\", sucesso_post_probabilistico)\n",
        "print(\"Degradação probabilística de privacidade:\", sucesso_post_probabilistico / sucesso_priori_probabilistic)\n",
        "\n",
        "print(\"Tempo de execução:\", execution_time, \"segundos\")"
      ],
      "metadata": {
        "id": "RyNAWRA7bUXM"
      },
      "execution_count": null,
      "outputs": []
    },
    {
      "cell_type": "code",
      "source": [
        "qid_attrs = ['NU_IDADE', 'TP_SEXO', 'TP_COR_RACA', 'CO_MUNICIPIO_NASCIMENTO', 'TP_NACIONALIDADE', 'CO_CURSO', 'TP_ESCOLA_CONCLUSAO_ENS_MEDIO']\n",
        "sensitive_attr = 'IN_DEFICIENCIA'\n",
        "data = microdados\n",
        "\n",
        "start_time = time.time()\n",
        "\n",
        "sucesso_priori_deterministic = suc_prior_deterministic(data, sensitive_attr)\n",
        "sucesso_priori_probabilistic = suc_prior_probabilistic(data, sensitive_attr)\n",
        "sucesso_post_deterministico = suc_post_deterministic(data, qid_attrs, sensitive_attr)\n",
        "sucesso_post_probabilistico = suc_post_probabilistic(data, qid_attrs, sensitive_attr)\n",
        "\n",
        "end_time = time.time()\n",
        "execution_time = end_time - start_time\n",
        "\n",
        "print(\"Sucesso determinístico a priori:\", sucesso_priori_deterministic)\n",
        "print(\"Sucesso determinístico a posteriori:\", sucesso_post_deterministico)\n",
        "print(\"Degradação determinística de privacidade:\", sucesso_post_deterministico - sucesso_priori_deterministic)\n",
        "\n",
        "print(\"Sucesso probabilístico a priori:\", sucesso_priori_probabilistic)\n",
        "print(\"Sucesso probabilístico a posteriori:\", sucesso_post_probabilistico)\n",
        "print(\"Degradação probabilística de privacidade:\", sucesso_post_probabilistico / sucesso_priori_probabilistic)\n",
        "\n",
        "print(\"Tempo de execução:\", execution_time, \"segundos\")"
      ],
      "metadata": {
        "id": "j-AGqIkPbUXM"
      },
      "execution_count": null,
      "outputs": []
    },
    {
      "cell_type": "code",
      "source": [
        "qid_attrs = ['NU_IDADE', 'TP_SEXO', 'TP_COR_RACA', 'CO_MUNICIPIO_NASCIMENTO', 'TP_NACIONALIDADE', 'CO_PAIS_ORIGEM', 'CO_CURSO', 'TP_ESCOLA_CONCLUSAO_ENS_MEDIO']\n",
        "sensitive_attr = 'IN_DEFICIENCIA'\n",
        "data = microdados\n",
        "\n",
        "start_time = time.time()\n",
        "\n",
        "sucesso_priori_deterministic = suc_prior_deterministic(data, sensitive_attr)\n",
        "sucesso_priori_probabilistic = suc_prior_probabilistic(data, sensitive_attr)\n",
        "sucesso_post_deterministico = suc_post_deterministic(data, qid_attrs, sensitive_attr)\n",
        "sucesso_post_probabilistico = suc_post_probabilistic(data, qid_attrs, sensitive_attr)\n",
        "\n",
        "end_time = time.time()\n",
        "execution_time = end_time - start_time\n",
        "\n",
        "print(\"Sucesso determinístico a priori:\", sucesso_priori_deterministic)\n",
        "print(\"Sucesso determinístico a posteriori:\", sucesso_post_deterministico)\n",
        "print(\"Degradação determinística de privacidade:\", sucesso_post_deterministico - sucesso_priori_deterministic)\n",
        "\n",
        "print(\"Sucesso probabilístico a priori:\", sucesso_priori_probabilistic)\n",
        "print(\"Sucesso probabilístico a posteriori:\", sucesso_post_probabilistico)\n",
        "print(\"Degradação probabilística de privacidade:\", sucesso_post_probabilistico / sucesso_priori_probabilistic)\n",
        "\n",
        "print(\"Tempo de execução:\", execution_time, \"segundos\")"
      ],
      "metadata": {
        "id": "76p1gdncbUXM"
      },
      "execution_count": null,
      "outputs": []
    },
    {
      "cell_type": "code",
      "source": [
        "qid_attrs = ['NU_IDADE', 'TP_SEXO', 'TP_COR_RACA', 'CO_MUNICIPIO_NASCIMENTO', 'TP_NACIONALIDADE', 'CO_IES', 'CO_CURSO', 'TP_ESCOLA_CONCLUSAO_ENS_MEDIO']\n",
        "sensitive_attr = 'IN_DEFICIENCIA'\n",
        "data = microdados\n",
        "\n",
        "start_time = time.time()\n",
        "\n",
        "sucesso_priori_deterministic = suc_prior_deterministic(data, sensitive_attr)\n",
        "sucesso_priori_probabilistic = suc_prior_probabilistic(data, sensitive_attr)\n",
        "sucesso_post_deterministico = suc_post_deterministic(data, qid_attrs, sensitive_attr)\n",
        "sucesso_post_probabilistico = suc_post_probabilistic(data, qid_attrs, sensitive_attr)\n",
        "\n",
        "end_time = time.time()\n",
        "execution_time = end_time - start_time\n",
        "\n",
        "print(\"Sucesso determinístico a priori:\", sucesso_priori_deterministic)\n",
        "print(\"Sucesso determinístico a posteriori:\", sucesso_post_deterministico)\n",
        "print(\"Degradação determinística de privacidade:\", sucesso_post_deterministico - sucesso_priori_deterministic)\n",
        "\n",
        "print(\"Sucesso probabilístico a priori:\", sucesso_priori_probabilistic)\n",
        "print(\"Sucesso probabilístico a posteriori:\", sucesso_post_probabilistico)\n",
        "print(\"Degradação probabilística de privacidade:\", sucesso_post_probabilistico / sucesso_priori_probabilistic)\n",
        "\n",
        "print(\"Tempo de execução:\", execution_time, \"segundos\")"
      ],
      "metadata": {
        "id": "unasu-yBdtLa"
      },
      "execution_count": null,
      "outputs": []
    },
    {
      "cell_type": "code",
      "source": [
        "qid_attrs = ['NU_IDADE', 'TP_SEXO', 'TP_COR_RACA', 'CO_MUNICIPIO_NASCIMENTO', 'TP_NACIONALIDADE', 'CO_PAIS_ORIGEM', 'CO_IES', 'CO_CURSO', 'TP_ESCOLA_CONCLUSAO_ENS_MEDIO']\n",
        "sensitive_attr = 'IN_DEFICIENCIA'\n",
        "data = microdados\n",
        "\n",
        "start_time = time.time()\n",
        "\n",
        "sucesso_priori_deterministic = suc_prior_deterministic(data, sensitive_attr)\n",
        "sucesso_priori_probabilistic = suc_prior_probabilistic(data, sensitive_attr)\n",
        "sucesso_post_deterministico = suc_post_deterministic(data, qid_attrs, sensitive_attr)\n",
        "sucesso_post_probabilistico = suc_post_probabilistic(data, qid_attrs, sensitive_attr)\n",
        "\n",
        "end_time = time.time()\n",
        "execution_time = end_time - start_time\n",
        "\n",
        "print(\"Sucesso determinístico a priori:\", sucesso_priori_deterministic)\n",
        "print(\"Sucesso determinístico a posteriori:\", sucesso_post_deterministico)\n",
        "print(\"Degradação determinística de privacidade:\", sucesso_post_deterministico - sucesso_priori_deterministic)\n",
        "\n",
        "print(\"Sucesso probabilístico a priori:\", sucesso_priori_probabilistic)\n",
        "print(\"Sucesso probabilístico a posteriori:\", sucesso_post_probabilistico)\n",
        "print(\"Degradação probabilística de privacidade:\", sucesso_post_probabilistico / sucesso_priori_probabilistic)\n",
        "\n",
        "print(\"Tempo de execução:\", execution_time, \"segundos\")"
      ],
      "metadata": {
        "id": "s-dWFRBwbUXN"
      },
      "execution_count": null,
      "outputs": []
    },
    {
      "cell_type": "markdown",
      "source": [
        "###### Experimento 1.1 - Faixa Etária"
      ],
      "metadata": {
        "id": "l1Qd1UX3Gk4O"
      }
    },
    {
      "cell_type": "code",
      "source": [
        "qid_attrs = ['FAIXA_ETARIA', 'CO_CURSO']\n",
        "sensitive_attr = 'IN_DEFICIENCIA'\n",
        "data = microdados\n",
        "\n",
        "start_time = time.time()\n",
        "\n",
        "sucesso_priori_deterministic = suc_prior_deterministic(data, sensitive_attr)\n",
        "sucesso_priori_probabilistic = suc_prior_probabilistic(data, sensitive_attr)\n",
        "sucesso_post_deterministico = suc_post_deterministic(data, qid_attrs, sensitive_attr)\n",
        "sucesso_post_probabilistico = suc_post_probabilistic(data, qid_attrs, sensitive_attr)\n",
        "\n",
        "end_time = time.time()\n",
        "execution_time = end_time - start_time\n",
        "\n",
        "print(\"Sucesso determinístico a priori:\", sucesso_priori_deterministic)\n",
        "print(\"Sucesso determinístico a posteriori:\", sucesso_post_deterministico)\n",
        "print(\"Degradação determinística de privacidade:\", sucesso_post_deterministico - sucesso_priori_deterministic)\n",
        "\n",
        "print(\"Sucesso probabilístico a priori:\", sucesso_priori_probabilistic)\n",
        "print(\"Sucesso probabilístico a posteriori:\", sucesso_post_probabilistico)\n",
        "print(\"Degradação probabilística de privacidade:\", sucesso_post_probabilistico / sucesso_priori_probabilistic)\n",
        "\n",
        "print(\"Tempo de execução:\", execution_time, \"segundos\")"
      ],
      "metadata": {
        "id": "Jd3yO4VKGk4P"
      },
      "execution_count": null,
      "outputs": []
    },
    {
      "cell_type": "code",
      "source": [
        "qid_attrs = ['FAIXA_ETARIA', 'CO_MUNICIPIO_NASCIMENTO', 'CO_CURSO']\n",
        "sensitive_attr = 'IN_DEFICIENCIA'\n",
        "data = microdados\n",
        "\n",
        "start_time = time.time()\n",
        "\n",
        "sucesso_priori_deterministic = suc_prior_deterministic(data, sensitive_attr)\n",
        "sucesso_priori_probabilistic = suc_prior_probabilistic(data, sensitive_attr)\n",
        "sucesso_post_deterministico = suc_post_deterministic(data, qid_attrs, sensitive_attr)\n",
        "sucesso_post_probabilistico = suc_post_probabilistic(data, qid_attrs, sensitive_attr)\n",
        "\n",
        "end_time = time.time()\n",
        "execution_time = end_time - start_time\n",
        "\n",
        "print(\"Sucesso determinístico a priori:\", sucesso_priori_deterministic)\n",
        "print(\"Sucesso determinístico a posteriori:\", sucesso_post_deterministico)\n",
        "print(\"Degradação determinística de privacidade:\", sucesso_post_deterministico - sucesso_priori_deterministic)\n",
        "\n",
        "print(\"Sucesso probabilístico a priori:\", sucesso_priori_probabilistic)\n",
        "print(\"Sucesso probabilístico a posteriori:\", sucesso_post_probabilistico)\n",
        "print(\"Degradação probabilística de privacidade:\", sucesso_post_probabilistico / sucesso_priori_probabilistic)\n",
        "\n",
        "print(\"Tempo de execução:\", execution_time, \"segundos\")"
      ],
      "metadata": {
        "id": "9DM6m4-FGk4Q"
      },
      "execution_count": null,
      "outputs": []
    },
    {
      "cell_type": "code",
      "source": [
        "qid_attrs = ['FAIXA_ETARIA', 'TP_COR_RACA', 'CO_MUNICIPIO_NASCIMENTO', 'CO_CURSO']\n",
        "sensitive_attr = 'IN_DEFICIENCIA'\n",
        "data = microdados\n",
        "\n",
        "start_time = time.time()\n",
        "\n",
        "sucesso_priori_deterministic = suc_prior_deterministic(data, sensitive_attr)\n",
        "sucesso_priori_probabilistic = suc_prior_probabilistic(data, sensitive_attr)\n",
        "sucesso_post_deterministico = suc_post_deterministic(data, qid_attrs, sensitive_attr)\n",
        "sucesso_post_probabilistico = suc_post_probabilistic(data, qid_attrs, sensitive_attr)\n",
        "\n",
        "end_time = time.time()\n",
        "execution_time = end_time - start_time\n",
        "\n",
        "print(\"Sucesso determinístico a priori:\", sucesso_priori_deterministic)\n",
        "print(\"Sucesso determinístico a posteriori:\", sucesso_post_deterministico)\n",
        "print(\"Degradação determinística de privacidade:\", sucesso_post_deterministico - sucesso_priori_deterministic)\n",
        "\n",
        "print(\"Sucesso probabilístico a priori:\", sucesso_priori_probabilistic)\n",
        "print(\"Sucesso probabilístico a posteriori:\", sucesso_post_probabilistico)\n",
        "print(\"Degradação probabilística de privacidade:\", sucesso_post_probabilistico / sucesso_priori_probabilistic)\n",
        "\n",
        "print(\"Tempo de execução:\", execution_time, \"segundos\")"
      ],
      "metadata": {
        "id": "jwEBeGNLGk4Q"
      },
      "execution_count": null,
      "outputs": []
    },
    {
      "cell_type": "code",
      "source": [
        "qid_attrs = ['FAIXA_ETARIA', 'TP_SEXO', 'TP_COR_RACA', 'CO_MUNICIPIO_NASCIMENTO', 'CO_CURSO']\n",
        "sensitive_attr = 'IN_DEFICIENCIA'\n",
        "data = microdados\n",
        "\n",
        "start_time = time.time()\n",
        "\n",
        "sucesso_priori_deterministic = suc_prior_deterministic(data, sensitive_attr)\n",
        "sucesso_priori_probabilistic = suc_prior_probabilistic(data, sensitive_attr)\n",
        "sucesso_post_deterministico = suc_post_deterministic(data, qid_attrs, sensitive_attr)\n",
        "sucesso_post_probabilistico = suc_post_probabilistic(data, qid_attrs, sensitive_attr)\n",
        "\n",
        "end_time = time.time()\n",
        "execution_time = end_time - start_time\n",
        "\n",
        "print(\"Sucesso determinístico a priori:\", sucesso_priori_deterministic)\n",
        "print(\"Sucesso determinístico a posteriori:\", sucesso_post_deterministico)\n",
        "print(\"Degradação determinística de privacidade:\", sucesso_post_deterministico - sucesso_priori_deterministic)\n",
        "\n",
        "print(\"Sucesso probabilístico a priori:\", sucesso_priori_probabilistic)\n",
        "print(\"Sucesso probabilístico a posteriori:\", sucesso_post_probabilistico)\n",
        "print(\"Degradação probabilística de privacidade:\", sucesso_post_probabilistico / sucesso_priori_probabilistic)\n",
        "\n",
        "print(\"Tempo de execução:\", execution_time, \"segundos\")"
      ],
      "metadata": {
        "id": "sX2Dn6vaGk4R"
      },
      "execution_count": null,
      "outputs": []
    },
    {
      "cell_type": "code",
      "source": [
        "qid_attrs = ['FAIXA_ETARIA', 'TP_SEXO', 'TP_COR_RACA', 'CO_MUNICIPIO_NASCIMENTO', 'CO_CURSO', 'TP_ESCOLA_CONCLUSAO_ENS_MEDIO']\n",
        "sensitive_attr = 'IN_DEFICIENCIA'\n",
        "data = microdados\n",
        "\n",
        "start_time = time.time()\n",
        "\n",
        "sucesso_priori_deterministic = suc_prior_deterministic(data, sensitive_attr)\n",
        "sucesso_priori_probabilistic = suc_prior_probabilistic(data, sensitive_attr)\n",
        "sucesso_post_deterministico = suc_post_deterministic(data, qid_attrs, sensitive_attr)\n",
        "sucesso_post_probabilistico = suc_post_probabilistic(data, qid_attrs, sensitive_attr)\n",
        "\n",
        "end_time = time.time()\n",
        "execution_time = end_time - start_time\n",
        "\n",
        "print(\"Sucesso determinístico a priori:\", sucesso_priori_deterministic)\n",
        "print(\"Sucesso determinístico a posteriori:\", sucesso_post_deterministico)\n",
        "print(\"Degradação determinística de privacidade:\", sucesso_post_deterministico - sucesso_priori_deterministic)\n",
        "\n",
        "print(\"Sucesso probabilístico a priori:\", sucesso_priori_probabilistic)\n",
        "print(\"Sucesso probabilístico a posteriori:\", sucesso_post_probabilistico)\n",
        "print(\"Degradação probabilística de privacidade:\", sucesso_post_probabilistico / sucesso_priori_probabilistic)\n",
        "\n",
        "print(\"Tempo de execução:\", execution_time, \"segundos\")"
      ],
      "metadata": {
        "id": "jLNeSe7wGk4R"
      },
      "execution_count": null,
      "outputs": []
    },
    {
      "cell_type": "code",
      "source": [
        "qid_attrs = ['FAIXA_ETARIA', 'TP_SEXO', 'TP_COR_RACA', 'CO_MUNICIPIO_NASCIMENTO', 'TP_NACIONALIDADE', 'CO_CURSO', 'TP_ESCOLA_CONCLUSAO_ENS_MEDIO']\n",
        "sensitive_attr = 'IN_DEFICIENCIA'\n",
        "data = microdados\n",
        "\n",
        "start_time = time.time()\n",
        "\n",
        "sucesso_priori_deterministic = suc_prior_deterministic(data, sensitive_attr)\n",
        "sucesso_priori_probabilistic = suc_prior_probabilistic(data, sensitive_attr)\n",
        "sucesso_post_deterministico = suc_post_deterministic(data, qid_attrs, sensitive_attr)\n",
        "sucesso_post_probabilistico = suc_post_probabilistic(data, qid_attrs, sensitive_attr)\n",
        "\n",
        "end_time = time.time()\n",
        "execution_time = end_time - start_time\n",
        "\n",
        "print(\"Sucesso determinístico a priori:\", sucesso_priori_deterministic)\n",
        "print(\"Sucesso determinístico a posteriori:\", sucesso_post_deterministico)\n",
        "print(\"Degradação determinística de privacidade:\", sucesso_post_deterministico - sucesso_priori_deterministic)\n",
        "\n",
        "print(\"Sucesso probabilístico a priori:\", sucesso_priori_probabilistic)\n",
        "print(\"Sucesso probabilístico a posteriori:\", sucesso_post_probabilistico)\n",
        "print(\"Degradação probabilística de privacidade:\", sucesso_post_probabilistico / sucesso_priori_probabilistic)\n",
        "\n",
        "print(\"Tempo de execução:\", execution_time, \"segundos\")"
      ],
      "metadata": {
        "id": "vctoiTlfGk4S"
      },
      "execution_count": null,
      "outputs": []
    },
    {
      "cell_type": "code",
      "source": [
        "qid_attrs = ['FAIXA_ETARIA', 'TP_SEXO', 'TP_COR_RACA', 'CO_MUNICIPIO_NASCIMENTO', 'TP_NACIONALIDADE', 'CO_PAIS_ORIGEM', 'CO_CURSO', 'TP_ESCOLA_CONCLUSAO_ENS_MEDIO']\n",
        "sensitive_attr = 'IN_DEFICIENCIA'\n",
        "data = microdados\n",
        "\n",
        "start_time = time.time()\n",
        "\n",
        "sucesso_priori_deterministic = suc_prior_deterministic(data, sensitive_attr)\n",
        "sucesso_priori_probabilistic = suc_prior_probabilistic(data, sensitive_attr)\n",
        "sucesso_post_deterministico = suc_post_deterministic(data, qid_attrs, sensitive_attr)\n",
        "sucesso_post_probabilistico = suc_post_probabilistic(data, qid_attrs, sensitive_attr)\n",
        "\n",
        "end_time = time.time()\n",
        "execution_time = end_time - start_time\n",
        "\n",
        "print(\"Sucesso determinístico a priori:\", sucesso_priori_deterministic)\n",
        "print(\"Sucesso determinístico a posteriori:\", sucesso_post_deterministico)\n",
        "print(\"Degradação determinística de privacidade:\", sucesso_post_deterministico - sucesso_priori_deterministic)\n",
        "\n",
        "print(\"Sucesso probabilístico a priori:\", sucesso_priori_probabilistic)\n",
        "print(\"Sucesso probabilístico a posteriori:\", sucesso_post_probabilistico)\n",
        "print(\"Degradação probabilística de privacidade:\", sucesso_post_probabilistico / sucesso_priori_probabilistic)\n",
        "\n",
        "print(\"Tempo de execução:\", execution_time, \"segundos\")"
      ],
      "metadata": {
        "id": "sm1QzdqnGk4S"
      },
      "execution_count": null,
      "outputs": []
    },
    {
      "cell_type": "code",
      "source": [
        "qid_attrs = ['FAIXA_ETARIA', 'TP_SEXO', 'TP_COR_RACA', 'CO_MUNICIPIO_NASCIMENTO', 'TP_NACIONALIDADE', 'CO_IES', 'CO_CURSO', 'TP_ESCOLA_CONCLUSAO_ENS_MEDIO']\n",
        "sensitive_attr = 'IN_DEFICIENCIA'\n",
        "data = microdados\n",
        "\n",
        "start_time = time.time()\n",
        "\n",
        "sucesso_priori_deterministic = suc_prior_deterministic(data, sensitive_attr)\n",
        "sucesso_priori_probabilistic = suc_prior_probabilistic(data, sensitive_attr)\n",
        "sucesso_post_deterministico = suc_post_deterministic(data, qid_attrs, sensitive_attr)\n",
        "sucesso_post_probabilistico = suc_post_probabilistic(data, qid_attrs, sensitive_attr)\n",
        "\n",
        "end_time = time.time()\n",
        "execution_time = end_time - start_time\n",
        "\n",
        "print(\"Sucesso determinístico a priori:\", sucesso_priori_deterministic)\n",
        "print(\"Sucesso determinístico a posteriori:\", sucesso_post_deterministico)\n",
        "print(\"Degradação determinística de privacidade:\", sucesso_post_deterministico - sucesso_priori_deterministic)\n",
        "\n",
        "print(\"Sucesso probabilístico a priori:\", sucesso_priori_probabilistic)\n",
        "print(\"Sucesso probabilístico a posteriori:\", sucesso_post_probabilistico)\n",
        "print(\"Degradação probabilística de privacidade:\", sucesso_post_probabilistico / sucesso_priori_probabilistic)\n",
        "\n",
        "print(\"Tempo de execução:\", execution_time, \"segundos\")"
      ],
      "metadata": {
        "id": "-blgpGpAdyxj"
      },
      "execution_count": null,
      "outputs": []
    },
    {
      "cell_type": "code",
      "source": [
        "qid_attrs = ['FAIXA_ETARIA', 'TP_SEXO', 'TP_COR_RACA', 'CO_MUNICIPIO_NASCIMENTO', 'TP_NACIONALIDADE', 'CO_PAIS_ORIGEM', 'CO_IES', 'CO_CURSO', 'TP_ESCOLA_CONCLUSAO_ENS_MEDIO']\n",
        "sensitive_attr = 'IN_DEFICIENCIA'\n",
        "data = microdados\n",
        "\n",
        "start_time = time.time()\n",
        "\n",
        "sucesso_priori_deterministic = suc_prior_deterministic(data, sensitive_attr)\n",
        "sucesso_priori_probabilistic = suc_prior_probabilistic(data, sensitive_attr)\n",
        "sucesso_post_deterministico = suc_post_deterministic(data, qid_attrs, sensitive_attr)\n",
        "sucesso_post_probabilistico = suc_post_probabilistic(data, qid_attrs, sensitive_attr)\n",
        "\n",
        "end_time = time.time()\n",
        "execution_time = end_time - start_time\n",
        "\n",
        "print(\"Sucesso determinístico a priori:\", sucesso_priori_deterministic)\n",
        "print(\"Sucesso determinístico a posteriori:\", sucesso_post_deterministico)\n",
        "print(\"Degradação determinística de privacidade:\", sucesso_post_deterministico - sucesso_priori_deterministic)\n",
        "\n",
        "print(\"Sucesso probabilístico a priori:\", sucesso_priori_probabilistic)\n",
        "print(\"Sucesso probabilístico a posteriori:\", sucesso_post_probabilistico)\n",
        "print(\"Degradação probabilística de privacidade:\", sucesso_post_probabilistico / sucesso_priori_probabilistic)\n",
        "\n",
        "print(\"Tempo de execução:\", execution_time, \"segundos\")"
      ],
      "metadata": {
        "id": "k46rZjQnGk4S"
      },
      "execution_count": null,
      "outputs": []
    }
  ],
  "metadata": {
    "colab": {
      "collapsed_sections": [
        "CKMEWyLrDbqt"
      ],
      "provenance": [],
      "toc_visible": true
    },
    "kernelspec": {
      "display_name": "Python 3",
      "name": "python3"
    },
    "language_info": {
      "name": "python"
    }
  },
  "nbformat": 4,
  "nbformat_minor": 0
}