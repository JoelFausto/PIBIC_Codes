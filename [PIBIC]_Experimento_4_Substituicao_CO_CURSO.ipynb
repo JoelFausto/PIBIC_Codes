{
  "cells": [
    {
      "cell_type": "markdown",
      "metadata": {
        "id": "CKMEWyLrDbqt"
      },
      "source": [
        "### Importando bibliotecas"
      ]
    },
    {
      "cell_type": "code",
      "execution_count": null,
      "metadata": {
        "id": "lPoL13i-3Qhp"
      },
      "outputs": [],
      "source": [
        "from google.colab import drive\n",
        "drive.mount('/content/drive')"
      ]
    },
    {
      "cell_type": "code",
      "execution_count": null,
      "metadata": {
        "id": "hNRIdM-02vyg"
      },
      "outputs": [],
      "source": [
        "import pandas as pd\n",
        "from collections import Counter\n",
        "import time"
      ]
    },
    {
      "cell_type": "markdown",
      "metadata": {
        "id": "Gl2UBJ_2Dh3d"
      },
      "source": [
        "### Dados"
      ]
    },
    {
      "cell_type": "code",
      "execution_count": null,
      "metadata": {
        "id": "T8Zzdanz31ft"
      },
      "outputs": [],
      "source": [
        "pd.set_option('display.max_columns', None)"
      ]
    },
    {
      "cell_type": "code",
      "execution_count": null,
      "metadata": {
        "id": "xGnANGCeGLFx"
      },
      "outputs": [],
      "source": [
        "# Base já com as colunas novas adicionadas apartir do mapeamento entre a antiga e a nova\n",
        "microdados = pd.read_parquet('/content/drive/MyDrive/PIBIC/dadosCenso2018_ComNovasColunas.parquet')"
      ]
    },
    {
      "cell_type": "code",
      "execution_count": null,
      "metadata": {
        "id": "HvkoUltK9R2n"
      },
      "outputs": [],
      "source": [
        "# Preenchendo valores Nan na coluna de Financiamento Estudantil, com o valor de -1, como no TED\n",
        "microdados['IN_FINANCIAMENTO_ESTUDANTIL'] = microdados['IN_FINANCIAMENTO_ESTUDANTIL'].fillna(-1)"
      ]
    },
    {
      "cell_type": "markdown",
      "metadata": {
        "id": "MfFJpU4yF8Sb"
      },
      "source": [
        "#### Criando o dataset com as novas colunas"
      ]
    },
    {
      "cell_type": "code",
      "execution_count": null,
      "metadata": {
        "id": "1SJrEB9WFLVy"
      },
      "outputs": [],
      "source": [
        "colunas_necessarias = ['CO_IES', 'CO_CURSO' 'CO_MUNICIPIO', 'CO_UF', 'CO_CINE_AREA_GERAL']\n",
        "colunas_desejadas = ['ID_ALUNO', 'IN_FINANCIAMENTO_ESTUDANTIL','IN_DEFICIENCIA', 'NU_DIA_NASCIMENTO', 'NU_MES_NASCIMENTO', 'NU_ANO_NASCIMENTO', 'TP_SEXO', 'TP_COR_RACA', 'CO_MUNICIPIO_NASCIMENTO', 'TP_NACIONALIDADE', 'CO_PAIS_ORIGEM', 'CO_IES', 'CO_CURSO', 'TP_CATEGORIA_ADMINISTRATIVA']"
      ]
    },
    {
      "cell_type": "code",
      "execution_count": null,
      "metadata": {
        "id": "F-vDh-u92yys"
      },
      "outputs": [],
      "source": [
        "microdados_antigos = pd.read_parquet('/content/drive/MyDrive/PIBIC/Dados/dataCenso2018.parquet', columns=colunas_desejadas)\n",
        "microdados_novos_curso = pd.read_parquet('/content/drive/MyDrive/PIBIC/Dados/microdados_novos_curso.parquet')"
      ]
    },
    {
      "cell_type": "code",
      "execution_count": null,
      "metadata": {
        "id": "IrXLEsi_Mkk1"
      },
      "outputs": [],
      "source": [
        "microdados_antigos.drop(['NU_IDADE', 'FAIXA_ETARIA'], axis=1, inplace=True)"
      ]
    },
    {
      "cell_type": "code",
      "execution_count": null,
      "metadata": {
        "id": "gwkO6e_cLI4H"
      },
      "outputs": [],
      "source": [
        "# Mapeamento para adicionar CO_CINE_AREA_GERAL aos dados antigos\n",
        "map_cine = microdados_novos_curso[['CO_CINE_AREA_GERAL', 'CO_CURSO']].drop_duplicates('CO_CURSO')"
      ]
    },
    {
      "cell_type": "code",
      "execution_count": null,
      "metadata": {
        "id": "pbHoyuWlLI4H"
      },
      "outputs": [],
      "source": [
        "microdados_final = microdados_antigos.merge(map_cine, on='CO_CURSO', how='left')"
      ]
    },
    {
      "cell_type": "code",
      "execution_count": null,
      "metadata": {
        "id": "8TkyG0jSFZg-"
      },
      "outputs": [],
      "source": [
        "# Mapeamento para adicionar CO_MUNICIPIO e CO_UF aos dados antigos\n",
        "map_ies = microdados_novos_curso[['CO_IES', 'CO_MUNICIPIO', 'CO_UF']].drop_duplicates('CO_IES')"
      ]
    },
    {
      "cell_type": "code",
      "execution_count": null,
      "metadata": {
        "id": "cJoD4rxqFa0r"
      },
      "outputs": [],
      "source": [
        "microdados_final = microdados_final.merge(map_ies, on='CO_IES', how='left')"
      ]
    },
    {
      "cell_type": "code",
      "execution_count": null,
      "metadata": {
        "id": "LIy3RWT4PI9k"
      },
      "outputs": [],
      "source": [
        "microdados_final.to_parquet('/content/drive/MyDrive/PIBIC/dadosCenso2018_ComNovasColunas.parquet')"
      ]
    },
    {
      "cell_type": "markdown",
      "source": [
        "### Experimento 4 - Substituição do Quase-identificador “CO_CURSO”"
      ],
      "metadata": {
        "id": "cJfhxRX17n3H"
      }
    },
    {
      "cell_type": "markdown",
      "metadata": {
        "id": "a-6UZYWGIwkW"
      },
      "source": [
        "#### Código baseado nos conceitos matemáticos (TED)"
      ]
    },
    {
      "cell_type": "code",
      "execution_count": null,
      "metadata": {
        "id": "yWHeOpL-25-Z"
      },
      "outputs": [],
      "source": [
        "def suc_prior_deterministic(data, sensitive_attr):\n",
        "    \"\"\"\n",
        "    Sucesso determinístico a priori do adversário em um ataque ACU.\n",
        "    \"\"\"\n",
        "    sensitive_values = data[sensitive_attr].unique()\n",
        "    return 1 if len(sensitive_values) == 1 else 0\n",
        "\n",
        "def suc_post_deterministic(data, qid_attrs, sensitive_attr):\n",
        "    \"\"\"\n",
        "    Sucesso determinístico a posteriori do adversário em um ataque ACU.\n",
        "    \"\"\"\n",
        "    groups = data.groupby(qid_attrs, dropna=False)  # Agrupa pelos QID e inclui NaN como grupo distinto\n",
        "    total_records = len(data)  # Número total de registros\n",
        "    success_count = 0  # Contador de sucessos\n",
        "\n",
        "    for _, group in groups:  # Percorre cada grupo\n",
        "        if len(group[sensitive_attr].unique()) == 1:  # Se o grupo tem apenas 1 valor sensível\n",
        "            success_count += len(group)  # Conta todos os registros do grupo como sucesso\n",
        "\n",
        "    return success_count / total_records  # Retorna a proporção de acertos\n",
        "\n",
        "def suc_prior_probabilistic(data, sensitive_attr):\n",
        "    \"\"\"\n",
        "    Sucesso probabilístico a priori do adversário em um ataque ACU.\n",
        "    \"\"\"\n",
        "    value_counts = data[sensitive_attr].value_counts()\n",
        "    total_records = len(data)\n",
        "    return value_counts.max() / total_records if total_records > 0 else 0\n",
        "\n",
        "def suc_post_probabilistic(data, qid_attrs, sensitive_attr):\n",
        "    \"\"\"\n",
        "    Sucesso probabilístico a posteriori do adversário em um ataque ACU.\n",
        "    \"\"\"\n",
        "    groups = data.groupby(qid_attrs, dropna=False)  # Inclui NaN como grupo distinto\n",
        "    total_records = len(data)\n",
        "    total_success = 0\n",
        "\n",
        "    for _, group in groups:\n",
        "        group_size = len(group)\n",
        "        if group_size > 0:\n",
        "            value_counts = group[sensitive_attr].value_counts(dropna=False)  # Inclui NaN ao contar\n",
        "            total_success += value_counts.max()\n",
        "\n",
        "    return total_success / total_records if total_records > 0 else 0\n",
        "\n",
        "def degradation_privacy_deterministic(data, qid_attrs, sensitive_attr):\n",
        "    \"\"\"\n",
        "    Degradação determinística de privacidade em um ataque ACU.\n",
        "    \"\"\"\n",
        "    prior = suc_prior_deterministic(data, sensitive_attr)\n",
        "    post = suc_post_deterministic(data, qid_attrs, sensitive_attr)\n",
        "    return post - prior\n",
        "\n",
        "def degradation_privacy_probabilistic(data, qid_attrs, sensitive_attr):\n",
        "    \"\"\"\n",
        "    Degradação probabilística de privacidade em um ataque ACU.\n",
        "    \"\"\"\n",
        "    prior = suc_prior_probabilistic(data, sensitive_attr)\n",
        "    post = suc_post_probabilistic(data, qid_attrs, sensitive_attr)\n",
        "    return post / prior if prior > 0 else 0"
      ]
    },
    {
      "cell_type": "code",
      "execution_count": null,
      "metadata": {
        "id": "CVpmcQIlOuaj"
      },
      "outputs": [],
      "source": [
        "quase_identificadores_list = [\n",
        "    microdados[['CO_CURSO']],\n",
        "    microdados[['CO_MUNICIPIO_NASCIMENTO', 'CO_CURSO']],\n",
        "    microdados[['NU_DIA_NASCIMENTO', 'CO_CURSO']],\n",
        "    microdados[['NU_DIA_NASCIMENTO', 'NU_ANO_NASCIMENTO', 'CO_CURSO']],\n",
        "    microdados[['NU_DIA_NASCIMENTO', 'NU_MES_NASCIMENTO', 'NU_ANO_NASCIMENTO', 'CO_MUNICIPIO_NASCIMENTO', 'CO_CURSO']],\n",
        "    microdados[['NU_DIA_NASCIMENTO', 'NU_MES_NASCIMENTO', 'NU_ANO_NASCIMENTO', 'TP_COR_RACA', 'CO_MUNICIPIO_NASCIMENTO', 'CO_CURSO']],\n",
        "    microdados[['NU_DIA_NASCIMENTO', 'NU_MES_NASCIMENTO', 'NU_ANO_NASCIMENTO', 'TP_SEXO', 'TP_COR_RACA', 'CO_MUNICIPIO_NASCIMENTO', 'CO_CURSO']],\n",
        "    microdados[['NU_DIA_NASCIMENTO', 'NU_MES_NASCIMENTO', 'NU_ANO_NASCIMENTO', 'TP_SEXO', 'TP_COR_RACA', 'CO_MUNICIPIO_NASCIMENTO', 'CO_CURSO', 'TP_ESCOLA_CONCLUSAO_ENS_MEDIO']],\n",
        "    microdados[['NU_DIA_NASCIMENTO', 'NU_MES_NASCIMENTO', 'NU_ANO_NASCIMENTO', 'TP_SEXO', 'TP_COR_RACA', 'CO_MUNICIPIO_NASCIMENTO', 'TP_NACIONALIDADE', 'CO_CURSO', 'TP_ESCOLA_CONCLUSAO_ENS_MEDIO']],\n",
        "    microdados[['NU_DIA_NASCIMENTO', 'NU_MES_NASCIMENTO', 'NU_ANO_NASCIMENTO', 'TP_SEXO', 'TP_COR_RACA', 'CO_MUNICIPIO_NASCIMENTO', 'TP_NACIONALIDADE', 'CO_PAIS_ORIGEM', 'CO_CURSO', 'TP_ESCOLA_CONCLUSAO_ENS_MEDIO']],\n",
        "    microdados[['NU_DIA_NASCIMENTO', 'NU_MES_NASCIMENTO', 'NU_ANO_NASCIMENTO', 'TP_SEXO', 'TP_COR_RACA', 'CO_MUNICIPIO_NASCIMENTO', 'TP_NACIONALIDADE', 'CO_PAIS_ORIGEM', 'CO_IES', 'CO_CURSO', 'TP_ESCOLA_CONCLUSAO_ENS_MEDIO']]\n",
        "]"
      ]
    },
    {
      "cell_type": "markdown",
      "metadata": {
        "id": "CZgi7luqJFcD"
      },
      "source": [
        "##### Atributo Sensível [IN_FINANCIAMENTO_ESTUDANTIL]"
      ]
    },
    {
      "cell_type": "markdown",
      "metadata": {
        "id": "bOpbsCMiJIwC"
      },
      "source": [
        "###### Substituição de CO_CURSO por CO_CINE"
      ]
    },
    {
      "cell_type": "code",
      "execution_count": null,
      "metadata": {
        "id": "TZhz6fazpigp"
      },
      "outputs": [],
      "source": [
        "qid_attrs = ['CO_CINE_AREA_GERAL']\n",
        "sensitive_attr = 'IN_FINANCIAMENTO_ESTUDANTIL'\n",
        "data = microdados\n",
        "\n",
        "start_time = time.time()\n",
        "\n",
        "sucesso_priori_deterministic = suc_prior_deterministic(data, sensitive_attr)\n",
        "sucesso_priori_probabilistic = suc_prior_probabilistic(data, sensitive_attr)\n",
        "sucesso_post_deterministico = suc_post_deterministic(data, qid_attrs, sensitive_attr)\n",
        "sucesso_post_probabilistico = suc_post_probabilistic(data, qid_attrs, sensitive_attr)\n",
        "\n",
        "end_time = time.time()\n",
        "execution_time = end_time - start_time\n",
        "\n",
        "print(\"Sucesso determinístico a priori:\", sucesso_priori_deterministic)\n",
        "print(\"Sucesso determinístico a posteriori:\", sucesso_post_deterministico)\n",
        "print(\"Degradação determinística de privacidade:\", sucesso_post_deterministico - sucesso_priori_deterministic)\n",
        "\n",
        "print(\"Sucesso probabilístico a priori:\", sucesso_priori_probabilistic)\n",
        "print(\"Sucesso probabilístico a posteriori:\", sucesso_post_probabilistico)\n",
        "print(\"Degradação probabilística de privacidade:\", sucesso_post_probabilistico / sucesso_priori_probabilistic)\n",
        "\n",
        "print(\"Tempo de execução:\", execution_time, \"segundos\")"
      ]
    },
    {
      "cell_type": "code",
      "execution_count": null,
      "metadata": {
        "id": "pv1pibzrqOK5"
      },
      "outputs": [],
      "source": [
        "qid_attrs = ['CO_MUNICIPIO_NASCIMENTO', 'CO_CINE_AREA_GERAL']\n",
        "sensitive_attr = 'IN_FINANCIAMENTO_ESTUDANTIL'\n",
        "data = microdados\n",
        "\n",
        "start_time = time.time()\n",
        "\n",
        "sucesso_priori_deterministic = suc_prior_deterministic(data, sensitive_attr)\n",
        "sucesso_priori_probabilistic = suc_prior_probabilistic(data, sensitive_attr)\n",
        "sucesso_post_deterministico = suc_post_deterministic(data, qid_attrs, sensitive_attr)\n",
        "sucesso_post_probabilistico = suc_post_probabilistic(data, qid_attrs, sensitive_attr)\n",
        "\n",
        "end_time = time.time()\n",
        "execution_time = end_time - start_time\n",
        "\n",
        "print(\"Sucesso determinístico a priori:\", sucesso_priori_deterministic)\n",
        "print(\"Sucesso determinístico a posteriori:\", sucesso_post_deterministico)\n",
        "print(\"Degradação determinística de privacidade:\", sucesso_post_deterministico - sucesso_priori_deterministic)\n",
        "\n",
        "print(\"Sucesso probabilístico a priori:\", sucesso_priori_probabilistic)\n",
        "print(\"Sucesso probabilístico a posteriori:\", sucesso_post_probabilistico)\n",
        "print(\"Degradação probabilística de privacidade:\", sucesso_post_probabilistico / sucesso_priori_probabilistic)\n",
        "\n",
        "print(\"Tempo de execução:\", execution_time, \"segundos\")"
      ]
    },
    {
      "cell_type": "code",
      "execution_count": null,
      "metadata": {
        "id": "E5gJu_NMqTPp"
      },
      "outputs": [],
      "source": [
        "qid_attrs = ['NU_DIA_NASCIMENTO', 'CO_CINE_AREA_GERAL']\n",
        "sensitive_attr = 'IN_FINANCIAMENTO_ESTUDANTIL'\n",
        "data = microdados\n",
        "\n",
        "start_time = time.time()\n",
        "\n",
        "sucesso_priori_deterministic = suc_prior_deterministic(data, sensitive_attr)\n",
        "sucesso_priori_probabilistic = suc_prior_probabilistic(data, sensitive_attr)\n",
        "sucesso_post_deterministico = suc_post_deterministic(data, qid_attrs, sensitive_attr)\n",
        "sucesso_post_probabilistico = suc_post_probabilistic(data, qid_attrs, sensitive_attr)\n",
        "\n",
        "end_time = time.time()\n",
        "execution_time = end_time - start_time\n",
        "\n",
        "print(\"Sucesso determinístico a priori:\", sucesso_priori_deterministic)\n",
        "print(\"Sucesso determinístico a posteriori:\", sucesso_post_deterministico)\n",
        "print(\"Degradação determinística de privacidade:\", sucesso_post_deterministico - sucesso_priori_deterministic)\n",
        "\n",
        "print(\"Sucesso probabilístico a priori:\", sucesso_priori_probabilistic)\n",
        "print(\"Sucesso probabilístico a posteriori:\", sucesso_post_probabilistico)\n",
        "print(\"Degradação probabilística de privacidade:\", sucesso_post_probabilistico / sucesso_priori_probabilistic)\n",
        "\n",
        "print(\"Tempo de execução:\", execution_time, \"segundos\")"
      ]
    },
    {
      "cell_type": "code",
      "execution_count": null,
      "metadata": {
        "id": "uPgDFWyCqZZJ"
      },
      "outputs": [],
      "source": [
        "qid_attrs = ['NU_DIA_NASCIMENTO', 'NU_ANO_NASCIMENTO', 'CO_CINE_AREA_GERAL']\n",
        "sensitive_attr = 'IN_FINANCIAMENTO_ESTUDANTIL'\n",
        "data = microdados\n",
        "\n",
        "start_time = time.time()\n",
        "\n",
        "sucesso_priori_deterministic = suc_prior_deterministic(data, sensitive_attr)\n",
        "sucesso_priori_probabilistic = suc_prior_probabilistic(data, sensitive_attr)\n",
        "sucesso_post_deterministico = suc_post_deterministic(data, qid_attrs, sensitive_attr)\n",
        "sucesso_post_probabilistico = suc_post_probabilistic(data, qid_attrs, sensitive_attr)\n",
        "\n",
        "end_time = time.time()\n",
        "execution_time = end_time - start_time\n",
        "\n",
        "print(\"Sucesso determinístico a priori:\", sucesso_priori_deterministic)\n",
        "print(\"Sucesso determinístico a posteriori:\", sucesso_post_deterministico)\n",
        "print(\"Degradação determinística de privacidade:\", sucesso_post_deterministico - sucesso_priori_deterministic)\n",
        "\n",
        "print(\"Sucesso probabilístico a priori:\", sucesso_priori_probabilistic)\n",
        "print(\"Sucesso probabilístico a posteriori:\", sucesso_post_probabilistico)\n",
        "print(\"Degradação probabilística de privacidade:\", sucesso_post_probabilistico / sucesso_priori_probabilistic)\n",
        "\n",
        "print(\"Tempo de execução:\", execution_time, \"segundos\")"
      ]
    },
    {
      "cell_type": "code",
      "execution_count": null,
      "metadata": {
        "id": "Y5BJ27TPiUec"
      },
      "outputs": [],
      "source": [
        "qid_attrs = ['NU_DIA_NASCIMENTO', 'NU_MES_NASCIMENTO', 'NU_ANO_NASCIMENTO', 'CO_CINE_AREA_GERAL']\n",
        "sensitive_attr = 'IN_FINANCIAMENTO_ESTUDANTIL'\n",
        "data = microdados\n",
        "\n",
        "start_time = time.time()\n",
        "\n",
        "sucesso_priori_deterministic = suc_prior_deterministic(data, sensitive_attr)\n",
        "sucesso_priori_probabilistic = suc_prior_probabilistic(data, sensitive_attr)\n",
        "sucesso_post_deterministico = suc_post_deterministic(data, qid_attrs, sensitive_attr)\n",
        "sucesso_post_probabilistico = suc_post_probabilistic(data, qid_attrs, sensitive_attr)\n",
        "\n",
        "end_time = time.time()\n",
        "execution_time = end_time - start_time\n",
        "\n",
        "print(\"Sucesso determinístico a priori:\", sucesso_priori_deterministic)\n",
        "print(\"Sucesso determinístico a posteriori:\", sucesso_post_deterministico)\n",
        "print(\"Degradação determinística de privacidade:\", sucesso_post_deterministico - sucesso_priori_deterministic)\n",
        "\n",
        "print(\"Sucesso probabilístico a priori:\", sucesso_priori_probabilistic)\n",
        "print(\"Sucesso probabilístico a posteriori:\", sucesso_post_probabilistico)\n",
        "print(\"Degradação probabilística de privacidade:\", sucesso_post_probabilistico / sucesso_priori_probabilistic)\n",
        "\n",
        "print(\"Tempo de execução:\", execution_time, \"segundos\")"
      ]
    },
    {
      "cell_type": "code",
      "execution_count": null,
      "metadata": {
        "id": "1OtFKsqPqeHS"
      },
      "outputs": [],
      "source": [
        "qid_attrs = ['NU_DIA_NASCIMENTO', 'NU_MES_NASCIMENTO', 'NU_ANO_NASCIMENTO', 'CO_MUNICIPIO_NASCIMENTO', 'CO_CINE_AREA_GERAL']\n",
        "sensitive_attr = 'IN_FINANCIAMENTO_ESTUDANTIL'\n",
        "data = microdados\n",
        "\n",
        "start_time = time.time()\n",
        "\n",
        "sucesso_priori_deterministic = suc_prior_deterministic(data, sensitive_attr)\n",
        "sucesso_priori_probabilistic = suc_prior_probabilistic(data, sensitive_attr)\n",
        "sucesso_post_deterministico = suc_post_deterministic(data, qid_attrs, sensitive_attr)\n",
        "sucesso_post_probabilistico = suc_post_probabilistic(data, qid_attrs, sensitive_attr)\n",
        "\n",
        "end_time = time.time()\n",
        "execution_time = end_time - start_time\n",
        "\n",
        "print(\"Sucesso determinístico a priori:\", sucesso_priori_deterministic)\n",
        "print(\"Sucesso determinístico a posteriori:\", sucesso_post_deterministico)\n",
        "print(\"Degradação determinística de privacidade:\", sucesso_post_deterministico - sucesso_priori_deterministic)\n",
        "\n",
        "print(\"Sucesso probabilístico a priori:\", sucesso_priori_probabilistic)\n",
        "print(\"Sucesso probabilístico a posteriori:\", sucesso_post_probabilistico)\n",
        "print(\"Degradação probabilística de privacidade:\", sucesso_post_probabilistico / sucesso_priori_probabilistic)\n",
        "\n",
        "print(\"Tempo de execução:\", execution_time, \"segundos\")"
      ]
    },
    {
      "cell_type": "code",
      "execution_count": null,
      "metadata": {
        "id": "hZy1vq8tqenR"
      },
      "outputs": [],
      "source": [
        "qid_attrs = ['NU_DIA_NASCIMENTO', 'NU_MES_NASCIMENTO', 'NU_ANO_NASCIMENTO', 'TP_COR_RACA', 'CO_MUNICIPIO_NASCIMENTO', 'CO_CINE_AREA_GERAL']\n",
        "sensitive_attr = 'IN_FINANCIAMENTO_ESTUDANTIL'\n",
        "data = microdados\n",
        "\n",
        "start_time = time.time()\n",
        "\n",
        "sucesso_priori_deterministic = suc_prior_deterministic(data, sensitive_attr)\n",
        "sucesso_priori_probabilistic = suc_prior_probabilistic(data, sensitive_attr)\n",
        "sucesso_post_deterministico = suc_post_deterministic(data, qid_attrs, sensitive_attr)\n",
        "sucesso_post_probabilistico = suc_post_probabilistic(data, qid_attrs, sensitive_attr)\n",
        "\n",
        "end_time = time.time()\n",
        "execution_time = end_time - start_time\n",
        "\n",
        "print(\"Sucesso determinístico a priori:\", sucesso_priori_deterministic)\n",
        "print(\"Sucesso determinístico a posteriori:\", sucesso_post_deterministico)\n",
        "print(\"Degradação determinística de privacidade:\", sucesso_post_deterministico - sucesso_priori_deterministic)\n",
        "\n",
        "print(\"Sucesso probabilístico a priori:\", sucesso_priori_probabilistic)\n",
        "print(\"Sucesso probabilístico a posteriori:\", sucesso_post_probabilistico)\n",
        "print(\"Degradação probabilística de privacidade:\", sucesso_post_probabilistico / sucesso_priori_probabilistic)\n",
        "\n",
        "print(\"Tempo de execução:\", execution_time, \"segundos\")"
      ]
    },
    {
      "cell_type": "code",
      "execution_count": null,
      "metadata": {
        "id": "InhhWaNDqfIg"
      },
      "outputs": [],
      "source": [
        "qid_attrs = ['NU_DIA_NASCIMENTO', 'NU_MES_NASCIMENTO', 'NU_ANO_NASCIMENTO', 'TP_SEXO', 'TP_COR_RACA', 'CO_MUNICIPIO_NASCIMENTO', 'CO_CINE_AREA_GERAL']\n",
        "sensitive_attr = 'IN_FINANCIAMENTO_ESTUDANTIL'\n",
        "data = microdados\n",
        "\n",
        "start_time = time.time()\n",
        "\n",
        "sucesso_priori_deterministic = suc_prior_deterministic(data, sensitive_attr)\n",
        "sucesso_priori_probabilistic = suc_prior_probabilistic(data, sensitive_attr)\n",
        "sucesso_post_deterministico = suc_post_deterministic(data, qid_attrs, sensitive_attr)\n",
        "sucesso_post_probabilistico = suc_post_probabilistic(data, qid_attrs, sensitive_attr)\n",
        "\n",
        "end_time = time.time()\n",
        "execution_time = end_time - start_time\n",
        "\n",
        "print(\"Sucesso determinístico a priori:\", sucesso_priori_deterministic)\n",
        "print(\"Sucesso determinístico a posteriori:\", sucesso_post_deterministico)\n",
        "print(\"Degradação determinística de privacidade:\", sucesso_post_deterministico - sucesso_priori_deterministic)\n",
        "\n",
        "print(\"Sucesso probabilístico a priori:\", sucesso_priori_probabilistic)\n",
        "print(\"Sucesso probabilístico a posteriori:\", sucesso_post_probabilistico)\n",
        "print(\"Degradação probabilística de privacidade:\", sucesso_post_probabilistico / sucesso_priori_probabilistic)\n",
        "\n",
        "print(\"Tempo de execução:\", execution_time, \"segundos\")"
      ]
    },
    {
      "cell_type": "code",
      "execution_count": null,
      "metadata": {
        "id": "dE_A-FWzqfjp"
      },
      "outputs": [],
      "source": [
        "qid_attrs = ['NU_DIA_NASCIMENTO', 'NU_MES_NASCIMENTO', 'NU_ANO_NASCIMENTO', 'TP_SEXO', 'TP_COR_RACA', 'CO_MUNICIPIO_NASCIMENTO', 'CO_CINE_AREA_GERAL', 'TP_ESCOLA_CONCLUSAO_ENS_MEDIO']\n",
        "sensitive_attr = 'IN_FINANCIAMENTO_ESTUDANTIL'\n",
        "data = microdados\n",
        "\n",
        "start_time = time.time()\n",
        "\n",
        "sucesso_priori_deterministic = suc_prior_deterministic(data, sensitive_attr)\n",
        "sucesso_priori_probabilistic = suc_prior_probabilistic(data, sensitive_attr)\n",
        "sucesso_post_deterministico = suc_post_deterministic(data, qid_attrs, sensitive_attr)\n",
        "sucesso_post_probabilistico = suc_post_probabilistic(data, qid_attrs, sensitive_attr)\n",
        "\n",
        "end_time = time.time()\n",
        "execution_time = end_time - start_time\n",
        "\n",
        "print(\"Sucesso determinístico a priori:\", sucesso_priori_deterministic)\n",
        "print(\"Sucesso determinístico a posteriori:\", sucesso_post_deterministico)\n",
        "print(\"Degradação determinística de privacidade:\", sucesso_post_deterministico - sucesso_priori_deterministic)\n",
        "\n",
        "print(\"Sucesso probabilístico a priori:\", sucesso_priori_probabilistic)\n",
        "print(\"Sucesso probabilístico a posteriori:\", sucesso_post_probabilistico)\n",
        "print(\"Degradação probabilística de privacidade:\", sucesso_post_probabilistico / sucesso_priori_probabilistic)\n",
        "\n",
        "print(\"Tempo de execução:\", execution_time, \"segundos\")"
      ]
    },
    {
      "cell_type": "code",
      "execution_count": null,
      "metadata": {
        "id": "MKEYzRjBqf_h"
      },
      "outputs": [],
      "source": [
        "qid_attrs = ['NU_DIA_NASCIMENTO', 'NU_MES_NASCIMENTO', 'NU_ANO_NASCIMENTO', 'TP_SEXO', 'TP_COR_RACA', 'CO_MUNICIPIO_NASCIMENTO', 'TP_NACIONALIDADE', 'CO_CINE_AREA_GERAL', 'TP_ESCOLA_CONCLUSAO_ENS_MEDIO']\n",
        "sensitive_attr = 'IN_FINANCIAMENTO_ESTUDANTIL'\n",
        "data = microdados\n",
        "\n",
        "start_time = time.time()\n",
        "\n",
        "sucesso_priori_deterministic = suc_prior_deterministic(data, sensitive_attr)\n",
        "sucesso_priori_probabilistic = suc_prior_probabilistic(data, sensitive_attr)\n",
        "sucesso_post_deterministico = suc_post_deterministic(data, qid_attrs, sensitive_attr)\n",
        "sucesso_post_probabilistico = suc_post_probabilistic(data, qid_attrs, sensitive_attr)\n",
        "\n",
        "end_time = time.time()\n",
        "execution_time = end_time - start_time\n",
        "\n",
        "print(\"Sucesso determinístico a priori:\", sucesso_priori_deterministic)\n",
        "print(\"Sucesso determinístico a posteriori:\", sucesso_post_deterministico)\n",
        "print(\"Degradação determinística de privacidade:\", sucesso_post_deterministico - sucesso_priori_deterministic)\n",
        "\n",
        "print(\"Sucesso probabilístico a priori:\", sucesso_priori_probabilistic)\n",
        "print(\"Sucesso probabilístico a posteriori:\", sucesso_post_probabilistico)\n",
        "print(\"Degradação probabilística de privacidade:\", sucesso_post_probabilistico / sucesso_priori_probabilistic)\n",
        "\n",
        "print(\"Tempo de execução:\", execution_time, \"segundos\")"
      ]
    },
    {
      "cell_type": "code",
      "execution_count": null,
      "metadata": {
        "id": "5rsWhibZqgiZ"
      },
      "outputs": [],
      "source": [
        "qid_attrs = ['NU_DIA_NASCIMENTO', 'NU_MES_NASCIMENTO', 'NU_ANO_NASCIMENTO', 'TP_SEXO', 'TP_COR_RACA', 'CO_MUNICIPIO_NASCIMENTO', 'TP_NACIONALIDADE', 'CO_PAIS_ORIGEM', 'CO_CINE_AREA_GERAL', 'TP_ESCOLA_CONCLUSAO_ENS_MEDIO']\n",
        "sensitive_attr = 'IN_FINANCIAMENTO_ESTUDANTIL'\n",
        "data = microdados\n",
        "\n",
        "start_time = time.time()\n",
        "\n",
        "sucesso_priori_deterministic = suc_prior_deterministic(data, sensitive_attr)\n",
        "sucesso_priori_probabilistic = suc_prior_probabilistic(data, sensitive_attr)\n",
        "sucesso_post_deterministico = suc_post_deterministic(data, qid_attrs, sensitive_attr)\n",
        "sucesso_post_probabilistico = suc_post_probabilistic(data, qid_attrs, sensitive_attr)\n",
        "\n",
        "end_time = time.time()\n",
        "execution_time = end_time - start_time\n",
        "\n",
        "print(\"Sucesso determinístico a priori:\", sucesso_priori_deterministic)\n",
        "print(\"Sucesso determinístico a posteriori:\", sucesso_post_deterministico)\n",
        "print(\"Degradação determinística de privacidade:\", sucesso_post_deterministico - sucesso_priori_deterministic)\n",
        "\n",
        "print(\"Sucesso probabilístico a priori:\", sucesso_priori_probabilistic)\n",
        "print(\"Sucesso probabilístico a posteriori:\", sucesso_post_probabilistico)\n",
        "print(\"Degradação probabilística de privacidade:\", sucesso_post_probabilistico / sucesso_priori_probabilistic)\n",
        "\n",
        "print(\"Tempo de execução:\", execution_time, \"segundos\")"
      ]
    },
    {
      "cell_type": "code",
      "execution_count": null,
      "metadata": {
        "id": "UlziauXqqhGx"
      },
      "outputs": [],
      "source": [
        "qid_attrs = ['NU_DIA_NASCIMENTO', 'NU_MES_NASCIMENTO', 'NU_ANO_NASCIMENTO', 'TP_SEXO', 'TP_COR_RACA', 'CO_MUNICIPIO_NASCIMENTO', 'TP_NACIONALIDADE', 'CO_PAIS_ORIGEM', 'CO_IES', 'CO_CINE_AREA_GERAL', 'TP_ESCOLA_CONCLUSAO_ENS_MEDIO']\n",
        "sensitive_attr = 'IN_FINANCIAMENTO_ESTUDANTIL'\n",
        "data = microdados\n",
        "\n",
        "start_time = time.time()\n",
        "\n",
        "sucesso_priori_deterministic = suc_prior_deterministic(data, sensitive_attr)\n",
        "sucesso_priori_probabilistic = suc_prior_probabilistic(data, sensitive_attr)\n",
        "sucesso_post_deterministico = suc_post_deterministic(data, qid_attrs, sensitive_attr)\n",
        "sucesso_post_probabilistico = suc_post_probabilistic(data, qid_attrs, sensitive_attr)\n",
        "\n",
        "end_time = time.time()\n",
        "execution_time = end_time - start_time\n",
        "\n",
        "print(\"Sucesso determinístico a priori:\", sucesso_priori_deterministic)\n",
        "print(\"Sucesso determinístico a posteriori:\", sucesso_post_deterministico)\n",
        "print(\"Degradação determinística de privacidade:\", sucesso_post_deterministico - sucesso_priori_deterministic)\n",
        "\n",
        "print(\"Sucesso probabilístico a priori:\", sucesso_priori_probabilistic)\n",
        "print(\"Sucesso probabilístico a posteriori:\", sucesso_post_probabilistico)\n",
        "print(\"Degradação probabilística de privacidade:\", sucesso_post_probabilistico / sucesso_priori_probabilistic)\n",
        "\n",
        "print(\"Tempo de execução:\", execution_time, \"segundos\")"
      ]
    },
    {
      "cell_type": "markdown",
      "metadata": {
        "id": "ocfbdUqCOdKI"
      },
      "source": [
        "###### Substituição de CO_CURSO por CO_MUNICIPIO"
      ]
    },
    {
      "cell_type": "code",
      "execution_count": null,
      "metadata": {
        "id": "j8iTpxQ6OdKK"
      },
      "outputs": [],
      "source": [
        "qid_attrs = ['CO_MUNICIPIO']\n",
        "sensitive_attr = 'IN_FINANCIAMENTO_ESTUDANTIL'\n",
        "data = microdados\n",
        "\n",
        "start_time = time.time()\n",
        "\n",
        "sucesso_priori_deterministic = suc_prior_deterministic(data, sensitive_attr)\n",
        "sucesso_priori_probabilistic = suc_prior_probabilistic(data, sensitive_attr)\n",
        "sucesso_post_deterministico = suc_post_deterministic(data, qid_attrs, sensitive_attr)\n",
        "sucesso_post_probabilistico = suc_post_probabilistic(data, qid_attrs, sensitive_attr)\n",
        "\n",
        "end_time = time.time()\n",
        "execution_time = end_time - start_time\n",
        "\n",
        "print(\"Sucesso determinístico a priori:\", sucesso_priori_deterministic)\n",
        "print(\"Sucesso determinístico a posteriori:\", sucesso_post_deterministico)\n",
        "print(\"Degradação determinística de privacidade:\", sucesso_post_deterministico - sucesso_priori_deterministic)\n",
        "\n",
        "print(\"Sucesso probabilístico a priori:\", sucesso_priori_probabilistic)\n",
        "print(\"Sucesso probabilístico a posteriori:\", sucesso_post_probabilistico)\n",
        "print(\"Degradação probabilística de privacidade:\", sucesso_post_probabilistico / sucesso_priori_probabilistic)\n",
        "\n",
        "print(\"Tempo de execução:\", execution_time, \"segundos\")"
      ]
    },
    {
      "cell_type": "code",
      "execution_count": null,
      "metadata": {
        "id": "g6WGHBPkOdKL"
      },
      "outputs": [],
      "source": [
        "qid_attrs = ['CO_MUNICIPIO_NASCIMENTO', 'CO_MUNICIPIO']\n",
        "sensitive_attr = 'IN_FINANCIAMENTO_ESTUDANTIL'\n",
        "data = microdados\n",
        "\n",
        "start_time = time.time()\n",
        "\n",
        "sucesso_priori_deterministic = suc_prior_deterministic(data, sensitive_attr)\n",
        "sucesso_priori_probabilistic = suc_prior_probabilistic(data, sensitive_attr)\n",
        "sucesso_post_deterministico = suc_post_deterministic(data, qid_attrs, sensitive_attr)\n",
        "sucesso_post_probabilistico = suc_post_probabilistic(data, qid_attrs, sensitive_attr)\n",
        "\n",
        "end_time = time.time()\n",
        "execution_time = end_time - start_time\n",
        "\n",
        "print(\"Sucesso determinístico a priori:\", sucesso_priori_deterministic)\n",
        "print(\"Sucesso determinístico a posteriori:\", sucesso_post_deterministico)\n",
        "print(\"Degradação determinística de privacidade:\", sucesso_post_deterministico - sucesso_priori_deterministic)\n",
        "\n",
        "print(\"Sucesso probabilístico a priori:\", sucesso_priori_probabilistic)\n",
        "print(\"Sucesso probabilístico a posteriori:\", sucesso_post_probabilistico)\n",
        "print(\"Degradação probabilística de privacidade:\", sucesso_post_probabilistico / sucesso_priori_probabilistic)\n",
        "\n",
        "print(\"Tempo de execução:\", execution_time, \"segundos\")"
      ]
    },
    {
      "cell_type": "code",
      "execution_count": null,
      "metadata": {
        "id": "lxm7HK_zOdKM"
      },
      "outputs": [],
      "source": [
        "qid_attrs = ['NU_DIA_NASCIMENTO', 'CO_MUNICIPIO']\n",
        "sensitive_attr = 'IN_FINANCIAMENTO_ESTUDANTIL'\n",
        "data = microdados\n",
        "\n",
        "start_time = time.time()\n",
        "\n",
        "sucesso_priori_deterministic = suc_prior_deterministic(data, sensitive_attr)\n",
        "sucesso_priori_probabilistic = suc_prior_probabilistic(data, sensitive_attr)\n",
        "sucesso_post_deterministico = suc_post_deterministic(data, qid_attrs, sensitive_attr)\n",
        "sucesso_post_probabilistico = suc_post_probabilistic(data, qid_attrs, sensitive_attr)\n",
        "\n",
        "end_time = time.time()\n",
        "execution_time = end_time - start_time\n",
        "\n",
        "print(\"Sucesso determinístico a priori:\", sucesso_priori_deterministic)\n",
        "print(\"Sucesso determinístico a posteriori:\", sucesso_post_deterministico)\n",
        "print(\"Degradação determinística de privacidade:\", sucesso_post_deterministico - sucesso_priori_deterministic)\n",
        "\n",
        "print(\"Sucesso probabilístico a priori:\", sucesso_priori_probabilistic)\n",
        "print(\"Sucesso probabilístico a posteriori:\", sucesso_post_probabilistico)\n",
        "print(\"Degradação probabilística de privacidade:\", sucesso_post_probabilistico / sucesso_priori_probabilistic)\n",
        "\n",
        "print(\"Tempo de execução:\", execution_time, \"segundos\")"
      ]
    },
    {
      "cell_type": "code",
      "execution_count": null,
      "metadata": {
        "id": "lE6AHB3IOdKO"
      },
      "outputs": [],
      "source": [
        "qid_attrs = ['NU_DIA_NASCIMENTO', 'NU_ANO_NASCIMENTO', 'CO_MUNICIPIO']\n",
        "sensitive_attr = 'IN_FINANCIAMENTO_ESTUDANTIL'\n",
        "data = microdados\n",
        "\n",
        "start_time = time.time()\n",
        "\n",
        "sucesso_priori_deterministic = suc_prior_deterministic(data, sensitive_attr)\n",
        "sucesso_priori_probabilistic = suc_prior_probabilistic(data, sensitive_attr)\n",
        "sucesso_post_deterministico = suc_post_deterministic(data, qid_attrs, sensitive_attr)\n",
        "sucesso_post_probabilistico = suc_post_probabilistic(data, qid_attrs, sensitive_attr)\n",
        "\n",
        "end_time = time.time()\n",
        "execution_time = end_time - start_time\n",
        "\n",
        "print(\"Sucesso determinístico a priori:\", sucesso_priori_deterministic)\n",
        "print(\"Sucesso determinístico a posteriori:\", sucesso_post_deterministico)\n",
        "print(\"Degradação determinística de privacidade:\", sucesso_post_deterministico - sucesso_priori_deterministic)\n",
        "\n",
        "print(\"Sucesso probabilístico a priori:\", sucesso_priori_probabilistic)\n",
        "print(\"Sucesso probabilístico a posteriori:\", sucesso_post_probabilistico)\n",
        "print(\"Degradação probabilística de privacidade:\", sucesso_post_probabilistico / sucesso_priori_probabilistic)\n",
        "\n",
        "print(\"Tempo de execução:\", execution_time, \"segundos\")"
      ]
    },
    {
      "cell_type": "code",
      "execution_count": null,
      "metadata": {
        "id": "PSSnWz5OOdKO"
      },
      "outputs": [],
      "source": [
        "qid_attrs = ['NU_DIA_NASCIMENTO', 'NU_MES_NASCIMENTO', 'NU_ANO_NASCIMENTO', 'CO_MUNICIPIO']\n",
        "sensitive_attr = 'IN_FINANCIAMENTO_ESTUDANTIL'\n",
        "data = microdados\n",
        "\n",
        "start_time = time.time()\n",
        "\n",
        "sucesso_priori_deterministic = suc_prior_deterministic(data, sensitive_attr)\n",
        "sucesso_priori_probabilistic = suc_prior_probabilistic(data, sensitive_attr)\n",
        "sucesso_post_deterministico = suc_post_deterministic(data, qid_attrs, sensitive_attr)\n",
        "sucesso_post_probabilistico = suc_post_probabilistic(data, qid_attrs, sensitive_attr)\n",
        "\n",
        "end_time = time.time()\n",
        "execution_time = end_time - start_time\n",
        "\n",
        "print(\"Sucesso determinístico a priori:\", sucesso_priori_deterministic)\n",
        "print(\"Sucesso determinístico a posteriori:\", sucesso_post_deterministico)\n",
        "print(\"Degradação determinística de privacidade:\", sucesso_post_deterministico - sucesso_priori_deterministic)\n",
        "\n",
        "print(\"Sucesso probabilístico a priori:\", sucesso_priori_probabilistic)\n",
        "print(\"Sucesso probabilístico a posteriori:\", sucesso_post_probabilistico)\n",
        "print(\"Degradação probabilística de privacidade:\", sucesso_post_probabilistico / sucesso_priori_probabilistic)\n",
        "\n",
        "print(\"Tempo de execução:\", execution_time, \"segundos\")"
      ]
    },
    {
      "cell_type": "code",
      "execution_count": null,
      "metadata": {
        "id": "vdYg1wirOdKP"
      },
      "outputs": [],
      "source": [
        "qid_attrs = ['NU_DIA_NASCIMENTO', 'NU_MES_NASCIMENTO', 'NU_ANO_NASCIMENTO', 'CO_MUNICIPIO_NASCIMENTO', 'CO_MUNICIPIO']\n",
        "sensitive_attr = 'IN_FINANCIAMENTO_ESTUDANTIL'\n",
        "data = microdados\n",
        "\n",
        "start_time = time.time()\n",
        "\n",
        "sucesso_priori_deterministic = suc_prior_deterministic(data, sensitive_attr)\n",
        "sucesso_priori_probabilistic = suc_prior_probabilistic(data, sensitive_attr)\n",
        "sucesso_post_deterministico = suc_post_deterministic(data, qid_attrs, sensitive_attr)\n",
        "sucesso_post_probabilistico = suc_post_probabilistic(data, qid_attrs, sensitive_attr)\n",
        "\n",
        "end_time = time.time()\n",
        "execution_time = end_time - start_time\n",
        "\n",
        "print(\"Sucesso determinístico a priori:\", sucesso_priori_deterministic)\n",
        "print(\"Sucesso determinístico a posteriori:\", sucesso_post_deterministico)\n",
        "print(\"Degradação determinística de privacidade:\", sucesso_post_deterministico - sucesso_priori_deterministic)\n",
        "\n",
        "print(\"Sucesso probabilístico a priori:\", sucesso_priori_probabilistic)\n",
        "print(\"Sucesso probabilístico a posteriori:\", sucesso_post_probabilistico)\n",
        "print(\"Degradação probabilística de privacidade:\", sucesso_post_probabilistico / sucesso_priori_probabilistic)\n",
        "\n",
        "print(\"Tempo de execução:\", execution_time, \"segundos\")"
      ]
    },
    {
      "cell_type": "code",
      "execution_count": null,
      "metadata": {
        "id": "0ulqz2tFOdKQ"
      },
      "outputs": [],
      "source": [
        "qid_attrs = ['NU_DIA_NASCIMENTO', 'NU_MES_NASCIMENTO', 'NU_ANO_NASCIMENTO', 'TP_COR_RACA', 'CO_MUNICIPIO_NASCIMENTO', 'CO_MUNICIPIO']\n",
        "sensitive_attr = 'IN_FINANCIAMENTO_ESTUDANTIL'\n",
        "data = microdados\n",
        "\n",
        "start_time = time.time()\n",
        "\n",
        "sucesso_priori_deterministic = suc_prior_deterministic(data, sensitive_attr)\n",
        "sucesso_priori_probabilistic = suc_prior_probabilistic(data, sensitive_attr)\n",
        "sucesso_post_deterministico = suc_post_deterministic(data, qid_attrs, sensitive_attr)\n",
        "sucesso_post_probabilistico = suc_post_probabilistic(data, qid_attrs, sensitive_attr)\n",
        "\n",
        "end_time = time.time()\n",
        "execution_time = end_time - start_time\n",
        "\n",
        "print(\"Sucesso determinístico a priori:\", sucesso_priori_deterministic)\n",
        "print(\"Sucesso determinístico a posteriori:\", sucesso_post_deterministico)\n",
        "print(\"Degradação determinística de privacidade:\", sucesso_post_deterministico - sucesso_priori_deterministic)\n",
        "\n",
        "print(\"Sucesso probabilístico a priori:\", sucesso_priori_probabilistic)\n",
        "print(\"Sucesso probabilístico a posteriori:\", sucesso_post_probabilistico)\n",
        "print(\"Degradação probabilística de privacidade:\", sucesso_post_probabilistico / sucesso_priori_probabilistic)\n",
        "\n",
        "print(\"Tempo de execução:\", execution_time, \"segundos\")"
      ]
    },
    {
      "cell_type": "code",
      "execution_count": null,
      "metadata": {
        "id": "TLdRpoHGOdKR"
      },
      "outputs": [],
      "source": [
        "qid_attrs = ['NU_DIA_NASCIMENTO', 'NU_MES_NASCIMENTO', 'NU_ANO_NASCIMENTO', 'TP_SEXO', 'TP_COR_RACA', 'CO_MUNICIPIO_NASCIMENTO', 'CO_MUNICIPIO']\n",
        "sensitive_attr = 'IN_FINANCIAMENTO_ESTUDANTIL'\n",
        "data = microdados\n",
        "\n",
        "start_time = time.time()\n",
        "\n",
        "sucesso_priori_deterministic = suc_prior_deterministic(data, sensitive_attr)\n",
        "sucesso_priori_probabilistic = suc_prior_probabilistic(data, sensitive_attr)\n",
        "sucesso_post_deterministico = suc_post_deterministic(data, qid_attrs, sensitive_attr)\n",
        "sucesso_post_probabilistico = suc_post_probabilistic(data, qid_attrs, sensitive_attr)\n",
        "\n",
        "end_time = time.time()\n",
        "execution_time = end_time - start_time\n",
        "\n",
        "print(\"Sucesso determinístico a priori:\", sucesso_priori_deterministic)\n",
        "print(\"Sucesso determinístico a posteriori:\", sucesso_post_deterministico)\n",
        "print(\"Degradação determinística de privacidade:\", sucesso_post_deterministico - sucesso_priori_deterministic)\n",
        "\n",
        "print(\"Sucesso probabilístico a priori:\", sucesso_priori_probabilistic)\n",
        "print(\"Sucesso probabilístico a posteriori:\", sucesso_post_probabilistico)\n",
        "print(\"Degradação probabilística de privacidade:\", sucesso_post_probabilistico / sucesso_priori_probabilistic)\n",
        "\n",
        "print(\"Tempo de execução:\", execution_time, \"segundos\")"
      ]
    },
    {
      "cell_type": "code",
      "execution_count": null,
      "metadata": {
        "id": "lfkTcRxSOdKR"
      },
      "outputs": [],
      "source": [
        "qid_attrs = ['NU_DIA_NASCIMENTO', 'NU_MES_NASCIMENTO', 'NU_ANO_NASCIMENTO', 'TP_SEXO', 'TP_COR_RACA', 'CO_MUNICIPIO_NASCIMENTO', 'CO_MUNICIPIO', 'TP_ESCOLA_CONCLUSAO_ENS_MEDIO']\n",
        "sensitive_attr = 'IN_FINANCIAMENTO_ESTUDANTIL'\n",
        "data = microdados\n",
        "\n",
        "start_time = time.time()\n",
        "\n",
        "sucesso_priori_deterministic = suc_prior_deterministic(data, sensitive_attr)\n",
        "sucesso_priori_probabilistic = suc_prior_probabilistic(data, sensitive_attr)\n",
        "sucesso_post_deterministico = suc_post_deterministic(data, qid_attrs, sensitive_attr)\n",
        "sucesso_post_probabilistico = suc_post_probabilistic(data, qid_attrs, sensitive_attr)\n",
        "\n",
        "end_time = time.time()\n",
        "execution_time = end_time - start_time\n",
        "\n",
        "print(\"Sucesso determinístico a priori:\", sucesso_priori_deterministic)\n",
        "print(\"Sucesso determinístico a posteriori:\", sucesso_post_deterministico)\n",
        "print(\"Degradação determinística de privacidade:\", sucesso_post_deterministico - sucesso_priori_deterministic)\n",
        "\n",
        "print(\"Sucesso probabilístico a priori:\", sucesso_priori_probabilistic)\n",
        "print(\"Sucesso probabilístico a posteriori:\", sucesso_post_probabilistico)\n",
        "print(\"Degradação probabilística de privacidade:\", sucesso_post_probabilistico / sucesso_priori_probabilistic)\n",
        "\n",
        "print(\"Tempo de execução:\", execution_time, \"segundos\")"
      ]
    },
    {
      "cell_type": "code",
      "execution_count": null,
      "metadata": {
        "id": "j33xJ4nSOdKS"
      },
      "outputs": [],
      "source": [
        "qid_attrs = ['NU_DIA_NASCIMENTO', 'NU_MES_NASCIMENTO', 'NU_ANO_NASCIMENTO', 'TP_SEXO', 'TP_COR_RACA', 'CO_MUNICIPIO_NASCIMENTO', 'TP_NACIONALIDADE', 'CO_MUNICIPIO', 'TP_ESCOLA_CONCLUSAO_ENS_MEDIO']\n",
        "sensitive_attr = 'IN_FINANCIAMENTO_ESTUDANTIL'\n",
        "data = microdados\n",
        "\n",
        "start_time = time.time()\n",
        "\n",
        "sucesso_priori_deterministic = suc_prior_deterministic(data, sensitive_attr)\n",
        "sucesso_priori_probabilistic = suc_prior_probabilistic(data, sensitive_attr)\n",
        "sucesso_post_deterministico = suc_post_deterministic(data, qid_attrs, sensitive_attr)\n",
        "sucesso_post_probabilistico = suc_post_probabilistic(data, qid_attrs, sensitive_attr)\n",
        "\n",
        "end_time = time.time()\n",
        "execution_time = end_time - start_time\n",
        "\n",
        "print(\"Sucesso determinístico a priori:\", sucesso_priori_deterministic)\n",
        "print(\"Sucesso determinístico a posteriori:\", sucesso_post_deterministico)\n",
        "print(\"Degradação determinística de privacidade:\", sucesso_post_deterministico - sucesso_priori_deterministic)\n",
        "\n",
        "print(\"Sucesso probabilístico a priori:\", sucesso_priori_probabilistic)\n",
        "print(\"Sucesso probabilístico a posteriori:\", sucesso_post_probabilistico)\n",
        "print(\"Degradação probabilística de privacidade:\", sucesso_post_probabilistico / sucesso_priori_probabilistic)\n",
        "\n",
        "print(\"Tempo de execução:\", execution_time, \"segundos\")"
      ]
    },
    {
      "cell_type": "code",
      "execution_count": null,
      "metadata": {
        "id": "9QS5KZJ5OdKS"
      },
      "outputs": [],
      "source": [
        "qid_attrs = ['NU_DIA_NASCIMENTO', 'NU_MES_NASCIMENTO', 'NU_ANO_NASCIMENTO', 'TP_SEXO', 'TP_COR_RACA', 'CO_MUNICIPIO_NASCIMENTO', 'TP_NACIONALIDADE', 'CO_PAIS_ORIGEM', 'CO_MUNICIPIO', 'TP_ESCOLA_CONCLUSAO_ENS_MEDIO']\n",
        "sensitive_attr = 'IN_FINANCIAMENTO_ESTUDANTIL'\n",
        "data = microdados\n",
        "\n",
        "start_time = time.time()\n",
        "\n",
        "sucesso_priori_deterministic = suc_prior_deterministic(data, sensitive_attr)\n",
        "sucesso_priori_probabilistic = suc_prior_probabilistic(data, sensitive_attr)\n",
        "sucesso_post_deterministico = suc_post_deterministic(data, qid_attrs, sensitive_attr)\n",
        "sucesso_post_probabilistico = suc_post_probabilistic(data, qid_attrs, sensitive_attr)\n",
        "\n",
        "end_time = time.time()\n",
        "execution_time = end_time - start_time\n",
        "\n",
        "print(\"Sucesso determinístico a priori:\", sucesso_priori_deterministic)\n",
        "print(\"Sucesso determinístico a posteriori:\", sucesso_post_deterministico)\n",
        "print(\"Degradação determinística de privacidade:\", sucesso_post_deterministico - sucesso_priori_deterministic)\n",
        "\n",
        "print(\"Sucesso probabilístico a priori:\", sucesso_priori_probabilistic)\n",
        "print(\"Sucesso probabilístico a posteriori:\", sucesso_post_probabilistico)\n",
        "print(\"Degradação probabilística de privacidade:\", sucesso_post_probabilistico / sucesso_priori_probabilistic)\n",
        "\n",
        "print(\"Tempo de execução:\", execution_time, \"segundos\")"
      ]
    },
    {
      "cell_type": "code",
      "execution_count": null,
      "metadata": {
        "id": "c4pWo4WcOdKT"
      },
      "outputs": [],
      "source": [
        "qid_attrs = ['NU_DIA_NASCIMENTO', 'NU_MES_NASCIMENTO', 'NU_ANO_NASCIMENTO', 'TP_SEXO', 'TP_COR_RACA', 'CO_MUNICIPIO_NASCIMENTO', 'TP_NACIONALIDADE', 'CO_PAIS_ORIGEM', 'CO_IES', 'CO_MUNICIPIO', 'TP_ESCOLA_CONCLUSAO_ENS_MEDIO']\n",
        "sensitive_attr = 'IN_FINANCIAMENTO_ESTUDANTIL'\n",
        "data = microdados\n",
        "\n",
        "start_time = time.time()\n",
        "\n",
        "sucesso_priori_deterministic = suc_prior_deterministic(data, sensitive_attr)\n",
        "sucesso_priori_probabilistic = suc_prior_probabilistic(data, sensitive_attr)\n",
        "sucesso_post_deterministico = suc_post_deterministic(data, qid_attrs, sensitive_attr)\n",
        "sucesso_post_probabilistico = suc_post_probabilistic(data, qid_attrs, sensitive_attr)\n",
        "\n",
        "end_time = time.time()\n",
        "execution_time = end_time - start_time\n",
        "\n",
        "print(\"Sucesso determinístico a priori:\", sucesso_priori_deterministic)\n",
        "print(\"Sucesso determinístico a posteriori:\", sucesso_post_deterministico)\n",
        "print(\"Degradação determinística de privacidade:\", sucesso_post_deterministico - sucesso_priori_deterministic)\n",
        "\n",
        "print(\"Sucesso probabilístico a priori:\", sucesso_priori_probabilistic)\n",
        "print(\"Sucesso probabilístico a posteriori:\", sucesso_post_probabilistico)\n",
        "print(\"Degradação probabilística de privacidade:\", sucesso_post_probabilistico / sucesso_priori_probabilistic)\n",
        "\n",
        "print(\"Tempo de execução:\", execution_time, \"segundos\")"
      ]
    },
    {
      "cell_type": "markdown",
      "metadata": {
        "id": "ngp-NicFOzJg"
      },
      "source": [
        "###### Substituição de CO_CURSO por CO_UF"
      ]
    },
    {
      "cell_type": "code",
      "execution_count": null,
      "metadata": {
        "id": "EjHFkbEVOzJh"
      },
      "outputs": [],
      "source": [
        "qid_attrs = ['CO_UF']\n",
        "sensitive_attr = 'IN_FINANCIAMENTO_ESTUDANTIL'\n",
        "data = microdados\n",
        "\n",
        "start_time = time.time()\n",
        "\n",
        "sucesso_priori_deterministic = suc_prior_deterministic(data, sensitive_attr)\n",
        "sucesso_priori_probabilistic = suc_prior_probabilistic(data, sensitive_attr)\n",
        "sucesso_post_deterministico = suc_post_deterministic(data, qid_attrs, sensitive_attr)\n",
        "sucesso_post_probabilistico = suc_post_probabilistic(data, qid_attrs, sensitive_attr)\n",
        "\n",
        "end_time = time.time()\n",
        "execution_time = end_time - start_time\n",
        "\n",
        "print(\"Sucesso determinístico a priori:\", sucesso_priori_deterministic)\n",
        "print(\"Sucesso determinístico a posteriori:\", sucesso_post_deterministico)\n",
        "print(\"Degradação determinística de privacidade:\", sucesso_post_deterministico - sucesso_priori_deterministic)\n",
        "\n",
        "print(\"Sucesso probabilístico a priori:\", sucesso_priori_probabilistic)\n",
        "print(\"Sucesso probabilístico a posteriori:\", sucesso_post_probabilistico)\n",
        "print(\"Degradação probabilística de privacidade:\", sucesso_post_probabilistico / sucesso_priori_probabilistic)\n",
        "\n",
        "print(\"Tempo de execução:\", execution_time, \"segundos\")"
      ]
    },
    {
      "cell_type": "code",
      "execution_count": null,
      "metadata": {
        "id": "URCwtl3WOzJi"
      },
      "outputs": [],
      "source": [
        "qid_attrs = ['CO_MUNICIPIO_NASCIMENTO', 'CO_UF']\n",
        "sensitive_attr = 'IN_FINANCIAMENTO_ESTUDANTIL'\n",
        "data = microdados\n",
        "\n",
        "start_time = time.time()\n",
        "\n",
        "sucesso_priori_deterministic = suc_prior_deterministic(data, sensitive_attr)\n",
        "sucesso_priori_probabilistic = suc_prior_probabilistic(data, sensitive_attr)\n",
        "sucesso_post_deterministico = suc_post_deterministic(data, qid_attrs, sensitive_attr)\n",
        "sucesso_post_probabilistico = suc_post_probabilistic(data, qid_attrs, sensitive_attr)\n",
        "\n",
        "end_time = time.time()\n",
        "execution_time = end_time - start_time\n",
        "\n",
        "print(\"Sucesso determinístico a priori:\", sucesso_priori_deterministic)\n",
        "print(\"Sucesso determinístico a posteriori:\", sucesso_post_deterministico)\n",
        "print(\"Degradação determinística de privacidade:\", sucesso_post_deterministico - sucesso_priori_deterministic)\n",
        "\n",
        "print(\"Sucesso probabilístico a priori:\", sucesso_priori_probabilistic)\n",
        "print(\"Sucesso probabilístico a posteriori:\", sucesso_post_probabilistico)\n",
        "print(\"Degradação probabilística de privacidade:\", sucesso_post_probabilistico / sucesso_priori_probabilistic)\n",
        "\n",
        "print(\"Tempo de execução:\", execution_time, \"segundos\")"
      ]
    },
    {
      "cell_type": "code",
      "execution_count": null,
      "metadata": {
        "id": "e27IkBSnOzJj"
      },
      "outputs": [],
      "source": [
        "qid_attrs = ['NU_DIA_NASCIMENTO', 'CO_UF']\n",
        "sensitive_attr = 'IN_FINANCIAMENTO_ESTUDANTIL'\n",
        "data = microdados\n",
        "\n",
        "start_time = time.time()\n",
        "\n",
        "sucesso_priori_deterministic = suc_prior_deterministic(data, sensitive_attr)\n",
        "sucesso_priori_probabilistic = suc_prior_probabilistic(data, sensitive_attr)\n",
        "sucesso_post_deterministico = suc_post_deterministic(data, qid_attrs, sensitive_attr)\n",
        "sucesso_post_probabilistico = suc_post_probabilistic(data, qid_attrs, sensitive_attr)\n",
        "\n",
        "end_time = time.time()\n",
        "execution_time = end_time - start_time\n",
        "\n",
        "print(\"Sucesso determinístico a priori:\", sucesso_priori_deterministic)\n",
        "print(\"Sucesso determinístico a posteriori:\", sucesso_post_deterministico)\n",
        "print(\"Degradação determinística de privacidade:\", sucesso_post_deterministico - sucesso_priori_deterministic)\n",
        "\n",
        "print(\"Sucesso probabilístico a priori:\", sucesso_priori_probabilistic)\n",
        "print(\"Sucesso probabilístico a posteriori:\", sucesso_post_probabilistico)\n",
        "print(\"Degradação probabilística de privacidade:\", sucesso_post_probabilistico / sucesso_priori_probabilistic)\n",
        "\n",
        "print(\"Tempo de execução:\", execution_time, \"segundos\")"
      ]
    },
    {
      "cell_type": "code",
      "execution_count": null,
      "metadata": {
        "id": "XkEU4-aQOzJj"
      },
      "outputs": [],
      "source": [
        "qid_attrs = ['NU_DIA_NASCIMENTO', 'NU_ANO_NASCIMENTO', 'CO_UF']\n",
        "sensitive_attr = 'IN_FINANCIAMENTO_ESTUDANTIL'\n",
        "data = microdados\n",
        "\n",
        "start_time = time.time()\n",
        "\n",
        "sucesso_priori_deterministic = suc_prior_deterministic(data, sensitive_attr)\n",
        "sucesso_priori_probabilistic = suc_prior_probabilistic(data, sensitive_attr)\n",
        "sucesso_post_deterministico = suc_post_deterministic(data, qid_attrs, sensitive_attr)\n",
        "sucesso_post_probabilistico = suc_post_probabilistic(data, qid_attrs, sensitive_attr)\n",
        "\n",
        "end_time = time.time()\n",
        "execution_time = end_time - start_time\n",
        "\n",
        "print(\"Sucesso determinístico a priori:\", sucesso_priori_deterministic)\n",
        "print(\"Sucesso determinístico a posteriori:\", sucesso_post_deterministico)\n",
        "print(\"Degradação determinística de privacidade:\", sucesso_post_deterministico - sucesso_priori_deterministic)\n",
        "\n",
        "print(\"Sucesso probabilístico a priori:\", sucesso_priori_probabilistic)\n",
        "print(\"Sucesso probabilístico a posteriori:\", sucesso_post_probabilistico)\n",
        "print(\"Degradação probabilística de privacidade:\", sucesso_post_probabilistico / sucesso_priori_probabilistic)\n",
        "\n",
        "print(\"Tempo de execução:\", execution_time, \"segundos\")"
      ]
    },
    {
      "cell_type": "code",
      "execution_count": null,
      "metadata": {
        "id": "ijQ96_jNOzJj"
      },
      "outputs": [],
      "source": [
        "qid_attrs = ['NU_DIA_NASCIMENTO', 'NU_MES_NASCIMENTO', 'NU_ANO_NASCIMENTO', 'CO_UF']\n",
        "sensitive_attr = 'IN_FINANCIAMENTO_ESTUDANTIL'\n",
        "data = microdados\n",
        "\n",
        "start_time = time.time()\n",
        "\n",
        "sucesso_priori_deterministic = suc_prior_deterministic(data, sensitive_attr)\n",
        "sucesso_priori_probabilistic = suc_prior_probabilistic(data, sensitive_attr)\n",
        "sucesso_post_deterministico = suc_post_deterministic(data, qid_attrs, sensitive_attr)\n",
        "sucesso_post_probabilistico = suc_post_probabilistic(data, qid_attrs, sensitive_attr)\n",
        "\n",
        "end_time = time.time()\n",
        "execution_time = end_time - start_time\n",
        "\n",
        "print(\"Sucesso determinístico a priori:\", sucesso_priori_deterministic)\n",
        "print(\"Sucesso determinístico a posteriori:\", sucesso_post_deterministico)\n",
        "print(\"Degradação determinística de privacidade:\", sucesso_post_deterministico - sucesso_priori_deterministic)\n",
        "\n",
        "print(\"Sucesso probabilístico a priori:\", sucesso_priori_probabilistic)\n",
        "print(\"Sucesso probabilístico a posteriori:\", sucesso_post_probabilistico)\n",
        "print(\"Degradação probabilística de privacidade:\", sucesso_post_probabilistico / sucesso_priori_probabilistic)\n",
        "\n",
        "print(\"Tempo de execução:\", execution_time, \"segundos\")"
      ]
    },
    {
      "cell_type": "code",
      "execution_count": null,
      "metadata": {
        "id": "w2bkQ-HAOzJk"
      },
      "outputs": [],
      "source": [
        "qid_attrs = ['NU_DIA_NASCIMENTO', 'NU_MES_NASCIMENTO', 'NU_ANO_NASCIMENTO', 'CO_MUNICIPIO_NASCIMENTO', 'CO_UF']\n",
        "sensitive_attr = 'IN_FINANCIAMENTO_ESTUDANTIL'\n",
        "data = microdados\n",
        "\n",
        "start_time = time.time()\n",
        "\n",
        "sucesso_priori_deterministic = suc_prior_deterministic(data, sensitive_attr)\n",
        "sucesso_priori_probabilistic = suc_prior_probabilistic(data, sensitive_attr)\n",
        "sucesso_post_deterministico = suc_post_deterministic(data, qid_attrs, sensitive_attr)\n",
        "sucesso_post_probabilistico = suc_post_probabilistic(data, qid_attrs, sensitive_attr)\n",
        "\n",
        "end_time = time.time()\n",
        "execution_time = end_time - start_time\n",
        "\n",
        "print(\"Sucesso determinístico a priori:\", sucesso_priori_deterministic)\n",
        "print(\"Sucesso determinístico a posteriori:\", sucesso_post_deterministico)\n",
        "print(\"Degradação determinística de privacidade:\", sucesso_post_deterministico - sucesso_priori_deterministic)\n",
        "\n",
        "print(\"Sucesso probabilístico a priori:\", sucesso_priori_probabilistic)\n",
        "print(\"Sucesso probabilístico a posteriori:\", sucesso_post_probabilistico)\n",
        "print(\"Degradação probabilística de privacidade:\", sucesso_post_probabilistico / sucesso_priori_probabilistic)\n",
        "\n",
        "print(\"Tempo de execução:\", execution_time, \"segundos\")"
      ]
    },
    {
      "cell_type": "code",
      "execution_count": null,
      "metadata": {
        "id": "X34n-N-yOzJk"
      },
      "outputs": [],
      "source": [
        "qid_attrs = ['NU_DIA_NASCIMENTO', 'NU_MES_NASCIMENTO', 'NU_ANO_NASCIMENTO', 'TP_COR_RACA', 'CO_MUNICIPIO_NASCIMENTO', 'CO_UF']\n",
        "sensitive_attr = 'IN_FINANCIAMENTO_ESTUDANTIL'\n",
        "data = microdados\n",
        "\n",
        "start_time = time.time()\n",
        "\n",
        "sucesso_priori_deterministic = suc_prior_deterministic(data, sensitive_attr)\n",
        "sucesso_priori_probabilistic = suc_prior_probabilistic(data, sensitive_attr)\n",
        "sucesso_post_deterministico = suc_post_deterministic(data, qid_attrs, sensitive_attr)\n",
        "sucesso_post_probabilistico = suc_post_probabilistic(data, qid_attrs, sensitive_attr)\n",
        "\n",
        "end_time = time.time()\n",
        "execution_time = end_time - start_time\n",
        "\n",
        "print(\"Sucesso determinístico a priori:\", sucesso_priori_deterministic)\n",
        "print(\"Sucesso determinístico a posteriori:\", sucesso_post_deterministico)\n",
        "print(\"Degradação determinística de privacidade:\", sucesso_post_deterministico - sucesso_priori_deterministic)\n",
        "\n",
        "print(\"Sucesso probabilístico a priori:\", sucesso_priori_probabilistic)\n",
        "print(\"Sucesso probabilístico a posteriori:\", sucesso_post_probabilistico)\n",
        "print(\"Degradação probabilística de privacidade:\", sucesso_post_probabilistico / sucesso_priori_probabilistic)\n",
        "\n",
        "print(\"Tempo de execução:\", execution_time, \"segundos\")"
      ]
    },
    {
      "cell_type": "code",
      "execution_count": null,
      "metadata": {
        "id": "Aa4qGf2KOzJk"
      },
      "outputs": [],
      "source": [
        "qid_attrs = ['NU_DIA_NASCIMENTO', 'NU_MES_NASCIMENTO', 'NU_ANO_NASCIMENTO', 'TP_SEXO', 'TP_COR_RACA', 'CO_MUNICIPIO_NASCIMENTO', 'CO_UF']\n",
        "sensitive_attr = 'IN_FINANCIAMENTO_ESTUDANTIL'\n",
        "data = microdados\n",
        "\n",
        "start_time = time.time()\n",
        "\n",
        "sucesso_priori_deterministic = suc_prior_deterministic(data, sensitive_attr)\n",
        "sucesso_priori_probabilistic = suc_prior_probabilistic(data, sensitive_attr)\n",
        "sucesso_post_deterministico = suc_post_deterministic(data, qid_attrs, sensitive_attr)\n",
        "sucesso_post_probabilistico = suc_post_probabilistic(data, qid_attrs, sensitive_attr)\n",
        "\n",
        "end_time = time.time()\n",
        "execution_time = end_time - start_time\n",
        "\n",
        "print(\"Sucesso determinístico a priori:\", sucesso_priori_deterministic)\n",
        "print(\"Sucesso determinístico a posteriori:\", sucesso_post_deterministico)\n",
        "print(\"Degradação determinística de privacidade:\", sucesso_post_deterministico - sucesso_priori_deterministic)\n",
        "\n",
        "print(\"Sucesso probabilístico a priori:\", sucesso_priori_probabilistic)\n",
        "print(\"Sucesso probabilístico a posteriori:\", sucesso_post_probabilistico)\n",
        "print(\"Degradação probabilística de privacidade:\", sucesso_post_probabilistico / sucesso_priori_probabilistic)\n",
        "\n",
        "print(\"Tempo de execução:\", execution_time, \"segundos\")"
      ]
    },
    {
      "cell_type": "code",
      "execution_count": null,
      "metadata": {
        "id": "Wry6UwMPOzJk"
      },
      "outputs": [],
      "source": [
        "qid_attrs = ['NU_DIA_NASCIMENTO', 'NU_MES_NASCIMENTO', 'NU_ANO_NASCIMENTO', 'TP_SEXO', 'TP_COR_RACA', 'CO_MUNICIPIO_NASCIMENTO', 'CO_UF', 'TP_ESCOLA_CONCLUSAO_ENS_MEDIO']\n",
        "sensitive_attr = 'IN_FINANCIAMENTO_ESTUDANTIL'\n",
        "data = microdados\n",
        "\n",
        "start_time = time.time()\n",
        "\n",
        "sucesso_priori_deterministic = suc_prior_deterministic(data, sensitive_attr)\n",
        "sucesso_priori_probabilistic = suc_prior_probabilistic(data, sensitive_attr)\n",
        "sucesso_post_deterministico = suc_post_deterministic(data, qid_attrs, sensitive_attr)\n",
        "sucesso_post_probabilistico = suc_post_probabilistic(data, qid_attrs, sensitive_attr)\n",
        "\n",
        "end_time = time.time()\n",
        "execution_time = end_time - start_time\n",
        "\n",
        "print(\"Sucesso determinístico a priori:\", sucesso_priori_deterministic)\n",
        "print(\"Sucesso determinístico a posteriori:\", sucesso_post_deterministico)\n",
        "print(\"Degradação determinística de privacidade:\", sucesso_post_deterministico - sucesso_priori_deterministic)\n",
        "\n",
        "print(\"Sucesso probabilístico a priori:\", sucesso_priori_probabilistic)\n",
        "print(\"Sucesso probabilístico a posteriori:\", sucesso_post_probabilistico)\n",
        "print(\"Degradação probabilística de privacidade:\", sucesso_post_probabilistico / sucesso_priori_probabilistic)\n",
        "\n",
        "print(\"Tempo de execução:\", execution_time, \"segundos\")"
      ]
    },
    {
      "cell_type": "code",
      "execution_count": null,
      "metadata": {
        "colab": {
          "background_save": true
        },
        "id": "eWkWDv7xOzJl"
      },
      "outputs": [],
      "source": [
        "qid_attrs = ['NU_DIA_NASCIMENTO', 'NU_MES_NASCIMENTO', 'NU_ANO_NASCIMENTO', 'TP_SEXO', 'TP_COR_RACA', 'CO_MUNICIPIO_NASCIMENTO', 'TP_NACIONALIDADE', 'CO_UF', 'TP_ESCOLA_CONCLUSAO_ENS_MEDIO']\n",
        "sensitive_attr = 'IN_FINANCIAMENTO_ESTUDANTIL'\n",
        "data = microdados\n",
        "\n",
        "start_time = time.time()\n",
        "\n",
        "sucesso_priori_deterministic = suc_prior_deterministic(data, sensitive_attr)\n",
        "sucesso_priori_probabilistic = suc_prior_probabilistic(data, sensitive_attr)\n",
        "sucesso_post_deterministico = suc_post_deterministic(data, qid_attrs, sensitive_attr)\n",
        "sucesso_post_probabilistico = suc_post_probabilistic(data, qid_attrs, sensitive_attr)\n",
        "\n",
        "end_time = time.time()\n",
        "execution_time = end_time - start_time\n",
        "\n",
        "print(\"Sucesso determinístico a priori:\", sucesso_priori_deterministic)\n",
        "print(\"Sucesso determinístico a posteriori:\", sucesso_post_deterministico)\n",
        "print(\"Degradação determinística de privacidade:\", sucesso_post_deterministico - sucesso_priori_deterministic)\n",
        "\n",
        "print(\"Sucesso probabilístico a priori:\", sucesso_priori_probabilistic)\n",
        "print(\"Sucesso probabilístico a posteriori:\", sucesso_post_probabilistico)\n",
        "print(\"Degradação probabilística de privacidade:\", sucesso_post_probabilistico / sucesso_priori_probabilistic)\n",
        "\n",
        "print(\"Tempo de execução:\", execution_time, \"segundos\")"
      ]
    },
    {
      "cell_type": "code",
      "execution_count": null,
      "metadata": {
        "id": "bP2lJh6kOzJl"
      },
      "outputs": [],
      "source": [
        "qid_attrs = ['NU_DIA_NASCIMENTO', 'NU_MES_NASCIMENTO', 'NU_ANO_NASCIMENTO', 'TP_SEXO', 'TP_COR_RACA', 'CO_MUNICIPIO_NASCIMENTO', 'TP_NACIONALIDADE', 'CO_PAIS_ORIGEM', 'CO_UF', 'TP_ESCOLA_CONCLUSAO_ENS_MEDIO']\n",
        "sensitive_attr = 'IN_FINANCIAMENTO_ESTUDANTIL'\n",
        "data = microdados\n",
        "\n",
        "start_time = time.time()\n",
        "\n",
        "sucesso_priori_deterministic = suc_prior_deterministic(data, sensitive_attr)\n",
        "sucesso_priori_probabilistic = suc_prior_probabilistic(data, sensitive_attr)\n",
        "sucesso_post_deterministico = suc_post_deterministic(data, qid_attrs, sensitive_attr)\n",
        "sucesso_post_probabilistico = suc_post_probabilistic(data, qid_attrs, sensitive_attr)\n",
        "\n",
        "end_time = time.time()\n",
        "execution_time = end_time - start_time\n",
        "\n",
        "print(\"Sucesso determinístico a priori:\", sucesso_priori_deterministic)\n",
        "print(\"Sucesso determinístico a posteriori:\", sucesso_post_deterministico)\n",
        "print(\"Degradação determinística de privacidade:\", sucesso_post_deterministico - sucesso_priori_deterministic)\n",
        "\n",
        "print(\"Sucesso probabilístico a priori:\", sucesso_priori_probabilistic)\n",
        "print(\"Sucesso probabilístico a posteriori:\", sucesso_post_probabilistico)\n",
        "print(\"Degradação probabilística de privacidade:\", sucesso_post_probabilistico / sucesso_priori_probabilistic)\n",
        "\n",
        "print(\"Tempo de execução:\", execution_time, \"segundos\")"
      ]
    },
    {
      "cell_type": "code",
      "execution_count": null,
      "metadata": {
        "id": "prAMgjo2OzJl"
      },
      "outputs": [],
      "source": [
        "qid_attrs = ['NU_DIA_NASCIMENTO', 'NU_MES_NASCIMENTO', 'NU_ANO_NASCIMENTO', 'TP_SEXO', 'TP_COR_RACA', 'CO_MUNICIPIO_NASCIMENTO', 'TP_NACIONALIDADE', 'CO_PAIS_ORIGEM', 'CO_IES', 'CO_UF', 'TP_ESCOLA_CONCLUSAO_ENS_MEDIO']\n",
        "sensitive_attr = 'IN_FINANCIAMENTO_ESTUDANTIL'\n",
        "data = microdados\n",
        "\n",
        "start_time = time.time()\n",
        "\n",
        "sucesso_priori_deterministic = suc_prior_deterministic(data, sensitive_attr)\n",
        "sucesso_priori_probabilistic = suc_prior_probabilistic(data, sensitive_attr)\n",
        "sucesso_post_deterministico = suc_post_deterministic(data, qid_attrs, sensitive_attr)\n",
        "sucesso_post_probabilistico = suc_post_probabilistic(data, qid_attrs, sensitive_attr)\n",
        "\n",
        "end_time = time.time()\n",
        "execution_time = end_time - start_time\n",
        "\n",
        "print(\"Sucesso determinístico a priori:\", sucesso_priori_deterministic)\n",
        "print(\"Sucesso determinístico a posteriori:\", sucesso_post_deterministico)\n",
        "print(\"Degradação determinística de privacidade:\", sucesso_post_deterministico - sucesso_priori_deterministic)\n",
        "\n",
        "print(\"Sucesso probabilístico a priori:\", sucesso_priori_probabilistic)\n",
        "print(\"Sucesso probabilístico a posteriori:\", sucesso_post_probabilistico)\n",
        "print(\"Degradação probabilística de privacidade:\", sucesso_post_probabilistico / sucesso_priori_probabilistic)\n",
        "\n",
        "print(\"Tempo de execução:\", execution_time, \"segundos\")"
      ]
    },
    {
      "cell_type": "markdown",
      "metadata": {
        "id": "lEKb3F2wPgNw"
      },
      "source": [
        "###### Substituição de CO_CURSO por CO_IES"
      ]
    },
    {
      "cell_type": "code",
      "execution_count": null,
      "metadata": {
        "id": "dLHQ6hlUPgNw"
      },
      "outputs": [],
      "source": [
        "qid_attrs = ['CO_IES']\n",
        "sensitive_attr = 'IN_FINANCIAMENTO_ESTUDANTIL'\n",
        "data = microdados\n",
        "\n",
        "start_time = time.time()\n",
        "\n",
        "sucesso_priori_deterministic = suc_prior_deterministic(data, sensitive_attr)\n",
        "sucesso_priori_probabilistic = suc_prior_probabilistic(data, sensitive_attr)\n",
        "sucesso_post_deterministico = suc_post_deterministic(data, qid_attrs, sensitive_attr)\n",
        "sucesso_post_probabilistico = suc_post_probabilistic(data, qid_attrs, sensitive_attr)\n",
        "\n",
        "end_time = time.time()\n",
        "execution_time = end_time - start_time\n",
        "\n",
        "print(\"Sucesso determinístico a priori:\", sucesso_priori_deterministic)\n",
        "print(\"Sucesso determinístico a posteriori:\", sucesso_post_deterministico)\n",
        "print(\"Degradação determinística de privacidade:\", sucesso_post_deterministico - sucesso_priori_deterministic)\n",
        "\n",
        "print(\"Sucesso probabilístico a priori:\", sucesso_priori_probabilistic)\n",
        "print(\"Sucesso probabilístico a posteriori:\", sucesso_post_probabilistico)\n",
        "print(\"Degradação probabilística de privacidade:\", sucesso_post_probabilistico / sucesso_priori_probabilistic)\n",
        "\n",
        "print(\"Tempo de execução:\", execution_time, \"segundos\")"
      ]
    },
    {
      "cell_type": "code",
      "execution_count": null,
      "metadata": {
        "id": "rpjMh3PFPgNx"
      },
      "outputs": [],
      "source": [
        "qid_attrs = ['CO_MUNICIPIO_NASCIMENTO', 'CO_IES']\n",
        "sensitive_attr = 'IN_FINANCIAMENTO_ESTUDANTIL'\n",
        "data = microdados\n",
        "\n",
        "start_time = time.time()\n",
        "\n",
        "sucesso_priori_deterministic = suc_prior_deterministic(data, sensitive_attr)\n",
        "sucesso_priori_probabilistic = suc_prior_probabilistic(data, sensitive_attr)\n",
        "sucesso_post_deterministico = suc_post_deterministic(data, qid_attrs, sensitive_attr)\n",
        "sucesso_post_probabilistico = suc_post_probabilistic(data, qid_attrs, sensitive_attr)\n",
        "\n",
        "end_time = time.time()\n",
        "execution_time = end_time - start_time\n",
        "\n",
        "print(\"Sucesso determinístico a priori:\", sucesso_priori_deterministic)\n",
        "print(\"Sucesso determinístico a posteriori:\", sucesso_post_deterministico)\n",
        "print(\"Degradação determinística de privacidade:\", sucesso_post_deterministico - sucesso_priori_deterministic)\n",
        "\n",
        "print(\"Sucesso probabilístico a priori:\", sucesso_priori_probabilistic)\n",
        "print(\"Sucesso probabilístico a posteriori:\", sucesso_post_probabilistico)\n",
        "print(\"Degradação probabilística de privacidade:\", sucesso_post_probabilistico / sucesso_priori_probabilistic)\n",
        "\n",
        "print(\"Tempo de execução:\", execution_time, \"segundos\")"
      ]
    },
    {
      "cell_type": "code",
      "execution_count": null,
      "metadata": {
        "id": "5Qk5RqChPgNy"
      },
      "outputs": [],
      "source": [
        "qid_attrs = ['NU_DIA_NASCIMENTO', 'CO_IES']\n",
        "sensitive_attr = 'IN_FINANCIAMENTO_ESTUDANTIL'\n",
        "data = microdados\n",
        "\n",
        "start_time = time.time()\n",
        "\n",
        "sucesso_priori_deterministic = suc_prior_deterministic(data, sensitive_attr)\n",
        "sucesso_priori_probabilistic = suc_prior_probabilistic(data, sensitive_attr)\n",
        "sucesso_post_deterministico = suc_post_deterministic(data, qid_attrs, sensitive_attr)\n",
        "sucesso_post_probabilistico = suc_post_probabilistic(data, qid_attrs, sensitive_attr)\n",
        "\n",
        "end_time = time.time()\n",
        "execution_time = end_time - start_time\n",
        "\n",
        "print(\"Sucesso determinístico a priori:\", sucesso_priori_deterministic)\n",
        "print(\"Sucesso determinístico a posteriori:\", sucesso_post_deterministico)\n",
        "print(\"Degradação determinística de privacidade:\", sucesso_post_deterministico - sucesso_priori_deterministic)\n",
        "\n",
        "print(\"Sucesso probabilístico a priori:\", sucesso_priori_probabilistic)\n",
        "print(\"Sucesso probabilístico a posteriori:\", sucesso_post_probabilistico)\n",
        "print(\"Degradação probabilística de privacidade:\", sucesso_post_probabilistico / sucesso_priori_probabilistic)\n",
        "\n",
        "print(\"Tempo de execução:\", execution_time, \"segundos\")"
      ]
    },
    {
      "cell_type": "code",
      "execution_count": null,
      "metadata": {
        "id": "SrwwzCi5PgNz"
      },
      "outputs": [],
      "source": [
        "qid_attrs = ['NU_DIA_NASCIMENTO', 'NU_ANO_NASCIMENTO', 'CO_IES']\n",
        "sensitive_attr = 'IN_FINANCIAMENTO_ESTUDANTIL'\n",
        "data = microdados\n",
        "\n",
        "start_time = time.time()\n",
        "\n",
        "sucesso_priori_deterministic = suc_prior_deterministic(data, sensitive_attr)\n",
        "sucesso_priori_probabilistic = suc_prior_probabilistic(data, sensitive_attr)\n",
        "sucesso_post_deterministico = suc_post_deterministic(data, qid_attrs, sensitive_attr)\n",
        "sucesso_post_probabilistico = suc_post_probabilistic(data, qid_attrs, sensitive_attr)\n",
        "\n",
        "end_time = time.time()\n",
        "execution_time = end_time - start_time\n",
        "\n",
        "print(\"Sucesso determinístico a priori:\", sucesso_priori_deterministic)\n",
        "print(\"Sucesso determinístico a posteriori:\", sucesso_post_deterministico)\n",
        "print(\"Degradação determinística de privacidade:\", sucesso_post_deterministico - sucesso_priori_deterministic)\n",
        "\n",
        "print(\"Sucesso probabilístico a priori:\", sucesso_priori_probabilistic)\n",
        "print(\"Sucesso probabilístico a posteriori:\", sucesso_post_probabilistico)\n",
        "print(\"Degradação probabilística de privacidade:\", sucesso_post_probabilistico / sucesso_priori_probabilistic)\n",
        "\n",
        "print(\"Tempo de execução:\", execution_time, \"segundos\")"
      ]
    },
    {
      "cell_type": "code",
      "execution_count": null,
      "metadata": {
        "id": "InENb37kPgNz"
      },
      "outputs": [],
      "source": [
        "qid_attrs = ['NU_DIA_NASCIMENTO', 'NU_MES_NASCIMENTO', 'NU_ANO_NASCIMENTO', 'CO_IES']\n",
        "sensitive_attr = 'IN_FINANCIAMENTO_ESTUDANTIL'\n",
        "data = microdados\n",
        "\n",
        "start_time = time.time()\n",
        "\n",
        "sucesso_priori_deterministic = suc_prior_deterministic(data, sensitive_attr)\n",
        "sucesso_priori_probabilistic = suc_prior_probabilistic(data, sensitive_attr)\n",
        "sucesso_post_deterministico = suc_post_deterministic(data, qid_attrs, sensitive_attr)\n",
        "sucesso_post_probabilistico = suc_post_probabilistic(data, qid_attrs, sensitive_attr)\n",
        "\n",
        "end_time = time.time()\n",
        "execution_time = end_time - start_time\n",
        "\n",
        "print(\"Sucesso determinístico a priori:\", sucesso_priori_deterministic)\n",
        "print(\"Sucesso determinístico a posteriori:\", sucesso_post_deterministico)\n",
        "print(\"Degradação determinística de privacidade:\", sucesso_post_deterministico - sucesso_priori_deterministic)\n",
        "\n",
        "print(\"Sucesso probabilístico a priori:\", sucesso_priori_probabilistic)\n",
        "print(\"Sucesso probabilístico a posteriori:\", sucesso_post_probabilistico)\n",
        "print(\"Degradação probabilística de privacidade:\", sucesso_post_probabilistico / sucesso_priori_probabilistic)\n",
        "\n",
        "print(\"Tempo de execução:\", execution_time, \"segundos\")"
      ]
    },
    {
      "cell_type": "code",
      "execution_count": null,
      "metadata": {
        "id": "xAxbKftIPgN0"
      },
      "outputs": [],
      "source": [
        "qid_attrs = ['NU_DIA_NASCIMENTO', 'NU_MES_NASCIMENTO', 'NU_ANO_NASCIMENTO', 'CO_MUNICIPIO_NASCIMENTO', 'CO_IES']\n",
        "sensitive_attr = 'IN_FINANCIAMENTO_ESTUDANTIL'\n",
        "data = microdados\n",
        "\n",
        "start_time = time.time()\n",
        "\n",
        "sucesso_priori_deterministic = suc_prior_deterministic(data, sensitive_attr)\n",
        "sucesso_priori_probabilistic = suc_prior_probabilistic(data, sensitive_attr)\n",
        "sucesso_post_deterministico = suc_post_deterministic(data, qid_attrs, sensitive_attr)\n",
        "sucesso_post_probabilistico = suc_post_probabilistic(data, qid_attrs, sensitive_attr)\n",
        "\n",
        "end_time = time.time()\n",
        "execution_time = end_time - start_time\n",
        "\n",
        "print(\"Sucesso determinístico a priori:\", sucesso_priori_deterministic)\n",
        "print(\"Sucesso determinístico a posteriori:\", sucesso_post_deterministico)\n",
        "print(\"Degradação determinística de privacidade:\", sucesso_post_deterministico - sucesso_priori_deterministic)\n",
        "\n",
        "print(\"Sucesso probabilístico a priori:\", sucesso_priori_probabilistic)\n",
        "print(\"Sucesso probabilístico a posteriori:\", sucesso_post_probabilistico)\n",
        "print(\"Degradação probabilística de privacidade:\", sucesso_post_probabilistico / sucesso_priori_probabilistic)\n",
        "\n",
        "print(\"Tempo de execução:\", execution_time, \"segundos\")"
      ]
    },
    {
      "cell_type": "code",
      "execution_count": null,
      "metadata": {
        "id": "6jJHwGcdPgN0"
      },
      "outputs": [],
      "source": [
        "qid_attrs = ['NU_DIA_NASCIMENTO', 'NU_MES_NASCIMENTO', 'NU_ANO_NASCIMENTO', 'TP_COR_RACA', 'CO_MUNICIPIO_NASCIMENTO', 'CO_IES']\n",
        "sensitive_attr = 'IN_FINANCIAMENTO_ESTUDANTIL'\n",
        "data = microdados\n",
        "\n",
        "start_time = time.time()\n",
        "\n",
        "sucesso_priori_deterministic = suc_prior_deterministic(data, sensitive_attr)\n",
        "sucesso_priori_probabilistic = suc_prior_probabilistic(data, sensitive_attr)\n",
        "sucesso_post_deterministico = suc_post_deterministic(data, qid_attrs, sensitive_attr)\n",
        "sucesso_post_probabilistico = suc_post_probabilistic(data, qid_attrs, sensitive_attr)\n",
        "\n",
        "end_time = time.time()\n",
        "execution_time = end_time - start_time\n",
        "\n",
        "print(\"Sucesso determinístico a priori:\", sucesso_priori_deterministic)\n",
        "print(\"Sucesso determinístico a posteriori:\", sucesso_post_deterministico)\n",
        "print(\"Degradação determinística de privacidade:\", sucesso_post_deterministico - sucesso_priori_deterministic)\n",
        "\n",
        "print(\"Sucesso probabilístico a priori:\", sucesso_priori_probabilistic)\n",
        "print(\"Sucesso probabilístico a posteriori:\", sucesso_post_probabilistico)\n",
        "print(\"Degradação probabilística de privacidade:\", sucesso_post_probabilistico / sucesso_priori_probabilistic)\n",
        "\n",
        "print(\"Tempo de execução:\", execution_time, \"segundos\")"
      ]
    },
    {
      "cell_type": "code",
      "execution_count": null,
      "metadata": {
        "id": "2WFCVoeVPgN1"
      },
      "outputs": [],
      "source": [
        "qid_attrs = ['NU_DIA_NASCIMENTO', 'NU_MES_NASCIMENTO', 'NU_ANO_NASCIMENTO', 'TP_SEXO', 'TP_COR_RACA', 'CO_MUNICIPIO_NASCIMENTO', 'CO_IES']\n",
        "sensitive_attr = 'IN_FINANCIAMENTO_ESTUDANTIL'\n",
        "data = microdados\n",
        "\n",
        "start_time = time.time()\n",
        "\n",
        "sucesso_priori_deterministic = suc_prior_deterministic(data, sensitive_attr)\n",
        "sucesso_priori_probabilistic = suc_prior_probabilistic(data, sensitive_attr)\n",
        "sucesso_post_deterministico = suc_post_deterministic(data, qid_attrs, sensitive_attr)\n",
        "sucesso_post_probabilistico = suc_post_probabilistic(data, qid_attrs, sensitive_attr)\n",
        "\n",
        "end_time = time.time()\n",
        "execution_time = end_time - start_time\n",
        "\n",
        "print(\"Sucesso determinístico a priori:\", sucesso_priori_deterministic)\n",
        "print(\"Sucesso determinístico a posteriori:\", sucesso_post_deterministico)\n",
        "print(\"Degradação determinística de privacidade:\", sucesso_post_deterministico - sucesso_priori_deterministic)\n",
        "\n",
        "print(\"Sucesso probabilístico a priori:\", sucesso_priori_probabilistic)\n",
        "print(\"Sucesso probabilístico a posteriori:\", sucesso_post_probabilistico)\n",
        "print(\"Degradação probabilística de privacidade:\", sucesso_post_probabilistico / sucesso_priori_probabilistic)\n",
        "\n",
        "print(\"Tempo de execução:\", execution_time, \"segundos\")"
      ]
    },
    {
      "cell_type": "code",
      "execution_count": null,
      "metadata": {
        "id": "YjnNoFjxPgN1"
      },
      "outputs": [],
      "source": [
        "qid_attrs = ['NU_DIA_NASCIMENTO', 'NU_MES_NASCIMENTO', 'NU_ANO_NASCIMENTO', 'TP_SEXO', 'TP_COR_RACA', 'CO_MUNICIPIO_NASCIMENTO', 'CO_IES', 'TP_ESCOLA_CONCLUSAO_ENS_MEDIO']\n",
        "sensitive_attr = 'IN_FINANCIAMENTO_ESTUDANTIL'\n",
        "data = microdados\n",
        "\n",
        "start_time = time.time()\n",
        "\n",
        "sucesso_priori_deterministic = suc_prior_deterministic(data, sensitive_attr)\n",
        "sucesso_priori_probabilistic = suc_prior_probabilistic(data, sensitive_attr)\n",
        "sucesso_post_deterministico = suc_post_deterministic(data, qid_attrs, sensitive_attr)\n",
        "sucesso_post_probabilistico = suc_post_probabilistic(data, qid_attrs, sensitive_attr)\n",
        "\n",
        "end_time = time.time()\n",
        "execution_time = end_time - start_time\n",
        "\n",
        "print(\"Sucesso determinístico a priori:\", sucesso_priori_deterministic)\n",
        "print(\"Sucesso determinístico a posteriori:\", sucesso_post_deterministico)\n",
        "print(\"Degradação determinística de privacidade:\", sucesso_post_deterministico - sucesso_priori_deterministic)\n",
        "\n",
        "print(\"Sucesso probabilístico a priori:\", sucesso_priori_probabilistic)\n",
        "print(\"Sucesso probabilístico a posteriori:\", sucesso_post_probabilistico)\n",
        "print(\"Degradação probabilística de privacidade:\", sucesso_post_probabilistico / sucesso_priori_probabilistic)\n",
        "\n",
        "print(\"Tempo de execução:\", execution_time, \"segundos\")"
      ]
    },
    {
      "cell_type": "code",
      "execution_count": null,
      "metadata": {
        "id": "8euEHhHlPgN1"
      },
      "outputs": [],
      "source": [
        "qid_attrs = ['NU_DIA_NASCIMENTO', 'NU_MES_NASCIMENTO', 'NU_ANO_NASCIMENTO', 'TP_SEXO', 'TP_COR_RACA', 'CO_MUNICIPIO_NASCIMENTO', 'TP_NACIONALIDADE', 'CO_IES', 'TP_ESCOLA_CONCLUSAO_ENS_MEDIO']\n",
        "sensitive_attr = 'IN_FINANCIAMENTO_ESTUDANTIL'\n",
        "data = microdados\n",
        "\n",
        "start_time = time.time()\n",
        "\n",
        "sucesso_priori_deterministic = suc_prior_deterministic(data, sensitive_attr)\n",
        "sucesso_priori_probabilistic = suc_prior_probabilistic(data, sensitive_attr)\n",
        "sucesso_post_deterministico = suc_post_deterministic(data, qid_attrs, sensitive_attr)\n",
        "sucesso_post_probabilistico = suc_post_probabilistic(data, qid_attrs, sensitive_attr)\n",
        "\n",
        "end_time = time.time()\n",
        "execution_time = end_time - start_time\n",
        "\n",
        "print(\"Sucesso determinístico a priori:\", sucesso_priori_deterministic)\n",
        "print(\"Sucesso determinístico a posteriori:\", sucesso_post_deterministico)\n",
        "print(\"Degradação determinística de privacidade:\", sucesso_post_deterministico - sucesso_priori_deterministic)\n",
        "\n",
        "print(\"Sucesso probabilístico a priori:\", sucesso_priori_probabilistic)\n",
        "print(\"Sucesso probabilístico a posteriori:\", sucesso_post_probabilistico)\n",
        "print(\"Degradação probabilística de privacidade:\", sucesso_post_probabilistico / sucesso_priori_probabilistic)\n",
        "\n",
        "print(\"Tempo de execução:\", execution_time, \"segundos\")"
      ]
    },
    {
      "cell_type": "code",
      "execution_count": null,
      "metadata": {
        "id": "5vSF01oUPgN2"
      },
      "outputs": [],
      "source": [
        "qid_attrs = ['NU_DIA_NASCIMENTO', 'NU_MES_NASCIMENTO', 'NU_ANO_NASCIMENTO', 'TP_SEXO', 'TP_COR_RACA', 'CO_MUNICIPIO_NASCIMENTO', 'TP_NACIONALIDADE', 'CO_PAIS_ORIGEM', 'CO_IES', 'TP_ESCOLA_CONCLUSAO_ENS_MEDIO']\n",
        "sensitive_attr = 'IN_FINANCIAMENTO_ESTUDANTIL'\n",
        "data = microdados\n",
        "\n",
        "start_time = time.time()\n",
        "\n",
        "sucesso_priori_deterministic = suc_prior_deterministic(data, sensitive_attr)\n",
        "sucesso_priori_probabilistic = suc_prior_probabilistic(data, sensitive_attr)\n",
        "sucesso_post_deterministico = suc_post_deterministic(data, qid_attrs, sensitive_attr)\n",
        "sucesso_post_probabilistico = suc_post_probabilistic(data, qid_attrs, sensitive_attr)\n",
        "\n",
        "end_time = time.time()\n",
        "execution_time = end_time - start_time\n",
        "\n",
        "print(\"Sucesso determinístico a priori:\", sucesso_priori_deterministic)\n",
        "print(\"Sucesso determinístico a posteriori:\", sucesso_post_deterministico)\n",
        "print(\"Degradação determinística de privacidade:\", sucesso_post_deterministico - sucesso_priori_deterministic)\n",
        "\n",
        "print(\"Sucesso probabilístico a priori:\", sucesso_priori_probabilistic)\n",
        "print(\"Sucesso probabilístico a posteriori:\", sucesso_post_probabilistico)\n",
        "print(\"Degradação probabilística de privacidade:\", sucesso_post_probabilistico / sucesso_priori_probabilistic)\n",
        "\n",
        "print(\"Tempo de execução:\", execution_time, \"segundos\")"
      ]
    },
    {
      "cell_type": "code",
      "execution_count": null,
      "metadata": {
        "id": "bJFnlVKiPgN2"
      },
      "outputs": [],
      "source": [
        "qid_attrs = ['NU_DIA_NASCIMENTO', 'NU_MES_NASCIMENTO', 'NU_ANO_NASCIMENTO', 'TP_SEXO', 'TP_COR_RACA', 'CO_MUNICIPIO_NASCIMENTO', 'TP_NACIONALIDADE', 'CO_PAIS_ORIGEM', 'CO_IES', 'TP_ESCOLA_CONCLUSAO_ENS_MEDIO']\n",
        "sensitive_attr = 'IN_FINANCIAMENTO_ESTUDANTIL'\n",
        "data = microdados\n",
        "\n",
        "start_time = time.time()\n",
        "\n",
        "sucesso_priori_deterministic = suc_prior_deterministic(data, sensitive_attr)\n",
        "sucesso_priori_probabilistic = suc_prior_probabilistic(data, sensitive_attr)\n",
        "sucesso_post_deterministico = suc_post_deterministic(data, qid_attrs, sensitive_attr)\n",
        "sucesso_post_probabilistico = suc_post_probabilistic(data, qid_attrs, sensitive_attr)\n",
        "\n",
        "end_time = time.time()\n",
        "execution_time = end_time - start_time\n",
        "\n",
        "print(\"Sucesso determinístico a priori:\", sucesso_priori_deterministic)\n",
        "print(\"Sucesso determinístico a posteriori:\", sucesso_post_deterministico)\n",
        "print(\"Degradação determinística de privacidade:\", sucesso_post_deterministico - sucesso_priori_deterministic)\n",
        "\n",
        "print(\"Sucesso probabilístico a priori:\", sucesso_priori_probabilistic)\n",
        "print(\"Sucesso probabilístico a posteriori:\", sucesso_post_probabilistico)\n",
        "print(\"Degradação probabilística de privacidade:\", sucesso_post_probabilistico / sucesso_priori_probabilistic)\n",
        "\n",
        "print(\"Tempo de execução:\", execution_time, \"segundos\")"
      ]
    },
    {
      "cell_type": "markdown",
      "metadata": {
        "id": "-GKzUN1EPzDj"
      },
      "source": [
        "###### Substituição de CO_CURSO por TP_CATEGORIA_ADMINISTRATIVA"
      ]
    },
    {
      "cell_type": "code",
      "execution_count": null,
      "metadata": {
        "id": "qJ8VtcHRPzDk"
      },
      "outputs": [],
      "source": [
        "qid_attrs = ['TP_CATEGORIA_ADMINISTRATIVA']\n",
        "sensitive_attr = 'IN_FINANCIAMENTO_ESTUDANTIL'\n",
        "data = microdados\n",
        "\n",
        "start_time = time.time()\n",
        "\n",
        "sucesso_priori_deterministic = suc_prior_deterministic(data, sensitive_attr)\n",
        "sucesso_priori_probabilistic = suc_prior_probabilistic(data, sensitive_attr)\n",
        "sucesso_post_deterministico = suc_post_deterministic(data, qid_attrs, sensitive_attr)\n",
        "sucesso_post_probabilistico = suc_post_probabilistic(data, qid_attrs, sensitive_attr)\n",
        "\n",
        "end_time = time.time()\n",
        "execution_time = end_time - start_time\n",
        "\n",
        "print(\"Sucesso determinístico a priori:\", sucesso_priori_deterministic)\n",
        "print(\"Sucesso determinístico a posteriori:\", sucesso_post_deterministico)\n",
        "print(\"Degradação determinística de privacidade:\", sucesso_post_deterministico - sucesso_priori_deterministic)\n",
        "\n",
        "print(\"Sucesso probabilístico a priori:\", sucesso_priori_probabilistic)\n",
        "print(\"Sucesso probabilístico a posteriori:\", sucesso_post_probabilistico)\n",
        "print(\"Degradação probabilística de privacidade:\", sucesso_post_probabilistico / sucesso_priori_probabilistic)\n",
        "\n",
        "print(\"Tempo de execução:\", execution_time, \"segundos\")"
      ]
    },
    {
      "cell_type": "code",
      "execution_count": null,
      "metadata": {
        "id": "DVXbZIFaPzDl"
      },
      "outputs": [],
      "source": [
        "qid_attrs = ['CO_MUNICIPIO_NASCIMENTO', 'TP_CATEGORIA_ADMINISTRATIVA']\n",
        "sensitive_attr = 'IN_FINANCIAMENTO_ESTUDANTIL'\n",
        "data = microdados\n",
        "\n",
        "start_time = time.time()\n",
        "\n",
        "sucesso_priori_deterministic = suc_prior_deterministic(data, sensitive_attr)\n",
        "sucesso_priori_probabilistic = suc_prior_probabilistic(data, sensitive_attr)\n",
        "sucesso_post_deterministico = suc_post_deterministic(data, qid_attrs, sensitive_attr)\n",
        "sucesso_post_probabilistico = suc_post_probabilistic(data, qid_attrs, sensitive_attr)\n",
        "\n",
        "end_time = time.time()\n",
        "execution_time = end_time - start_time\n",
        "\n",
        "print(\"Sucesso determinístico a priori:\", sucesso_priori_deterministic)\n",
        "print(\"Sucesso determinístico a posteriori:\", sucesso_post_deterministico)\n",
        "print(\"Degradação determinística de privacidade:\", sucesso_post_deterministico - sucesso_priori_deterministic)\n",
        "\n",
        "print(\"Sucesso probabilístico a priori:\", sucesso_priori_probabilistic)\n",
        "print(\"Sucesso probabilístico a posteriori:\", sucesso_post_probabilistico)\n",
        "print(\"Degradação probabilística de privacidade:\", sucesso_post_probabilistico / sucesso_priori_probabilistic)\n",
        "\n",
        "print(\"Tempo de execução:\", execution_time, \"segundos\")"
      ]
    },
    {
      "cell_type": "code",
      "execution_count": null,
      "metadata": {
        "id": "T95LL6WzPzDl"
      },
      "outputs": [],
      "source": [
        "qid_attrs = ['NU_DIA_NASCIMENTO', 'TP_CATEGORIA_ADMINISTRATIVA']\n",
        "sensitive_attr = 'IN_FINANCIAMENTO_ESTUDANTIL'\n",
        "data = microdados\n",
        "\n",
        "start_time = time.time()\n",
        "\n",
        "sucesso_priori_deterministic = suc_prior_deterministic(data, sensitive_attr)\n",
        "sucesso_priori_probabilistic = suc_prior_probabilistic(data, sensitive_attr)\n",
        "sucesso_post_deterministico = suc_post_deterministic(data, qid_attrs, sensitive_attr)\n",
        "sucesso_post_probabilistico = suc_post_probabilistic(data, qid_attrs, sensitive_attr)\n",
        "\n",
        "end_time = time.time()\n",
        "execution_time = end_time - start_time\n",
        "\n",
        "print(\"Sucesso determinístico a priori:\", sucesso_priori_deterministic)\n",
        "print(\"Sucesso determinístico a posteriori:\", sucesso_post_deterministico)\n",
        "print(\"Degradação determinística de privacidade:\", sucesso_post_deterministico - sucesso_priori_deterministic)\n",
        "\n",
        "print(\"Sucesso probabilístico a priori:\", sucesso_priori_probabilistic)\n",
        "print(\"Sucesso probabilístico a posteriori:\", sucesso_post_probabilistico)\n",
        "print(\"Degradação probabilística de privacidade:\", sucesso_post_probabilistico / sucesso_priori_probabilistic)\n",
        "\n",
        "print(\"Tempo de execução:\", execution_time, \"segundos\")"
      ]
    },
    {
      "cell_type": "code",
      "execution_count": null,
      "metadata": {
        "id": "pQq5BTVBPzDl"
      },
      "outputs": [],
      "source": [
        "qid_attrs = ['NU_DIA_NASCIMENTO', 'NU_ANO_NASCIMENTO', 'TP_CATEGORIA_ADMINISTRATIVA']\n",
        "sensitive_attr = 'IN_FINANCIAMENTO_ESTUDANTIL'\n",
        "data = microdados\n",
        "\n",
        "start_time = time.time()\n",
        "\n",
        "sucesso_priori_deterministic = suc_prior_deterministic(data, sensitive_attr)\n",
        "sucesso_priori_probabilistic = suc_prior_probabilistic(data, sensitive_attr)\n",
        "sucesso_post_deterministico = suc_post_deterministic(data, qid_attrs, sensitive_attr)\n",
        "sucesso_post_probabilistico = suc_post_probabilistic(data, qid_attrs, sensitive_attr)\n",
        "\n",
        "end_time = time.time()\n",
        "execution_time = end_time - start_time\n",
        "\n",
        "print(\"Sucesso determinístico a priori:\", sucesso_priori_deterministic)\n",
        "print(\"Sucesso determinístico a posteriori:\", sucesso_post_deterministico)\n",
        "print(\"Degradação determinística de privacidade:\", sucesso_post_deterministico - sucesso_priori_deterministic)\n",
        "\n",
        "print(\"Sucesso probabilístico a priori:\", sucesso_priori_probabilistic)\n",
        "print(\"Sucesso probabilístico a posteriori:\", sucesso_post_probabilistico)\n",
        "print(\"Degradação probabilística de privacidade:\", sucesso_post_probabilistico / sucesso_priori_probabilistic)\n",
        "\n",
        "print(\"Tempo de execução:\", execution_time, \"segundos\")"
      ]
    },
    {
      "cell_type": "code",
      "execution_count": null,
      "metadata": {
        "id": "KfefCf8dPzDm"
      },
      "outputs": [],
      "source": [
        "qid_attrs = ['NU_DIA_NASCIMENTO', 'NU_MES_NASCIMENTO', 'NU_ANO_NASCIMENTO', 'TP_CATEGORIA_ADMINISTRATIVA']\n",
        "sensitive_attr = 'IN_FINANCIAMENTO_ESTUDANTIL'\n",
        "data = microdados\n",
        "\n",
        "start_time = time.time()\n",
        "\n",
        "sucesso_priori_deterministic = suc_prior_deterministic(data, sensitive_attr)\n",
        "sucesso_priori_probabilistic = suc_prior_probabilistic(data, sensitive_attr)\n",
        "sucesso_post_deterministico = suc_post_deterministic(data, qid_attrs, sensitive_attr)\n",
        "sucesso_post_probabilistico = suc_post_probabilistic(data, qid_attrs, sensitive_attr)\n",
        "\n",
        "end_time = time.time()\n",
        "execution_time = end_time - start_time\n",
        "\n",
        "print(\"Sucesso determinístico a priori:\", sucesso_priori_deterministic)\n",
        "print(\"Sucesso determinístico a posteriori:\", sucesso_post_deterministico)\n",
        "print(\"Degradação determinística de privacidade:\", sucesso_post_deterministico - sucesso_priori_deterministic)\n",
        "\n",
        "print(\"Sucesso probabilístico a priori:\", sucesso_priori_probabilistic)\n",
        "print(\"Sucesso probabilístico a posteriori:\", sucesso_post_probabilistico)\n",
        "print(\"Degradação probabilística de privacidade:\", sucesso_post_probabilistico / sucesso_priori_probabilistic)\n",
        "\n",
        "print(\"Tempo de execução:\", execution_time, \"segundos\")"
      ]
    },
    {
      "cell_type": "code",
      "execution_count": null,
      "metadata": {
        "id": "3KH3iPwJPzDm"
      },
      "outputs": [],
      "source": [
        "qid_attrs = ['NU_DIA_NASCIMENTO', 'NU_MES_NASCIMENTO', 'NU_ANO_NASCIMENTO', 'CO_MUNICIPIO_NASCIMENTO', 'TP_CATEGORIA_ADMINISTRATIVA']\n",
        "sensitive_attr = 'IN_FINANCIAMENTO_ESTUDANTIL'\n",
        "data = microdados\n",
        "\n",
        "start_time = time.time()\n",
        "\n",
        "sucesso_priori_deterministic = suc_prior_deterministic(data, sensitive_attr)\n",
        "sucesso_priori_probabilistic = suc_prior_probabilistic(data, sensitive_attr)\n",
        "sucesso_post_deterministico = suc_post_deterministic(data, qid_attrs, sensitive_attr)\n",
        "sucesso_post_probabilistico = suc_post_probabilistic(data, qid_attrs, sensitive_attr)\n",
        "\n",
        "end_time = time.time()\n",
        "execution_time = end_time - start_time\n",
        "\n",
        "print(\"Sucesso determinístico a priori:\", sucesso_priori_deterministic)\n",
        "print(\"Sucesso determinístico a posteriori:\", sucesso_post_deterministico)\n",
        "print(\"Degradação determinística de privacidade:\", sucesso_post_deterministico - sucesso_priori_deterministic)\n",
        "\n",
        "print(\"Sucesso probabilístico a priori:\", sucesso_priori_probabilistic)\n",
        "print(\"Sucesso probabilístico a posteriori:\", sucesso_post_probabilistico)\n",
        "print(\"Degradação probabilística de privacidade:\", sucesso_post_probabilistico / sucesso_priori_probabilistic)\n",
        "\n",
        "print(\"Tempo de execução:\", execution_time, \"segundos\")"
      ]
    },
    {
      "cell_type": "code",
      "execution_count": null,
      "metadata": {
        "id": "Dd4Wr9wwPzDm"
      },
      "outputs": [],
      "source": [
        "qid_attrs = ['NU_DIA_NASCIMENTO', 'NU_MES_NASCIMENTO', 'NU_ANO_NASCIMENTO', 'TP_COR_RACA', 'CO_MUNICIPIO_NASCIMENTO', 'TP_CATEGORIA_ADMINISTRATIVA']\n",
        "sensitive_attr = 'IN_FINANCIAMENTO_ESTUDANTIL'\n",
        "data = microdados\n",
        "\n",
        "start_time = time.time()\n",
        "\n",
        "sucesso_priori_deterministic = suc_prior_deterministic(data, sensitive_attr)\n",
        "sucesso_priori_probabilistic = suc_prior_probabilistic(data, sensitive_attr)\n",
        "sucesso_post_deterministico = suc_post_deterministic(data, qid_attrs, sensitive_attr)\n",
        "sucesso_post_probabilistico = suc_post_probabilistic(data, qid_attrs, sensitive_attr)\n",
        "\n",
        "end_time = time.time()\n",
        "execution_time = end_time - start_time\n",
        "\n",
        "print(\"Sucesso determinístico a priori:\", sucesso_priori_deterministic)\n",
        "print(\"Sucesso determinístico a posteriori:\", sucesso_post_deterministico)\n",
        "print(\"Degradação determinística de privacidade:\", sucesso_post_deterministico - sucesso_priori_deterministic)\n",
        "\n",
        "print(\"Sucesso probabilístico a priori:\", sucesso_priori_probabilistic)\n",
        "print(\"Sucesso probabilístico a posteriori:\", sucesso_post_probabilistico)\n",
        "print(\"Degradação probabilística de privacidade:\", sucesso_post_probabilistico / sucesso_priori_probabilistic)\n",
        "\n",
        "print(\"Tempo de execução:\", execution_time, \"segundos\")"
      ]
    },
    {
      "cell_type": "code",
      "execution_count": null,
      "metadata": {
        "id": "OcPzr9giPzDm"
      },
      "outputs": [],
      "source": [
        "qid_attrs = ['NU_DIA_NASCIMENTO', 'NU_MES_NASCIMENTO', 'NU_ANO_NASCIMENTO', 'TP_SEXO', 'TP_COR_RACA', 'CO_MUNICIPIO_NASCIMENTO', 'TP_CATEGORIA_ADMINISTRATIVA']\n",
        "sensitive_attr = 'IN_FINANCIAMENTO_ESTUDANTIL'\n",
        "data = microdados\n",
        "\n",
        "start_time = time.time()\n",
        "\n",
        "sucesso_priori_deterministic = suc_prior_deterministic(data, sensitive_attr)\n",
        "sucesso_priori_probabilistic = suc_prior_probabilistic(data, sensitive_attr)\n",
        "sucesso_post_deterministico = suc_post_deterministic(data, qid_attrs, sensitive_attr)\n",
        "sucesso_post_probabilistico = suc_post_probabilistic(data, qid_attrs, sensitive_attr)\n",
        "\n",
        "end_time = time.time()\n",
        "execution_time = end_time - start_time\n",
        "\n",
        "print(\"Sucesso determinístico a priori:\", sucesso_priori_deterministic)\n",
        "print(\"Sucesso determinístico a posteriori:\", sucesso_post_deterministico)\n",
        "print(\"Degradação determinística de privacidade:\", sucesso_post_deterministico - sucesso_priori_deterministic)\n",
        "\n",
        "print(\"Sucesso probabilístico a priori:\", sucesso_priori_probabilistic)\n",
        "print(\"Sucesso probabilístico a posteriori:\", sucesso_post_probabilistico)\n",
        "print(\"Degradação probabilística de privacidade:\", sucesso_post_probabilistico / sucesso_priori_probabilistic)\n",
        "\n",
        "print(\"Tempo de execução:\", execution_time, \"segundos\")"
      ]
    },
    {
      "cell_type": "code",
      "execution_count": null,
      "metadata": {
        "id": "GjZHhJSZPzDn"
      },
      "outputs": [],
      "source": [
        "qid_attrs = ['NU_DIA_NASCIMENTO', 'NU_MES_NASCIMENTO', 'NU_ANO_NASCIMENTO', 'TP_SEXO', 'TP_COR_RACA', 'CO_MUNICIPIO_NASCIMENTO', 'TP_CATEGORIA_ADMINISTRATIVA', 'TP_ESCOLA_CONCLUSAO_ENS_MEDIO']\n",
        "sensitive_attr = 'IN_FINANCIAMENTO_ESTUDANTIL'\n",
        "data = microdados\n",
        "\n",
        "start_time = time.time()\n",
        "\n",
        "sucesso_priori_deterministic = suc_prior_deterministic(data, sensitive_attr)\n",
        "sucesso_priori_probabilistic = suc_prior_probabilistic(data, sensitive_attr)\n",
        "sucesso_post_deterministico = suc_post_deterministic(data, qid_attrs, sensitive_attr)\n",
        "sucesso_post_probabilistico = suc_post_probabilistic(data, qid_attrs, sensitive_attr)\n",
        "\n",
        "end_time = time.time()\n",
        "execution_time = end_time - start_time\n",
        "\n",
        "print(\"Sucesso determinístico a priori:\", sucesso_priori_deterministic)\n",
        "print(\"Sucesso determinístico a posteriori:\", sucesso_post_deterministico)\n",
        "print(\"Degradação determinística de privacidade:\", sucesso_post_deterministico - sucesso_priori_deterministic)\n",
        "\n",
        "print(\"Sucesso probabilístico a priori:\", sucesso_priori_probabilistic)\n",
        "print(\"Sucesso probabilístico a posteriori:\", sucesso_post_probabilistico)\n",
        "print(\"Degradação probabilística de privacidade:\", sucesso_post_probabilistico / sucesso_priori_probabilistic)\n",
        "\n",
        "print(\"Tempo de execução:\", execution_time, \"segundos\")"
      ]
    },
    {
      "cell_type": "code",
      "execution_count": null,
      "metadata": {
        "id": "5OKCWLrXPzDn"
      },
      "outputs": [],
      "source": [
        "qid_attrs = ['NU_DIA_NASCIMENTO', 'NU_MES_NASCIMENTO', 'NU_ANO_NASCIMENTO', 'TP_SEXO', 'TP_COR_RACA', 'CO_MUNICIPIO_NASCIMENTO', 'TP_NACIONALIDADE', 'TP_CATEGORIA_ADMINISTRATIVA', 'TP_ESCOLA_CONCLUSAO_ENS_MEDIO']\n",
        "sensitive_attr = 'IN_FINANCIAMENTO_ESTUDANTIL'\n",
        "data = microdados\n",
        "\n",
        "start_time = time.time()\n",
        "\n",
        "sucesso_priori_deterministic = suc_prior_deterministic(data, sensitive_attr)\n",
        "sucesso_priori_probabilistic = suc_prior_probabilistic(data, sensitive_attr)\n",
        "sucesso_post_deterministico = suc_post_deterministic(data, qid_attrs, sensitive_attr)\n",
        "sucesso_post_probabilistico = suc_post_probabilistic(data, qid_attrs, sensitive_attr)\n",
        "\n",
        "end_time = time.time()\n",
        "execution_time = end_time - start_time\n",
        "\n",
        "print(\"Sucesso determinístico a priori:\", sucesso_priori_deterministic)\n",
        "print(\"Sucesso determinístico a posteriori:\", sucesso_post_deterministico)\n",
        "print(\"Degradação determinística de privacidade:\", sucesso_post_deterministico - sucesso_priori_deterministic)\n",
        "\n",
        "print(\"Sucesso probabilístico a priori:\", sucesso_priori_probabilistic)\n",
        "print(\"Sucesso probabilístico a posteriori:\", sucesso_post_probabilistico)\n",
        "print(\"Degradação probabilística de privacidade:\", sucesso_post_probabilistico / sucesso_priori_probabilistic)\n",
        "\n",
        "print(\"Tempo de execução:\", execution_time, \"segundos\")"
      ]
    },
    {
      "cell_type": "code",
      "execution_count": null,
      "metadata": {
        "id": "MCjA6zR3PzDn"
      },
      "outputs": [],
      "source": [
        "qid_attrs = ['NU_DIA_NASCIMENTO', 'NU_MES_NASCIMENTO', 'NU_ANO_NASCIMENTO', 'TP_SEXO', 'TP_COR_RACA', 'CO_MUNICIPIO_NASCIMENTO', 'TP_NACIONALIDADE', 'CO_PAIS_ORIGEM', 'TP_CATEGORIA_ADMINISTRATIVA', 'TP_ESCOLA_CONCLUSAO_ENS_MEDIO']\n",
        "sensitive_attr = 'IN_FINANCIAMENTO_ESTUDANTIL'\n",
        "data = microdados\n",
        "\n",
        "start_time = time.time()\n",
        "\n",
        "sucesso_priori_deterministic = suc_prior_deterministic(data, sensitive_attr)\n",
        "sucesso_priori_probabilistic = suc_prior_probabilistic(data, sensitive_attr)\n",
        "sucesso_post_deterministico = suc_post_deterministic(data, qid_attrs, sensitive_attr)\n",
        "sucesso_post_probabilistico = suc_post_probabilistic(data, qid_attrs, sensitive_attr)\n",
        "\n",
        "end_time = time.time()\n",
        "execution_time = end_time - start_time\n",
        "\n",
        "print(\"Sucesso determinístico a priori:\", sucesso_priori_deterministic)\n",
        "print(\"Sucesso determinístico a posteriori:\", sucesso_post_deterministico)\n",
        "print(\"Degradação determinística de privacidade:\", sucesso_post_deterministico - sucesso_priori_deterministic)\n",
        "\n",
        "print(\"Sucesso probabilístico a priori:\", sucesso_priori_probabilistic)\n",
        "print(\"Sucesso probabilístico a posteriori:\", sucesso_post_probabilistico)\n",
        "print(\"Degradação probabilística de privacidade:\", sucesso_post_probabilistico / sucesso_priori_probabilistic)\n",
        "\n",
        "print(\"Tempo de execução:\", execution_time, \"segundos\")"
      ]
    },
    {
      "cell_type": "code",
      "execution_count": null,
      "metadata": {
        "id": "o5xJ3AOxPzDn"
      },
      "outputs": [],
      "source": [
        "qid_attrs = ['NU_DIA_NASCIMENTO', 'NU_MES_NASCIMENTO', 'NU_ANO_NASCIMENTO', 'TP_SEXO', 'TP_COR_RACA', 'CO_MUNICIPIO_NASCIMENTO', 'TP_NACIONALIDADE', 'CO_PAIS_ORIGEM', 'CO_IES', 'TP_ESCOLA_CONCLUSAO_ENS_MEDIO', 'TP_CATEGORIA_ADMINISTRATIVA']\n",
        "sensitive_attr = 'IN_FINANCIAMENTO_ESTUDANTIL'\n",
        "data = microdados\n",
        "\n",
        "start_time = time.time()\n",
        "\n",
        "sucesso_priori_deterministic = suc_prior_deterministic(data, sensitive_attr)\n",
        "sucesso_priori_probabilistic = suc_prior_probabilistic(data, sensitive_attr)\n",
        "sucesso_post_deterministico = suc_post_deterministic(data, qid_attrs, sensitive_attr)\n",
        "sucesso_post_probabilistico = suc_post_probabilistic(data, qid_attrs, sensitive_attr)\n",
        "\n",
        "end_time = time.time()\n",
        "execution_time = end_time - start_time\n",
        "\n",
        "print(\"Sucesso determinístico a priori:\", sucesso_priori_deterministic)\n",
        "print(\"Sucesso determinístico a posteriori:\", sucesso_post_deterministico)\n",
        "print(\"Degradação determinística de privacidade:\", sucesso_post_deterministico - sucesso_priori_deterministic)\n",
        "\n",
        "print(\"Sucesso probabilístico a priori:\", sucesso_priori_probabilistic)\n",
        "print(\"Sucesso probabilístico a posteriori:\", sucesso_post_probabilistico)\n",
        "print(\"Degradação probabilística de privacidade:\", sucesso_post_probabilistico / sucesso_priori_probabilistic)\n",
        "\n",
        "print(\"Tempo de execução:\", execution_time, \"segundos\")"
      ]
    },
    {
      "cell_type": "markdown",
      "metadata": {
        "id": "uUSVT4sPQKsw"
      },
      "source": [
        "##### Atributo Sensível [IN_DEFICIENCIA]"
      ]
    },
    {
      "cell_type": "markdown",
      "metadata": {
        "id": "CsfNYTDzQKsx"
      },
      "source": [
        "###### Substituição de CO_CURSO por CO_CINE"
      ]
    },
    {
      "cell_type": "code",
      "execution_count": null,
      "metadata": {
        "id": "eOfhFmW_QKsx"
      },
      "outputs": [],
      "source": [
        "qid_attrs = ['CO_CINE_AREA_GERAL']\n",
        "sensitive_attr = 'IN_DEFICIENCIA'\n",
        "data = microdados\n",
        "\n",
        "start_time = time.time()\n",
        "\n",
        "sucesso_priori_deterministic = suc_prior_deterministic(data, sensitive_attr)\n",
        "sucesso_priori_probabilistic = suc_prior_probabilistic(data, sensitive_attr)\n",
        "sucesso_post_deterministico = suc_post_deterministic(data, qid_attrs, sensitive_attr)\n",
        "sucesso_post_probabilistico = suc_post_probabilistic(data, qid_attrs, sensitive_attr)\n",
        "\n",
        "end_time = time.time()\n",
        "execution_time = end_time - start_time\n",
        "\n",
        "print(\"Sucesso determinístico a priori:\", sucesso_priori_deterministic)\n",
        "print(\"Sucesso determinístico a posteriori:\", sucesso_post_deterministico)\n",
        "print(\"Degradação determinística de privacidade:\", sucesso_post_deterministico - sucesso_priori_deterministic)\n",
        "\n",
        "print(\"Sucesso probabilístico a priori:\", sucesso_priori_probabilistic)\n",
        "print(\"Sucesso probabilístico a posteriori:\", sucesso_post_probabilistico)\n",
        "print(\"Degradação probabilística de privacidade:\", sucesso_post_probabilistico / sucesso_priori_probabilistic)\n",
        "\n",
        "print(\"Tempo de execução:\", execution_time, \"segundos\")"
      ]
    },
    {
      "cell_type": "code",
      "execution_count": null,
      "metadata": {
        "id": "pUiSj0m5QKsx"
      },
      "outputs": [],
      "source": [
        "qid_attrs = ['CO_MUNICIPIO_NASCIMENTO', 'CO_CINE_AREA_GERAL']\n",
        "sensitive_attr = 'IN_DEFICIENCIA'\n",
        "data = microdados\n",
        "\n",
        "start_time = time.time()\n",
        "\n",
        "sucesso_priori_deterministic = suc_prior_deterministic(data, sensitive_attr)\n",
        "sucesso_priori_probabilistic = suc_prior_probabilistic(data, sensitive_attr)\n",
        "sucesso_post_deterministico = suc_post_deterministic(data, qid_attrs, sensitive_attr)\n",
        "sucesso_post_probabilistico = suc_post_probabilistic(data, qid_attrs, sensitive_attr)\n",
        "\n",
        "end_time = time.time()\n",
        "execution_time = end_time - start_time\n",
        "\n",
        "print(\"Sucesso determinístico a priori:\", sucesso_priori_deterministic)\n",
        "print(\"Sucesso determinístico a posteriori:\", sucesso_post_deterministico)\n",
        "print(\"Degradação determinística de privacidade:\", sucesso_post_deterministico - sucesso_priori_deterministic)\n",
        "\n",
        "print(\"Sucesso probabilístico a priori:\", sucesso_priori_probabilistic)\n",
        "print(\"Sucesso probabilístico a posteriori:\", sucesso_post_probabilistico)\n",
        "print(\"Degradação probabilística de privacidade:\", sucesso_post_probabilistico / sucesso_priori_probabilistic)\n",
        "\n",
        "print(\"Tempo de execução:\", execution_time, \"segundos\")"
      ]
    },
    {
      "cell_type": "code",
      "execution_count": null,
      "metadata": {
        "id": "sMOh12pyQKsx"
      },
      "outputs": [],
      "source": [
        "qid_attrs = ['NU_DIA_NASCIMENTO', 'CO_CINE_AREA_GERAL']\n",
        "sensitive_attr = 'IN_DEFICIENCIA'\n",
        "data = microdados\n",
        "\n",
        "start_time = time.time()\n",
        "\n",
        "sucesso_priori_deterministic = suc_prior_deterministic(data, sensitive_attr)\n",
        "sucesso_priori_probabilistic = suc_prior_probabilistic(data, sensitive_attr)\n",
        "sucesso_post_deterministico = suc_post_deterministic(data, qid_attrs, sensitive_attr)\n",
        "sucesso_post_probabilistico = suc_post_probabilistic(data, qid_attrs, sensitive_attr)\n",
        "\n",
        "end_time = time.time()\n",
        "execution_time = end_time - start_time\n",
        "\n",
        "print(\"Sucesso determinístico a priori:\", sucesso_priori_deterministic)\n",
        "print(\"Sucesso determinístico a posteriori:\", sucesso_post_deterministico)\n",
        "print(\"Degradação determinística de privacidade:\", sucesso_post_deterministico - sucesso_priori_deterministic)\n",
        "\n",
        "print(\"Sucesso probabilístico a priori:\", sucesso_priori_probabilistic)\n",
        "print(\"Sucesso probabilístico a posteriori:\", sucesso_post_probabilistico)\n",
        "print(\"Degradação probabilística de privacidade:\", sucesso_post_probabilistico / sucesso_priori_probabilistic)\n",
        "\n",
        "print(\"Tempo de execução:\", execution_time, \"segundos\")"
      ]
    },
    {
      "cell_type": "code",
      "execution_count": null,
      "metadata": {
        "id": "4McZ_YxmQKsx"
      },
      "outputs": [],
      "source": [
        "qid_attrs = ['NU_DIA_NASCIMENTO', 'NU_ANO_NASCIMENTO', 'CO_CINE_AREA_GERAL']\n",
        "sensitive_attr = 'IN_DEFICIENCIA'\n",
        "data = microdados\n",
        "\n",
        "start_time = time.time()\n",
        "\n",
        "sucesso_priori_deterministic = suc_prior_deterministic(data, sensitive_attr)\n",
        "sucesso_priori_probabilistic = suc_prior_probabilistic(data, sensitive_attr)\n",
        "sucesso_post_deterministico = suc_post_deterministic(data, qid_attrs, sensitive_attr)\n",
        "sucesso_post_probabilistico = suc_post_probabilistic(data, qid_attrs, sensitive_attr)\n",
        "\n",
        "end_time = time.time()\n",
        "execution_time = end_time - start_time\n",
        "\n",
        "print(\"Sucesso determinístico a priori:\", sucesso_priori_deterministic)\n",
        "print(\"Sucesso determinístico a posteriori:\", sucesso_post_deterministico)\n",
        "print(\"Degradação determinística de privacidade:\", sucesso_post_deterministico - sucesso_priori_deterministic)\n",
        "\n",
        "print(\"Sucesso probabilístico a priori:\", sucesso_priori_probabilistic)\n",
        "print(\"Sucesso probabilístico a posteriori:\", sucesso_post_probabilistico)\n",
        "print(\"Degradação probabilística de privacidade:\", sucesso_post_probabilistico / sucesso_priori_probabilistic)\n",
        "\n",
        "print(\"Tempo de execução:\", execution_time, \"segundos\")"
      ]
    },
    {
      "cell_type": "code",
      "execution_count": null,
      "metadata": {
        "id": "m0Rg5H2JQKsy"
      },
      "outputs": [],
      "source": [
        "qid_attrs = ['NU_DIA_NASCIMENTO', 'NU_MES_NASCIMENTO', 'NU_ANO_NASCIMENTO', 'CO_CINE_AREA_GERAL']\n",
        "sensitive_attr = 'IN_DEFICIENCIA'\n",
        "data = microdados\n",
        "\n",
        "start_time = time.time()\n",
        "\n",
        "sucesso_priori_deterministic = suc_prior_deterministic(data, sensitive_attr)\n",
        "sucesso_priori_probabilistic = suc_prior_probabilistic(data, sensitive_attr)\n",
        "sucesso_post_deterministico = suc_post_deterministic(data, qid_attrs, sensitive_attr)\n",
        "sucesso_post_probabilistico = suc_post_probabilistic(data, qid_attrs, sensitive_attr)\n",
        "\n",
        "end_time = time.time()\n",
        "execution_time = end_time - start_time\n",
        "\n",
        "print(\"Sucesso determinístico a priori:\", sucesso_priori_deterministic)\n",
        "print(\"Sucesso determinístico a posteriori:\", sucesso_post_deterministico)\n",
        "print(\"Degradação determinística de privacidade:\", sucesso_post_deterministico - sucesso_priori_deterministic)\n",
        "\n",
        "print(\"Sucesso probabilístico a priori:\", sucesso_priori_probabilistic)\n",
        "print(\"Sucesso probabilístico a posteriori:\", sucesso_post_probabilistico)\n",
        "print(\"Degradação probabilística de privacidade:\", sucesso_post_probabilistico / sucesso_priori_probabilistic)\n",
        "\n",
        "print(\"Tempo de execução:\", execution_time, \"segundos\")"
      ]
    },
    {
      "cell_type": "code",
      "execution_count": null,
      "metadata": {
        "id": "_djVmROiQKsy"
      },
      "outputs": [],
      "source": [
        "qid_attrs = ['NU_DIA_NASCIMENTO', 'NU_MES_NASCIMENTO', 'NU_ANO_NASCIMENTO', 'CO_MUNICIPIO_NASCIMENTO', 'CO_CINE_AREA_GERAL']\n",
        "sensitive_attr = 'IN_DEFICIENCIA'\n",
        "data = microdados\n",
        "\n",
        "start_time = time.time()\n",
        "\n",
        "sucesso_priori_deterministic = suc_prior_deterministic(data, sensitive_attr)\n",
        "sucesso_priori_probabilistic = suc_prior_probabilistic(data, sensitive_attr)\n",
        "sucesso_post_deterministico = suc_post_deterministic(data, qid_attrs, sensitive_attr)\n",
        "sucesso_post_probabilistico = suc_post_probabilistic(data, qid_attrs, sensitive_attr)\n",
        "\n",
        "end_time = time.time()\n",
        "execution_time = end_time - start_time\n",
        "\n",
        "print(\"Sucesso determinístico a priori:\", sucesso_priori_deterministic)\n",
        "print(\"Sucesso determinístico a posteriori:\", sucesso_post_deterministico)\n",
        "print(\"Degradação determinística de privacidade:\", sucesso_post_deterministico - sucesso_priori_deterministic)\n",
        "\n",
        "print(\"Sucesso probabilístico a priori:\", sucesso_priori_probabilistic)\n",
        "print(\"Sucesso probabilístico a posteriori:\", sucesso_post_probabilistico)\n",
        "print(\"Degradação probabilística de privacidade:\", sucesso_post_probabilistico / sucesso_priori_probabilistic)\n",
        "\n",
        "print(\"Tempo de execução:\", execution_time, \"segundos\")"
      ]
    },
    {
      "cell_type": "code",
      "execution_count": null,
      "metadata": {
        "id": "cTAvy--WQKsy"
      },
      "outputs": [],
      "source": [
        "qid_attrs = ['NU_DIA_NASCIMENTO', 'NU_MES_NASCIMENTO', 'NU_ANO_NASCIMENTO', 'TP_COR_RACA', 'CO_MUNICIPIO_NASCIMENTO', 'CO_CINE_AREA_GERAL']\n",
        "sensitive_attr = 'IN_DEFICIENCIA'\n",
        "data = microdados\n",
        "\n",
        "start_time = time.time()\n",
        "\n",
        "sucesso_priori_deterministic = suc_prior_deterministic(data, sensitive_attr)\n",
        "sucesso_priori_probabilistic = suc_prior_probabilistic(data, sensitive_attr)\n",
        "sucesso_post_deterministico = suc_post_deterministic(data, qid_attrs, sensitive_attr)\n",
        "sucesso_post_probabilistico = suc_post_probabilistic(data, qid_attrs, sensitive_attr)\n",
        "\n",
        "end_time = time.time()\n",
        "execution_time = end_time - start_time\n",
        "\n",
        "print(\"Sucesso determinístico a priori:\", sucesso_priori_deterministic)\n",
        "print(\"Sucesso determinístico a posteriori:\", sucesso_post_deterministico)\n",
        "print(\"Degradação determinística de privacidade:\", sucesso_post_deterministico - sucesso_priori_deterministic)\n",
        "\n",
        "print(\"Sucesso probabilístico a priori:\", sucesso_priori_probabilistic)\n",
        "print(\"Sucesso probabilístico a posteriori:\", sucesso_post_probabilistico)\n",
        "print(\"Degradação probabilística de privacidade:\", sucesso_post_probabilistico / sucesso_priori_probabilistic)\n",
        "\n",
        "print(\"Tempo de execução:\", execution_time, \"segundos\")"
      ]
    },
    {
      "cell_type": "code",
      "execution_count": null,
      "metadata": {
        "id": "pAmL29ybQKsy"
      },
      "outputs": [],
      "source": [
        "qid_attrs = ['NU_DIA_NASCIMENTO', 'NU_MES_NASCIMENTO', 'NU_ANO_NASCIMENTO', 'TP_SEXO', 'TP_COR_RACA', 'CO_MUNICIPIO_NASCIMENTO', 'CO_CINE_AREA_GERAL']\n",
        "sensitive_attr = 'IN_DEFICIENCIA'\n",
        "data = microdados\n",
        "\n",
        "start_time = time.time()\n",
        "\n",
        "sucesso_priori_deterministic = suc_prior_deterministic(data, sensitive_attr)\n",
        "sucesso_priori_probabilistic = suc_prior_probabilistic(data, sensitive_attr)\n",
        "sucesso_post_deterministico = suc_post_deterministic(data, qid_attrs, sensitive_attr)\n",
        "sucesso_post_probabilistico = suc_post_probabilistic(data, qid_attrs, sensitive_attr)\n",
        "\n",
        "end_time = time.time()\n",
        "execution_time = end_time - start_time\n",
        "\n",
        "print(\"Sucesso determinístico a priori:\", sucesso_priori_deterministic)\n",
        "print(\"Sucesso determinístico a posteriori:\", sucesso_post_deterministico)\n",
        "print(\"Degradação determinística de privacidade:\", sucesso_post_deterministico - sucesso_priori_deterministic)\n",
        "\n",
        "print(\"Sucesso probabilístico a priori:\", sucesso_priori_probabilistic)\n",
        "print(\"Sucesso probabilístico a posteriori:\", sucesso_post_probabilistico)\n",
        "print(\"Degradação probabilística de privacidade:\", sucesso_post_probabilistico / sucesso_priori_probabilistic)\n",
        "\n",
        "print(\"Tempo de execução:\", execution_time, \"segundos\")"
      ]
    },
    {
      "cell_type": "code",
      "execution_count": null,
      "metadata": {
        "id": "d8-yc3xIQKsy"
      },
      "outputs": [],
      "source": [
        "qid_attrs = ['NU_DIA_NASCIMENTO', 'NU_MES_NASCIMENTO', 'NU_ANO_NASCIMENTO', 'TP_SEXO', 'TP_COR_RACA', 'CO_MUNICIPIO_NASCIMENTO', 'CO_CINE_AREA_GERAL', 'TP_ESCOLA_CONCLUSAO_ENS_MEDIO']\n",
        "sensitive_attr = 'IN_DEFICIENCIA'\n",
        "data = microdados\n",
        "\n",
        "start_time = time.time()\n",
        "\n",
        "sucesso_priori_deterministic = suc_prior_deterministic(data, sensitive_attr)\n",
        "sucesso_priori_probabilistic = suc_prior_probabilistic(data, sensitive_attr)\n",
        "sucesso_post_deterministico = suc_post_deterministic(data, qid_attrs, sensitive_attr)\n",
        "sucesso_post_probabilistico = suc_post_probabilistic(data, qid_attrs, sensitive_attr)\n",
        "\n",
        "end_time = time.time()\n",
        "execution_time = end_time - start_time\n",
        "\n",
        "print(\"Sucesso determinístico a priori:\", sucesso_priori_deterministic)\n",
        "print(\"Sucesso determinístico a posteriori:\", sucesso_post_deterministico)\n",
        "print(\"Degradação determinística de privacidade:\", sucesso_post_deterministico - sucesso_priori_deterministic)\n",
        "\n",
        "print(\"Sucesso probabilístico a priori:\", sucesso_priori_probabilistic)\n",
        "print(\"Sucesso probabilístico a posteriori:\", sucesso_post_probabilistico)\n",
        "print(\"Degradação probabilística de privacidade:\", sucesso_post_probabilistico / sucesso_priori_probabilistic)\n",
        "\n",
        "print(\"Tempo de execução:\", execution_time, \"segundos\")"
      ]
    },
    {
      "cell_type": "code",
      "execution_count": null,
      "metadata": {
        "id": "c_gTYwECQKsy"
      },
      "outputs": [],
      "source": [
        "qid_attrs = ['NU_DIA_NASCIMENTO', 'NU_MES_NASCIMENTO', 'NU_ANO_NASCIMENTO', 'TP_SEXO', 'TP_COR_RACA', 'CO_MUNICIPIO_NASCIMENTO', 'TP_NACIONALIDADE', 'CO_CINE_AREA_GERAL', 'TP_ESCOLA_CONCLUSAO_ENS_MEDIO']\n",
        "sensitive_attr = 'IN_DEFICIENCIA'\n",
        "data = microdados\n",
        "\n",
        "start_time = time.time()\n",
        "\n",
        "sucesso_priori_deterministic = suc_prior_deterministic(data, sensitive_attr)\n",
        "sucesso_priori_probabilistic = suc_prior_probabilistic(data, sensitive_attr)\n",
        "sucesso_post_deterministico = suc_post_deterministic(data, qid_attrs, sensitive_attr)\n",
        "sucesso_post_probabilistico = suc_post_probabilistic(data, qid_attrs, sensitive_attr)\n",
        "\n",
        "end_time = time.time()\n",
        "execution_time = end_time - start_time\n",
        "\n",
        "print(\"Sucesso determinístico a priori:\", sucesso_priori_deterministic)\n",
        "print(\"Sucesso determinístico a posteriori:\", sucesso_post_deterministico)\n",
        "print(\"Degradação determinística de privacidade:\", sucesso_post_deterministico - sucesso_priori_deterministic)\n",
        "\n",
        "print(\"Sucesso probabilístico a priori:\", sucesso_priori_probabilistic)\n",
        "print(\"Sucesso probabilístico a posteriori:\", sucesso_post_probabilistico)\n",
        "print(\"Degradação probabilística de privacidade:\", sucesso_post_probabilistico / sucesso_priori_probabilistic)\n",
        "\n",
        "print(\"Tempo de execução:\", execution_time, \"segundos\")"
      ]
    },
    {
      "cell_type": "code",
      "execution_count": null,
      "metadata": {
        "id": "9mWkZKn_QKsz"
      },
      "outputs": [],
      "source": [
        "qid_attrs = ['NU_DIA_NASCIMENTO', 'NU_MES_NASCIMENTO', 'NU_ANO_NASCIMENTO', 'TP_SEXO', 'TP_COR_RACA', 'CO_MUNICIPIO_NASCIMENTO', 'TP_NACIONALIDADE', 'CO_PAIS_ORIGEM', 'CO_CINE_AREA_GERAL', 'TP_ESCOLA_CONCLUSAO_ENS_MEDIO']\n",
        "sensitive_attr = 'IN_DEFICIENCIA'\n",
        "data = microdados\n",
        "\n",
        "start_time = time.time()\n",
        "\n",
        "sucesso_priori_deterministic = suc_prior_deterministic(data, sensitive_attr)\n",
        "sucesso_priori_probabilistic = suc_prior_probabilistic(data, sensitive_attr)\n",
        "sucesso_post_deterministico = suc_post_deterministic(data, qid_attrs, sensitive_attr)\n",
        "sucesso_post_probabilistico = suc_post_probabilistic(data, qid_attrs, sensitive_attr)\n",
        "\n",
        "end_time = time.time()\n",
        "execution_time = end_time - start_time\n",
        "\n",
        "print(\"Sucesso determinístico a priori:\", sucesso_priori_deterministic)\n",
        "print(\"Sucesso determinístico a posteriori:\", sucesso_post_deterministico)\n",
        "print(\"Degradação determinística de privacidade:\", sucesso_post_deterministico - sucesso_priori_deterministic)\n",
        "\n",
        "print(\"Sucesso probabilístico a priori:\", sucesso_priori_probabilistic)\n",
        "print(\"Sucesso probabilístico a posteriori:\", sucesso_post_probabilistico)\n",
        "print(\"Degradação probabilística de privacidade:\", sucesso_post_probabilistico / sucesso_priori_probabilistic)\n",
        "\n",
        "print(\"Tempo de execução:\", execution_time, \"segundos\")"
      ]
    },
    {
      "cell_type": "code",
      "execution_count": null,
      "metadata": {
        "id": "GuFTRzwJQKsz"
      },
      "outputs": [],
      "source": [
        "qid_attrs = ['NU_DIA_NASCIMENTO', 'NU_MES_NASCIMENTO', 'NU_ANO_NASCIMENTO', 'TP_SEXO', 'TP_COR_RACA', 'CO_MUNICIPIO_NASCIMENTO', 'TP_NACIONALIDADE', 'CO_PAIS_ORIGEM', 'CO_IES', 'CO_CINE_AREA_GERAL', 'TP_ESCOLA_CONCLUSAO_ENS_MEDIO']\n",
        "sensitive_attr = 'IN_DEFICIENCIA'\n",
        "data = microdados\n",
        "\n",
        "start_time = time.time()\n",
        "\n",
        "sucesso_priori_deterministic = suc_prior_deterministic(data, sensitive_attr)\n",
        "sucesso_priori_probabilistic = suc_prior_probabilistic(data, sensitive_attr)\n",
        "sucesso_post_deterministico = suc_post_deterministic(data, qid_attrs, sensitive_attr)\n",
        "sucesso_post_probabilistico = suc_post_probabilistic(data, qid_attrs, sensitive_attr)\n",
        "\n",
        "end_time = time.time()\n",
        "execution_time = end_time - start_time\n",
        "\n",
        "print(\"Sucesso determinístico a priori:\", sucesso_priori_deterministic)\n",
        "print(\"Sucesso determinístico a posteriori:\", sucesso_post_deterministico)\n",
        "print(\"Degradação determinística de privacidade:\", sucesso_post_deterministico - sucesso_priori_deterministic)\n",
        "\n",
        "print(\"Sucesso probabilístico a priori:\", sucesso_priori_probabilistic)\n",
        "print(\"Sucesso probabilístico a posteriori:\", sucesso_post_probabilistico)\n",
        "print(\"Degradação probabilística de privacidade:\", sucesso_post_probabilistico / sucesso_priori_probabilistic)\n",
        "\n",
        "print(\"Tempo de execução:\", execution_time, \"segundos\")"
      ]
    },
    {
      "cell_type": "markdown",
      "metadata": {
        "id": "0piduVh-QKsz"
      },
      "source": [
        "###### Substituição de CO_CURSO por CO_MUNICIPIO"
      ]
    },
    {
      "cell_type": "code",
      "execution_count": null,
      "metadata": {
        "id": "iU3BSkJ3QKsz"
      },
      "outputs": [],
      "source": [
        "qid_attrs = ['CO_MUNICIPIO']\n",
        "sensitive_attr = 'IN_DEFICIENCIA'\n",
        "data = microdados\n",
        "\n",
        "start_time = time.time()\n",
        "\n",
        "sucesso_priori_deterministic = suc_prior_deterministic(data, sensitive_attr)\n",
        "sucesso_priori_probabilistic = suc_prior_probabilistic(data, sensitive_attr)\n",
        "sucesso_post_deterministico = suc_post_deterministic(data, qid_attrs, sensitive_attr)\n",
        "sucesso_post_probabilistico = suc_post_probabilistic(data, qid_attrs, sensitive_attr)\n",
        "\n",
        "end_time = time.time()\n",
        "execution_time = end_time - start_time\n",
        "\n",
        "print(\"Sucesso determinístico a priori:\", sucesso_priori_deterministic)\n",
        "print(\"Sucesso determinístico a posteriori:\", sucesso_post_deterministico)\n",
        "print(\"Degradação determinística de privacidade:\", sucesso_post_deterministico - sucesso_priori_deterministic)\n",
        "\n",
        "print(\"Sucesso probabilístico a priori:\", sucesso_priori_probabilistic)\n",
        "print(\"Sucesso probabilístico a posteriori:\", sucesso_post_probabilistico)\n",
        "print(\"Degradação probabilística de privacidade:\", sucesso_post_probabilistico / sucesso_priori_probabilistic)\n",
        "\n",
        "print(\"Tempo de execução:\", execution_time, \"segundos\")"
      ]
    },
    {
      "cell_type": "code",
      "execution_count": null,
      "metadata": {
        "id": "rrCCe3DGQKsz"
      },
      "outputs": [],
      "source": [
        "qid_attrs = ['CO_MUNICIPIO_NASCIMENTO', 'CO_MUNICIPIO']\n",
        "sensitive_attr = 'IN_DEFICIENCIA'\n",
        "data = microdados\n",
        "\n",
        "start_time = time.time()\n",
        "\n",
        "sucesso_priori_deterministic = suc_prior_deterministic(data, sensitive_attr)\n",
        "sucesso_priori_probabilistic = suc_prior_probabilistic(data, sensitive_attr)\n",
        "sucesso_post_deterministico = suc_post_deterministic(data, qid_attrs, sensitive_attr)\n",
        "sucesso_post_probabilistico = suc_post_probabilistic(data, qid_attrs, sensitive_attr)\n",
        "\n",
        "end_time = time.time()\n",
        "execution_time = end_time - start_time\n",
        "\n",
        "print(\"Sucesso determinístico a priori:\", sucesso_priori_deterministic)\n",
        "print(\"Sucesso determinístico a posteriori:\", sucesso_post_deterministico)\n",
        "print(\"Degradação determinística de privacidade:\", sucesso_post_deterministico - sucesso_priori_deterministic)\n",
        "\n",
        "print(\"Sucesso probabilístico a priori:\", sucesso_priori_probabilistic)\n",
        "print(\"Sucesso probabilístico a posteriori:\", sucesso_post_probabilistico)\n",
        "print(\"Degradação probabilística de privacidade:\", sucesso_post_probabilistico / sucesso_priori_probabilistic)\n",
        "\n",
        "print(\"Tempo de execução:\", execution_time, \"segundos\")"
      ]
    },
    {
      "cell_type": "code",
      "execution_count": null,
      "metadata": {
        "id": "DZBuFutEQKsz"
      },
      "outputs": [],
      "source": [
        "qid_attrs = ['NU_DIA_NASCIMENTO', 'CO_MUNICIPIO']\n",
        "sensitive_attr = 'IN_DEFICIENCIA'\n",
        "data = microdados\n",
        "\n",
        "start_time = time.time()\n",
        "\n",
        "sucesso_priori_deterministic = suc_prior_deterministic(data, sensitive_attr)\n",
        "sucesso_priori_probabilistic = suc_prior_probabilistic(data, sensitive_attr)\n",
        "sucesso_post_deterministico = suc_post_deterministic(data, qid_attrs, sensitive_attr)\n",
        "sucesso_post_probabilistico = suc_post_probabilistic(data, qid_attrs, sensitive_attr)\n",
        "\n",
        "end_time = time.time()\n",
        "execution_time = end_time - start_time\n",
        "\n",
        "print(\"Sucesso determinístico a priori:\", sucesso_priori_deterministic)\n",
        "print(\"Sucesso determinístico a posteriori:\", sucesso_post_deterministico)\n",
        "print(\"Degradação determinística de privacidade:\", sucesso_post_deterministico - sucesso_priori_deterministic)\n",
        "\n",
        "print(\"Sucesso probabilístico a priori:\", sucesso_priori_probabilistic)\n",
        "print(\"Sucesso probabilístico a posteriori:\", sucesso_post_probabilistico)\n",
        "print(\"Degradação probabilística de privacidade:\", sucesso_post_probabilistico / sucesso_priori_probabilistic)\n",
        "\n",
        "print(\"Tempo de execução:\", execution_time, \"segundos\")"
      ]
    },
    {
      "cell_type": "code",
      "execution_count": null,
      "metadata": {
        "id": "Go58E3s2QKsz"
      },
      "outputs": [],
      "source": [
        "qid_attrs = ['NU_DIA_NASCIMENTO', 'NU_ANO_NASCIMENTO', 'CO_MUNICIPIO']\n",
        "sensitive_attr = 'IN_DEFICIENCIA'\n",
        "data = microdados\n",
        "\n",
        "start_time = time.time()\n",
        "\n",
        "sucesso_priori_deterministic = suc_prior_deterministic(data, sensitive_attr)\n",
        "sucesso_priori_probabilistic = suc_prior_probabilistic(data, sensitive_attr)\n",
        "sucesso_post_deterministico = suc_post_deterministic(data, qid_attrs, sensitive_attr)\n",
        "sucesso_post_probabilistico = suc_post_probabilistic(data, qid_attrs, sensitive_attr)\n",
        "\n",
        "end_time = time.time()\n",
        "execution_time = end_time - start_time\n",
        "\n",
        "print(\"Sucesso determinístico a priori:\", sucesso_priori_deterministic)\n",
        "print(\"Sucesso determinístico a posteriori:\", sucesso_post_deterministico)\n",
        "print(\"Degradação determinística de privacidade:\", sucesso_post_deterministico - sucesso_priori_deterministic)\n",
        "\n",
        "print(\"Sucesso probabilístico a priori:\", sucesso_priori_probabilistic)\n",
        "print(\"Sucesso probabilístico a posteriori:\", sucesso_post_probabilistico)\n",
        "print(\"Degradação probabilística de privacidade:\", sucesso_post_probabilistico / sucesso_priori_probabilistic)\n",
        "\n",
        "print(\"Tempo de execução:\", execution_time, \"segundos\")"
      ]
    },
    {
      "cell_type": "code",
      "execution_count": null,
      "metadata": {
        "id": "2gu-bEaXQKsz"
      },
      "outputs": [],
      "source": [
        "qid_attrs = ['NU_DIA_NASCIMENTO', 'NU_MES_NASCIMENTO', 'NU_ANO_NASCIMENTO', 'CO_MUNICIPIO']\n",
        "sensitive_attr = 'IN_DEFICIENCIA'\n",
        "data = microdados\n",
        "\n",
        "start_time = time.time()\n",
        "\n",
        "sucesso_priori_deterministic = suc_prior_deterministic(data, sensitive_attr)\n",
        "sucesso_priori_probabilistic = suc_prior_probabilistic(data, sensitive_attr)\n",
        "sucesso_post_deterministico = suc_post_deterministic(data, qid_attrs, sensitive_attr)\n",
        "sucesso_post_probabilistico = suc_post_probabilistic(data, qid_attrs, sensitive_attr)\n",
        "\n",
        "end_time = time.time()\n",
        "execution_time = end_time - start_time\n",
        "\n",
        "print(\"Sucesso determinístico a priori:\", sucesso_priori_deterministic)\n",
        "print(\"Sucesso determinístico a posteriori:\", sucesso_post_deterministico)\n",
        "print(\"Degradação determinística de privacidade:\", sucesso_post_deterministico - sucesso_priori_deterministic)\n",
        "\n",
        "print(\"Sucesso probabilístico a priori:\", sucesso_priori_probabilistic)\n",
        "print(\"Sucesso probabilístico a posteriori:\", sucesso_post_probabilistico)\n",
        "print(\"Degradação probabilística de privacidade:\", sucesso_post_probabilistico / sucesso_priori_probabilistic)\n",
        "\n",
        "print(\"Tempo de execução:\", execution_time, \"segundos\")"
      ]
    },
    {
      "cell_type": "code",
      "execution_count": null,
      "metadata": {
        "id": "3U_60KfnQKsz"
      },
      "outputs": [],
      "source": [
        "qid_attrs = ['NU_DIA_NASCIMENTO', 'NU_MES_NASCIMENTO', 'NU_ANO_NASCIMENTO', 'CO_MUNICIPIO_NASCIMENTO', 'CO_MUNICIPIO']\n",
        "sensitive_attr = 'IN_DEFICIENCIA'\n",
        "data = microdados\n",
        "\n",
        "start_time = time.time()\n",
        "\n",
        "sucesso_priori_deterministic = suc_prior_deterministic(data, sensitive_attr)\n",
        "sucesso_priori_probabilistic = suc_prior_probabilistic(data, sensitive_attr)\n",
        "sucesso_post_deterministico = suc_post_deterministic(data, qid_attrs, sensitive_attr)\n",
        "sucesso_post_probabilistico = suc_post_probabilistic(data, qid_attrs, sensitive_attr)\n",
        "\n",
        "end_time = time.time()\n",
        "execution_time = end_time - start_time\n",
        "\n",
        "print(\"Sucesso determinístico a priori:\", sucesso_priori_deterministic)\n",
        "print(\"Sucesso determinístico a posteriori:\", sucesso_post_deterministico)\n",
        "print(\"Degradação determinística de privacidade:\", sucesso_post_deterministico - sucesso_priori_deterministic)\n",
        "\n",
        "print(\"Sucesso probabilístico a priori:\", sucesso_priori_probabilistic)\n",
        "print(\"Sucesso probabilístico a posteriori:\", sucesso_post_probabilistico)\n",
        "print(\"Degradação probabilística de privacidade:\", sucesso_post_probabilistico / sucesso_priori_probabilistic)\n",
        "\n",
        "print(\"Tempo de execução:\", execution_time, \"segundos\")"
      ]
    },
    {
      "cell_type": "code",
      "execution_count": null,
      "metadata": {
        "id": "t-RGqyuzQKs0"
      },
      "outputs": [],
      "source": [
        "qid_attrs = ['NU_DIA_NASCIMENTO', 'NU_MES_NASCIMENTO', 'NU_ANO_NASCIMENTO', 'TP_COR_RACA', 'CO_MUNICIPIO_NASCIMENTO', 'CO_MUNICIPIO']\n",
        "sensitive_attr = 'IN_DEFICIENCIA'\n",
        "data = microdados\n",
        "\n",
        "start_time = time.time()\n",
        "\n",
        "sucesso_priori_deterministic = suc_prior_deterministic(data, sensitive_attr)\n",
        "sucesso_priori_probabilistic = suc_prior_probabilistic(data, sensitive_attr)\n",
        "sucesso_post_deterministico = suc_post_deterministic(data, qid_attrs, sensitive_attr)\n",
        "sucesso_post_probabilistico = suc_post_probabilistic(data, qid_attrs, sensitive_attr)\n",
        "\n",
        "end_time = time.time()\n",
        "execution_time = end_time - start_time\n",
        "\n",
        "print(\"Sucesso determinístico a priori:\", sucesso_priori_deterministic)\n",
        "print(\"Sucesso determinístico a posteriori:\", sucesso_post_deterministico)\n",
        "print(\"Degradação determinística de privacidade:\", sucesso_post_deterministico - sucesso_priori_deterministic)\n",
        "\n",
        "print(\"Sucesso probabilístico a priori:\", sucesso_priori_probabilistic)\n",
        "print(\"Sucesso probabilístico a posteriori:\", sucesso_post_probabilistico)\n",
        "print(\"Degradação probabilística de privacidade:\", sucesso_post_probabilistico / sucesso_priori_probabilistic)\n",
        "\n",
        "print(\"Tempo de execução:\", execution_time, \"segundos\")"
      ]
    },
    {
      "cell_type": "code",
      "execution_count": null,
      "metadata": {
        "id": "dy_aZpMlQKs0"
      },
      "outputs": [],
      "source": [
        "qid_attrs = ['NU_DIA_NASCIMENTO', 'NU_MES_NASCIMENTO', 'NU_ANO_NASCIMENTO', 'TP_SEXO', 'TP_COR_RACA', 'CO_MUNICIPIO_NASCIMENTO', 'CO_MUNICIPIO']\n",
        "sensitive_attr = 'IN_DEFICIENCIA'\n",
        "data = microdados\n",
        "\n",
        "start_time = time.time()\n",
        "\n",
        "sucesso_priori_deterministic = suc_prior_deterministic(data, sensitive_attr)\n",
        "sucesso_priori_probabilistic = suc_prior_probabilistic(data, sensitive_attr)\n",
        "sucesso_post_deterministico = suc_post_deterministic(data, qid_attrs, sensitive_attr)\n",
        "sucesso_post_probabilistico = suc_post_probabilistic(data, qid_attrs, sensitive_attr)\n",
        "\n",
        "end_time = time.time()\n",
        "execution_time = end_time - start_time\n",
        "\n",
        "print(\"Sucesso determinístico a priori:\", sucesso_priori_deterministic)\n",
        "print(\"Sucesso determinístico a posteriori:\", sucesso_post_deterministico)\n",
        "print(\"Degradação determinística de privacidade:\", sucesso_post_deterministico - sucesso_priori_deterministic)\n",
        "\n",
        "print(\"Sucesso probabilístico a priori:\", sucesso_priori_probabilistic)\n",
        "print(\"Sucesso probabilístico a posteriori:\", sucesso_post_probabilistico)\n",
        "print(\"Degradação probabilística de privacidade:\", sucesso_post_probabilistico / sucesso_priori_probabilistic)\n",
        "\n",
        "print(\"Tempo de execução:\", execution_time, \"segundos\")"
      ]
    },
    {
      "cell_type": "code",
      "execution_count": null,
      "metadata": {
        "id": "QyEbMUK1QKs0"
      },
      "outputs": [],
      "source": [
        "qid_attrs = ['NU_DIA_NASCIMENTO', 'NU_MES_NASCIMENTO', 'NU_ANO_NASCIMENTO', 'TP_SEXO', 'TP_COR_RACA', 'CO_MUNICIPIO_NASCIMENTO', 'CO_MUNICIPIO', 'TP_ESCOLA_CONCLUSAO_ENS_MEDIO']\n",
        "sensitive_attr = 'IN_DEFICIENCIA'\n",
        "data = microdados\n",
        "\n",
        "start_time = time.time()\n",
        "\n",
        "sucesso_priori_deterministic = suc_prior_deterministic(data, sensitive_attr)\n",
        "sucesso_priori_probabilistic = suc_prior_probabilistic(data, sensitive_attr)\n",
        "sucesso_post_deterministico = suc_post_deterministic(data, qid_attrs, sensitive_attr)\n",
        "sucesso_post_probabilistico = suc_post_probabilistic(data, qid_attrs, sensitive_attr)\n",
        "\n",
        "end_time = time.time()\n",
        "execution_time = end_time - start_time\n",
        "\n",
        "print(\"Sucesso determinístico a priori:\", sucesso_priori_deterministic)\n",
        "print(\"Sucesso determinístico a posteriori:\", sucesso_post_deterministico)\n",
        "print(\"Degradação determinística de privacidade:\", sucesso_post_deterministico - sucesso_priori_deterministic)\n",
        "\n",
        "print(\"Sucesso probabilístico a priori:\", sucesso_priori_probabilistic)\n",
        "print(\"Sucesso probabilístico a posteriori:\", sucesso_post_probabilistico)\n",
        "print(\"Degradação probabilística de privacidade:\", sucesso_post_probabilistico / sucesso_priori_probabilistic)\n",
        "\n",
        "print(\"Tempo de execução:\", execution_time, \"segundos\")"
      ]
    },
    {
      "cell_type": "code",
      "execution_count": null,
      "metadata": {
        "id": "5bcpclZ1QKs0"
      },
      "outputs": [],
      "source": [
        "qid_attrs = ['NU_DIA_NASCIMENTO', 'NU_MES_NASCIMENTO', 'NU_ANO_NASCIMENTO', 'TP_SEXO', 'TP_COR_RACA', 'CO_MUNICIPIO_NASCIMENTO', 'TP_NACIONALIDADE', 'CO_MUNICIPIO', 'TP_ESCOLA_CONCLUSAO_ENS_MEDIO']\n",
        "sensitive_attr = 'IN_DEFICIENCIA'\n",
        "data = microdados\n",
        "\n",
        "start_time = time.time()\n",
        "\n",
        "sucesso_priori_deterministic = suc_prior_deterministic(data, sensitive_attr)\n",
        "sucesso_priori_probabilistic = suc_prior_probabilistic(data, sensitive_attr)\n",
        "sucesso_post_deterministico = suc_post_deterministic(data, qid_attrs, sensitive_attr)\n",
        "sucesso_post_probabilistico = suc_post_probabilistic(data, qid_attrs, sensitive_attr)\n",
        "\n",
        "end_time = time.time()\n",
        "execution_time = end_time - start_time\n",
        "\n",
        "print(\"Sucesso determinístico a priori:\", sucesso_priori_deterministic)\n",
        "print(\"Sucesso determinístico a posteriori:\", sucesso_post_deterministico)\n",
        "print(\"Degradação determinística de privacidade:\", sucesso_post_deterministico - sucesso_priori_deterministic)\n",
        "\n",
        "print(\"Sucesso probabilístico a priori:\", sucesso_priori_probabilistic)\n",
        "print(\"Sucesso probabilístico a posteriori:\", sucesso_post_probabilistico)\n",
        "print(\"Degradação probabilística de privacidade:\", sucesso_post_probabilistico / sucesso_priori_probabilistic)\n",
        "\n",
        "print(\"Tempo de execução:\", execution_time, \"segundos\")"
      ]
    },
    {
      "cell_type": "code",
      "execution_count": null,
      "metadata": {
        "id": "VixsqFFIQKs0"
      },
      "outputs": [],
      "source": [
        "qid_attrs = ['NU_DIA_NASCIMENTO', 'NU_MES_NASCIMENTO', 'NU_ANO_NASCIMENTO', 'TP_SEXO', 'TP_COR_RACA', 'CO_MUNICIPIO_NASCIMENTO', 'TP_NACIONALIDADE', 'CO_PAIS_ORIGEM', 'CO_MUNICIPIO', 'TP_ESCOLA_CONCLUSAO_ENS_MEDIO']\n",
        "sensitive_attr = 'IN_DEFICIENCIA'\n",
        "data = microdados\n",
        "\n",
        "start_time = time.time()\n",
        "\n",
        "sucesso_priori_deterministic = suc_prior_deterministic(data, sensitive_attr)\n",
        "sucesso_priori_probabilistic = suc_prior_probabilistic(data, sensitive_attr)\n",
        "sucesso_post_deterministico = suc_post_deterministic(data, qid_attrs, sensitive_attr)\n",
        "sucesso_post_probabilistico = suc_post_probabilistic(data, qid_attrs, sensitive_attr)\n",
        "\n",
        "end_time = time.time()\n",
        "execution_time = end_time - start_time\n",
        "\n",
        "print(\"Sucesso determinístico a priori:\", sucesso_priori_deterministic)\n",
        "print(\"Sucesso determinístico a posteriori:\", sucesso_post_deterministico)\n",
        "print(\"Degradação determinística de privacidade:\", sucesso_post_deterministico - sucesso_priori_deterministic)\n",
        "\n",
        "print(\"Sucesso probabilístico a priori:\", sucesso_priori_probabilistic)\n",
        "print(\"Sucesso probabilístico a posteriori:\", sucesso_post_probabilistico)\n",
        "print(\"Degradação probabilística de privacidade:\", sucesso_post_probabilistico / sucesso_priori_probabilistic)\n",
        "\n",
        "print(\"Tempo de execução:\", execution_time, \"segundos\")"
      ]
    },
    {
      "cell_type": "code",
      "execution_count": null,
      "metadata": {
        "id": "g67bG0LMQKs0"
      },
      "outputs": [],
      "source": [
        "qid_attrs = ['NU_DIA_NASCIMENTO', 'NU_MES_NASCIMENTO', 'NU_ANO_NASCIMENTO', 'TP_SEXO', 'TP_COR_RACA', 'CO_MUNICIPIO_NASCIMENTO', 'TP_NACIONALIDADE', 'CO_PAIS_ORIGEM', 'CO_IES', 'CO_MUNICIPIO', 'TP_ESCOLA_CONCLUSAO_ENS_MEDIO']\n",
        "sensitive_attr = 'IN_DEFICIENCIA'\n",
        "data = microdados\n",
        "\n",
        "start_time = time.time()\n",
        "\n",
        "sucesso_priori_deterministic = suc_prior_deterministic(data, sensitive_attr)\n",
        "sucesso_priori_probabilistic = suc_prior_probabilistic(data, sensitive_attr)\n",
        "sucesso_post_deterministico = suc_post_deterministic(data, qid_attrs, sensitive_attr)\n",
        "sucesso_post_probabilistico = suc_post_probabilistic(data, qid_attrs, sensitive_attr)\n",
        "\n",
        "end_time = time.time()\n",
        "execution_time = end_time - start_time\n",
        "\n",
        "print(\"Sucesso determinístico a priori:\", sucesso_priori_deterministic)\n",
        "print(\"Sucesso determinístico a posteriori:\", sucesso_post_deterministico)\n",
        "print(\"Degradação determinística de privacidade:\", sucesso_post_deterministico - sucesso_priori_deterministic)\n",
        "\n",
        "print(\"Sucesso probabilístico a priori:\", sucesso_priori_probabilistic)\n",
        "print(\"Sucesso probabilístico a posteriori:\", sucesso_post_probabilistico)\n",
        "print(\"Degradação probabilística de privacidade:\", sucesso_post_probabilistico / sucesso_priori_probabilistic)\n",
        "\n",
        "print(\"Tempo de execução:\", execution_time, \"segundos\")"
      ]
    },
    {
      "cell_type": "markdown",
      "metadata": {
        "id": "9WBNR6iNQKs0"
      },
      "source": [
        "###### Substituição de CO_CURSO por CO_UF"
      ]
    },
    {
      "cell_type": "code",
      "execution_count": null,
      "metadata": {
        "id": "SDcuK_0VQKs0"
      },
      "outputs": [],
      "source": [
        "qid_attrs = ['CO_UF']\n",
        "sensitive_attr = 'IN_DEFICIENCIA'\n",
        "data = microdados\n",
        "\n",
        "start_time = time.time()\n",
        "\n",
        "sucesso_priori_deterministic = suc_prior_deterministic(data, sensitive_attr)\n",
        "sucesso_priori_probabilistic = suc_prior_probabilistic(data, sensitive_attr)\n",
        "sucesso_post_deterministico = suc_post_deterministic(data, qid_attrs, sensitive_attr)\n",
        "sucesso_post_probabilistico = suc_post_probabilistic(data, qid_attrs, sensitive_attr)\n",
        "\n",
        "end_time = time.time()\n",
        "execution_time = end_time - start_time\n",
        "\n",
        "print(\"Sucesso determinístico a priori:\", sucesso_priori_deterministic)\n",
        "print(\"Sucesso determinístico a posteriori:\", sucesso_post_deterministico)\n",
        "print(\"Degradação determinística de privacidade:\", sucesso_post_deterministico - sucesso_priori_deterministic)\n",
        "\n",
        "print(\"Sucesso probabilístico a priori:\", sucesso_priori_probabilistic)\n",
        "print(\"Sucesso probabilístico a posteriori:\", sucesso_post_probabilistico)\n",
        "print(\"Degradação probabilística de privacidade:\", sucesso_post_probabilistico / sucesso_priori_probabilistic)\n",
        "\n",
        "print(\"Tempo de execução:\", execution_time, \"segundos\")"
      ]
    },
    {
      "cell_type": "code",
      "execution_count": null,
      "metadata": {
        "id": "vUQVx7ftQKs0"
      },
      "outputs": [],
      "source": [
        "qid_attrs = ['CO_MUNICIPIO_NASCIMENTO', 'CO_UF']\n",
        "sensitive_attr = 'IN_DEFICIENCIA'\n",
        "data = microdados\n",
        "\n",
        "start_time = time.time()\n",
        "\n",
        "sucesso_priori_deterministic = suc_prior_deterministic(data, sensitive_attr)\n",
        "sucesso_priori_probabilistic = suc_prior_probabilistic(data, sensitive_attr)\n",
        "sucesso_post_deterministico = suc_post_deterministic(data, qid_attrs, sensitive_attr)\n",
        "sucesso_post_probabilistico = suc_post_probabilistic(data, qid_attrs, sensitive_attr)\n",
        "\n",
        "end_time = time.time()\n",
        "execution_time = end_time - start_time\n",
        "\n",
        "print(\"Sucesso determinístico a priori:\", sucesso_priori_deterministic)\n",
        "print(\"Sucesso determinístico a posteriori:\", sucesso_post_deterministico)\n",
        "print(\"Degradação determinística de privacidade:\", sucesso_post_deterministico - sucesso_priori_deterministic)\n",
        "\n",
        "print(\"Sucesso probabilístico a priori:\", sucesso_priori_probabilistic)\n",
        "print(\"Sucesso probabilístico a posteriori:\", sucesso_post_probabilistico)\n",
        "print(\"Degradação probabilística de privacidade:\", sucesso_post_probabilistico / sucesso_priori_probabilistic)\n",
        "\n",
        "print(\"Tempo de execução:\", execution_time, \"segundos\")"
      ]
    },
    {
      "cell_type": "code",
      "execution_count": null,
      "metadata": {
        "id": "QHxbBjyxQKs1"
      },
      "outputs": [],
      "source": [
        "qid_attrs = ['NU_DIA_NASCIMENTO', 'CO_UF']\n",
        "sensitive_attr = 'IN_DEFICIENCIA'\n",
        "data = microdados\n",
        "\n",
        "start_time = time.time()\n",
        "\n",
        "sucesso_priori_deterministic = suc_prior_deterministic(data, sensitive_attr)\n",
        "sucesso_priori_probabilistic = suc_prior_probabilistic(data, sensitive_attr)\n",
        "sucesso_post_deterministico = suc_post_deterministic(data, qid_attrs, sensitive_attr)\n",
        "sucesso_post_probabilistico = suc_post_probabilistic(data, qid_attrs, sensitive_attr)\n",
        "\n",
        "end_time = time.time()\n",
        "execution_time = end_time - start_time\n",
        "\n",
        "print(\"Sucesso determinístico a priori:\", sucesso_priori_deterministic)\n",
        "print(\"Sucesso determinístico a posteriori:\", sucesso_post_deterministico)\n",
        "print(\"Degradação determinística de privacidade:\", sucesso_post_deterministico - sucesso_priori_deterministic)\n",
        "\n",
        "print(\"Sucesso probabilístico a priori:\", sucesso_priori_probabilistic)\n",
        "print(\"Sucesso probabilístico a posteriori:\", sucesso_post_probabilistico)\n",
        "print(\"Degradação probabilística de privacidade:\", sucesso_post_probabilistico / sucesso_priori_probabilistic)\n",
        "\n",
        "print(\"Tempo de execução:\", execution_time, \"segundos\")"
      ]
    },
    {
      "cell_type": "code",
      "execution_count": null,
      "metadata": {
        "id": "Ii5vwLbvQKs1"
      },
      "outputs": [],
      "source": [
        "qid_attrs = ['NU_DIA_NASCIMENTO', 'NU_ANO_NASCIMENTO', 'CO_UF']\n",
        "sensitive_attr = 'IN_DEFICIENCIA'\n",
        "data = microdados\n",
        "\n",
        "start_time = time.time()\n",
        "\n",
        "sucesso_priori_deterministic = suc_prior_deterministic(data, sensitive_attr)\n",
        "sucesso_priori_probabilistic = suc_prior_probabilistic(data, sensitive_attr)\n",
        "sucesso_post_deterministico = suc_post_deterministic(data, qid_attrs, sensitive_attr)\n",
        "sucesso_post_probabilistico = suc_post_probabilistic(data, qid_attrs, sensitive_attr)\n",
        "\n",
        "end_time = time.time()\n",
        "execution_time = end_time - start_time\n",
        "\n",
        "print(\"Sucesso determinístico a priori:\", sucesso_priori_deterministic)\n",
        "print(\"Sucesso determinístico a posteriori:\", sucesso_post_deterministico)\n",
        "print(\"Degradação determinística de privacidade:\", sucesso_post_deterministico - sucesso_priori_deterministic)\n",
        "\n",
        "print(\"Sucesso probabilístico a priori:\", sucesso_priori_probabilistic)\n",
        "print(\"Sucesso probabilístico a posteriori:\", sucesso_post_probabilistico)\n",
        "print(\"Degradação probabilística de privacidade:\", sucesso_post_probabilistico / sucesso_priori_probabilistic)\n",
        "\n",
        "print(\"Tempo de execução:\", execution_time, \"segundos\")"
      ]
    },
    {
      "cell_type": "code",
      "execution_count": null,
      "metadata": {
        "id": "2Io3nChcQKs1"
      },
      "outputs": [],
      "source": [
        "qid_attrs = ['NU_DIA_NASCIMENTO', 'NU_MES_NASCIMENTO', 'NU_ANO_NASCIMENTO', 'CO_UF']\n",
        "sensitive_attr = 'IN_DEFICIENCIA'\n",
        "data = microdados\n",
        "\n",
        "start_time = time.time()\n",
        "\n",
        "sucesso_priori_deterministic = suc_prior_deterministic(data, sensitive_attr)\n",
        "sucesso_priori_probabilistic = suc_prior_probabilistic(data, sensitive_attr)\n",
        "sucesso_post_deterministico = suc_post_deterministic(data, qid_attrs, sensitive_attr)\n",
        "sucesso_post_probabilistico = suc_post_probabilistic(data, qid_attrs, sensitive_attr)\n",
        "\n",
        "end_time = time.time()\n",
        "execution_time = end_time - start_time\n",
        "\n",
        "print(\"Sucesso determinístico a priori:\", sucesso_priori_deterministic)\n",
        "print(\"Sucesso determinístico a posteriori:\", sucesso_post_deterministico)\n",
        "print(\"Degradação determinística de privacidade:\", sucesso_post_deterministico - sucesso_priori_deterministic)\n",
        "\n",
        "print(\"Sucesso probabilístico a priori:\", sucesso_priori_probabilistic)\n",
        "print(\"Sucesso probabilístico a posteriori:\", sucesso_post_probabilistico)\n",
        "print(\"Degradação probabilística de privacidade:\", sucesso_post_probabilistico / sucesso_priori_probabilistic)\n",
        "\n",
        "print(\"Tempo de execução:\", execution_time, \"segundos\")"
      ]
    },
    {
      "cell_type": "code",
      "execution_count": null,
      "metadata": {
        "id": "DoV7rMIcQKs1"
      },
      "outputs": [],
      "source": [
        "qid_attrs = ['NU_DIA_NASCIMENTO', 'NU_MES_NASCIMENTO', 'NU_ANO_NASCIMENTO', 'CO_MUNICIPIO_NASCIMENTO', 'CO_UF']\n",
        "sensitive_attr = 'IN_DEFICIENCIA'\n",
        "data = microdados\n",
        "\n",
        "start_time = time.time()\n",
        "\n",
        "sucesso_priori_deterministic = suc_prior_deterministic(data, sensitive_attr)\n",
        "sucesso_priori_probabilistic = suc_prior_probabilistic(data, sensitive_attr)\n",
        "sucesso_post_deterministico = suc_post_deterministic(data, qid_attrs, sensitive_attr)\n",
        "sucesso_post_probabilistico = suc_post_probabilistic(data, qid_attrs, sensitive_attr)\n",
        "\n",
        "end_time = time.time()\n",
        "execution_time = end_time - start_time\n",
        "\n",
        "print(\"Sucesso determinístico a priori:\", sucesso_priori_deterministic)\n",
        "print(\"Sucesso determinístico a posteriori:\", sucesso_post_deterministico)\n",
        "print(\"Degradação determinística de privacidade:\", sucesso_post_deterministico - sucesso_priori_deterministic)\n",
        "\n",
        "print(\"Sucesso probabilístico a priori:\", sucesso_priori_probabilistic)\n",
        "print(\"Sucesso probabilístico a posteriori:\", sucesso_post_probabilistico)\n",
        "print(\"Degradação probabilística de privacidade:\", sucesso_post_probabilistico / sucesso_priori_probabilistic)\n",
        "\n",
        "print(\"Tempo de execução:\", execution_time, \"segundos\")"
      ]
    },
    {
      "cell_type": "code",
      "execution_count": null,
      "metadata": {
        "id": "5qa6-cTPQKs1"
      },
      "outputs": [],
      "source": [
        "qid_attrs = ['NU_DIA_NASCIMENTO', 'NU_MES_NASCIMENTO', 'NU_ANO_NASCIMENTO', 'TP_COR_RACA', 'CO_MUNICIPIO_NASCIMENTO', 'CO_UF']\n",
        "sensitive_attr = 'IN_DEFICIENCIA'\n",
        "data = microdados\n",
        "\n",
        "start_time = time.time()\n",
        "\n",
        "sucesso_priori_deterministic = suc_prior_deterministic(data, sensitive_attr)\n",
        "sucesso_priori_probabilistic = suc_prior_probabilistic(data, sensitive_attr)\n",
        "sucesso_post_deterministico = suc_post_deterministic(data, qid_attrs, sensitive_attr)\n",
        "sucesso_post_probabilistico = suc_post_probabilistic(data, qid_attrs, sensitive_attr)\n",
        "\n",
        "end_time = time.time()\n",
        "execution_time = end_time - start_time\n",
        "\n",
        "print(\"Sucesso determinístico a priori:\", sucesso_priori_deterministic)\n",
        "print(\"Sucesso determinístico a posteriori:\", sucesso_post_deterministico)\n",
        "print(\"Degradação determinística de privacidade:\", sucesso_post_deterministico - sucesso_priori_deterministic)\n",
        "\n",
        "print(\"Sucesso probabilístico a priori:\", sucesso_priori_probabilistic)\n",
        "print(\"Sucesso probabilístico a posteriori:\", sucesso_post_probabilistico)\n",
        "print(\"Degradação probabilística de privacidade:\", sucesso_post_probabilistico / sucesso_priori_probabilistic)\n",
        "\n",
        "print(\"Tempo de execução:\", execution_time, \"segundos\")"
      ]
    },
    {
      "cell_type": "code",
      "execution_count": null,
      "metadata": {
        "id": "_bvJ1QHKQKs1"
      },
      "outputs": [],
      "source": [
        "qid_attrs = ['NU_DIA_NASCIMENTO', 'NU_MES_NASCIMENTO', 'NU_ANO_NASCIMENTO', 'TP_SEXO', 'TP_COR_RACA', 'CO_MUNICIPIO_NASCIMENTO', 'CO_UF']\n",
        "sensitive_attr = 'IN_DEFICIENCIA'\n",
        "data = microdados\n",
        "\n",
        "start_time = time.time()\n",
        "\n",
        "sucesso_priori_deterministic = suc_prior_deterministic(data, sensitive_attr)\n",
        "sucesso_priori_probabilistic = suc_prior_probabilistic(data, sensitive_attr)\n",
        "sucesso_post_deterministico = suc_post_deterministic(data, qid_attrs, sensitive_attr)\n",
        "sucesso_post_probabilistico = suc_post_probabilistic(data, qid_attrs, sensitive_attr)\n",
        "\n",
        "end_time = time.time()\n",
        "execution_time = end_time - start_time\n",
        "\n",
        "print(\"Sucesso determinístico a priori:\", sucesso_priori_deterministic)\n",
        "print(\"Sucesso determinístico a posteriori:\", sucesso_post_deterministico)\n",
        "print(\"Degradação determinística de privacidade:\", sucesso_post_deterministico - sucesso_priori_deterministic)\n",
        "\n",
        "print(\"Sucesso probabilístico a priori:\", sucesso_priori_probabilistic)\n",
        "print(\"Sucesso probabilístico a posteriori:\", sucesso_post_probabilistico)\n",
        "print(\"Degradação probabilística de privacidade:\", sucesso_post_probabilistico / sucesso_priori_probabilistic)\n",
        "\n",
        "print(\"Tempo de execução:\", execution_time, \"segundos\")"
      ]
    },
    {
      "cell_type": "code",
      "execution_count": null,
      "metadata": {
        "id": "y1Ad3HEqQKs1"
      },
      "outputs": [],
      "source": [
        "qid_attrs = ['NU_DIA_NASCIMENTO', 'NU_MES_NASCIMENTO', 'NU_ANO_NASCIMENTO', 'TP_SEXO', 'TP_COR_RACA', 'CO_MUNICIPIO_NASCIMENTO', 'CO_UF', 'TP_ESCOLA_CONCLUSAO_ENS_MEDIO']\n",
        "sensitive_attr = 'IN_DEFICIENCIA'\n",
        "data = microdados\n",
        "\n",
        "start_time = time.time()\n",
        "\n",
        "sucesso_priori_deterministic = suc_prior_deterministic(data, sensitive_attr)\n",
        "sucesso_priori_probabilistic = suc_prior_probabilistic(data, sensitive_attr)\n",
        "sucesso_post_deterministico = suc_post_deterministic(data, qid_attrs, sensitive_attr)\n",
        "sucesso_post_probabilistico = suc_post_probabilistic(data, qid_attrs, sensitive_attr)\n",
        "\n",
        "end_time = time.time()\n",
        "execution_time = end_time - start_time\n",
        "\n",
        "print(\"Sucesso determinístico a priori:\", sucesso_priori_deterministic)\n",
        "print(\"Sucesso determinístico a posteriori:\", sucesso_post_deterministico)\n",
        "print(\"Degradação determinística de privacidade:\", sucesso_post_deterministico - sucesso_priori_deterministic)\n",
        "\n",
        "print(\"Sucesso probabilístico a priori:\", sucesso_priori_probabilistic)\n",
        "print(\"Sucesso probabilístico a posteriori:\", sucesso_post_probabilistico)\n",
        "print(\"Degradação probabilística de privacidade:\", sucesso_post_probabilistico / sucesso_priori_probabilistic)\n",
        "\n",
        "print(\"Tempo de execução:\", execution_time, \"segundos\")"
      ]
    },
    {
      "cell_type": "code",
      "execution_count": null,
      "metadata": {
        "id": "ClM7_Ug0QKs1"
      },
      "outputs": [],
      "source": [
        "qid_attrs = ['NU_DIA_NASCIMENTO', 'NU_MES_NASCIMENTO', 'NU_ANO_NASCIMENTO', 'TP_SEXO', 'TP_COR_RACA', 'CO_MUNICIPIO_NASCIMENTO', 'TP_NACIONALIDADE', 'CO_UF', 'TP_ESCOLA_CONCLUSAO_ENS_MEDIO']\n",
        "sensitive_attr = 'IN_DEFICIENCIA'\n",
        "data = microdados\n",
        "\n",
        "start_time = time.time()\n",
        "\n",
        "sucesso_priori_deterministic = suc_prior_deterministic(data, sensitive_attr)\n",
        "sucesso_priori_probabilistic = suc_prior_probabilistic(data, sensitive_attr)\n",
        "sucesso_post_deterministico = suc_post_deterministic(data, qid_attrs, sensitive_attr)\n",
        "sucesso_post_probabilistico = suc_post_probabilistic(data, qid_attrs, sensitive_attr)\n",
        "\n",
        "end_time = time.time()\n",
        "execution_time = end_time - start_time\n",
        "\n",
        "print(\"Sucesso determinístico a priori:\", sucesso_priori_deterministic)\n",
        "print(\"Sucesso determinístico a posteriori:\", sucesso_post_deterministico)\n",
        "print(\"Degradação determinística de privacidade:\", sucesso_post_deterministico - sucesso_priori_deterministic)\n",
        "\n",
        "print(\"Sucesso probabilístico a priori:\", sucesso_priori_probabilistic)\n",
        "print(\"Sucesso probabilístico a posteriori:\", sucesso_post_probabilistico)\n",
        "print(\"Degradação probabilística de privacidade:\", sucesso_post_probabilistico / sucesso_priori_probabilistic)\n",
        "\n",
        "print(\"Tempo de execução:\", execution_time, \"segundos\")"
      ]
    },
    {
      "cell_type": "code",
      "execution_count": null,
      "metadata": {
        "id": "lN5hkN1GQKs2"
      },
      "outputs": [],
      "source": [
        "qid_attrs = ['NU_DIA_NASCIMENTO', 'NU_MES_NASCIMENTO', 'NU_ANO_NASCIMENTO', 'TP_SEXO', 'TP_COR_RACA', 'CO_MUNICIPIO_NASCIMENTO', 'TP_NACIONALIDADE', 'CO_PAIS_ORIGEM', 'CO_UF', 'TP_ESCOLA_CONCLUSAO_ENS_MEDIO']\n",
        "sensitive_attr = 'IN_DEFICIENCIA'\n",
        "data = microdados\n",
        "\n",
        "start_time = time.time()\n",
        "\n",
        "sucesso_priori_deterministic = suc_prior_deterministic(data, sensitive_attr)\n",
        "sucesso_priori_probabilistic = suc_prior_probabilistic(data, sensitive_attr)\n",
        "sucesso_post_deterministico = suc_post_deterministic(data, qid_attrs, sensitive_attr)\n",
        "sucesso_post_probabilistico = suc_post_probabilistic(data, qid_attrs, sensitive_attr)\n",
        "\n",
        "end_time = time.time()\n",
        "execution_time = end_time - start_time\n",
        "\n",
        "print(\"Sucesso determinístico a priori:\", sucesso_priori_deterministic)\n",
        "print(\"Sucesso determinístico a posteriori:\", sucesso_post_deterministico)\n",
        "print(\"Degradação determinística de privacidade:\", sucesso_post_deterministico - sucesso_priori_deterministic)\n",
        "\n",
        "print(\"Sucesso probabilístico a priori:\", sucesso_priori_probabilistic)\n",
        "print(\"Sucesso probabilístico a posteriori:\", sucesso_post_probabilistico)\n",
        "print(\"Degradação probabilística de privacidade:\", sucesso_post_probabilistico / sucesso_priori_probabilistic)\n",
        "\n",
        "print(\"Tempo de execução:\", execution_time, \"segundos\")"
      ]
    },
    {
      "cell_type": "code",
      "execution_count": null,
      "metadata": {
        "id": "kxp4zIT4QKs2"
      },
      "outputs": [],
      "source": [
        "qid_attrs = ['NU_DIA_NASCIMENTO', 'NU_MES_NASCIMENTO', 'NU_ANO_NASCIMENTO', 'TP_SEXO', 'TP_COR_RACA', 'CO_MUNICIPIO_NASCIMENTO', 'TP_NACIONALIDADE', 'CO_PAIS_ORIGEM', 'CO_IES', 'CO_UF', 'TP_ESCOLA_CONCLUSAO_ENS_MEDIO']\n",
        "sensitive_attr = 'IN_DEFICIENCIA'\n",
        "data = microdados\n",
        "\n",
        "start_time = time.time()\n",
        "\n",
        "sucesso_priori_deterministic = suc_prior_deterministic(data, sensitive_attr)\n",
        "sucesso_priori_probabilistic = suc_prior_probabilistic(data, sensitive_attr)\n",
        "sucesso_post_deterministico = suc_post_deterministic(data, qid_attrs, sensitive_attr)\n",
        "sucesso_post_probabilistico = suc_post_probabilistic(data, qid_attrs, sensitive_attr)\n",
        "\n",
        "end_time = time.time()\n",
        "execution_time = end_time - start_time\n",
        "\n",
        "print(\"Sucesso determinístico a priori:\", sucesso_priori_deterministic)\n",
        "print(\"Sucesso determinístico a posteriori:\", sucesso_post_deterministico)\n",
        "print(\"Degradação determinística de privacidade:\", sucesso_post_deterministico - sucesso_priori_deterministic)\n",
        "\n",
        "print(\"Sucesso probabilístico a priori:\", sucesso_priori_probabilistic)\n",
        "print(\"Sucesso probabilístico a posteriori:\", sucesso_post_probabilistico)\n",
        "print(\"Degradação probabilística de privacidade:\", sucesso_post_probabilistico / sucesso_priori_probabilistic)\n",
        "\n",
        "print(\"Tempo de execução:\", execution_time, \"segundos\")"
      ]
    },
    {
      "cell_type": "markdown",
      "metadata": {
        "id": "z-QS2xJDQKs2"
      },
      "source": [
        "###### Substituição de CO_CURSO por CO_IES"
      ]
    },
    {
      "cell_type": "code",
      "execution_count": null,
      "metadata": {
        "id": "cnCC-sQMQKs2"
      },
      "outputs": [],
      "source": [
        "qid_attrs = ['CO_IES']\n",
        "sensitive_attr = 'IN_DEFICIENCIA'\n",
        "data = microdados\n",
        "\n",
        "start_time = time.time()\n",
        "\n",
        "sucesso_priori_deterministic = suc_prior_deterministic(data, sensitive_attr)\n",
        "sucesso_priori_probabilistic = suc_prior_probabilistic(data, sensitive_attr)\n",
        "sucesso_post_deterministico = suc_post_deterministic(data, qid_attrs, sensitive_attr)\n",
        "sucesso_post_probabilistico = suc_post_probabilistic(data, qid_attrs, sensitive_attr)\n",
        "\n",
        "end_time = time.time()\n",
        "execution_time = end_time - start_time\n",
        "\n",
        "print(\"Sucesso determinístico a priori:\", sucesso_priori_deterministic)\n",
        "print(\"Sucesso determinístico a posteriori:\", sucesso_post_deterministico)\n",
        "print(\"Degradação determinística de privacidade:\", sucesso_post_deterministico - sucesso_priori_deterministic)\n",
        "\n",
        "print(\"Sucesso probabilístico a priori:\", sucesso_priori_probabilistic)\n",
        "print(\"Sucesso probabilístico a posteriori:\", sucesso_post_probabilistico)\n",
        "print(\"Degradação probabilística de privacidade:\", sucesso_post_probabilistico / sucesso_priori_probabilistic)\n",
        "\n",
        "print(\"Tempo de execução:\", execution_time, \"segundos\")"
      ]
    },
    {
      "cell_type": "code",
      "execution_count": null,
      "metadata": {
        "id": "rqZUz21VQKs2"
      },
      "outputs": [],
      "source": [
        "qid_attrs = ['CO_MUNICIPIO_NASCIMENTO', 'CO_IES']\n",
        "sensitive_attr = 'IN_DEFICIENCIA'\n",
        "data = microdados\n",
        "\n",
        "start_time = time.time()\n",
        "\n",
        "sucesso_priori_deterministic = suc_prior_deterministic(data, sensitive_attr)\n",
        "sucesso_priori_probabilistic = suc_prior_probabilistic(data, sensitive_attr)\n",
        "sucesso_post_deterministico = suc_post_deterministic(data, qid_attrs, sensitive_attr)\n",
        "sucesso_post_probabilistico = suc_post_probabilistic(data, qid_attrs, sensitive_attr)\n",
        "\n",
        "end_time = time.time()\n",
        "execution_time = end_time - start_time\n",
        "\n",
        "print(\"Sucesso determinístico a priori:\", sucesso_priori_deterministic)\n",
        "print(\"Sucesso determinístico a posteriori:\", sucesso_post_deterministico)\n",
        "print(\"Degradação determinística de privacidade:\", sucesso_post_deterministico - sucesso_priori_deterministic)\n",
        "\n",
        "print(\"Sucesso probabilístico a priori:\", sucesso_priori_probabilistic)\n",
        "print(\"Sucesso probabilístico a posteriori:\", sucesso_post_probabilistico)\n",
        "print(\"Degradação probabilística de privacidade:\", sucesso_post_probabilistico / sucesso_priori_probabilistic)\n",
        "\n",
        "print(\"Tempo de execução:\", execution_time, \"segundos\")"
      ]
    },
    {
      "cell_type": "code",
      "execution_count": null,
      "metadata": {
        "id": "yBDrhLvsQKs2"
      },
      "outputs": [],
      "source": [
        "qid_attrs = ['NU_DIA_NASCIMENTO', 'CO_IES']\n",
        "sensitive_attr = 'IN_DEFICIENCIA'\n",
        "data = microdados\n",
        "\n",
        "start_time = time.time()\n",
        "\n",
        "sucesso_priori_deterministic = suc_prior_deterministic(data, sensitive_attr)\n",
        "sucesso_priori_probabilistic = suc_prior_probabilistic(data, sensitive_attr)\n",
        "sucesso_post_deterministico = suc_post_deterministic(data, qid_attrs, sensitive_attr)\n",
        "sucesso_post_probabilistico = suc_post_probabilistic(data, qid_attrs, sensitive_attr)\n",
        "\n",
        "end_time = time.time()\n",
        "execution_time = end_time - start_time\n",
        "\n",
        "print(\"Sucesso determinístico a priori:\", sucesso_priori_deterministic)\n",
        "print(\"Sucesso determinístico a posteriori:\", sucesso_post_deterministico)\n",
        "print(\"Degradação determinística de privacidade:\", sucesso_post_deterministico - sucesso_priori_deterministic)\n",
        "\n",
        "print(\"Sucesso probabilístico a priori:\", sucesso_priori_probabilistic)\n",
        "print(\"Sucesso probabilístico a posteriori:\", sucesso_post_probabilistico)\n",
        "print(\"Degradação probabilística de privacidade:\", sucesso_post_probabilistico / sucesso_priori_probabilistic)\n",
        "\n",
        "print(\"Tempo de execução:\", execution_time, \"segundos\")"
      ]
    },
    {
      "cell_type": "code",
      "execution_count": null,
      "metadata": {
        "id": "77uGTpp7QKs2"
      },
      "outputs": [],
      "source": [
        "qid_attrs = ['NU_DIA_NASCIMENTO', 'NU_ANO_NASCIMENTO', 'CO_IES']\n",
        "sensitive_attr = 'IN_DEFICIENCIA'\n",
        "data = microdados\n",
        "\n",
        "start_time = time.time()\n",
        "\n",
        "sucesso_priori_deterministic = suc_prior_deterministic(data, sensitive_attr)\n",
        "sucesso_priori_probabilistic = suc_prior_probabilistic(data, sensitive_attr)\n",
        "sucesso_post_deterministico = suc_post_deterministic(data, qid_attrs, sensitive_attr)\n",
        "sucesso_post_probabilistico = suc_post_probabilistic(data, qid_attrs, sensitive_attr)\n",
        "\n",
        "end_time = time.time()\n",
        "execution_time = end_time - start_time\n",
        "\n",
        "print(\"Sucesso determinístico a priori:\", sucesso_priori_deterministic)\n",
        "print(\"Sucesso determinístico a posteriori:\", sucesso_post_deterministico)\n",
        "print(\"Degradação determinística de privacidade:\", sucesso_post_deterministico - sucesso_priori_deterministic)\n",
        "\n",
        "print(\"Sucesso probabilístico a priori:\", sucesso_priori_probabilistic)\n",
        "print(\"Sucesso probabilístico a posteriori:\", sucesso_post_probabilistico)\n",
        "print(\"Degradação probabilística de privacidade:\", sucesso_post_probabilistico / sucesso_priori_probabilistic)\n",
        "\n",
        "print(\"Tempo de execução:\", execution_time, \"segundos\")"
      ]
    },
    {
      "cell_type": "code",
      "execution_count": null,
      "metadata": {
        "id": "Eo2HblvWQKs2"
      },
      "outputs": [],
      "source": [
        "qid_attrs = ['NU_DIA_NASCIMENTO', 'NU_MES_NASCIMENTO', 'NU_ANO_NASCIMENTO', 'CO_IES']\n",
        "sensitive_attr = 'IN_DEFICIENCIA'\n",
        "data = microdados\n",
        "\n",
        "start_time = time.time()\n",
        "\n",
        "sucesso_priori_deterministic = suc_prior_deterministic(data, sensitive_attr)\n",
        "sucesso_priori_probabilistic = suc_prior_probabilistic(data, sensitive_attr)\n",
        "sucesso_post_deterministico = suc_post_deterministic(data, qid_attrs, sensitive_attr)\n",
        "sucesso_post_probabilistico = suc_post_probabilistic(data, qid_attrs, sensitive_attr)\n",
        "\n",
        "end_time = time.time()\n",
        "execution_time = end_time - start_time\n",
        "\n",
        "print(\"Sucesso determinístico a priori:\", sucesso_priori_deterministic)\n",
        "print(\"Sucesso determinístico a posteriori:\", sucesso_post_deterministico)\n",
        "print(\"Degradação determinística de privacidade:\", sucesso_post_deterministico - sucesso_priori_deterministic)\n",
        "\n",
        "print(\"Sucesso probabilístico a priori:\", sucesso_priori_probabilistic)\n",
        "print(\"Sucesso probabilístico a posteriori:\", sucesso_post_probabilistico)\n",
        "print(\"Degradação probabilística de privacidade:\", sucesso_post_probabilistico / sucesso_priori_probabilistic)\n",
        "\n",
        "print(\"Tempo de execução:\", execution_time, \"segundos\")"
      ]
    },
    {
      "cell_type": "code",
      "execution_count": null,
      "metadata": {
        "id": "ce_CvH6iQKs3"
      },
      "outputs": [],
      "source": [
        "qid_attrs = ['NU_DIA_NASCIMENTO', 'NU_MES_NASCIMENTO', 'NU_ANO_NASCIMENTO', 'CO_MUNICIPIO_NASCIMENTO', 'CO_IES']\n",
        "sensitive_attr = 'IN_DEFICIENCIA'\n",
        "data = microdados\n",
        "\n",
        "start_time = time.time()\n",
        "\n",
        "sucesso_priori_deterministic = suc_prior_deterministic(data, sensitive_attr)\n",
        "sucesso_priori_probabilistic = suc_prior_probabilistic(data, sensitive_attr)\n",
        "sucesso_post_deterministico = suc_post_deterministic(data, qid_attrs, sensitive_attr)\n",
        "sucesso_post_probabilistico = suc_post_probabilistic(data, qid_attrs, sensitive_attr)\n",
        "\n",
        "end_time = time.time()\n",
        "execution_time = end_time - start_time\n",
        "\n",
        "print(\"Sucesso determinístico a priori:\", sucesso_priori_deterministic)\n",
        "print(\"Sucesso determinístico a posteriori:\", sucesso_post_deterministico)\n",
        "print(\"Degradação determinística de privacidade:\", sucesso_post_deterministico - sucesso_priori_deterministic)\n",
        "\n",
        "print(\"Sucesso probabilístico a priori:\", sucesso_priori_probabilistic)\n",
        "print(\"Sucesso probabilístico a posteriori:\", sucesso_post_probabilistico)\n",
        "print(\"Degradação probabilística de privacidade:\", sucesso_post_probabilistico / sucesso_priori_probabilistic)\n",
        "\n",
        "print(\"Tempo de execução:\", execution_time, \"segundos\")"
      ]
    },
    {
      "cell_type": "code",
      "execution_count": null,
      "metadata": {
        "id": "O_yfs8_WQKs3"
      },
      "outputs": [],
      "source": [
        "qid_attrs = ['NU_DIA_NASCIMENTO', 'NU_MES_NASCIMENTO', 'NU_ANO_NASCIMENTO', 'TP_COR_RACA', 'CO_MUNICIPIO_NASCIMENTO', 'CO_IES']\n",
        "sensitive_attr = 'IN_DEFICIENCIA'\n",
        "data = microdados\n",
        "\n",
        "start_time = time.time()\n",
        "\n",
        "sucesso_priori_deterministic = suc_prior_deterministic(data, sensitive_attr)\n",
        "sucesso_priori_probabilistic = suc_prior_probabilistic(data, sensitive_attr)\n",
        "sucesso_post_deterministico = suc_post_deterministic(data, qid_attrs, sensitive_attr)\n",
        "sucesso_post_probabilistico = suc_post_probabilistic(data, qid_attrs, sensitive_attr)\n",
        "\n",
        "end_time = time.time()\n",
        "execution_time = end_time - start_time\n",
        "\n",
        "print(\"Sucesso determinístico a priori:\", sucesso_priori_deterministic)\n",
        "print(\"Sucesso determinístico a posteriori:\", sucesso_post_deterministico)\n",
        "print(\"Degradação determinística de privacidade:\", sucesso_post_deterministico - sucesso_priori_deterministic)\n",
        "\n",
        "print(\"Sucesso probabilístico a priori:\", sucesso_priori_probabilistic)\n",
        "print(\"Sucesso probabilístico a posteriori:\", sucesso_post_probabilistico)\n",
        "print(\"Degradação probabilística de privacidade:\", sucesso_post_probabilistico / sucesso_priori_probabilistic)\n",
        "\n",
        "print(\"Tempo de execução:\", execution_time, \"segundos\")"
      ]
    },
    {
      "cell_type": "code",
      "execution_count": null,
      "metadata": {
        "id": "FQl9xMm1QKs3"
      },
      "outputs": [],
      "source": [
        "qid_attrs = ['NU_DIA_NASCIMENTO', 'NU_MES_NASCIMENTO', 'NU_ANO_NASCIMENTO', 'TP_SEXO', 'TP_COR_RACA', 'CO_MUNICIPIO_NASCIMENTO', 'CO_IES']\n",
        "sensitive_attr = 'IN_DEFICIENCIA'\n",
        "data = microdados\n",
        "\n",
        "start_time = time.time()\n",
        "\n",
        "sucesso_priori_deterministic = suc_prior_deterministic(data, sensitive_attr)\n",
        "sucesso_priori_probabilistic = suc_prior_probabilistic(data, sensitive_attr)\n",
        "sucesso_post_deterministico = suc_post_deterministic(data, qid_attrs, sensitive_attr)\n",
        "sucesso_post_probabilistico = suc_post_probabilistic(data, qid_attrs, sensitive_attr)\n",
        "\n",
        "end_time = time.time()\n",
        "execution_time = end_time - start_time\n",
        "\n",
        "print(\"Sucesso determinístico a priori:\", sucesso_priori_deterministic)\n",
        "print(\"Sucesso determinístico a posteriori:\", sucesso_post_deterministico)\n",
        "print(\"Degradação determinística de privacidade:\", sucesso_post_deterministico - sucesso_priori_deterministic)\n",
        "\n",
        "print(\"Sucesso probabilístico a priori:\", sucesso_priori_probabilistic)\n",
        "print(\"Sucesso probabilístico a posteriori:\", sucesso_post_probabilistico)\n",
        "print(\"Degradação probabilística de privacidade:\", sucesso_post_probabilistico / sucesso_priori_probabilistic)\n",
        "\n",
        "print(\"Tempo de execução:\", execution_time, \"segundos\")"
      ]
    },
    {
      "cell_type": "code",
      "execution_count": null,
      "metadata": {
        "id": "HNEZTC_FQKs3"
      },
      "outputs": [],
      "source": [
        "qid_attrs = ['NU_DIA_NASCIMENTO', 'NU_MES_NASCIMENTO', 'NU_ANO_NASCIMENTO', 'TP_SEXO', 'TP_COR_RACA', 'CO_MUNICIPIO_NASCIMENTO', 'CO_IES', 'TP_ESCOLA_CONCLUSAO_ENS_MEDIO']\n",
        "sensitive_attr = 'IN_DEFICIENCIA'\n",
        "data = microdados\n",
        "\n",
        "start_time = time.time()\n",
        "\n",
        "sucesso_priori_deterministic = suc_prior_deterministic(data, sensitive_attr)\n",
        "sucesso_priori_probabilistic = suc_prior_probabilistic(data, sensitive_attr)\n",
        "sucesso_post_deterministico = suc_post_deterministic(data, qid_attrs, sensitive_attr)\n",
        "sucesso_post_probabilistico = suc_post_probabilistic(data, qid_attrs, sensitive_attr)\n",
        "\n",
        "end_time = time.time()\n",
        "execution_time = end_time - start_time\n",
        "\n",
        "print(\"Sucesso determinístico a priori:\", sucesso_priori_deterministic)\n",
        "print(\"Sucesso determinístico a posteriori:\", sucesso_post_deterministico)\n",
        "print(\"Degradação determinística de privacidade:\", sucesso_post_deterministico - sucesso_priori_deterministic)\n",
        "\n",
        "print(\"Sucesso probabilístico a priori:\", sucesso_priori_probabilistic)\n",
        "print(\"Sucesso probabilístico a posteriori:\", sucesso_post_probabilistico)\n",
        "print(\"Degradação probabilística de privacidade:\", sucesso_post_probabilistico / sucesso_priori_probabilistic)\n",
        "\n",
        "print(\"Tempo de execução:\", execution_time, \"segundos\")"
      ]
    },
    {
      "cell_type": "code",
      "execution_count": null,
      "metadata": {
        "id": "-5o5wgocQKs3"
      },
      "outputs": [],
      "source": [
        "qid_attrs = ['NU_DIA_NASCIMENTO', 'NU_MES_NASCIMENTO', 'NU_ANO_NASCIMENTO', 'TP_SEXO', 'TP_COR_RACA', 'CO_MUNICIPIO_NASCIMENTO', 'TP_NACIONALIDADE', 'CO_IES', 'TP_ESCOLA_CONCLUSAO_ENS_MEDIO']\n",
        "sensitive_attr = 'IN_DEFICIENCIA'\n",
        "data = microdados\n",
        "\n",
        "start_time = time.time()\n",
        "\n",
        "sucesso_priori_deterministic = suc_prior_deterministic(data, sensitive_attr)\n",
        "sucesso_priori_probabilistic = suc_prior_probabilistic(data, sensitive_attr)\n",
        "sucesso_post_deterministico = suc_post_deterministic(data, qid_attrs, sensitive_attr)\n",
        "sucesso_post_probabilistico = suc_post_probabilistic(data, qid_attrs, sensitive_attr)\n",
        "\n",
        "end_time = time.time()\n",
        "execution_time = end_time - start_time\n",
        "\n",
        "print(\"Sucesso determinístico a priori:\", sucesso_priori_deterministic)\n",
        "print(\"Sucesso determinístico a posteriori:\", sucesso_post_deterministico)\n",
        "print(\"Degradação determinística de privacidade:\", sucesso_post_deterministico - sucesso_priori_deterministic)\n",
        "\n",
        "print(\"Sucesso probabilístico a priori:\", sucesso_priori_probabilistic)\n",
        "print(\"Sucesso probabilístico a posteriori:\", sucesso_post_probabilistico)\n",
        "print(\"Degradação probabilística de privacidade:\", sucesso_post_probabilistico / sucesso_priori_probabilistic)\n",
        "\n",
        "print(\"Tempo de execução:\", execution_time, \"segundos\")"
      ]
    },
    {
      "cell_type": "code",
      "execution_count": null,
      "metadata": {
        "id": "joM-9w-TQKs3"
      },
      "outputs": [],
      "source": [
        "qid_attrs = ['NU_DIA_NASCIMENTO', 'NU_MES_NASCIMENTO', 'NU_ANO_NASCIMENTO', 'TP_SEXO', 'TP_COR_RACA', 'CO_MUNICIPIO_NASCIMENTO', 'TP_NACIONALIDADE', 'CO_PAIS_ORIGEM', 'CO_IES', 'TP_ESCOLA_CONCLUSAO_ENS_MEDIO']\n",
        "sensitive_attr = 'IN_DEFICIENCIA'\n",
        "data = microdados\n",
        "\n",
        "start_time = time.time()\n",
        "\n",
        "sucesso_priori_deterministic = suc_prior_deterministic(data, sensitive_attr)\n",
        "sucesso_priori_probabilistic = suc_prior_probabilistic(data, sensitive_attr)\n",
        "sucesso_post_deterministico = suc_post_deterministic(data, qid_attrs, sensitive_attr)\n",
        "sucesso_post_probabilistico = suc_post_probabilistic(data, qid_attrs, sensitive_attr)\n",
        "\n",
        "end_time = time.time()\n",
        "execution_time = end_time - start_time\n",
        "\n",
        "print(\"Sucesso determinístico a priori:\", sucesso_priori_deterministic)\n",
        "print(\"Sucesso determinístico a posteriori:\", sucesso_post_deterministico)\n",
        "print(\"Degradação determinística de privacidade:\", sucesso_post_deterministico - sucesso_priori_deterministic)\n",
        "\n",
        "print(\"Sucesso probabilístico a priori:\", sucesso_priori_probabilistic)\n",
        "print(\"Sucesso probabilístico a posteriori:\", sucesso_post_probabilistico)\n",
        "print(\"Degradação probabilística de privacidade:\", sucesso_post_probabilistico / sucesso_priori_probabilistic)\n",
        "\n",
        "print(\"Tempo de execução:\", execution_time, \"segundos\")"
      ]
    },
    {
      "cell_type": "code",
      "execution_count": null,
      "metadata": {
        "id": "hS6e4cOQQKs3"
      },
      "outputs": [],
      "source": [
        "qid_attrs = ['NU_DIA_NASCIMENTO', 'NU_MES_NASCIMENTO', 'NU_ANO_NASCIMENTO', 'TP_SEXO', 'TP_COR_RACA', 'CO_MUNICIPIO_NASCIMENTO', 'TP_NACIONALIDADE', 'CO_PAIS_ORIGEM', 'CO_IES', 'TP_ESCOLA_CONCLUSAO_ENS_MEDIO']\n",
        "sensitive_attr = 'IN_DEFICIENCIA'\n",
        "data = microdados\n",
        "\n",
        "start_time = time.time()\n",
        "\n",
        "sucesso_priori_deterministic = suc_prior_deterministic(data, sensitive_attr)\n",
        "sucesso_priori_probabilistic = suc_prior_probabilistic(data, sensitive_attr)\n",
        "sucesso_post_deterministico = suc_post_deterministic(data, qid_attrs, sensitive_attr)\n",
        "sucesso_post_probabilistico = suc_post_probabilistic(data, qid_attrs, sensitive_attr)\n",
        "\n",
        "end_time = time.time()\n",
        "execution_time = end_time - start_time\n",
        "\n",
        "print(\"Sucesso determinístico a priori:\", sucesso_priori_deterministic)\n",
        "print(\"Sucesso determinístico a posteriori:\", sucesso_post_deterministico)\n",
        "print(\"Degradação determinística de privacidade:\", sucesso_post_deterministico - sucesso_priori_deterministic)\n",
        "\n",
        "print(\"Sucesso probabilístico a priori:\", sucesso_priori_probabilistic)\n",
        "print(\"Sucesso probabilístico a posteriori:\", sucesso_post_probabilistico)\n",
        "print(\"Degradação probabilística de privacidade:\", sucesso_post_probabilistico / sucesso_priori_probabilistic)\n",
        "\n",
        "print(\"Tempo de execução:\", execution_time, \"segundos\")"
      ]
    },
    {
      "cell_type": "markdown",
      "metadata": {
        "id": "_624uFG0QKs3"
      },
      "source": [
        "###### Substituição de CO_CURSO por TP_CATEGORIA_ADMINISTRATIVA"
      ]
    },
    {
      "cell_type": "code",
      "execution_count": null,
      "metadata": {
        "id": "G_i9bHYZQKs3"
      },
      "outputs": [],
      "source": [
        "qid_attrs = ['TP_CATEGORIA_ADMINISTRATIVA']\n",
        "sensitive_attr = 'IN_DEFICIENCIA'\n",
        "data = microdados\n",
        "\n",
        "start_time = time.time()\n",
        "\n",
        "sucesso_priori_deterministic = suc_prior_deterministic(data, sensitive_attr)\n",
        "sucesso_priori_probabilistic = suc_prior_probabilistic(data, sensitive_attr)\n",
        "sucesso_post_deterministico = suc_post_deterministic(data, qid_attrs, sensitive_attr)\n",
        "sucesso_post_probabilistico = suc_post_probabilistic(data, qid_attrs, sensitive_attr)\n",
        "\n",
        "end_time = time.time()\n",
        "execution_time = end_time - start_time\n",
        "\n",
        "print(\"Sucesso determinístico a priori:\", sucesso_priori_deterministic)\n",
        "print(\"Sucesso determinístico a posteriori:\", sucesso_post_deterministico)\n",
        "print(\"Degradação determinística de privacidade:\", sucesso_post_deterministico - sucesso_priori_deterministic)\n",
        "\n",
        "print(\"Sucesso probabilístico a priori:\", sucesso_priori_probabilistic)\n",
        "print(\"Sucesso probabilístico a posteriori:\", sucesso_post_probabilistico)\n",
        "print(\"Degradação probabilística de privacidade:\", sucesso_post_probabilistico / sucesso_priori_probabilistic)\n",
        "\n",
        "print(\"Tempo de execução:\", execution_time, \"segundos\")"
      ]
    },
    {
      "cell_type": "code",
      "execution_count": null,
      "metadata": {
        "id": "5HE5VQI9QKs4"
      },
      "outputs": [],
      "source": [
        "qid_attrs = ['CO_MUNICIPIO_NASCIMENTO', 'TP_CATEGORIA_ADMINISTRATIVA']\n",
        "sensitive_attr = 'IN_DEFICIENCIA'\n",
        "data = microdados\n",
        "\n",
        "start_time = time.time()\n",
        "\n",
        "sucesso_priori_deterministic = suc_prior_deterministic(data, sensitive_attr)\n",
        "sucesso_priori_probabilistic = suc_prior_probabilistic(data, sensitive_attr)\n",
        "sucesso_post_deterministico = suc_post_deterministic(data, qid_attrs, sensitive_attr)\n",
        "sucesso_post_probabilistico = suc_post_probabilistic(data, qid_attrs, sensitive_attr)\n",
        "\n",
        "end_time = time.time()\n",
        "execution_time = end_time - start_time\n",
        "\n",
        "print(\"Sucesso determinístico a priori:\", sucesso_priori_deterministic)\n",
        "print(\"Sucesso determinístico a posteriori:\", sucesso_post_deterministico)\n",
        "print(\"Degradação determinística de privacidade:\", sucesso_post_deterministico - sucesso_priori_deterministic)\n",
        "\n",
        "print(\"Sucesso probabilístico a priori:\", sucesso_priori_probabilistic)\n",
        "print(\"Sucesso probabilístico a posteriori:\", sucesso_post_probabilistico)\n",
        "print(\"Degradação probabilística de privacidade:\", sucesso_post_probabilistico / sucesso_priori_probabilistic)\n",
        "\n",
        "print(\"Tempo de execução:\", execution_time, \"segundos\")"
      ]
    },
    {
      "cell_type": "code",
      "execution_count": null,
      "metadata": {
        "id": "Ty87Ko83QKs4"
      },
      "outputs": [],
      "source": [
        "qid_attrs = ['NU_DIA_NASCIMENTO', 'TP_CATEGORIA_ADMINISTRATIVA']\n",
        "sensitive_attr = 'IN_DEFICIENCIA'\n",
        "data = microdados\n",
        "\n",
        "start_time = time.time()\n",
        "\n",
        "sucesso_priori_deterministic = suc_prior_deterministic(data, sensitive_attr)\n",
        "sucesso_priori_probabilistic = suc_prior_probabilistic(data, sensitive_attr)\n",
        "sucesso_post_deterministico = suc_post_deterministic(data, qid_attrs, sensitive_attr)\n",
        "sucesso_post_probabilistico = suc_post_probabilistic(data, qid_attrs, sensitive_attr)\n",
        "\n",
        "end_time = time.time()\n",
        "execution_time = end_time - start_time\n",
        "\n",
        "print(\"Sucesso determinístico a priori:\", sucesso_priori_deterministic)\n",
        "print(\"Sucesso determinístico a posteriori:\", sucesso_post_deterministico)\n",
        "print(\"Degradação determinística de privacidade:\", sucesso_post_deterministico - sucesso_priori_deterministic)\n",
        "\n",
        "print(\"Sucesso probabilístico a priori:\", sucesso_priori_probabilistic)\n",
        "print(\"Sucesso probabilístico a posteriori:\", sucesso_post_probabilistico)\n",
        "print(\"Degradação probabilística de privacidade:\", sucesso_post_probabilistico / sucesso_priori_probabilistic)\n",
        "\n",
        "print(\"Tempo de execução:\", execution_time, \"segundos\")"
      ]
    },
    {
      "cell_type": "code",
      "execution_count": null,
      "metadata": {
        "id": "djKUHKEyQKs4"
      },
      "outputs": [],
      "source": [
        "qid_attrs = ['NU_DIA_NASCIMENTO', 'NU_ANO_NASCIMENTO', 'TP_CATEGORIA_ADMINISTRATIVA']\n",
        "sensitive_attr = 'IN_DEFICIENCIA'\n",
        "data = microdados\n",
        "\n",
        "start_time = time.time()\n",
        "\n",
        "sucesso_priori_deterministic = suc_prior_deterministic(data, sensitive_attr)\n",
        "sucesso_priori_probabilistic = suc_prior_probabilistic(data, sensitive_attr)\n",
        "sucesso_post_deterministico = suc_post_deterministic(data, qid_attrs, sensitive_attr)\n",
        "sucesso_post_probabilistico = suc_post_probabilistic(data, qid_attrs, sensitive_attr)\n",
        "\n",
        "end_time = time.time()\n",
        "execution_time = end_time - start_time\n",
        "\n",
        "print(\"Sucesso determinístico a priori:\", sucesso_priori_deterministic)\n",
        "print(\"Sucesso determinístico a posteriori:\", sucesso_post_deterministico)\n",
        "print(\"Degradação determinística de privacidade:\", sucesso_post_deterministico - sucesso_priori_deterministic)\n",
        "\n",
        "print(\"Sucesso probabilístico a priori:\", sucesso_priori_probabilistic)\n",
        "print(\"Sucesso probabilístico a posteriori:\", sucesso_post_probabilistico)\n",
        "print(\"Degradação probabilística de privacidade:\", sucesso_post_probabilistico / sucesso_priori_probabilistic)\n",
        "\n",
        "print(\"Tempo de execução:\", execution_time, \"segundos\")"
      ]
    },
    {
      "cell_type": "code",
      "execution_count": null,
      "metadata": {
        "id": "Hj-93ZD0QKs4"
      },
      "outputs": [],
      "source": [
        "qid_attrs = ['NU_DIA_NASCIMENTO', 'NU_MES_NASCIMENTO', 'NU_ANO_NASCIMENTO', 'TP_CATEGORIA_ADMINISTRATIVA']\n",
        "sensitive_attr = 'IN_DEFICIENCIA'\n",
        "data = microdados\n",
        "\n",
        "start_time = time.time()\n",
        "\n",
        "sucesso_priori_deterministic = suc_prior_deterministic(data, sensitive_attr)\n",
        "sucesso_priori_probabilistic = suc_prior_probabilistic(data, sensitive_attr)\n",
        "sucesso_post_deterministico = suc_post_deterministic(data, qid_attrs, sensitive_attr)\n",
        "sucesso_post_probabilistico = suc_post_probabilistic(data, qid_attrs, sensitive_attr)\n",
        "\n",
        "end_time = time.time()\n",
        "execution_time = end_time - start_time\n",
        "\n",
        "print(\"Sucesso determinístico a priori:\", sucesso_priori_deterministic)\n",
        "print(\"Sucesso determinístico a posteriori:\", sucesso_post_deterministico)\n",
        "print(\"Degradação determinística de privacidade:\", sucesso_post_deterministico - sucesso_priori_deterministic)\n",
        "\n",
        "print(\"Sucesso probabilístico a priori:\", sucesso_priori_probabilistic)\n",
        "print(\"Sucesso probabilístico a posteriori:\", sucesso_post_probabilistico)\n",
        "print(\"Degradação probabilística de privacidade:\", sucesso_post_probabilistico / sucesso_priori_probabilistic)\n",
        "\n",
        "print(\"Tempo de execução:\", execution_time, \"segundos\")"
      ]
    },
    {
      "cell_type": "code",
      "execution_count": null,
      "metadata": {
        "id": "TJxyduS-QKs4"
      },
      "outputs": [],
      "source": [
        "qid_attrs = ['NU_DIA_NASCIMENTO', 'NU_MES_NASCIMENTO', 'NU_ANO_NASCIMENTO', 'CO_MUNICIPIO_NASCIMENTO', 'TP_CATEGORIA_ADMINISTRATIVA']\n",
        "sensitive_attr = 'IN_DEFICIENCIA'\n",
        "data = microdados\n",
        "\n",
        "start_time = time.time()\n",
        "\n",
        "sucesso_priori_deterministic = suc_prior_deterministic(data, sensitive_attr)\n",
        "sucesso_priori_probabilistic = suc_prior_probabilistic(data, sensitive_attr)\n",
        "sucesso_post_deterministico = suc_post_deterministic(data, qid_attrs, sensitive_attr)\n",
        "sucesso_post_probabilistico = suc_post_probabilistic(data, qid_attrs, sensitive_attr)\n",
        "\n",
        "end_time = time.time()\n",
        "execution_time = end_time - start_time\n",
        "\n",
        "print(\"Sucesso determinístico a priori:\", sucesso_priori_deterministic)\n",
        "print(\"Sucesso determinístico a posteriori:\", sucesso_post_deterministico)\n",
        "print(\"Degradação determinística de privacidade:\", sucesso_post_deterministico - sucesso_priori_deterministic)\n",
        "\n",
        "print(\"Sucesso probabilístico a priori:\", sucesso_priori_probabilistic)\n",
        "print(\"Sucesso probabilístico a posteriori:\", sucesso_post_probabilistico)\n",
        "print(\"Degradação probabilística de privacidade:\", sucesso_post_probabilistico / sucesso_priori_probabilistic)\n",
        "\n",
        "print(\"Tempo de execução:\", execution_time, \"segundos\")"
      ]
    },
    {
      "cell_type": "code",
      "execution_count": null,
      "metadata": {
        "id": "bF3m0vYRQKs4"
      },
      "outputs": [],
      "source": [
        "qid_attrs = ['NU_DIA_NASCIMENTO', 'NU_MES_NASCIMENTO', 'NU_ANO_NASCIMENTO', 'TP_COR_RACA', 'CO_MUNICIPIO_NASCIMENTO', 'TP_CATEGORIA_ADMINISTRATIVA']\n",
        "sensitive_attr = 'IN_DEFICIENCIA'\n",
        "data = microdados\n",
        "\n",
        "start_time = time.time()\n",
        "\n",
        "sucesso_priori_deterministic = suc_prior_deterministic(data, sensitive_attr)\n",
        "sucesso_priori_probabilistic = suc_prior_probabilistic(data, sensitive_attr)\n",
        "sucesso_post_deterministico = suc_post_deterministic(data, qid_attrs, sensitive_attr)\n",
        "sucesso_post_probabilistico = suc_post_probabilistic(data, qid_attrs, sensitive_attr)\n",
        "\n",
        "end_time = time.time()\n",
        "execution_time = end_time - start_time\n",
        "\n",
        "print(\"Sucesso determinístico a priori:\", sucesso_priori_deterministic)\n",
        "print(\"Sucesso determinístico a posteriori:\", sucesso_post_deterministico)\n",
        "print(\"Degradação determinística de privacidade:\", sucesso_post_deterministico - sucesso_priori_deterministic)\n",
        "\n",
        "print(\"Sucesso probabilístico a priori:\", sucesso_priori_probabilistic)\n",
        "print(\"Sucesso probabilístico a posteriori:\", sucesso_post_probabilistico)\n",
        "print(\"Degradação probabilística de privacidade:\", sucesso_post_probabilistico / sucesso_priori_probabilistic)\n",
        "\n",
        "print(\"Tempo de execução:\", execution_time, \"segundos\")"
      ]
    },
    {
      "cell_type": "code",
      "execution_count": null,
      "metadata": {
        "id": "TVGV8kLgQKs4"
      },
      "outputs": [],
      "source": [
        "qid_attrs = ['NU_DIA_NASCIMENTO', 'NU_MES_NASCIMENTO', 'NU_ANO_NASCIMENTO', 'TP_SEXO', 'TP_COR_RACA', 'CO_MUNICIPIO_NASCIMENTO', 'TP_CATEGORIA_ADMINISTRATIVA']\n",
        "sensitive_attr = 'IN_DEFICIENCIA'\n",
        "data = microdados\n",
        "\n",
        "start_time = time.time()\n",
        "\n",
        "sucesso_priori_deterministic = suc_prior_deterministic(data, sensitive_attr)\n",
        "sucesso_priori_probabilistic = suc_prior_probabilistic(data, sensitive_attr)\n",
        "sucesso_post_deterministico = suc_post_deterministic(data, qid_attrs, sensitive_attr)\n",
        "sucesso_post_probabilistico = suc_post_probabilistic(data, qid_attrs, sensitive_attr)\n",
        "\n",
        "end_time = time.time()\n",
        "execution_time = end_time - start_time\n",
        "\n",
        "print(\"Sucesso determinístico a priori:\", sucesso_priori_deterministic)\n",
        "print(\"Sucesso determinístico a posteriori:\", sucesso_post_deterministico)\n",
        "print(\"Degradação determinística de privacidade:\", sucesso_post_deterministico - sucesso_priori_deterministic)\n",
        "\n",
        "print(\"Sucesso probabilístico a priori:\", sucesso_priori_probabilistic)\n",
        "print(\"Sucesso probabilístico a posteriori:\", sucesso_post_probabilistico)\n",
        "print(\"Degradação probabilística de privacidade:\", sucesso_post_probabilistico / sucesso_priori_probabilistic)\n",
        "\n",
        "print(\"Tempo de execução:\", execution_time, \"segundos\")"
      ]
    },
    {
      "cell_type": "code",
      "execution_count": null,
      "metadata": {
        "id": "7Yc0fxwJQKs4"
      },
      "outputs": [],
      "source": [
        "qid_attrs = ['NU_DIA_NASCIMENTO', 'NU_MES_NASCIMENTO', 'NU_ANO_NASCIMENTO', 'TP_SEXO', 'TP_COR_RACA', 'CO_MUNICIPIO_NASCIMENTO', 'TP_CATEGORIA_ADMINISTRATIVA', 'TP_ESCOLA_CONCLUSAO_ENS_MEDIO']\n",
        "sensitive_attr = 'IN_DEFICIENCIA'\n",
        "data = microdados\n",
        "\n",
        "start_time = time.time()\n",
        "\n",
        "sucesso_priori_deterministic = suc_prior_deterministic(data, sensitive_attr)\n",
        "sucesso_priori_probabilistic = suc_prior_probabilistic(data, sensitive_attr)\n",
        "sucesso_post_deterministico = suc_post_deterministic(data, qid_attrs, sensitive_attr)\n",
        "sucesso_post_probabilistico = suc_post_probabilistic(data, qid_attrs, sensitive_attr)\n",
        "\n",
        "end_time = time.time()\n",
        "execution_time = end_time - start_time\n",
        "\n",
        "print(\"Sucesso determinístico a priori:\", sucesso_priori_deterministic)\n",
        "print(\"Sucesso determinístico a posteriori:\", sucesso_post_deterministico)\n",
        "print(\"Degradação determinística de privacidade:\", sucesso_post_deterministico - sucesso_priori_deterministic)\n",
        "\n",
        "print(\"Sucesso probabilístico a priori:\", sucesso_priori_probabilistic)\n",
        "print(\"Sucesso probabilístico a posteriori:\", sucesso_post_probabilistico)\n",
        "print(\"Degradação probabilística de privacidade:\", sucesso_post_probabilistico / sucesso_priori_probabilistic)\n",
        "\n",
        "print(\"Tempo de execução:\", execution_time, \"segundos\")"
      ]
    },
    {
      "cell_type": "code",
      "execution_count": null,
      "metadata": {
        "colab": {
          "background_save": true
        },
        "id": "DyF1LxU1QKs4"
      },
      "outputs": [],
      "source": [
        "qid_attrs = ['NU_DIA_NASCIMENTO', 'NU_MES_NASCIMENTO', 'NU_ANO_NASCIMENTO', 'TP_SEXO', 'TP_COR_RACA', 'CO_MUNICIPIO_NASCIMENTO', 'TP_NACIONALIDADE', 'TP_CATEGORIA_ADMINISTRATIVA', 'TP_ESCOLA_CONCLUSAO_ENS_MEDIO']\n",
        "sensitive_attr = 'IN_DEFICIENCIA'\n",
        "data = microdados\n",
        "\n",
        "start_time = time.time()\n",
        "\n",
        "sucesso_priori_deterministic = suc_prior_deterministic(data, sensitive_attr)\n",
        "sucesso_priori_probabilistic = suc_prior_probabilistic(data, sensitive_attr)\n",
        "sucesso_post_deterministico = suc_post_deterministic(data, qid_attrs, sensitive_attr)\n",
        "sucesso_post_probabilistico = suc_post_probabilistic(data, qid_attrs, sensitive_attr)\n",
        "\n",
        "end_time = time.time()\n",
        "execution_time = end_time - start_time\n",
        "\n",
        "print(\"Sucesso determinístico a priori:\", sucesso_priori_deterministic)\n",
        "print(\"Sucesso determinístico a posteriori:\", sucesso_post_deterministico)\n",
        "print(\"Degradação determinística de privacidade:\", sucesso_post_deterministico - sucesso_priori_deterministic)\n",
        "\n",
        "print(\"Sucesso probabilístico a priori:\", sucesso_priori_probabilistic)\n",
        "print(\"Sucesso probabilístico a posteriori:\", sucesso_post_probabilistico)\n",
        "print(\"Degradação probabilística de privacidade:\", sucesso_post_probabilistico / sucesso_priori_probabilistic)\n",
        "\n",
        "print(\"Tempo de execução:\", execution_time, \"segundos\")"
      ]
    },
    {
      "cell_type": "code",
      "execution_count": null,
      "metadata": {
        "id": "tOequS57QKs5"
      },
      "outputs": [],
      "source": [
        "qid_attrs = ['NU_DIA_NASCIMENTO', 'NU_MES_NASCIMENTO', 'NU_ANO_NASCIMENTO', 'TP_SEXO', 'TP_COR_RACA', 'CO_MUNICIPIO_NASCIMENTO', 'TP_NACIONALIDADE', 'CO_PAIS_ORIGEM', 'TP_CATEGORIA_ADMINISTRATIVA', 'TP_ESCOLA_CONCLUSAO_ENS_MEDIO']\n",
        "sensitive_attr = 'IN_DEFICIENCIA'\n",
        "data = microdados\n",
        "\n",
        "start_time = time.time()\n",
        "\n",
        "sucesso_priori_deterministic = suc_prior_deterministic(data, sensitive_attr)\n",
        "sucesso_priori_probabilistic = suc_prior_probabilistic(data, sensitive_attr)\n",
        "sucesso_post_deterministico = suc_post_deterministic(data, qid_attrs, sensitive_attr)\n",
        "sucesso_post_probabilistico = suc_post_probabilistic(data, qid_attrs, sensitive_attr)\n",
        "\n",
        "end_time = time.time()\n",
        "execution_time = end_time - start_time\n",
        "\n",
        "print(\"Sucesso determinístico a priori:\", sucesso_priori_deterministic)\n",
        "print(\"Sucesso determinístico a posteriori:\", sucesso_post_deterministico)\n",
        "print(\"Degradação determinística de privacidade:\", sucesso_post_deterministico - sucesso_priori_deterministic)\n",
        "\n",
        "print(\"Sucesso probabilístico a priori:\", sucesso_priori_probabilistic)\n",
        "print(\"Sucesso probabilístico a posteriori:\", sucesso_post_probabilistico)\n",
        "print(\"Degradação probabilística de privacidade:\", sucesso_post_probabilistico / sucesso_priori_probabilistic)\n",
        "\n",
        "print(\"Tempo de execução:\", execution_time, \"segundos\")"
      ]
    },
    {
      "cell_type": "code",
      "execution_count": null,
      "metadata": {
        "id": "zO6BEUsvQKs5"
      },
      "outputs": [],
      "source": [
        "qid_attrs = ['NU_DIA_NASCIMENTO', 'NU_MES_NASCIMENTO', 'NU_ANO_NASCIMENTO', 'TP_SEXO', 'TP_COR_RACA', 'CO_MUNICIPIO_NASCIMENTO', 'TP_NACIONALIDADE', 'CO_PAIS_ORIGEM', 'CO_IES', 'TP_ESCOLA_CONCLUSAO_ENS_MEDIO', 'TP_CATEGORIA_ADMINISTRATIVA']\n",
        "sensitive_attr = 'IN_DEFICIENCIA'\n",
        "data = microdados\n",
        "\n",
        "start_time = time.time()\n",
        "\n",
        "sucesso_priori_deterministic = suc_prior_deterministic(data, sensitive_attr)\n",
        "sucesso_priori_probabilistic = suc_prior_probabilistic(data, sensitive_attr)\n",
        "sucesso_post_deterministico = suc_post_deterministic(data, qid_attrs, sensitive_attr)\n",
        "sucesso_post_probabilistico = suc_post_probabilistic(data, qid_attrs, sensitive_attr)\n",
        "\n",
        "end_time = time.time()\n",
        "execution_time = end_time - start_time\n",
        "\n",
        "print(\"Sucesso determinístico a priori:\", sucesso_priori_deterministic)\n",
        "print(\"Sucesso determinístico a posteriori:\", sucesso_post_deterministico)\n",
        "print(\"Degradação determinística de privacidade:\", sucesso_post_deterministico - sucesso_priori_deterministic)\n",
        "\n",
        "print(\"Sucesso probabilístico a priori:\", sucesso_priori_probabilistic)\n",
        "print(\"Sucesso probabilístico a posteriori:\", sucesso_post_probabilistico)\n",
        "print(\"Degradação probabilística de privacidade:\", sucesso_post_probabilistico / sucesso_priori_probabilistic)\n",
        "\n",
        "print(\"Tempo de execução:\", execution_time, \"segundos\")"
      ]
    }
  ],
  "metadata": {
    "colab": {
      "provenance": [],
      "toc_visible": true
    },
    "kernelspec": {
      "display_name": "Python 3",
      "name": "python3"
    },
    "language_info": {
      "name": "python"
    }
  },
  "nbformat": 4,
  "nbformat_minor": 0
}